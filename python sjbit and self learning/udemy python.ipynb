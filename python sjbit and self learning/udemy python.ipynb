{
 "cells": [
  {
   "cell_type": "markdown",
   "metadata": {},
   "source": [
    "# udemy python"
   ]
  },
  {
   "cell_type": "code",
   "execution_count": null,
   "metadata": {},
   "outputs": [
    {
     "data": {
      "text/plain": [
       "16"
      ]
     },
     "execution_count": 1,
     "metadata": {},
     "output_type": "execute_result"
    }
   ],
   "source": [
    "def square(num):\n",
    "    square = 1\n",
    "    for i in range(2):\n",
    "        square = square*num\n",
    "    return(square)\n",
    "\n",
    "a = 4\n",
    "square(a)\n",
    "\n",
    "    \n",
    "\n"
   ]
  },
  {
   "cell_type": "code",
   "execution_count": 2,
   "metadata": {},
   "outputs": [
    {
     "name": "stdout",
     "output_type": "stream",
     "text": [
      "even\n"
     ]
    }
   ],
   "source": [
    "l = [\"hello\",\"how are you\",\"fine\",\"wise\"]\n",
    "if len(l)%2 == 0:\n",
    "    print(\"even\")\n",
    "else:\n",
    "    print(\"odd\")    \n"
   ]
  },
  {
   "cell_type": "markdown",
   "metadata": {},
   "source": [
    "# maping the functions using the function map\n"
   ]
  },
  {
   "cell_type": "code",
   "execution_count": 3,
   "metadata": {},
   "outputs": [
    {
     "name": "stdout",
     "output_type": "stream",
     "text": [
      "1\n",
      "4\n",
      "9\n",
      "16\n",
      "25\n",
      "36\n",
      "49\n"
     ]
    }
   ],
   "source": [
    "def squarei(listi):\n",
    "    return listi**2\n",
    "\n",
    "listi  = [1,2,3,4,5,6,7]\n",
    "for i in map(squarei,listi):\n",
    "    print(i) \n",
    "\n",
    "#0r\n",
    "     \n",
    "\n"
   ]
  },
  {
   "cell_type": "code",
   "execution_count": 4,
   "metadata": {},
   "outputs": [
    {
     "data": {
      "text/plain": [
       "[1, 4, 9, 16, 25, 36, 49]"
      ]
     },
     "execution_count": 4,
     "metadata": {},
     "output_type": "execute_result"
    }
   ],
   "source": [
    "listi  = [1,2,3,4,5,6,7]\n",
    "list(map(square,listi))"
   ]
  },
  {
   "cell_type": "code",
   "execution_count": 5,
   "metadata": {},
   "outputs": [],
   "source": [
    "def splicer(names):\n",
    "    if len(names)%2 == 0:\n",
    "        return(\"this name has  even numnber of charecter\")\n",
    "    else:\n",
    "        return( names[0])    \n",
    "\n"
   ]
  },
  {
   "cell_type": "code",
   "execution_count": 6,
   "metadata": {},
   "outputs": [
    {
     "data": {
      "text/plain": [
       "['this name has  even numnber of charecter',\n",
       " 'p',\n",
       " 'd',\n",
       " 'this name has  even numnber of charecter']"
      ]
     },
     "execution_count": 6,
     "metadata": {},
     "output_type": "execute_result"
    }
   ],
   "source": [
    "names = [\"george\",\"price\",\"danny\",\"ranger\"]\n",
    "list(map(splicer,names))"
   ]
  },
  {
   "cell_type": "code",
   "execution_count": 7,
   "metadata": {},
   "outputs": [
    {
     "name": "stdout",
     "output_type": "stream",
     "text": [
      "hello\n"
     ]
    }
   ],
   "source": [
    "print(\"hello\")"
   ]
  },
  {
   "cell_type": "code",
   "execution_count": 8,
   "metadata": {},
   "outputs": [
    {
     "data": {
      "text/plain": [
       "[27, 64, 125]"
      ]
     },
     "execution_count": 8,
     "metadata": {},
     "output_type": "execute_result"
    }
   ],
   "source": [
    "def cube(nums):\n",
    "    return (nums*nums*nums)\n",
    "\n",
    "nums = [3,4,5]    \n",
    "list(map(cube,nums))"
   ]
  },
  {
   "cell_type": "markdown",
   "metadata": {},
   "source": [
    "# filter function"
   ]
  },
  {
   "cell_type": "code",
   "execution_count": 1,
   "metadata": {},
   "outputs": [
    {
     "name": "stdout",
     "output_type": "stream",
     "text": [
      "2\n",
      "4\n",
      "6\n"
     ]
    }
   ],
   "source": [
    "def hello(nums):\n",
    "    return nums%2==0\n",
    "\n",
    "nums = [1,2,3,4,5,6]\n",
    "for i in filter(hello,nums):\n",
    "    print(i) \n",
    "    \n",
    "\n",
    "\n",
    "    "
   ]
  },
  {
   "cell_type": "markdown",
   "metadata": {},
   "source": [
    "lanbda expression"
   ]
  },
  {
   "cell_type": "code",
   "execution_count": 2,
   "metadata": {},
   "outputs": [
    {
     "data": {
      "text/plain": [
       "25"
      ]
     },
     "execution_count": 2,
     "metadata": {},
     "output_type": "execute_result"
    }
   ],
   "source": [
    "def square(m):\n",
    "    p = m**2\n",
    "    return(p)\n",
    "\n",
    "square(5)    "
   ]
  },
  {
   "cell_type": "code",
   "execution_count": 4,
   "metadata": {},
   "outputs": [],
   "source": [
    "# this function shows the lambda functionb"
   ]
  },
  {
   "cell_type": "code",
   "execution_count": 5,
   "metadata": {},
   "outputs": [
    {
     "data": {
      "text/plain": [
       "100"
      ]
     },
     "execution_count": 5,
     "metadata": {},
     "output_type": "execute_result"
    }
   ],
   "source": [
    "squareit = lambda nums : nums **2\n",
    "\n",
    "squareit(10)\n"
   ]
  },
  {
   "cell_type": "code",
   "execution_count": 9,
   "metadata": {},
   "outputs": [
    {
     "data": {
      "text/plain": [
       "[1, 4, 9, 16, 25]"
      ]
     },
     "execution_count": 9,
     "metadata": {},
     "output_type": "execute_result"
    }
   ],
   "source": [
    "my_nums = [1,2,3,4,5]\n",
    "list(map(lambda nums:nums**2,my_nums))\n"
   ]
  },
  {
   "cell_type": "code",
   "execution_count": 10,
   "metadata": {},
   "outputs": [
    {
     "data": {
      "text/plain": [
       "[2, 4, 6, 8]"
      ]
     },
     "execution_count": 10,
     "metadata": {},
     "output_type": "execute_result"
    }
   ],
   "source": [
    "# for the filter function\n",
    "my_number = [1,2,3,4,5,6,7,8]\n",
    "list(filter(lambda nums:nums%2 == 0,my_number))"
   ]
  },
  {
   "cell_type": "code",
   "execution_count": 11,
   "metadata": {},
   "outputs": [
    {
     "data": {
      "text/plain": [
       "'b'"
      ]
     },
     "execution_count": 11,
     "metadata": {},
     "output_type": "execute_result"
    }
   ],
   "source": [
    "# to grab the first charecter of the string\n",
    "firstchar = lambda char : char[0]\n",
    "firstchar(\"blaz\")"
   ]
  },
  {
   "cell_type": "code",
   "execution_count": 14,
   "metadata": {},
   "outputs": [
    {
     "data": {
      "text/plain": [
       "['l', 'h', 'n']"
      ]
     },
     "execution_count": 14,
     "metadata": {},
     "output_type": "execute_result"
    }
   ],
   "source": [
    "names  = [\"larry\",\"henry\",\"newjersy\"]\n",
    "list(map(lambda get : get[0],names))"
   ]
  },
  {
   "cell_type": "code",
   "execution_count": 15,
   "metadata": {},
   "outputs": [
    {
     "data": {
      "text/plain": [
       "['yrral', 'yrneh', 'ysrejwen']"
      ]
     },
     "execution_count": 15,
     "metadata": {},
     "output_type": "execute_result"
    }
   ],
   "source": [
    "ames  = [\"larry\",\"henry\",\"newjersy\"]\n",
    "list(map(lambda get : get[::-1],names))"
   ]
  },
  {
   "cell_type": "markdown",
   "metadata": {},
   "source": [
    "# assignments"
   ]
  },
  {
   "cell_type": "code",
   "execution_count": 16,
   "metadata": {},
   "outputs": [
    {
     "data": {
      "text/plain": [
       "3.141592653589793"
      ]
     },
     "execution_count": 16,
     "metadata": {},
     "output_type": "execute_result"
    }
   ],
   "source": [
    "import math\n",
    "math.pi"
   ]
  },
  {
   "cell_type": "code",
   "execution_count": 3,
   "metadata": {},
   "outputs": [
    {
     "name": "stdout",
     "output_type": "stream",
     "text": [
      "4188.790204786391\n"
     ]
    }
   ],
   "source": [
    "# compute the volume of the sphere given its radius\n",
    "import math\n",
    "\n",
    "def volume(radius):\n",
    "    pie = math.pi\n",
    "    \n",
    "    return(4/3*pie*radius*radius*radius)\n",
    "\n",
    "\n",
    "x  = int(input(\"enter the radius:\"))   \n",
    "y = volume(x)\n",
    "print(y)\n",
    " "
   ]
  },
  {
   "cell_type": "code",
   "execution_count": 4,
   "metadata": {},
   "outputs": [
    {
     "data": {
      "text/plain": [
       "{'hello': 1, 'jammy': 2}"
      ]
     },
     "execution_count": 4,
     "metadata": {},
     "output_type": "execute_result"
    }
   ],
   "source": [
    "dic = {}\n",
    "dic[\"hello\"] =1\n",
    "dic[\"jammy\"] = 2\n",
    "dic"
   ]
  },
  {
   "cell_type": "code",
   "execution_count": 5,
   "metadata": {},
   "outputs": [
    {
     "name": "stdout",
     "output_type": "stream",
     "text": [
      "hello\n",
      "jammy\n"
     ]
    }
   ],
   "source": [
    "for i in dic:\n",
    "    print(i)"
   ]
  },
  {
   "cell_type": "code",
   "execution_count": 7,
   "metadata": {},
   "outputs": [
    {
     "name": "stdout",
     "output_type": "stream",
     "text": [
      "('hello', 1)\n",
      "('jammy', 2)\n"
     ]
    }
   ],
   "source": [
    "for i in dic.items():\n",
    "    print(i)"
   ]
  },
  {
   "cell_type": "code",
   "execution_count": 8,
   "metadata": {},
   "outputs": [
    {
     "name": "stdout",
     "output_type": "stream",
     "text": [
      "hello 1\n",
      "jammy 2\n"
     ]
    }
   ],
   "source": [
    "for key,values in dic.items():\n",
    "    print(key,values)"
   ]
  },
  {
   "cell_type": "code",
   "execution_count": 1,
   "metadata": {
    "scrolled": true
   },
   "outputs": [
    {
     "name": "stdout",
     "output_type": "stream",
     "text": [
      "0\n",
      "1\n",
      "2\n",
      "3\n",
      "4\n",
      "5\n",
      "6\n",
      "7\n",
      "8\n",
      "9\n"
     ]
    }
   ],
   "source": [
    "for i in range(10):\n",
    "    print(i)"
   ]
  },
  {
   "cell_type": "markdown",
   "metadata": {},
   "source": [
    "# class and OOB\n"
   ]
  },
  {
   "cell_type": "code",
   "execution_count": 7,
   "metadata": {},
   "outputs": [],
   "source": [
    "class sample():\n",
    "    pass"
   ]
  },
  {
   "cell_type": "code",
   "execution_count": 8,
   "metadata": {},
   "outputs": [],
   "source": [
    "my_sample = sample()\n"
   ]
  },
  {
   "cell_type": "code",
   "execution_count": 9,
   "metadata": {},
   "outputs": [
    {
     "data": {
      "text/plain": [
       "__main__.sample"
      ]
     },
     "execution_count": 9,
     "metadata": {},
     "output_type": "execute_result"
    }
   ],
   "source": [
    "type(my_sample)#it is giving us an class"
   ]
  },
  {
   "cell_type": "code",
   "execution_count": 10,
   "metadata": {},
   "outputs": [],
   "source": [
    "class guns():\n",
    "    \n",
    "    def __init__(self,types):\n",
    "        self.types = types\n",
    "        \n",
    "object1 = guns(\"types = m416\")        \n",
    "        \n",
    "        \n",
    "            \n",
    "        \n",
    "          "
   ]
  },
  {
   "cell_type": "code",
   "execution_count": 11,
   "metadata": {},
   "outputs": [
    {
     "data": {
      "text/plain": [
       "__main__.guns"
      ]
     },
     "execution_count": 11,
     "metadata": {},
     "output_type": "execute_result"
    }
   ],
   "source": [
    "type(object1)"
   ]
  },
  {
   "cell_type": "code",
   "execution_count": 12,
   "metadata": {},
   "outputs": [
    {
     "data": {
      "text/plain": [
       "'types = m416'"
      ]
     },
     "execution_count": 12,
     "metadata": {},
     "output_type": "execute_result"
    }
   ],
   "source": [
    "object1.types"
   ]
  },
  {
   "cell_type": "code",
   "execution_count": 15,
   "metadata": {},
   "outputs": [
    {
     "name": "stdout",
     "output_type": "stream",
     "text": [
      "the configiration of the guns is:  m416\n"
     ]
    }
   ],
   "source": [
    "class guns():\n",
    "    \n",
    "    def __init__(self,types):\n",
    "        self.types = types\n",
    "        \n",
    "    def config(self):\n",
    "        print(\"the configiration of the guns is:\",self.types)\n",
    "        \n",
    "object1 = guns(\" m416\")\n",
    "\n",
    "object1.config()"
   ]
  },
  {
   "cell_type": "code",
   "execution_count": 11,
   "metadata": {},
   "outputs": [],
   "source": [
    "class dogs():\n",
    "    \n",
    "    def __init__(self,mybreed):\n",
    "        self.breeds = mybreed\n",
    "        \n",
    "obj1 = dogs(mybreed=\"lab\")        \n",
    "        \n",
    "                \n",
    "    \n",
    "    \n",
    "    "
   ]
  },
  {
   "cell_type": "code",
   "execution_count": 12,
   "metadata": {},
   "outputs": [
    {
     "data": {
      "text/plain": [
       "__main__.dogs"
      ]
     },
     "execution_count": 12,
     "metadata": {},
     "output_type": "execute_result"
    }
   ],
   "source": [
    "type(obj1)"
   ]
  },
  {
   "cell_type": "code",
   "execution_count": null,
   "metadata": {},
   "outputs": [],
   "source": [
    "obj1.breeds"
   ]
  },
  {
   "cell_type": "code",
   "execution_count": 15,
   "metadata": {},
   "outputs": [],
   "source": [
    "class games():\n",
    "    def __init__(self,pubg,freefire,cod):\n",
    "        self.game1 = pubg\n",
    "        self.game2 = freefire\n",
    "        self.game3 = cod\n",
    "        \n",
    "obj1 = games(pubg = \"hello\",freefire =\"you\",cod = \"helloworld\")\n",
    "\n",
    "\n",
    "        \n",
    "        "
   ]
  },
  {
   "cell_type": "code",
   "execution_count": 16,
   "metadata": {},
   "outputs": [
    {
     "data": {
      "text/plain": [
       "__main__.games"
      ]
     },
     "execution_count": 16,
     "metadata": {},
     "output_type": "execute_result"
    }
   ],
   "source": [
    "type(obj1)"
   ]
  },
  {
   "cell_type": "code",
   "execution_count": 6,
   "metadata": {},
   "outputs": [
    {
     "data": {
      "text/plain": [
       "'you'"
      ]
     },
     "execution_count": 6,
     "metadata": {},
     "output_type": "execute_result"
    }
   ],
   "source": [
    "obj1.game2\n",
    "\n"
   ]
  },
  {
   "cell_type": "code",
   "execution_count": 10,
   "metadata": {},
   "outputs": [
    {
     "name": "stdout",
     "output_type": "stream",
     "text": [
      "i10 15 19\n",
      "i12 13 15\n",
      "i155 17 14\n"
     ]
    }
   ],
   "source": [
    "class games():\n",
    "    def __init__(self,pubg,freefire,cod):\n",
    "        self.game1 = pubg\n",
    "        self.game2 = freefire\n",
    "        self.game3 = cod\n",
    "        \n",
    "    def config(self):\n",
    "        print(self.game1,self.game2,self.game3)\n",
    "        \n",
    "obj1 = games(\"i10\",\"15\",\"19\")\n",
    "obj2 =games(\"i12\",\"13\",\"15\")\n",
    "obj3 = games(\"i155\",\"17\",\"14\")\n",
    "\n",
    "obj1.config()\n",
    "obj2.config()\n",
    "obj3.config()\n",
    "\n"
   ]
  },
  {
   "cell_type": "code",
   "execution_count": 13,
   "metadata": {},
   "outputs": [
    {
     "data": {
      "text/plain": [
       "<bound method games.config of <__main__.games object at 0x000001D0B332E520>>"
      ]
     },
     "execution_count": 13,
     "metadata": {},
     "output_type": "execute_result"
    }
   ],
   "source": [
    "obj1.config\n"
   ]
  },
  {
   "cell_type": "code",
   "execution_count": 14,
   "metadata": {},
   "outputs": [],
   "source": [
    "#class object attribute\n",
    "class games():\n",
    "    \n",
    "    allgames = \"legends\"\n",
    "    \n",
    "    \n",
    "    def __init__(self,pubg,freefire,cod):\n",
    "        self.game1 = pubg\n",
    "        self.game2 = freefire\n",
    "        self.game3 = cod\n",
    "        \n",
    "obj1 = games(pubg = \"hello\",freefire =\"you\",cod = \"helloworld\")"
   ]
  },
  {
   "cell_type": "code",
   "execution_count": 15,
   "metadata": {},
   "outputs": [
    {
     "data": {
      "text/plain": [
       "__main__.games"
      ]
     },
     "execution_count": 15,
     "metadata": {},
     "output_type": "execute_result"
    }
   ],
   "source": [
    "type(obj1)"
   ]
  },
  {
   "cell_type": "code",
   "execution_count": 16,
   "metadata": {},
   "outputs": [
    {
     "data": {
      "text/plain": [
       "'legends'"
      ]
     },
     "execution_count": 16,
     "metadata": {},
     "output_type": "execute_result"
    }
   ],
   "source": [
    "obj1.allgames"
   ]
  },
  {
   "cell_type": "code",
   "execution_count": 17,
   "metadata": {},
   "outputs": [],
   "source": [
    "class books():\n",
    "    def __init__(self,author,awards):\n",
    "        self.name = author\n",
    "        self.awards = awards\n",
    "        \n",
    "        \n",
    "    \n",
    "    \n",
    "obj1 = books(author = \"F. Scott Fitzgerald\",awards = \"USC Scripter Award\")\n",
    "obj2 = books(author = \"Shannon Messenger\",awards = \"Keeper of the Lost Cities \")"
   ]
  },
  {
   "cell_type": "code",
   "execution_count": 18,
   "metadata": {},
   "outputs": [
    {
     "data": {
      "text/plain": [
       "'F. Scott Fitzgerald'"
      ]
     },
     "execution_count": 18,
     "metadata": {},
     "output_type": "execute_result"
    }
   ],
   "source": [
    "obj1.name"
   ]
  },
  {
   "cell_type": "code",
   "execution_count": 19,
   "metadata": {},
   "outputs": [
    {
     "data": {
      "text/plain": [
       "'Keeper of the Lost Cities '"
      ]
     },
     "execution_count": 19,
     "metadata": {},
     "output_type": "execute_result"
    }
   ],
   "source": [
    "obj2.awards"
   ]
  },
  {
   "cell_type": "code",
   "execution_count": 30,
   "metadata": {
    "scrolled": true
   },
   "outputs": [
    {
     "name": "stdout",
     "output_type": "stream",
     "text": [
      "The name of the american authors is:  F. Scott Fitzgerald ,and the   awards: USC Scripter Award\n",
      "The name of the american authors is:  Shannon Messenger ,and the   awards: Keeper of the Lost Cities \n"
     ]
    }
   ],
   "source": [
    "class books():\n",
    "    def __init__(self,author,awards):\n",
    "        self.name = author\n",
    "        self.awards = awards\n",
    "        \n",
    "    def achivements(self):\n",
    "        print(\"The name of the american authors is:  {} ,and the   awards: {}\".format(self.name,self.awards))\n",
    "        \n",
    "        \n",
    "    \n",
    "    \n",
    "obj1 = books( \"F. Scott Fitzgerald\",\"USC Scripter Award\")\n",
    "obj2 = books( \"Shannon Messenger\", \"Keeper of the Lost Cities \")\n",
    "\n",
    "obj1.achivements()\n",
    "obj2.achivements()\n",
    "\n",
    "\n",
    "\n",
    "\n"
   ]
  },
  {
   "cell_type": "code",
   "execution_count": 42,
   "metadata": {},
   "outputs": [
    {
     "name": "stdout",
     "output_type": "stream",
     "text": [
      "The name of the american authors is:  F. Scott Fitzgerald ,and the number of  awards: 10\n",
      "The name of the american authors is:  Shannon Messenger ,and the number of  awards: 20\n"
     ]
    }
   ],
   "source": [
    "#second way of passing an value in the method(function inside the class)\n",
    "class books():\n",
    "    def __init__(self,author,awards):\n",
    "        self.name = author\n",
    "        self.award = awards\n",
    "        \n",
    "    def achivements(self,number):\n",
    "        print(\"The name of the american authors is:  {} ,and the number of  awards: {}\".format(self.name,number))\n",
    "        \n",
    "        \n",
    "    \n",
    "    \n",
    "obj1 = books( \"F. Scott Fitzgerald\",\"USC Scripter Award\")\n",
    "obj2 = books( \"Shannon Messenger\", \"Keeper of the Lost Cities \")\n",
    "\n",
    "obj1.achivements(10)\n",
    "obj2.achivements(20)\n"
   ]
  },
  {
   "cell_type": "code",
   "execution_count": 43,
   "metadata": {},
   "outputs": [
    {
     "data": {
      "text/plain": [
       "'USC Scripter Award'"
      ]
     },
     "execution_count": 43,
     "metadata": {},
     "output_type": "execute_result"
    }
   ],
   "source": [
    "obj1.award"
   ]
  },
  {
   "cell_type": "code",
   "execution_count": null,
   "metadata": {},
   "outputs": [],
   "source": [
    "#example of object oriented programming"
   ]
  },
  {
   "cell_type": "code",
   "execution_count": 63,
   "metadata": {},
   "outputs": [
    {
     "name": "stdout",
     "output_type": "stream",
     "text": [
      "the circumference of the circle is: 125.66370614359172\n"
     ]
    }
   ],
   "source": [
    "import math\n",
    "pie = math.pi\n",
    "\n",
    "class circle():\n",
    "    \n",
    "    def __init__(self,radius = 1):\n",
    "        self.radius = radius\n",
    "        \n",
    "    def circumference(self):\n",
    "        print(\"the circumference of the circle is:\",2*self.radius*pie)\n",
    "        \n",
    "obj1 = circle(20) \n",
    "\n",
    "obj1.circumference()\n",
    "\n"
   ]
  },
  {
   "cell_type": "code",
   "execution_count": 74,
   "metadata": {},
   "outputs": [
    {
     "name": "stdout",
     "output_type": "stream",
     "text": [
      "the circumference of the circle is: 125.66370614359172\n"
     ]
    }
   ],
   "source": [
    "import math\n",
    "pie = math.pi\n",
    "\n",
    "class circle():\n",
    "    \n",
    "    def __init__(self,radius = 1):\n",
    "        self.radius = radius\n",
    "        self.area = pie*radius*radius\n",
    "        \n",
    "    def circumference(self):\n",
    "        print(\"the circumference of the circle is:\",2*self.radius*pie)\n",
    "        \n",
    "obj1 = circle(20) \n",
    "\n",
    "obj1.circumference()\n"
   ]
  },
  {
   "cell_type": "code",
   "execution_count": 75,
   "metadata": {},
   "outputs": [
    {
     "data": {
      "text/plain": [
       "1256.6370614359173"
      ]
     },
     "execution_count": 75,
     "metadata": {},
     "output_type": "execute_result"
    }
   ],
   "source": [
    "obj1.area"
   ]
  },
  {
   "cell_type": "code",
   "execution_count": 5,
   "metadata": {},
   "outputs": [],
   "source": [
    "class animal():\n",
    "    \n",
    "    \n",
    "    def __init__(self):\n",
    "        print(\"animal created\")\n",
    "        \n",
    "    def who_am_i(self):\n",
    "        print(\"iam an animal\")\n",
    "        \n",
    "        \n",
    "    def eat(self):\n",
    "        print(\"iam eating\")\n",
    "        "
   ]
  },
  {
   "cell_type": "code",
   "execution_count": 15,
   "metadata": {},
   "outputs": [],
   "source": [
    "class dog(animal):\n",
    "    \n",
    "    def __init__(self):\n",
    "        animal.__init__(self)\n",
    "        print(\"dog created\")\n",
    "        \n",
    "    def who_am_i(self):\n",
    "        print(\"iam a dog!\")"
   ]
  },
  {
   "cell_type": "code",
   "execution_count": 16,
   "metadata": {
    "scrolled": true
   },
   "outputs": [
    {
     "name": "stdout",
     "output_type": "stream",
     "text": [
      "animal created\n",
      "dog created\n"
     ]
    }
   ],
   "source": [
    "mydog = dog()"
   ]
  },
  {
   "cell_type": "code",
   "execution_count": 17,
   "metadata": {},
   "outputs": [
    {
     "name": "stdout",
     "output_type": "stream",
     "text": [
      "iam eating\n"
     ]
    }
   ],
   "source": [
    "mydog.eat()"
   ]
  },
  {
   "cell_type": "code",
   "execution_count": 18,
   "metadata": {},
   "outputs": [
    {
     "name": "stdout",
     "output_type": "stream",
     "text": [
      "iam a dog!\n"
     ]
    }
   ],
   "source": [
    "mydog.who_am_i()"
   ]
  },
  {
   "cell_type": "markdown",
   "metadata": {},
   "source": [
    "# polymorphism"
   ]
  },
  {
   "cell_type": "code",
   "execution_count": 19,
   "metadata": {},
   "outputs": [
    {
     "name": "stdout",
     "output_type": "stream",
     "text": [
      "False\n",
      "True\n",
      "False\n",
      "True\n",
      "False\n",
      "True\n",
      "False\n",
      "True\n",
      "False\n",
      "True\n",
      "False\n",
      "True\n",
      "False\n",
      "True\n",
      "False\n"
     ]
    }
   ],
   "source": [
    "# example programme\n",
    "def even(l):\n",
    "    return l%2 == 0\n",
    "\n",
    "l = [1,2,3,4,5,6,7,8,9,10,11,12,13,14,15]\n",
    "for i in map(even,l):\n",
    "    print(i)\n",
    "   \n",
    "\n"
   ]
  },
  {
   "cell_type": "markdown",
   "metadata": {},
   "source": [
    "# OOB PART video"
   ]
  },
  {
   "cell_type": "code",
   "execution_count": 22,
   "metadata": {},
   "outputs": [],
   "source": [
    "class books():\n",
    "    \n",
    "    def __init__(self,author,books,pages):\n",
    "        self.author = author\n",
    "        self.books = books\n",
    "        self.pages = pages\n",
    "        \n",
    "    def __str__(self):\n",
    "        return (f\"{self.books} by {self.author}\")\n",
    "    \n",
    "    def __len__(self):\n",
    "        return self.pages\n",
    "    \n",
    "    def __del__(self):\n",
    "        print(\"a book has been deleted\")\n",
    "        \n",
    "        "
   ]
  },
  {
   "cell_type": "code",
   "execution_count": 23,
   "metadata": {},
   "outputs": [
    {
     "data": {
      "text/plain": [
       "'python rocks by jose'"
      ]
     },
     "execution_count": 23,
     "metadata": {},
     "output_type": "execute_result"
    }
   ],
   "source": [
    "obj1 = books(\"jose\",\"python rocks\",90)\n",
    "\n",
    "obj1.__str__()"
   ]
  },
  {
   "cell_type": "code",
   "execution_count": 24,
   "metadata": {},
   "outputs": [
    {
     "data": {
      "text/plain": [
       "90"
      ]
     },
     "execution_count": 24,
     "metadata": {},
     "output_type": "execute_result"
    }
   ],
   "source": [
    "obj1.__len__()"
   ]
  },
  {
   "cell_type": "code",
   "execution_count": 25,
   "metadata": {},
   "outputs": [
    {
     "data": {
      "text/plain": [
       "'python rocks by jose'"
      ]
     },
     "execution_count": 25,
     "metadata": {},
     "output_type": "execute_result"
    }
   ],
   "source": [
    "str(obj1)"
   ]
  },
  {
   "cell_type": "code",
   "execution_count": 26,
   "metadata": {},
   "outputs": [
    {
     "name": "stdout",
     "output_type": "stream",
     "text": [
      "python rocks by jose\n"
     ]
    }
   ],
   "source": [
    "print(obj1)"
   ]
  },
  {
   "cell_type": "code",
   "execution_count": 27,
   "metadata": {},
   "outputs": [
    {
     "data": {
      "text/plain": [
       "90"
      ]
     },
     "execution_count": 27,
     "metadata": {},
     "output_type": "execute_result"
    }
   ],
   "source": [
    "len(obj1)"
   ]
  },
  {
   "cell_type": "code",
   "execution_count": 28,
   "metadata": {},
   "outputs": [],
   "source": [
    "#use the del obj1  to delete the object"
   ]
  },
  {
   "cell_type": "code",
   "execution_count": 29,
   "metadata": {},
   "outputs": [
    {
     "name": "stdout",
     "output_type": "stream",
     "text": [
      "a book has been deleted\n"
     ]
    }
   ],
   "source": [
    "del obj1"
   ]
  },
  {
   "cell_type": "code",
   "execution_count": 30,
   "metadata": {},
   "outputs": [
    {
     "ename": "NameError",
     "evalue": "name 'b' is not defined",
     "output_type": "error",
     "traceback": [
      "\u001b[1;31m---------------------------------------------------------------------------\u001b[0m",
      "\u001b[1;31mNameError\u001b[0m                                 Traceback (most recent call last)",
      "\u001b[1;32m<ipython-input-30-7ca45aa2a0d1>\u001b[0m in \u001b[0;36m<module>\u001b[1;34m\u001b[0m\n\u001b[1;32m----> 1\u001b[1;33m \u001b[0mprint\u001b[0m\u001b[1;33m(\u001b[0m\u001b[0mb\u001b[0m\u001b[1;33m)\u001b[0m \u001b[1;31m# note this error\u001b[0m\u001b[1;33m\u001b[0m\u001b[1;33m\u001b[0m\u001b[0m\n\u001b[0m",
      "\u001b[1;31mNameError\u001b[0m: name 'b' is not defined"
     ]
    }
   ],
   "source": [
    "print(b) # note this error"
   ]
  },
  {
   "cell_type": "markdown",
   "metadata": {},
   "source": [
    "# assignement"
   ]
  },
  {
   "cell_type": "code",
   "execution_count": 16,
   "metadata": {},
   "outputs": [
    {
     "data": {
      "text/plain": [
       "1.6"
      ]
     },
     "execution_count": 16,
     "metadata": {},
     "output_type": "execute_result"
    }
   ],
   "source": [
    "import math\n",
    "\n",
    "class line:\n",
    "    \n",
    "    def __init__(self,cor1,cor2):\n",
    "        self.cor1 = cor1\n",
    "        self.cor2 = cor2\n",
    "        \n",
    "    def distance(self):\n",
    "        return(math.sqrt((self.cor2[0]-self.cor1[0])**2+(self.cor2[1]-self.cor1[1])**2))\n",
    "    \n",
    "    def slope(self):\n",
    "        return((self.cor2[1]-self.cor1[1])/(self.cor2[0]-self.cor1[0]))\n",
    "    \n",
    "    \n",
    "coordinate1 = (3,2)\n",
    "coordinate2 = (8,10)    \n",
    "    \n",
    "obj1 = line(coordinate1,coordinate2)\n",
    "\n",
    "obj1.distance()\n",
    "obj1.slope()\n",
    "\n",
    "\n",
    "\n",
    "\n",
    "\n",
    "\n",
    "\n",
    "\n",
    "\n",
    "\n",
    "\n",
    "    \n",
    "    "
   ]
  },
  {
   "cell_type": "code",
   "execution_count": 37,
   "metadata": {},
   "outputs": [],
   "source": [
    "point = (3,5)"
   ]
  },
  {
   "cell_type": "code",
   "execution_count": 32,
   "metadata": {},
   "outputs": [
    {
     "data": {
      "text/plain": [
       "3"
      ]
     },
     "execution_count": 32,
     "metadata": {},
     "output_type": "execute_result"
    }
   ],
   "source": [
    "point[0]"
   ]
  },
  {
   "cell_type": "code",
   "execution_count": 45,
   "metadata": {},
   "outputs": [
    {
     "data": {
      "text/plain": [
       "36"
      ]
     },
     "execution_count": 45,
     "metadata": {},
     "output_type": "execute_result"
    }
   ],
   "source": [
    "def square(m):\n",
    "    return (m**2)\n",
    "    \n",
    "square(6)    \n"
   ]
  },
  {
   "cell_type": "code",
   "execution_count": 23,
   "metadata": {},
   "outputs": [
    {
     "data": {
      "text/plain": [
       "37.69911184307752"
      ]
     },
     "execution_count": 23,
     "metadata": {},
     "output_type": "execute_result"
    }
   ],
   "source": [
    "import math\n",
    "pie = math.pi\n",
    "class cylinder():\n",
    "    def __init__(self,radius,height):\n",
    "        self.radius = radius\n",
    "        self.height = height\n",
    "        \n",
    "    def volume(self):\n",
    "        return(pie*self.radius*self.radius*self.height)\n",
    "    \n",
    "    def surfacearea(self):\n",
    "        return(2*pie*self.radius*self.height+2*pie*self.radius*self.radius)\n",
    "    \n",
    "obj1 = cylinder(2,3) \n",
    "\n",
    "obj1.volume()\n",
    "\n",
    "\n",
    "    "
   ]
  },
  {
   "cell_type": "code",
   "execution_count": 4,
   "metadata": {},
   "outputs": [
    {
     "data": {
      "text/plain": [
       "3.141592653589793"
      ]
     },
     "execution_count": 4,
     "metadata": {},
     "output_type": "execute_result"
    }
   ],
   "source": [
    "import math\n",
    "pie = math.pi\n",
    "pie"
   ]
  },
  {
   "cell_type": "code",
   "execution_count": 28,
   "metadata": {
    "scrolled": true
   },
   "outputs": [
    {
     "name": "stdout",
     "output_type": "stream",
     "text": [
      "enter the radius of the cylinder:10\n",
      "enter the height of the cylinder:20\n",
      "the volume of the cylinder is given by 6283.185307179587\n"
     ]
    }
   ],
   "source": [
    "# in the function format\n",
    "import math\n",
    "pie = math.pi\n",
    "def volume(radius,height):\n",
    "    return(pie*radius*radius*height)\n",
    "\n",
    "\n",
    "\n",
    "\n",
    "x = int(input(\"enter the radius of the cylinder:\"))\n",
    "y = int(input(\"enter the height of the cylinder:\"))\n",
    "num = volume(x,y)\n",
    "print(\"The volume of the cylinder is given by {}\".format(num))"
   ]
  },
  {
   "cell_type": "markdown",
   "metadata": {},
   "source": [
    "# user input"
   ]
  },
  {
   "cell_type": "code",
   "execution_count": 19,
   "metadata": {},
   "outputs": [],
   "source": [
    "def userchoice():\n",
    "    return(int(input(\"enter the numer:\")))"
   ]
  },
  {
   "cell_type": "code",
   "execution_count": 21,
   "metadata": {},
   "outputs": [
    {
     "name": "stdout",
     "output_type": "stream",
     "text": [
      "enter the numer:10\n"
     ]
    },
    {
     "data": {
      "text/plain": [
       "10"
      ]
     },
     "execution_count": 21,
     "metadata": {},
     "output_type": "execute_result"
    }
   ],
   "source": [
    "userchoice()"
   ]
  },
  {
   "cell_type": "code",
   "execution_count": 9,
   "metadata": {},
   "outputs": [],
   "source": [
    "def checkifint(m):\n",
    "    if m is int(m):\n",
    "        print(\"integer\")\n",
    "    elif m is str(m):\n",
    "        print(\"not an integer\")\n",
    "        \n",
    "\n",
    "        \n",
    "    \n",
    "      \n",
    "    \n",
    "    "
   ]
  },
  {
   "cell_type": "code",
   "execution_count": 11,
   "metadata": {},
   "outputs": [
    {
     "ename": "ValueError",
     "evalue": "invalid literal for int() with base 10: 'hello'",
     "output_type": "error",
     "traceback": [
      "\u001b[1;31m---------------------------------------------------------------------------\u001b[0m",
      "\u001b[1;31mValueError\u001b[0m                                Traceback (most recent call last)",
      "\u001b[1;32m<ipython-input-11-48dcb8a85c3b>\u001b[0m in \u001b[0;36m<module>\u001b[1;34m\u001b[0m\n\u001b[0;32m      1\u001b[0m \u001b[0mstring\u001b[0m \u001b[1;33m=\u001b[0m \u001b[1;34m\"hello\"\u001b[0m\u001b[1;33m\u001b[0m\u001b[1;33m\u001b[0m\u001b[0m\n\u001b[1;32m----> 2\u001b[1;33m \u001b[0mcheckifint\u001b[0m\u001b[1;33m(\u001b[0m\u001b[0mstring\u001b[0m\u001b[1;33m)\u001b[0m\u001b[1;33m\u001b[0m\u001b[1;33m\u001b[0m\u001b[0m\n\u001b[0m",
      "\u001b[1;32m<ipython-input-9-1b19ca0f4d67>\u001b[0m in \u001b[0;36mcheckifint\u001b[1;34m(m)\u001b[0m\n\u001b[0;32m      1\u001b[0m \u001b[1;32mdef\u001b[0m \u001b[0mcheckifint\u001b[0m\u001b[1;33m(\u001b[0m\u001b[0mm\u001b[0m\u001b[1;33m)\u001b[0m\u001b[1;33m:\u001b[0m\u001b[1;33m\u001b[0m\u001b[1;33m\u001b[0m\u001b[0m\n\u001b[1;32m----> 2\u001b[1;33m     \u001b[1;32mif\u001b[0m \u001b[0mm\u001b[0m \u001b[1;32mis\u001b[0m \u001b[0mint\u001b[0m\u001b[1;33m(\u001b[0m\u001b[0mm\u001b[0m\u001b[1;33m)\u001b[0m\u001b[1;33m:\u001b[0m\u001b[1;33m\u001b[0m\u001b[1;33m\u001b[0m\u001b[0m\n\u001b[0m\u001b[0;32m      3\u001b[0m         \u001b[0mprint\u001b[0m\u001b[1;33m(\u001b[0m\u001b[1;34m\"integer\"\u001b[0m\u001b[1;33m)\u001b[0m\u001b[1;33m\u001b[0m\u001b[1;33m\u001b[0m\u001b[0m\n\u001b[0;32m      4\u001b[0m     \u001b[1;32melif\u001b[0m \u001b[0mm\u001b[0m \u001b[1;32mis\u001b[0m \u001b[0mstr\u001b[0m\u001b[1;33m(\u001b[0m\u001b[0mm\u001b[0m\u001b[1;33m)\u001b[0m\u001b[1;33m:\u001b[0m\u001b[1;33m\u001b[0m\u001b[1;33m\u001b[0m\u001b[0m\n\u001b[0;32m      5\u001b[0m         \u001b[0mprint\u001b[0m\u001b[1;33m(\u001b[0m\u001b[1;34m\"not an integer\"\u001b[0m\u001b[1;33m)\u001b[0m\u001b[1;33m\u001b[0m\u001b[1;33m\u001b[0m\u001b[0m\n",
      "\u001b[1;31mValueError\u001b[0m: invalid literal for int() with base 10: 'hello'"
     ]
    }
   ],
   "source": [
    "string = \"hello\"\n",
    "checkifint(string)"
   ]
  },
  {
   "cell_type": "code",
   "execution_count": 2,
   "metadata": {},
   "outputs": [
    {
     "data": {
      "text/plain": [
       "True"
      ]
     },
     "execution_count": 2,
     "metadata": {},
     "output_type": "execute_result"
    }
   ],
   "source": [
    "value = \"10\"\n",
    "value.isdigit()\n"
   ]
  },
  {
   "cell_type": "code",
   "execution_count": 3,
   "metadata": {},
   "outputs": [
    {
     "data": {
      "text/plain": [
       "False"
      ]
     },
     "execution_count": 3,
     "metadata": {},
     "output_type": "execute_result"
    }
   ],
   "source": [
    "valuei = \"hello\"\n",
    "valuei.isdigit()"
   ]
  },
  {
   "cell_type": "code",
   "execution_count": 15,
   "metadata": {},
   "outputs": [],
   "source": [
    "def userchoice():\n",
    "    \n",
    "    choice = \"wrong\"\n",
    "    \n",
    "    \n",
    "    \n",
    "    while choice.isdigit() == False:\n",
    "        \n",
    "        choice = input(\"enter the number :\")\n",
    "        \n",
    "        if choice.isdigit() == False:\n",
    "            print(\"this is not an number\")\n",
    "        \n",
    "    return(int(choice))    \n",
    "        \n",
    "    \n",
    "        \n",
    "    "
   ]
  },
  {
   "cell_type": "code",
   "execution_count": 16,
   "metadata": {},
   "outputs": [
    {
     "name": "stdout",
     "output_type": "stream",
     "text": [
      "enter the number :two\n",
      "this is not an number\n",
      "enter the number :2\n"
     ]
    },
    {
     "data": {
      "text/plain": [
       "2"
      ]
     },
     "execution_count": 16,
     "metadata": {},
     "output_type": "execute_result"
    }
   ],
   "source": [
    "userchoice()"
   ]
  },
  {
   "cell_type": "code",
   "execution_count": 23,
   "metadata": {},
   "outputs": [],
   "source": [
    "def check():\n",
    "    choice = \"wrong\"\n",
    "    acceptablerange = range(0,11)\n",
    "    withinrange = False\n",
    "    \n",
    "    while choice.isdigit() == False or withinrange == False:\n",
    "        \n",
    "        choice = input(\"please enter the value: \")\n",
    "        \n",
    "        if choice.isdigit() == False:\n",
    "            print(\"!please enter the numer\")\n",
    "            \n",
    "        elif choice.isdigit() == True:\n",
    "            if int(choice) in acceptablerange:\n",
    "                withinrange = True\n",
    "            else:\n",
    "                print(\"soory we are out of the range\")\n",
    "                withinrange = False\n",
    "    return(choice)            \n",
    "    \n",
    "    \n",
    "    "
   ]
  },
  {
   "cell_type": "code",
   "execution_count": 24,
   "metadata": {},
   "outputs": [
    {
     "name": "stdout",
     "output_type": "stream",
     "text": [
      "please enter the value: 10\n"
     ]
    },
    {
     "data": {
      "text/plain": [
       "'10'"
      ]
     },
     "execution_count": 24,
     "metadata": {},
     "output_type": "execute_result"
    }
   ],
   "source": [
    "check()"
   ]
  },
  {
   "cell_type": "code",
   "execution_count": 25,
   "metadata": {},
   "outputs": [
    {
     "name": "stdout",
     "output_type": "stream",
     "text": [
      "please enter the value: two\n",
      "!please enter the numer\n",
      "please enter the value: 67\n",
      "please enter the value: 84\n",
      "please enter the value: 12\n",
      "please enter the value: 9\n"
     ]
    },
    {
     "data": {
      "text/plain": [
       "'9'"
      ]
     },
     "execution_count": 25,
     "metadata": {},
     "output_type": "execute_result"
    }
   ],
   "source": [
    "check()"
   ]
  },
  {
   "cell_type": "code",
   "execution_count": 1,
   "metadata": {},
   "outputs": [],
   "source": [
    "def gamelist(l):\n",
    "    print(\"the game list is {} : \".format(l))"
   ]
  },
  {
   "cell_type": "code",
   "execution_count": 3,
   "metadata": {},
   "outputs": [
    {
     "name": "stdout",
     "output_type": "stream",
     "text": [
      "the game list is [1, 2, 3, 4, 5] : \n"
     ]
    }
   ],
   "source": [
    "l = [1,2,3,4,5]\n",
    "gamelist(l)"
   ]
  },
  {
   "cell_type": "markdown",
   "metadata": {},
   "source": [
    "# simple game"
   ]
  },
  {
   "cell_type": "code",
   "execution_count": 32,
   "metadata": {},
   "outputs": [],
   "source": [
    "# display the game"
   ]
  },
  {
   "cell_type": "code",
   "execution_count": 16,
   "metadata": {},
   "outputs": [
    {
     "name": "stdout",
     "output_type": "stream",
     "text": [
      "Here is the current list [0, 1, 2]\n"
     ]
    }
   ],
   "source": [
    "def display_game(game_list):\n",
    "    print(\"Here is the current list {}\".format(game_list))\n",
    "    \n",
    "game_list = [0,1,2]\n",
    "display_game(game_list)"
   ]
  },
  {
   "cell_type": "code",
   "execution_count": 17,
   "metadata": {},
   "outputs": [],
   "source": [
    "def position_choice():\n",
    "    \n",
    "    choice = \"wrong\"\n",
    "    \n",
    "    \n",
    "    while choice not in [\"0\",\"1\",\"2\"]:\n",
    "        \n",
    "        choice = input(\"pick an position at (0,1,2):\")\n",
    "        \n",
    "        \n",
    "        if choice not in [\"0\",\"1\",\"2\"]:\n",
    "            \n",
    "            print(\"please enter an valid input!!\")\n",
    "            \n",
    "    return int(choice)\n",
    "\n",
    "\n",
    "        \n",
    "        \n",
    "        \n",
    "        \n",
    "        \n",
    "    \n",
    "    "
   ]
  },
  {
   "cell_type": "code",
   "execution_count": 18,
   "metadata": {},
   "outputs": [],
   "source": [
    "def replacement_choice(game_list,position):\n",
    "    \n",
    "    user_replacement = input(\"please enter the string to replace in the selected position \")\n",
    "    \n",
    "    game_list[position] = user_replacement\n",
    "    \n",
    "    return(game_list)\n",
    "    \n",
    "    \n",
    "    \n",
    "    \n",
    "    \n",
    "    \n",
    "    \n",
    "    "
   ]
  },
  {
   "cell_type": "code",
   "execution_count": 19,
   "metadata": {},
   "outputs": [],
   "source": [
    "def gameon_choice():\n",
    "    \n",
    "    choice = \"wrong\"\n",
    "    \n",
    "    while choice not in [\"Y\",\"N\"]:\n",
    "        \n",
    "        choice = input(\"please select yes or no if you want to continue with this game? (Y or N)\")\n",
    "        \n",
    "        if choice not in [\"Y\",\"N\"]:\n",
    "            \n",
    "            print(\"please enter the valid input!!!\")\n",
    "            \n",
    "    if choice == \"Y\":\n",
    "        return True\n",
    "    else:\n",
    "        return False\n",
    "            \n",
    "    \n"
   ]
  },
  {
   "cell_type": "code",
   "execution_count": null,
   "metadata": {
    "scrolled": false
   },
   "outputs": [
    {
     "name": "stdout",
     "output_type": "stream",
     "text": [
      "Here is the current list [0, 1, 2]\n",
      "pick an position at (0,1,2):0\n",
      "please enter the string to replace in the selected position heelo\n",
      "Here is the current list ['heelo', 1, 2]\n"
     ]
    }
   ],
   "source": [
    "game_on = True\n",
    "\n",
    "\n",
    "while game_on:\n",
    "    \n",
    "    \n",
    "    display_game(game_list)\n",
    "    \n",
    "    position = position_choice()\n",
    "    \n",
    "    game_list = replacement_choice(game_list,position)\n",
    "    \n",
    "    \n",
    "    display_game(game_list)\n",
    "    \n",
    "    game_on = gameon_choice()\n",
    "    \n",
    "else:\n",
    "    print(\"i would not like to play the game\")\n",
    "    \n",
    "    \n",
    "    \n",
    "    \n",
    "    "
   ]
  },
  {
   "cell_type": "markdown",
   "metadata": {},
   "source": [
    "# full programme in one cell "
   ]
  },
  {
   "cell_type": "code",
   "execution_count": null,
   "metadata": {},
   "outputs": [],
   "source": [
    "from IPython.display import clear_output\n",
    "\n",
    "def display_board(board):\n",
    "    print(board[7] + '|'+board[8]+'|'+board[9])\n",
    "    print(\"-----\")\n",
    "    print(board[4] + '|'+board[5]+'|'+board[6])\n",
    "    print(\"-----\")\n",
    "    print(board[1] + '|'+board[2]+'|'+board[3])\n",
    "    print(\"-----\")\n",
    "    \n",
    "board=[\"#\",\" \",\" \",\" \",\" \",\" \",\" \",\" \",\" \",\" \"]\n",
    "\n",
    "\n",
    "def user_marker():\n",
    "    \n",
    "    marker = \"   \"\n",
    "    \n",
    "    while marker not in [\"x\",\"o\"]:\n",
    "        \n",
    "        marker = input(\"please select the marker (x 0r o ):\")\n",
    "        \n",
    "        if marker not in [\"x\",\"o\"]:\n",
    "            print(\"please enter the vlaid input!\")\n",
    "            \n",
    "    return(marker)\n",
    "\n",
    "def user_choiceinnum():\n",
    "        \n",
    "        position = \"  \"\n",
    "        \n",
    "        \n",
    "        \n",
    "        \n",
    "        while position not in [\"1\",\"2\",\"3\",\"4\",\"5\",\"6\",\"7\",\"8\",\"9\"]:\n",
    "            position = input(\"please select the positon by chosing numbers between (1-9):\")\n",
    "            \n",
    "            if position not in [\"1\",\"2\",\"3\",\"4\",\"5\",\"6\",\"7\",\"8\",\"9\"] :\n",
    "                print(\"please enter an valid input!\")\n",
    "                \n",
    "        return(int(position))\n",
    "    \n",
    "def replacement(board,marker,position):\n",
    "    \n",
    "    board[position] = marker\n",
    "    \n",
    "    return(board)\n",
    "\n",
    "gameison = True\n",
    "\n",
    "\n",
    "while gameison:\n",
    "    \n",
    "    display_board(board)\n",
    "    \n",
    "    marker = user_marker()\n",
    "    \n",
    "    position = user_choiceinnum()\n",
    "    \n",
    "    board = replacement(board,marker,position)\n",
    "    \n",
    "    if ( (board[7] == marker and board[8] == marker and board[9] == marker) or\n",
    "        (board[4] == marker and board[5] == marker and board[6] == marker) or\n",
    "        (board[1] == marker and board[2] == marker and board[3] == marker) or\n",
    "        (board[7] == marker and board[4] == marker and board[1] == marker) or\n",
    "        (board[8] == marker and board[5] == marker and board[2] == marker) or\n",
    "        (board[9] == marker and board[6] == marker and board[3] == marker) or\n",
    "        (board[7] == marker and board[5] == marker and board[3] == marker) or\n",
    "        (board[9] == marker and board[5] == marker and board[1] == marker) ):\n",
    "        \n",
    "        print(\"won\")\n",
    "        break\n"
   ]
  },
  {
   "cell_type": "markdown",
   "metadata": {},
   "source": [
    "# mini project tic tak game"
   ]
  },
  {
   "cell_type": "code",
   "execution_count": 1,
   "metadata": {},
   "outputs": [],
   "source": [
    "from IPython.display import clear_output\n",
    "\n",
    "def display_board(board):\n",
    "    print(board[7] + '|'+board[8]+'|'+board[9])\n",
    "    print(\"-----\")\n",
    "    print(board[4] + '|'+board[5]+'|'+board[6])\n",
    "    print(\"-----\")\n",
    "    print(board[1] + '|'+board[2]+'|'+board[3])\n",
    "    print(\"-----\")\n",
    "    \n",
    "board=[\"#\",\" \",\" \",\" \",\" \",\" \",\" \",\" \",\" \",\" \"]\n",
    "\n",
    "\n",
    "\n"
   ]
  },
  {
   "cell_type": "code",
   "execution_count": 3,
   "metadata": {
    "scrolled": true
   },
   "outputs": [],
   "source": [
    "def player_input():\n",
    "    marker = \" \"\n",
    "    \n",
    "    while marker != 'X' and marker != \"O\":\n",
    "        marker = input(\"player1,choose X or O: \")\n",
    "        \n",
    "    player1 = marker\n",
    "    \n",
    "    if player1 == \"X\":\n",
    "        player2 = \"O\"\n",
    "    else:\n",
    "        player2 = \"x\"\n",
    "    \n",
    "    return(player1,player2)\n",
    "\n",
    "\n",
    "\n",
    "\n",
    "\n",
    "        \n",
    "        \n",
    "        "
   ]
  },
  {
   "cell_type": "code",
   "execution_count": 4,
   "metadata": {},
   "outputs": [],
   "source": [
    "def place_marker(board,marker,position):\n",
    "    \n",
    "    board[position] = marker\n",
    "    \n",
    "    return(board)\n",
    "    \n",
    "    \n"
   ]
  },
  {
   "cell_type": "code",
   "execution_count": 5,
   "metadata": {},
   "outputs": [],
   "source": [
    "def win_check(board,marker):\n",
    "    \n",
    "    return(\n",
    "        (board[7] == marker and board[8] == marker and board[9] == marker) or\n",
    "        (board[4] == marker and board[5] == marker and board[6] == marker) or\n",
    "        (board[1] == marker and board[2] == marker and board[3] == marker) or\n",
    "        (board[7] == marker and board[4] == marker and board[1] == marker) or\n",
    "        (board[8] == marker and board[5] == marker and board[2] == marker) or\n",
    "        (board[9] == marker and board[6] == marker and board[3] == marker) or\n",
    "        (board[7] == marker and board[5] == marker and board[3] == marker) or\n",
    "        (board[9] == marker and board[5] == marker and board[1] == marker)\n",
    "    \n",
    "    \n",
    "    )\n",
    "    "
   ]
  },
  {
   "cell_type": "code",
   "execution_count": 6,
   "metadata": {},
   "outputs": [],
   "source": [
    "import random\n",
    "def choose_first():\n",
    "    flip = random.randint(0,1)\n",
    "    \n",
    "    if flip == 0:\n",
    "        return \"player1\"\n",
    "    \n",
    "    else:\n",
    "        return \"player2\"\n",
    "      \n",
    "\n",
    "      "
   ]
  },
  {
   "cell_type": "code",
   "execution_count": 7,
   "metadata": {},
   "outputs": [],
   "source": [
    "def space_check(board,position):\n",
    "    return board[position] == \" \"\n",
    "    "
   ]
  },
  {
   "cell_type": "code",
   "execution_count": 8,
   "metadata": {},
   "outputs": [],
   "source": [
    "def full_board_check(board):\n",
    "    \n",
    "    for i in range(1,10):\n",
    "        if space_check(board,i):\n",
    "            return False\n",
    "    return(True)     \n",
    "                   \n",
    "    "
   ]
  },
  {
   "cell_type": "code",
   "execution_count": 9,
   "metadata": {},
   "outputs": [],
   "source": [
    "def player_choice(board):\n",
    "    position = 0\n",
    "    \n",
    "    while position not in [1,2,3,4,5,6,7,8,9] or not space_check(board,position):\n",
    "        position = int(input(\"choose a position:(1-9)\"))\n",
    "        \n",
    "    return(position)     "
   ]
  },
  {
   "cell_type": "code",
   "execution_count": 10,
   "metadata": {},
   "outputs": [],
   "source": [
    "def replay():\n",
    "    \n",
    "    choice = input(\"play again? enter yes or no\")\n",
    "    \n",
    "    return choice == \"yes\"\n",
    "    "
   ]
  },
  {
   "cell_type": "code",
   "execution_count": 11,
   "metadata": {},
   "outputs": [
    {
     "name": "stdout",
     "output_type": "stream",
     "text": [
      "welcome to tic tack toe\n",
      " | | \n",
      "-----\n",
      " | | \n",
      "-----\n",
      " | | \n",
      "-----\n",
      "player1,choose X or O: X\n",
      "player2will fo first\n",
      "ready to playy\n",
      " | | \n",
      "-----\n",
      " | | \n",
      "-----\n",
      " | | \n",
      "-----\n",
      "choose a position:(1-9)1\n"
     ]
    },
    {
     "ename": "NameError",
     "evalue": "name 'place_marker' is not defined",
     "output_type": "error",
     "traceback": [
      "\u001b[1;31m---------------------------------------------------------------------------\u001b[0m",
      "\u001b[1;31mNameError\u001b[0m                                 Traceback (most recent call last)",
      "\u001b[1;32m<ipython-input-11-03dcc4839ef2>\u001b[0m in \u001b[0;36m<module>\u001b[1;34m\u001b[0m\n\u001b[0;32m     39\u001b[0m \u001b[1;33m\u001b[0m\u001b[0m\n\u001b[0;32m     40\u001b[0m             \u001b[0mposition\u001b[0m \u001b[1;33m=\u001b[0m \u001b[0mplayer_choice\u001b[0m\u001b[1;33m(\u001b[0m\u001b[0mboard\u001b[0m\u001b[1;33m)\u001b[0m\u001b[1;33m\u001b[0m\u001b[1;33m\u001b[0m\u001b[0m\n\u001b[1;32m---> 41\u001b[1;33m             \u001b[0mplace_marker\u001b[0m\u001b[1;33m(\u001b[0m\u001b[0mboard\u001b[0m\u001b[1;33m,\u001b[0m\u001b[0mplayer2_marker\u001b[0m\u001b[1;33m,\u001b[0m\u001b[0mposition\u001b[0m\u001b[1;33m)\u001b[0m\u001b[1;33m\u001b[0m\u001b[1;33m\u001b[0m\u001b[0m\n\u001b[0m\u001b[0;32m     42\u001b[0m \u001b[1;33m\u001b[0m\u001b[0m\n\u001b[0;32m     43\u001b[0m             \u001b[1;32mif\u001b[0m \u001b[0mwin_check\u001b[0m\u001b[1;33m(\u001b[0m\u001b[0mboard\u001b[0m\u001b[1;33m,\u001b[0m\u001b[0mplayer2_marker\u001b[0m\u001b[1;33m)\u001b[0m\u001b[1;33m:\u001b[0m\u001b[1;33m\u001b[0m\u001b[1;33m\u001b[0m\u001b[0m\n",
      "\u001b[1;31mNameError\u001b[0m: name 'place_marker' is not defined"
     ]
    }
   ],
   "source": [
    "print(\"welcome to tic tack toe\")\n",
    "\n",
    "while True:\n",
    "    \n",
    "    display_board(board)\n",
    "    player1_marker,player2_marker = player_input() \n",
    "    \n",
    "    turn = choose_first()\n",
    "    print(turn + \"will fo first\")\n",
    "    \n",
    "    play_game = input(\"ready to play\")\n",
    "    \n",
    "    if play_game == \"y\":\n",
    "        game_on = True\n",
    "    else:\n",
    "        game_on = False\n",
    "        \n",
    "    while game_on:\n",
    "        if turn == \"player1\":\n",
    "            display_board(board)\n",
    "            \n",
    "            position = player_choice(board)\n",
    "            place_marker(board,player1_marker,position)\n",
    "            \n",
    "            if win_check(board,player1_marker):\n",
    "                display_board(board)\n",
    "                print(\"player_1 has won!!!\")\n",
    "                game_on = False\n",
    "            else:\n",
    "                if full_board_check(board):\n",
    "                    display_board(board)\n",
    "                    print(\"tie game\")\n",
    "                    break\n",
    "                else:\n",
    "                    turn = \"player2\"\n",
    "                    \n",
    "        else:\n",
    "            display_board(board)\n",
    "            \n",
    "            position = player_choice(board)\n",
    "            place_marker(board,player2_marker,position)\n",
    "            \n",
    "            if win_check(board,player2_marker):\n",
    "                display_board(board)\n",
    "                print(\"player_2 has won!!!\")\n",
    "                game_on = False\n",
    "            else:\n",
    "                if full_board_check(board):\n",
    "                    display_board(board)\n",
    "                    print(\"tie game\")\n",
    "                    break\n",
    "                else:\n",
    "                    turn = \"player1\"\n",
    "                    \n",
    "    if not replay():\n",
    "        break\n",
    "                    \n",
    "                    \n",
    "                    \n",
    "                    \n",
    "            \n",
    "                \n",
    "            \n",
    "            \n",
    "            \n",
    "            \n",
    "            \n",
    "            \n",
    "            \n",
    "            \n",
    "            \n",
    "            \n",
    "        \n",
    "        \n",
    "        \n",
    "        \n",
    "            \n",
    "        \n",
    "        \n",
    "    \n",
    "    \n",
    "    \n",
    "    \n",
    "    \n",
    "    \n",
    "    \n",
    "    \n"
   ]
  }
 ],
 "metadata": {
  "interpreter": {
   "hash": "23300995598eec4bcf6bd89cf02d1c3675e8b2616661418dbbf5580aa901878d"
  },
  "kernelspec": {
   "display_name": "Python 3",
   "language": "python",
   "name": "python3"
  },
  "language_info": {
   "codemirror_mode": {
    "name": "ipython",
    "version": 3
   },
   "file_extension": ".py",
   "mimetype": "text/x-python",
   "name": "python",
   "nbconvert_exporter": "python",
   "pygments_lexer": "ipython3",
   "version": "3.8.8"
  }
 },
 "nbformat": 4,
 "nbformat_minor": 2
}
