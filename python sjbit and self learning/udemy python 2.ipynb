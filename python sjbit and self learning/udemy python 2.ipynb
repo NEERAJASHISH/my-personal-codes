{
 "cells": [
  {
   "cell_type": "markdown",
   "id": "3216a3b8",
   "metadata": {},
   "source": [
    " # object oriented programming assignment 2"
   ]
  },
  {
   "cell_type": "code",
   "execution_count": 28,
   "id": "43d3a8d8",
   "metadata": {},
   "outputs": [
    {
     "name": "stdout",
     "output_type": "stream",
     "text": [
      "enter the name of the account holder:Neeraj\n",
      "enter the amount that you want to deposit:500\n",
      "enter the amount that you want to withdraw:400\n",
      "The balance of the account holder is 100\n",
      "withdrwal successfull :)\n"
     ]
    }
   ],
   "source": [
    "class account():\n",
    "    \n",
    "    def __init__(self,owner,balance,deposit,withdraw):\n",
    "        self.owner = owner\n",
    "        self.balance = balance\n",
    "        self.deposit = deposit\n",
    "        self.withdraw = withdraw\n",
    "    def config1(self):\n",
    "        self.balance = self.balance + self.deposit\n",
    "        \n",
    "       \n",
    "    def config2(self):\n",
    "        if self.balance >= self.withdraw:\n",
    "            self.balance = self.balance - self.withdraw\n",
    "            print(\"The balance of the account holder is {}\".format(self.balance))\n",
    "            print(\"withdrwal successfull :)\")\n",
    "            \n",
    "        elif self.balance < self.withdraw:\n",
    "            self.balance = self.balance - self.withdraw\n",
    "            print(\"The balance is {}\".format(self.balance))\n",
    "            print(\"you have insufficient fund ....brainless!!\")\n",
    "           \n",
    "            \n",
    "            \n",
    "            \n",
    "            \n",
    "    \n",
    "    \n",
    "            \n",
    "        \n",
    "      \n",
    "\n",
    "q = str(input(\"Enter the name of the account holder:\"))\n",
    "w = int(input(\"Enter the amount that you want to deposit:\"))\n",
    "e = int(input(\"Enter the amount that you want to withdraw:\"))\n",
    "\n",
    "        \n",
    "        \n",
    "        \n",
    "        \n",
    "omr = account(q,0,w,e)\n",
    "\n",
    "omr.config1()\n",
    "omr.config2()\n",
    "\n",
    "\n",
    "\n",
    "\n",
    "\n",
    "\n",
    "        \n",
    "        \n",
    "        "
   ]
  },
  {
   "cell_type": "code",
   "execution_count": 19,
   "id": "4326cb67",
   "metadata": {
    "scrolled": true
   },
   "outputs": [
    {
     "name": "stdout",
     "output_type": "stream",
     "text": [
      "The account holder neeraj has balance 100 \n"
     ]
    }
   ],
   "source": [
    "omr.config1()"
   ]
  },
  {
   "cell_type": "code",
   "execution_count": 20,
   "id": "6c2b057b",
   "metadata": {},
   "outputs": [
    {
     "name": "stdout",
     "output_type": "stream",
     "text": [
      "insufficient funds!!!\n"
     ]
    }
   ],
   "source": [
    "omr.config2()"
   ]
  },
  {
   "cell_type": "code",
   "execution_count": 5,
   "id": "40d292d0",
   "metadata": {},
   "outputs": [
    {
     "name": "stdout",
     "output_type": "stream",
     "text": [
      "enter the amount that you want to withdraw:2\n",
      "the max limit has reached \n"
     ]
    }
   ],
   "source": [
    "h = int(input(\"enter the amount that you want to withdraw:\"))\n",
    "for i in range(h+1):\n",
    "    if i == h:\n",
    "        print(\"the max limit has reached \")\n",
    "        break\n",
    "else:\n",
    "    print(\"the max amount not reached\")\n",
    "    \n",
    "        \n",
    "        \n",
    "        \n",
    "\n",
    "        \n",
    "\n",
    "        \n",
    "\n",
    "    \n",
    "\n",
    "    "
   ]
  },
  {
   "cell_type": "code",
   "execution_count": null,
   "id": "11fee9f5",
   "metadata": {},
   "outputs": [],
   "source": [
    "def tupew(self):\n",
    "        for i in range(self.withdraw+1):\n",
    "            if i == 1000:\n",
    "                print(\"the maximum withdraw limit has reached!!\")\n",
    "                break\n",
    "        else:\n",
    "            print(\"Thank you\")"
   ]
  },
  {
   "cell_type": "code",
   "execution_count": null,
   "id": "6f0c298d",
   "metadata": {},
   "outputs": [],
   "source": []
  },
  {
   "cell_type": "code",
   "execution_count": null,
   "id": "a22bc238",
   "metadata": {},
   "outputs": [],
   "source": []
  },
  {
   "cell_type": "code",
   "execution_count": null,
   "id": "76893991",
   "metadata": {},
   "outputs": [],
   "source": []
  },
  {
   "cell_type": "code",
   "execution_count": null,
   "id": "f7324998",
   "metadata": {},
   "outputs": [],
   "source": []
  }
 ],
 "metadata": {
  "kernelspec": {
   "display_name": "Python 3",
   "language": "python",
   "name": "python3"
  },
  "language_info": {
   "codemirror_mode": {
    "name": "ipython",
    "version": 3
   },
   "file_extension": ".py",
   "mimetype": "text/x-python",
   "name": "python",
   "nbconvert_exporter": "python",
   "pygments_lexer": "ipython3",
   "version": "3.8.8"
  }
 },
 "nbformat": 4,
 "nbformat_minor": 5
}
