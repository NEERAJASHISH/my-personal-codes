{
 "cells": [
  {
   "cell_type": "code",
   "execution_count": 2,
   "id": "05236276",
   "metadata": {},
   "outputs": [
    {
     "data": {
      "text/plain": [
       "5.551115123125783e-17"
      ]
     },
     "execution_count": 2,
     "metadata": {},
     "output_type": "execute_result"
    }
   ],
   "source": [
    "0.1 + 0.2-0.3"
   ]
  },
  {
   "cell_type": "code",
   "execution_count": 4,
   "id": "ff375c91",
   "metadata": {},
   "outputs": [
    {
     "data": {
      "text/plain": [
       "0.3333333333333333"
      ]
     },
     "execution_count": 4,
     "metadata": {},
     "output_type": "execute_result"
    }
   ],
   "source": [
    "1/3"
   ]
  },
  {
   "cell_type": "code",
   "execution_count": 6,
   "id": "a3b8f5ad",
   "metadata": {},
   "outputs": [
    {
     "data": {
      "text/plain": [
       "0.5"
      ]
     },
     "execution_count": 6,
     "metadata": {},
     "output_type": "execute_result"
    }
   ],
   "source": [
    "1/2"
   ]
  },
  {
   "cell_type": "code",
   "execution_count": 7,
   "id": "1f26c837",
   "metadata": {},
   "outputs": [
    {
     "data": {
      "text/plain": [
       "36"
      ]
     },
     "execution_count": 7,
     "metadata": {},
     "output_type": "execute_result"
    }
   ],
   "source": [
    "6*6"
   ]
  },
  {
   "cell_type": "code",
   "execution_count": 8,
   "id": "9939cf82",
   "metadata": {},
   "outputs": [
    {
     "data": {
      "text/plain": [
       "0.5"
      ]
     },
     "execution_count": 8,
     "metadata": {},
     "output_type": "execute_result"
    }
   ],
   "source": [
    "1/2"
   ]
  },
  {
   "cell_type": "code",
   "execution_count": 11,
   "id": "1e2054f8",
   "metadata": {},
   "outputs": [
    {
     "data": {
      "text/plain": [
       "list"
      ]
     },
     "execution_count": 11,
     "metadata": {},
     "output_type": "execute_result"
    }
   ],
   "source": [
    "my_dogs = [\"hello\"]\n",
    "type(my_dogs)"
   ]
  },
  {
   "cell_type": "code",
   "execution_count": 15,
   "id": "46b90521",
   "metadata": {},
   "outputs": [
    {
     "data": {
      "text/plain": [
       "'el'"
      ]
     },
     "execution_count": 15,
     "metadata": {},
     "output_type": "execute_result"
    }
   ],
   "source": [
    "string = \"hello\"\n",
    "string[1:-2]"
   ]
  },
  {
   "cell_type": "code",
   "execution_count": 19,
   "id": "fa349d8b",
   "metadata": {},
   "outputs": [
    {
     "data": {
      "text/plain": [
       "'olh'"
      ]
     },
     "execution_count": 19,
     "metadata": {},
     "output_type": "execute_result"
    }
   ],
   "source": [
    "string[::-2] # reversing the string in the gap of two indexes"
   ]
  },
  {
   "cell_type": "code",
   "execution_count": 22,
   "id": "7b6e91ac",
   "metadata": {},
   "outputs": [
    {
     "data": {
      "text/plain": [
       "'r'"
      ]
     },
     "execution_count": 22,
     "metadata": {},
     "output_type": "execute_result"
    }
   ],
   "source": [
    "\"hello world\"[8]"
   ]
  },
  {
   "cell_type": "code",
   "execution_count": 23,
   "id": "156a25e4",
   "metadata": {},
   "outputs": [
    {
     "data": {
      "text/plain": [
       "'ink'"
      ]
     },
     "execution_count": 23,
     "metadata": {},
     "output_type": "execute_result"
    }
   ],
   "source": [
    "\"tinker\"[1:4]"
   ]
  },
  {
   "cell_type": "code",
   "execution_count": 32,
   "id": "83390c27",
   "metadata": {},
   "outputs": [
    {
     "data": {
      "text/plain": [
       "'pam'"
      ]
     },
     "execution_count": 32,
     "metadata": {},
     "output_type": "execute_result"
    }
   ],
   "source": [
    "k = \"sam\"\n",
    "t = k[1:]\n",
    "c = \"p\" + t\n",
    "c\n",
    "\n",
    "\n",
    " "
   ]
  },
  {
   "cell_type": "code",
   "execution_count": 41,
   "id": "e4eb6454",
   "metadata": {},
   "outputs": [
    {
     "data": {
      "text/plain": [
       "0.3333333333333333"
      ]
     },
     "execution_count": 41,
     "metadata": {},
     "output_type": "execute_result"
    }
   ],
   "source": [
    "k = 1/3\n",
    "k"
   ]
  },
  {
   "cell_type": "code",
   "execution_count": 43,
   "id": "27a7ee3f",
   "metadata": {},
   "outputs": [
    {
     "name": "stdout",
     "output_type": "stream",
     "text": [
      "the values is 0.333\n"
     ]
    }
   ],
   "source": [
    "print(\"the values is {p:1.3f}\".format(p=k))# the foramating with string"
   ]
  },
  {
   "cell_type": "code",
   "execution_count": 48,
   "id": "7c9c6e04",
   "metadata": {},
   "outputs": [
    {
     "name": "stdout",
     "output_type": "stream",
     "text": [
      "The worlds stands for neeraj.\n"
     ]
    }
   ],
   "source": [
    "print(\"The worlds stands for %s.\" %'neeraj')"
   ]
  },
  {
   "cell_type": "code",
   "execution_count": 49,
   "id": "0ac76942",
   "metadata": {},
   "outputs": [
    {
     "name": "stdout",
     "output_type": "stream",
     "text": [
      "The worlds stands for neeraj and the people are damn sure he is gona rule the word ruler.\n"
     ]
    }
   ],
   "source": [
    "print(\"The worlds stands for %s.\" %'neeraj and the people are damn sure he is gona rule the word %s' %'ruler')"
   ]
  },
  {
   "cell_type": "code",
   "execution_count": 51,
   "id": "797f1e32",
   "metadata": {},
   "outputs": [
    {
     "name": "stdout",
     "output_type": "stream",
     "text": [
      "hi hello how are you america.\n"
     ]
    }
   ],
   "source": [
    "print(\"hi %s how are you %s.\" %(\"hello\",\"america\"))"
   ]
  },
  {
   "cell_type": "code",
   "execution_count": 67,
   "id": "e6eb49d1",
   "metadata": {},
   "outputs": [
    {
     "name": "stdout",
     "output_type": "stream",
     "text": [
      "The floating point numbers are given by                 15.9 \n"
     ]
    }
   ],
   "source": [
    "print(\"The floating point numbers are given by %20.1f \" %15.88)"
   ]
  },
  {
   "cell_type": "code",
   "execution_count": 74,
   "id": "4310a90a",
   "metadata": {},
   "outputs": [
    {
     "data": {
      "text/plain": [
       "'python rules!'"
      ]
     },
     "execution_count": 74,
     "metadata": {},
     "output_type": "execute_result"
    }
   ],
   "source": [
    "\"%s\" %'python rules!'"
   ]
  },
  {
   "cell_type": "code",
   "execution_count": 75,
   "id": "a2626172",
   "metadata": {},
   "outputs": [
    {
     "data": {
      "text/plain": [
       "2"
      ]
     },
     "execution_count": 75,
     "metadata": {},
     "output_type": "execute_result"
    }
   ],
   "source": [
    "k = [1,1,[1,2]]\n",
    "k[2][1]\n"
   ]
  },
  {
   "cell_type": "code",
   "execution_count": 79,
   "id": "e4cb8c8d",
   "metadata": {},
   "outputs": [
    {
     "name": "stdout",
     "output_type": "stream",
     "text": [
      "hello\n",
      "how\n"
     ]
    }
   ],
   "source": [
    "dic = {\"hello\":3,\"how\":4}\n",
    "for i in dic.keys():\n",
    "    print(i)"
   ]
  },
  {
   "cell_type": "code",
   "execution_count": 80,
   "id": "718a6120",
   "metadata": {},
   "outputs": [
    {
     "name": "stdout",
     "output_type": "stream",
     "text": [
      "3\n",
      "4\n"
     ]
    }
   ],
   "source": [
    "dic = {\"hello\":3,\"how\":4}\n",
    "for i in dic.values():\n",
    "    print(i)"
   ]
  },
  {
   "cell_type": "code",
   "execution_count": 85,
   "id": "3b0afe67",
   "metadata": {},
   "outputs": [
    {
     "data": {
      "text/plain": [
       "123456"
      ]
     },
     "execution_count": 85,
     "metadata": {},
     "output_type": "execute_result"
    }
   ],
   "source": [
    "k = {\"x\":14 , \"y\":11,\"v\":{5657:123456}}\n",
    "k[\"v\"][5657]"
   ]
  },
  {
   "cell_type": "code",
   "execution_count": null,
   "id": "65964ef1",
   "metadata": {},
   "outputs": [],
   "source": [
    "#programme to grab the letters in the list and covert it into uppercase()"
   ]
  },
  {
   "cell_type": "code",
   "execution_count": 90,
   "id": "a6e20012",
   "metadata": {},
   "outputs": [],
   "source": [
    "d = {\"key1\":[\"a\",\"b\",\"c\"],\"key2\":[\"e\",\"d\",\"f\"]}\n",
    "lister = []\n",
    "for i in d.values():\n",
    "    lister.append(i)\n",
    "    \n",
    "    \n",
    "\n",
    "    \n",
    "    \n",
    "    \n"
   ]
  },
  {
   "cell_type": "code",
   "execution_count": 91,
   "id": "5fac5720",
   "metadata": {},
   "outputs": [
    {
     "data": {
      "text/plain": [
       "[['a', 'b', 'c'], ['e', 'd', 'f']]"
      ]
     },
     "execution_count": 91,
     "metadata": {},
     "output_type": "execute_result"
    }
   ],
   "source": [
    "lister"
   ]
  },
  {
   "cell_type": "code",
   "execution_count": 92,
   "id": "583bcbbd",
   "metadata": {},
   "outputs": [
    {
     "data": {
      "text/plain": [
       "'C'"
      ]
     },
     "execution_count": 92,
     "metadata": {},
     "output_type": "execute_result"
    }
   ],
   "source": [
    "lister[0][2].upper()"
   ]
  },
  {
   "cell_type": "code",
   "execution_count": null,
   "id": "ee0fdf02",
   "metadata": {},
   "outputs": [],
   "source": [
    "#counter programme"
   ]
  },
  {
   "cell_type": "code",
   "execution_count": 111,
   "id": "6cd0a0cc",
   "metadata": {},
   "outputs": [
    {
     "name": "stdout",
     "output_type": "stream",
     "text": [
      "please enter the string: neeraj\n"
     ]
    }
   ],
   "source": [
    "dicer = {}\n",
    "f = input(\"please enter the string: \")\n",
    "\n",
    "for i in f:\n",
    "    if  i in dicer:\n",
    "        dicer[i] = dicer[i] + 1\n",
    "    else:\n",
    "        dicer[i] = 1"
   ]
  },
  {
   "cell_type": "code",
   "execution_count": 112,
   "id": "78382b07",
   "metadata": {},
   "outputs": [
    {
     "data": {
      "text/plain": [
       "{'n': 1, 'e': 2, 'r': 1, 'a': 1, 'j': 1}"
      ]
     },
     "execution_count": 112,
     "metadata": {},
     "output_type": "execute_result"
    }
   ],
   "source": [
    "dicer"
   ]
  },
  {
   "cell_type": "code",
   "execution_count": 95,
   "id": "e9bbb77f",
   "metadata": {},
   "outputs": [
    {
     "name": "stdout",
     "output_type": "stream",
     "text": [
      "<class 'str'>\n",
      "<class 'str'>\n",
      "<class 'str'>\n",
      "<class 'str'>\n",
      "<class 'str'>\n",
      "<class 'str'>\n"
     ]
    }
   ],
   "source": [
    "n = \"neeraj\"\n",
    " for i in n:\n",
    "    print(type(i))"
   ]
  },
  {
   "cell_type": "code",
   "execution_count": 99,
   "id": "d87df474",
   "metadata": {},
   "outputs": [
    {
     "data": {
      "text/plain": [
       "True"
      ]
     },
     "execution_count": 99,
     "metadata": {},
     "output_type": "execute_result"
    }
   ],
   "source": [
    "k = {\"true\":18}\n",
    "p =  \"true\" in k\n",
    "p"
   ]
  },
  {
   "cell_type": "code",
   "execution_count": 107,
   "id": "a141b4c3",
   "metadata": {},
   "outputs": [
    {
     "data": {
      "text/plain": [
       "{'true': 31}"
      ]
     },
     "execution_count": 107,
     "metadata": {},
     "output_type": "execute_result"
    }
   ],
   "source": [
    "k[\"true\"] = k[\"true\"] + 1\n",
    "k"
   ]
  },
  {
   "cell_type": "code",
   "execution_count": 116,
   "id": "70dd6d3d",
   "metadata": {},
   "outputs": [
    {
     "data": {
      "text/plain": [
       "1"
      ]
     },
     "execution_count": 116,
     "metadata": {},
     "output_type": "execute_result"
    }
   ],
   "source": [
    "n = (\"hello\",\"how\")\n",
    "n.count(\"hello\")\n",
    "n.index(\"how\")"
   ]
  },
  {
   "cell_type": "code",
   "execution_count": 122,
   "id": "01004956",
   "metadata": {},
   "outputs": [
    {
     "data": {
      "text/plain": [
       "tuple"
      ]
     },
     "execution_count": 122,
     "metadata": {},
     "output_type": "execute_result"
    }
   ],
   "source": [
    "m = (1,2,[3,4,5])\n",
    "type(m)"
   ]
  },
  {
   "cell_type": "code",
   "execution_count": 126,
   "id": "cdba7762",
   "metadata": {},
   "outputs": [
    {
     "data": {
      "text/plain": [
       "{'e', 'h', 'l', 'o'}"
      ]
     },
     "execution_count": 126,
     "metadata": {},
     "output_type": "execute_result"
    }
   ],
   "source": [
    "mylist = \"hello\"\n",
    "set(mylist)\n",
    "\n"
   ]
  },
  {
   "cell_type": "code",
   "execution_count": 127,
   "id": "c41f4f9c",
   "metadata": {},
   "outputs": [
    {
     "data": {
      "text/plain": [
       "{1, 2, 3}"
      ]
     },
     "execution_count": 127,
     "metadata": {},
     "output_type": "execute_result"
    }
   ],
   "source": [
    "set([1,1,2,3])"
   ]
  },
  {
   "cell_type": "code",
   "execution_count": 2,
   "id": "5f5dcc0f",
   "metadata": {},
   "outputs": [
    {
     "name": "stdout",
     "output_type": "stream",
     "text": [
      "Overwriting myfile.txt\n"
     ]
    }
   ],
   "source": [
    "%%writefile myfile.txt\n",
    "this is line one \n",
    "this is line two"
   ]
  },
  {
   "cell_type": "code",
   "execution_count": 3,
   "id": "a82a2cb0",
   "metadata": {
    "scrolled": true
   },
   "outputs": [
    {
     "data": {
      "text/plain": [
       "'this is line one \\nthis is line two\\n'"
      ]
     },
     "execution_count": 3,
     "metadata": {},
     "output_type": "execute_result"
    }
   ],
   "source": [
    "myfile = open(\"myfile.txt\")\n",
    "myfile.read()\n"
   ]
  },
  {
   "cell_type": "code",
   "execution_count": 4,
   "id": "874b3e74",
   "metadata": {},
   "outputs": [
    {
     "data": {
      "text/plain": [
       "''"
      ]
     },
     "execution_count": 4,
     "metadata": {},
     "output_type": "execute_result"
    }
   ],
   "source": [
    "myfile.read() # here the curzor is at the last line"
   ]
  },
  {
   "cell_type": "code",
   "execution_count": 5,
   "id": "d87a1565",
   "metadata": {},
   "outputs": [
    {
     "data": {
      "text/plain": [
       "0"
      ]
     },
     "execution_count": 5,
     "metadata": {},
     "output_type": "execute_result"
    }
   ],
   "source": [
    "myfile.seek(0)"
   ]
  },
  {
   "cell_type": "code",
   "execution_count": 6,
   "id": "34d98e55",
   "metadata": {},
   "outputs": [
    {
     "data": {
      "text/plain": [
       "'this is line one \\nthis is line two\\n'"
      ]
     },
     "execution_count": 6,
     "metadata": {},
     "output_type": "execute_result"
    }
   ],
   "source": [
    "myfile.read()"
   ]
  },
  {
   "cell_type": "code",
   "execution_count": 7,
   "id": "00b6a29f",
   "metadata": {},
   "outputs": [
    {
     "data": {
      "text/plain": [
       "0"
      ]
     },
     "execution_count": 7,
     "metadata": {},
     "output_type": "execute_result"
    }
   ],
   "source": [
    "myfile.seek(0)"
   ]
  },
  {
   "cell_type": "code",
   "execution_count": 8,
   "id": "1faac905",
   "metadata": {},
   "outputs": [
    {
     "name": "stdout",
     "output_type": "stream",
     "text": [
      "this is line one \n",
      "\n",
      "this is line two\n",
      "\n"
     ]
    }
   ],
   "source": [
    "tp = myfile.readlines()\n",
    "for i in tp:\n",
    "    print(i)\n"
   ]
  },
  {
   "cell_type": "code",
   "execution_count": 9,
   "id": "76c0fd4f",
   "metadata": {},
   "outputs": [],
   "source": [
    "myfile.close()"
   ]
  },
  {
   "cell_type": "code",
   "execution_count": 10,
   "id": "01391229",
   "metadata": {},
   "outputs": [
    {
     "data": {
      "text/plain": [
       "'C:\\\\Users\\\\USER\\\\python sjbit and self learning\\\\my-personal-codes\\\\udemy paid'"
      ]
     },
     "execution_count": 10,
     "metadata": {},
     "output_type": "execute_result"
    }
   ],
   "source": [
    "pwd"
   ]
  },
  {
   "cell_type": "code",
   "execution_count": 17,
   "id": "77b3bc5f",
   "metadata": {},
   "outputs": [
    {
     "name": "stdout",
     "output_type": "stream",
     "text": [
      "this is line one \n",
      "\n",
      "this is line two\n",
      "\n"
     ]
    }
   ],
   "source": [
    "with open(\"myfile.txt\") as my_newfile:\n",
    "    content = my_newfile.readlines()\n",
    "    \n",
    "    for  i in content:\n",
    "        print(i)\n",
    "    "
   ]
  },
  {
   "cell_type": "code",
   "execution_count": 18,
   "id": "de52a775",
   "metadata": {},
   "outputs": [
    {
     "data": {
      "text/plain": [
       "['this is line one \\n', 'this is line two\\n']"
      ]
     },
     "execution_count": 18,
     "metadata": {},
     "output_type": "execute_result"
    }
   ],
   "source": [
    "content"
   ]
  },
  {
   "cell_type": "code",
   "execution_count": 20,
   "id": "837b714d",
   "metadata": {},
   "outputs": [],
   "source": [
    "with open(\"myfile.txt\",mode=\"r\") as my_newfile:\n",
    "    content = my_newfile.readlines()\n",
    "    "
   ]
  },
  {
   "cell_type": "code",
   "execution_count": null,
   "id": "4b92d578",
   "metadata": {},
   "outputs": [],
   "source": [
    "# notice the error shown below"
   ]
  },
  {
   "cell_type": "code",
   "execution_count": 21,
   "id": "f0c0a087",
   "metadata": {},
   "outputs": [
    {
     "ename": "UnsupportedOperation",
     "evalue": "not readable",
     "output_type": "error",
     "traceback": [
      "\u001b[1;31m---------------------------------------------------------------------------\u001b[0m",
      "\u001b[1;31mUnsupportedOperation\u001b[0m                      Traceback (most recent call last)",
      "\u001b[1;32m<ipython-input-21-d592f1fe9ef5>\u001b[0m in \u001b[0;36m<module>\u001b[1;34m\u001b[0m\n\u001b[0;32m      1\u001b[0m \u001b[1;32mwith\u001b[0m \u001b[0mopen\u001b[0m\u001b[1;33m(\u001b[0m\u001b[1;34m\"myfile.txt\"\u001b[0m\u001b[1;33m,\u001b[0m\u001b[0mmode\u001b[0m\u001b[1;33m=\u001b[0m\u001b[1;34m\"w\"\u001b[0m\u001b[1;33m)\u001b[0m \u001b[1;32mas\u001b[0m \u001b[0mmy_newfile\u001b[0m\u001b[1;33m:\u001b[0m\u001b[1;33m\u001b[0m\u001b[1;33m\u001b[0m\u001b[0m\n\u001b[1;32m----> 2\u001b[1;33m     \u001b[0mcontent\u001b[0m \u001b[1;33m=\u001b[0m \u001b[0mmy_newfile\u001b[0m\u001b[1;33m.\u001b[0m\u001b[0mreadlines\u001b[0m\u001b[1;33m(\u001b[0m\u001b[1;33m)\u001b[0m\u001b[1;33m\u001b[0m\u001b[1;33m\u001b[0m\u001b[0m\n\u001b[0m\u001b[0;32m      3\u001b[0m \u001b[1;33m\u001b[0m\u001b[0m\n",
      "\u001b[1;31mUnsupportedOperation\u001b[0m: not readable"
     ]
    }
   ],
   "source": [
    "with open(\"myfile.txt\",mode=\"w\") as my_newfile: \n",
    "    content = my_newfile.readlines()\n",
    "    "
   ]
  },
  {
   "cell_type": "code",
   "execution_count": 22,
   "id": "9fa91041",
   "metadata": {},
   "outputs": [],
   "source": [
    "x = open(\"nu.txt\",\"w\") # this is ione of the format for writing the file"
   ]
  },
  {
   "cell_type": "code",
   "execution_count": 23,
   "id": "74f45aa5",
   "metadata": {},
   "outputs": [
    {
     "name": "stdout",
     "output_type": "stream",
     "text": [
      "Writing new.txt\n"
     ]
    }
   ],
   "source": [
    "%%writefile \"new.txt\"\n",
    "hello how are you"
   ]
  },
  {
   "cell_type": "code",
   "execution_count": 41,
   "id": "fed96b27",
   "metadata": {},
   "outputs": [
    {
     "data": {
      "text/plain": [
       "27"
      ]
     },
     "execution_count": 41,
     "metadata": {},
     "output_type": "execute_result"
    }
   ],
   "source": [
    "my_filer = open('test.txt','w+')\n",
    "my_filer.write(\"hello there are how are you\")"
   ]
  },
  {
   "cell_type": "code",
   "execution_count": 42,
   "id": "b0d27671",
   "metadata": {},
   "outputs": [
    {
     "data": {
      "text/plain": [
       "0"
      ]
     },
     "execution_count": 42,
     "metadata": {},
     "output_type": "execute_result"
    }
   ],
   "source": [
    "my_filer.seek(0)"
   ]
  },
  {
   "cell_type": "code",
   "execution_count": 43,
   "id": "d2eecbd4",
   "metadata": {},
   "outputs": [
    {
     "data": {
      "text/plain": [
       "['hello there are how are you']"
      ]
     },
     "execution_count": 43,
     "metadata": {},
     "output_type": "execute_result"
    }
   ],
   "source": [
    "my_filer.readlines()"
   ]
  },
  {
   "cell_type": "code",
   "execution_count": 44,
   "id": "250dee2a",
   "metadata": {},
   "outputs": [
    {
     "data": {
      "text/plain": [
       "34"
      ]
     },
     "execution_count": 44,
     "metadata": {},
     "output_type": "execute_result"
    }
   ],
   "source": [
    "my_filer.write(\"\\n how are you doing bro by the way\")"
   ]
  },
  {
   "cell_type": "code",
   "execution_count": 45,
   "id": "e4f94395",
   "metadata": {},
   "outputs": [
    {
     "data": {
      "text/plain": [
       "0"
      ]
     },
     "execution_count": 45,
     "metadata": {},
     "output_type": "execute_result"
    }
   ],
   "source": [
    "my_filer.seek(0)"
   ]
  },
  {
   "cell_type": "code",
   "execution_count": 46,
   "id": "603e9933",
   "metadata": {},
   "outputs": [
    {
     "data": {
      "text/plain": [
       "'hello there are how are you\\n'"
      ]
     },
     "execution_count": 46,
     "metadata": {},
     "output_type": "execute_result"
    }
   ],
   "source": [
    "my_filer.readline()"
   ]
  },
  {
   "cell_type": "code",
   "execution_count": 47,
   "id": "e32c6503",
   "metadata": {},
   "outputs": [],
   "source": [
    "my_filer.close()"
   ]
  },
  {
   "cell_type": "code",
   "execution_count": 49,
   "id": "966d97fc",
   "metadata": {},
   "outputs": [
    {
     "data": {
      "text/plain": [
       "58"
      ]
     },
     "execution_count": 49,
     "metadata": {},
     "output_type": "execute_result"
    }
   ],
   "source": [
    "my_filer = open('test.txt',\"a+\")\n",
    "my_filer.write(\"\\nthis is the next line after the sentence\")\n",
    "my_filer.write(\"\\nthis is the fourth line buy the way what are you thinking\")\n"
   ]
  },
  {
   "cell_type": "code",
   "execution_count": 73,
   "id": "7cb572f0",
   "metadata": {},
   "outputs": [
    {
     "data": {
      "text/plain": [
       "0"
      ]
     },
     "execution_count": 73,
     "metadata": {},
     "output_type": "execute_result"
    }
   ],
   "source": [
    "my_filer.seek(0)"
   ]
  },
  {
   "cell_type": "code",
   "execution_count": 74,
   "id": "48773e59",
   "metadata": {},
   "outputs": [
    {
     "data": {
      "text/plain": [
       "['hello there are how are you\\n',\n",
       " ' how are you doing bro by the way\\n',\n",
       " 'this is the next line after the sentence\\n',\n",
       " 'this is the next line after the sentence\\n',\n",
       " 'this is the fourth line buy the way what are you thinking']"
      ]
     },
     "execution_count": 74,
     "metadata": {},
     "output_type": "execute_result"
    }
   ],
   "source": [
    "my_filer.readlines()\n",
    "\n",
    "    "
   ]
  },
  {
   "cell_type": "code",
   "execution_count": 1,
   "id": "037adcd0",
   "metadata": {},
   "outputs": [
    {
     "data": {
      "text/plain": [
       "False"
      ]
     },
     "execution_count": 1,
     "metadata": {},
     "output_type": "execute_result"
    }
   ],
   "source": [
    "2 != 2"
   ]
  },
  {
   "cell_type": "code",
   "execution_count": 2,
   "id": "d6121ab5",
   "metadata": {},
   "outputs": [
    {
     "data": {
      "text/plain": [
       "True"
      ]
     },
     "execution_count": 2,
     "metadata": {},
     "output_type": "execute_result"
    }
   ],
   "source": [
    "2 <= 3 >= 1"
   ]
  },
  {
   "cell_type": "code",
   "execution_count": 1,
   "id": "ad5b05cd",
   "metadata": {},
   "outputs": [
    {
     "name": "stdout",
     "output_type": "stream",
     "text": [
      "(1, 2)\n",
      "(2, 3)\n",
      "(3, 4)\n",
      "(4, 5)\n"
     ]
    }
   ],
   "source": [
    "list1 = [1,2,3,4]\n",
    "list2 = [2,3,4,5,6]\n",
    "for i in zip(list1,list2):\n",
    "    print(i)\n"
   ]
  },
  {
   "cell_type": "code",
   "execution_count": 10,
   "id": "cf3647f4",
   "metadata": {},
   "outputs": [
    {
     "name": "stdout",
     "output_type": "stream",
     "text": [
      "[1, 5]\n",
      "[2, 6]\n",
      "[3, 7]\n",
      "[4, 8]\n"
     ]
    }
   ],
   "source": [
    "l = [1,2,3,4]\n",
    "b = [5,6,7,8]\n",
    "\n",
    "for a,c in zip(l,b):\n",
    "    print(list((a,c)))\n",
    "\n"
   ]
  },
  {
   "cell_type": "code",
   "execution_count": null,
   "id": "5fb3aa46",
   "metadata": {},
   "outputs": [],
   "source": [
    "#programme to generate 6 digit otp"
   ]
  },
  {
   "cell_type": "markdown",
   "id": "7b94f810",
   "metadata": {},
   "source": [
    "# programme for generating the otp"
   ]
  },
  {
   "cell_type": "code",
   "execution_count": 9,
   "id": "9a091e53",
   "metadata": {},
   "outputs": [
    {
     "name": "stdout",
     "output_type": "stream",
     "text": [
      "cac426\n"
     ]
    }
   ],
   "source": [
    "from random import choice\n",
    "from random import randint\n",
    "\n",
    "\n",
    "\n",
    "a = [\"a\",\"b\",\"c\"]\n",
    "s = ''\n",
    "for i in range(6):\n",
    "    s = choice(a)+choice(a)+choice(a)+str(randint(1,9))+str(randint(1,9))+str(randint(1,9))\n",
    "    \n",
    "    \n",
    "print(s)    \n",
    " \n",
    "  \n",
    "\n",
    "\n",
    "\n",
    "\n",
    "\n",
    "\n",
    "    "
   ]
  },
  {
   "cell_type": "code",
   "execution_count": 83,
   "id": "82de5e6c",
   "metadata": {},
   "outputs": [
    {
     "data": {
      "text/plain": [
       "[1, 0, 1, 0, 1, 0, 1, 0, 1]"
      ]
     },
     "execution_count": 83,
     "metadata": {},
     "output_type": "execute_result"
    }
   ],
   "source": [
    "p = [num%2 for num in  range(1,10)]\n",
    "p"
   ]
  },
  {
   "cell_type": "code",
   "execution_count": 85,
   "id": "10d822af",
   "metadata": {},
   "outputs": [
    {
     "data": {
      "text/plain": [
       "[1, 3, 5, 7, 9]"
      ]
     },
     "execution_count": 85,
     "metadata": {},
     "output_type": "execute_result"
    }
   ],
   "source": [
    "l = [num for num in range(10) if num%2]\n",
    "l"
   ]
  },
  {
   "cell_type": "code",
   "execution_count": 1,
   "id": "59977583",
   "metadata": {},
   "outputs": [
    {
     "name": "stdout",
     "output_type": "stream",
     "text": [
      "11\n"
     ]
    }
   ],
   "source": [
    "def add(num1,num2):\n",
    "    print(num1+num2)\n",
    "    \n",
    "    \n",
    "add(5,6)    "
   ]
  },
  {
   "cell_type": "code",
   "execution_count": 14,
   "id": "e083b147",
   "metadata": {},
   "outputs": [
    {
     "name": "stdout",
     "output_type": "stream",
     "text": [
      "america newyork\n",
      "\n",
      "\n",
      "india banglore\n"
     ]
    }
   ],
   "source": [
    "def food(*args,**kwargs):\n",
    "    \n",
    "    print(\"{} {}\".format(args[0],kwargs[\"state1\"]))\n",
    "    print(\"\\n\")\n",
    "    print(\"{} {}\".format(args[1],kwargs[\"state\"]))\n",
    "    \n",
    "    \n",
    "food(\"america\",\"india\",\"england\",state1=\"newyork\",state = \"banglore\")   \n"
   ]
  },
  {
   "cell_type": "code",
   "execution_count": null,
   "id": "b188356b",
   "metadata": {},
   "outputs": [],
   "source": [
    "def myfunc(a):\n",
    "    \n",
    "    "
   ]
  },
  {
   "cell_type": "code",
   "execution_count": 2,
   "id": "14feed7d",
   "metadata": {},
   "outputs": [
    {
     "name": "stdout",
     "output_type": "stream",
     "text": [
      "0\n",
      "1\n",
      "2\n",
      "3\n",
      "4\n",
      "5\n",
      "6\n",
      "7\n",
      "8\n",
      "9\n"
     ]
    }
   ],
   "source": [
    "for i in range(10):\n",
    "    print(i)"
   ]
  },
  {
   "cell_type": "code",
   "execution_count": 24,
   "id": "3c22c9c9",
   "metadata": {},
   "outputs": [
    {
     "data": {
      "text/plain": [
       "'hello how are youded'"
      ]
     },
     "execution_count": 24,
     "metadata": {},
     "output_type": "execute_result"
    }
   ],
   "source": [
    "class hello():\n",
    "    \n",
    "    def __init__(self,s,t):\n",
    "        self.s = s\n",
    "        self.t = t\n",
    "        \n",
    "    def put(self,p):\n",
    "        return (str(self.s)  + str(self.t)+ str(p))\n",
    "    \n",
    "    \n",
    "obj1.s    \n",
    "obj1 = hello(\"hello \",\"how are you\")  \n",
    "obj1.put(\"ded\")"
   ]
  },
  {
   "cell_type": "code",
   "execution_count": null,
   "id": "a258f791",
   "metadata": {},
   "outputs": [],
   "source": []
  },
  {
   "cell_type": "code",
   "execution_count": null,
   "id": "b49ecb89",
   "metadata": {},
   "outputs": [],
   "source": []
  },
  {
   "cell_type": "code",
   "execution_count": null,
   "id": "78a9123b",
   "metadata": {},
   "outputs": [],
   "source": []
  },
  {
   "cell_type": "code",
   "execution_count": null,
   "id": "c42d0e26",
   "metadata": {},
   "outputs": [],
   "source": []
  },
  {
   "cell_type": "code",
   "execution_count": null,
   "id": "5d03332c",
   "metadata": {},
   "outputs": [],
   "source": []
  },
  {
   "cell_type": "code",
   "execution_count": null,
   "id": "d1af47ab",
   "metadata": {},
   "outputs": [],
   "source": []
  },
  {
   "cell_type": "code",
   "execution_count": null,
   "id": "2be200dc",
   "metadata": {},
   "outputs": [],
   "source": []
  },
  {
   "cell_type": "code",
   "execution_count": null,
   "id": "6d2cb737",
   "metadata": {},
   "outputs": [],
   "source": []
  },
  {
   "cell_type": "code",
   "execution_count": null,
   "id": "283265b6",
   "metadata": {},
   "outputs": [],
   "source": []
  },
  {
   "cell_type": "code",
   "execution_count": null,
   "id": "72d3eeb4",
   "metadata": {},
   "outputs": [],
   "source": []
  },
  {
   "cell_type": "code",
   "execution_count": null,
   "id": "c46b74fd",
   "metadata": {},
   "outputs": [],
   "source": []
  },
  {
   "cell_type": "code",
   "execution_count": null,
   "id": "cd47539d",
   "metadata": {},
   "outputs": [],
   "source": []
  },
  {
   "cell_type": "code",
   "execution_count": null,
   "id": "5620c1b0",
   "metadata": {},
   "outputs": [],
   "source": []
  },
  {
   "cell_type": "code",
   "execution_count": null,
   "id": "dcb46e8b",
   "metadata": {},
   "outputs": [],
   "source": []
  },
  {
   "cell_type": "code",
   "execution_count": null,
   "id": "8c37b1f0",
   "metadata": {},
   "outputs": [],
   "source": []
  },
  {
   "cell_type": "code",
   "execution_count": null,
   "id": "ed139355",
   "metadata": {},
   "outputs": [],
   "source": []
  },
  {
   "cell_type": "code",
   "execution_count": null,
   "id": "396e4ad1",
   "metadata": {},
   "outputs": [],
   "source": []
  },
  {
   "cell_type": "code",
   "execution_count": null,
   "id": "0d7d6402",
   "metadata": {},
   "outputs": [],
   "source": []
  }
 ],
 "metadata": {
  "interpreter": {
   "hash": "42588fd11209419b7c81abe23e31a1d2101f60811b02170c268e57ebb57d5d9a"
  },
  "kernelspec": {
   "display_name": "Python 3",
   "language": "python",
   "name": "python3"
  },
  "language_info": {
   "codemirror_mode": {
    "name": "ipython",
    "version": 3
   },
   "file_extension": ".py",
   "mimetype": "text/x-python",
   "name": "python",
   "nbconvert_exporter": "python",
   "pygments_lexer": "ipython3",
   "version": "3.8.8"
  }
 },
 "nbformat": 4,
 "nbformat_minor": 5
}
