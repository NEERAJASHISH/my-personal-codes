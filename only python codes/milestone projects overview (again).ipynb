{
 "cells": [
  {
   "cell_type": "code",
   "execution_count": 5,
   "source": [
    "def user_choice():\r\n",
    "    \r\n",
    "    \r\n",
    "    choice = \" WRONG\"\r\n",
    "    acceptable_range = range(10)\r\n",
    "    within_range = False\r\n",
    "    \r\n",
    "    while choice.isdigit() == False or within_range  == False:\r\n",
    "        choice = input(\"Enter the number of your choice (1-10): \")\r\n",
    "        \r\n",
    "        \r\n",
    "        if choice.isdigit() == False:\r\n",
    "            print(\"please enter an valid input!!!\")\r\n",
    "            \r\n",
    "        if choice.isdigit() == True:\r\n",
    "            if int(choice) in acceptable_range:\r\n",
    "                within_range = True\r\n",
    "            else:\r\n",
    "                print(\"soory,list index out of range\")\r\n",
    "                within_range = False\r\n",
    "                \r\n",
    "                \r\n",
    "    return int(choice)        \r\n",
    "\r\n",
    "\r\n",
    "user_choice()\r\n",
    "                \r\n",
    "                \r\n",
    "               \r\n",
    "            \r\n",
    "            \r\n",
    "            \r\n",
    "            \r\n",
    "            \r\n",
    "            \r\n",
    "        \r\n",
    "            \r\n",
    "        \r\n",
    "            \r\n",
    "            \r\n",
    "            \r\n",
    "            \r\n",
    "            \r\n",
    "        "
   ],
   "outputs": [
    {
     "output_type": "stream",
     "name": "stdout",
     "text": [
      "Enter the number of your choice (1-10): 1\n"
     ]
    },
    {
     "output_type": "execute_result",
     "data": {
      "text/plain": [
       "1"
      ]
     },
     "metadata": {},
     "execution_count": 5
    }
   ],
   "metadata": {}
  },
  {
   "cell_type": "markdown",
   "source": [
    "# user list game"
   ],
   "metadata": {}
  },
  {
   "cell_type": "code",
   "execution_count": null,
   "source": [
    "# my own programme"
   ],
   "outputs": [],
   "metadata": {}
  },
  {
   "cell_type": "code",
   "execution_count": 7,
   "source": [
    "def user_input():\r\n",
    "    user_list = [1,2,3]\r\n",
    "    index_input = \"wrong\"\r\n",
    "    within_index = [0,1,2]\r\n",
    "    index_selected = False\r\n",
    "    game_on = True\r\n",
    "    next_game = True\r\n",
    "    \r\n",
    "    while next_game:\r\n",
    "        \r\n",
    "         while index_input.isdigit() == False or index_selected == False:\r\n",
    "                index_input = input(\"Please enter the index position of the user_list:  \")\r\n",
    "                index_value = input(\"please enter the value that you want to replace:   \")\r\n",
    "                \r\n",
    "                \r\n",
    "                \r\n",
    "                if index_input.isdigit() == False:\r\n",
    "                    print(\"Please enter an valid input!!!!\")\r\n",
    "                    \r\n",
    "                if index_input.isdigit() == True:\r\n",
    "                    if int(index_input) in within_index:\r\n",
    "                        index_selected = True\r\n",
    "                        \r\n",
    "                    else:\r\n",
    "                        print(\"please enter the correct index position:\")\r\n",
    "                        index_selected = False\r\n",
    "                        \r\n",
    "                        \r\n",
    "                while  game_on:\r\n",
    "                    if index_selected == True:\r\n",
    "                        user_list[int(index_input)] = index_value\r\n",
    "                        print(user_list)\r\n",
    "                        game_on = False\r\n",
    "                        next_game = False\r\n",
    "                        \r\n",
    "user_input()                        \r\n",
    "            \r\n",
    "    "
   ],
   "outputs": [
    {
     "output_type": "stream",
     "name": "stdout",
     "text": [
      "Please enter the index position of the user_list:  1\n",
      "please enter the value that you want to replace:   hello\n",
      "[1, 'hello', 3]\n"
     ]
    }
   ],
   "metadata": {
    "scrolled": true
   }
  },
  {
   "cell_type": "code",
   "execution_count": null,
   "source": [
    "# this is udemy programme"
   ],
   "outputs": [],
   "metadata": {}
  },
  {
   "cell_type": "code",
   "execution_count": 9,
   "source": [
    "def display_game(game_list):\r\n",
    "    print(\"Here is your current list {}\".format(game_list))\r\n",
    "    \r\n",
    "\r\n",
    "    \r\n",
    "    "
   ],
   "outputs": [],
   "metadata": {}
  },
  {
   "cell_type": "code",
   "execution_count": 10,
   "source": [
    "def index_choice():\r\n",
    "    \r\n",
    "    choice = \"wrong\"\r\n",
    "    \r\n",
    "    while choice not in [0,1,2]:\r\n",
    "        choice = int(input(\"Enter the index of your choice (0,1,2): \"))\r\n",
    "        \r\n",
    "        \r\n",
    "        \r\n",
    "        \r\n",
    "        if choice  not in [0,1,2]:\r\n",
    "            print(\"please enter a  valid input!!\")\r\n",
    "            \r\n",
    "    return(choice) \r\n",
    "\r\n",
    "#index_choice()\r\n",
    "\r\n",
    "\r\n",
    "        "
   ],
   "outputs": [],
   "metadata": {}
  },
  {
   "cell_type": "code",
   "execution_count": 11,
   "source": [
    "def user_replacement(game_list,choice):\r\n",
    "    \r\n",
    "    user_choice = input(\"Type a value to place at the given position: \")\r\n",
    "    \r\n",
    "    game_list[choice] =  user_choice\r\n",
    "    \r\n",
    "    return(game_list)\r\n",
    "\r\n",
    "\r\n",
    "\r\n",
    "    \r\n",
    "    "
   ],
   "outputs": [],
   "metadata": {}
  },
  {
   "cell_type": "code",
   "execution_count": 12,
   "source": [
    "def gameon_choice():\r\n",
    "    \r\n",
    "    choice = \"wrong\"\r\n",
    "    \r\n",
    "    while choice not in [\"Y\",\"N\"]:\r\n",
    "        choice = input(\"would you like to contine with the game ('Y','N'): \")\r\n",
    "        \r\n",
    "        if choice not in [\"Y\",\"N\"]:\r\n",
    "            print(\"please enter an valid input!!\")\r\n",
    "            \r\n",
    "    if choice == \"Y\":\r\n",
    "        return(True)\r\n",
    "    else:\r\n",
    "        return(False)\r\n",
    "    \r\n",
    "    \r\n",
    "#gameon_choice()    \r\n",
    "        \r\n",
    "        \r\n",
    "        \r\n",
    "        "
   ],
   "outputs": [],
   "metadata": {}
  },
  {
   "cell_type": "code",
   "execution_count": 13,
   "source": [
    "game_on = True\r\n",
    "game_list = [1,2,3]\r\n",
    "\r\n",
    "while game_on:\r\n",
    "    \r\n",
    "    display_game(game_list)\r\n",
    "    index = index_choice()\r\n",
    "    replacement = user_replacement(game_list,index)\r\n",
    "    display_game(replacement)\r\n",
    "    game_on = gameon_choice()\r\n",
    "    \r\n",
    "    \r\n",
    "    \r\n",
    "    \r\n",
    "    \r\n",
    "    \r\n",
    "    \r\n"
   ],
   "outputs": [
    {
     "output_type": "stream",
     "name": "stdout",
     "text": [
      "Here is your current list [1, 2, 3]\n",
      "Enter the index of your choice (0,1,2): 1\n",
      "Type a value to place at the given position: hello\n",
      "Here is your current list [1, 'hello', 3]\n",
      "would you like to contine with the game ('Y','N'): Y\n",
      "Here is your current list [1, 'hello', 3]\n",
      "Enter the index of your choice (0,1,2): 1\n",
      "Type a value to place at the given position: hello\n",
      "Here is your current list [1, 'hello', 3]\n",
      "would you like to contine with the game ('Y','N'): N\n"
     ]
    }
   ],
   "metadata": {}
  },
  {
   "cell_type": "code",
   "execution_count": 1,
   "source": [
    "print(\"hello\")"
   ],
   "outputs": [
    {
     "output_type": "stream",
     "name": "stdout",
     "text": [
      "hello\n"
     ]
    }
   ],
   "metadata": {}
  },
  {
   "cell_type": "code",
   "execution_count": 4,
   "source": [
    "def add(a,b):\r\n",
    "    return (a+b)\r\n",
    "add(5,6)"
   ],
   "outputs": [
    {
     "output_type": "execute_result",
     "data": {
      "text/plain": [
       "11"
      ]
     },
     "metadata": {},
     "execution_count": 4
    }
   ],
   "metadata": {}
  },
  {
   "cell_type": "code",
   "execution_count": 46,
   "source": [
    "import math\r\n",
    "p =  \" \"\r\n",
    "\r\n",
    "\r\n",
    "class area:\r\n",
    "    \r\n",
    "    def __init__(self,a,b):\r\n",
    "        self.a = a \r\n",
    "        self.b = b\r\n",
    "        \r\n",
    "        \r\n",
    "    def add(self):\r\n",
    "        return(math.sqrt(self.a+self.b))\r\n",
    "         \r\n",
    "         \r\n",
    "    \r\n",
    "            \r\n",
    "obj1 = area(2,3) \r\n",
    "print(obj1.add())\r\n",
    "    \r\n",
    "    \r\n",
    "    "
   ],
   "outputs": [
    {
     "output_type": "stream",
     "name": "stdout",
     "text": [
      "2.23606797749979\n"
     ]
    }
   ],
   "metadata": {}
  },
  {
   "cell_type": "markdown",
   "source": [
    "# TICK TAK TOE GAME"
   ],
   "metadata": {}
  },
  {
   "cell_type": "code",
   "execution_count": 14,
   "source": [
    "from IPython.display import clear_output\r\n",
    "def display_board(board):\r\n",
    "    clear_output()\r\n",
    "    \r\n",
    "    print(board[7]+ '|'+ board[8]+ '|' + board[9] )\r\n",
    "    print(\"-----\")\r\n",
    "    print(board[4]+ '|'+ board[5]+ '|' + board[6] )\r\n",
    "    print(\"-----\")\r\n",
    "    print(board[1]+ '|'+ board[2]+ '|' + board[3] )\r\n",
    "    print(\"-----\")\r\n",
    "    \r\n",
    "\r\n",
    "    "
   ],
   "outputs": [],
   "metadata": {}
  },
  {
   "cell_type": "code",
   "execution_count": 15,
   "source": [
    "board = [\"#\",\" \",\" \",\" \",\" \",\" \",\" \",\" \",\" \",\" \"]\r\n",
    "#display_board(board)"
   ],
   "outputs": [],
   "metadata": {}
  },
  {
   "cell_type": "code",
   "execution_count": 16,
   "source": [
    "def player_input():\r\n",
    "    \r\n",
    "    marker = \"wrong\"\r\n",
    "    \r\n",
    "    while marker not in [\"X\",\"O\"]:\r\n",
    "        \r\n",
    "        marker = input(\"Please choose ('X' or 'O'): \")\r\n",
    "        \r\n",
    "        \r\n",
    "        if marker not in [\"X\",\"O\"]:\r\n",
    "            print(\"please enter the valid input\")\r\n",
    "            \r\n",
    "    player1 = marker\r\n",
    "    \r\n",
    "    if player1 == \"X\":\r\n",
    "        player2 = \"O\"\r\n",
    "    else:\r\n",
    "        player2 = \"X\"\r\n",
    "        \r\n",
    "    return(player1,player2)    \r\n",
    "    \r\n",
    "    \r\n",
    "    \r\n",
    "    \r\n",
    "    \r\n",
    "    \r\n",
    "        \r\n",
    "        \r\n",
    "            \r\n",
    "        \r\n",
    "            \r\n",
    "#player_input()            \r\n",
    "            \r\n",
    "          \r\n",
    "        \r\n",
    "        \r\n",
    "    \r\n",
    "    "
   ],
   "outputs": [],
   "metadata": {}
  },
  {
   "cell_type": "code",
   "execution_count": 17,
   "source": [
    "def place_marker(board,marker,position):\r\n",
    "    \r\n",
    "    board[position] = marker\r\n",
    "    \r\n",
    "    \r\n",
    "#place_marker(board,\"X\",1)\r\n",
    "#display_board(board)"
   ],
   "outputs": [],
   "metadata": {}
  },
  {
   "cell_type": "code",
   "execution_count": 18,
   "source": [
    "def win_check(board,mark):\r\n",
    "    \r\n",
    "    return(\r\n",
    "        (board[7] == mark and board[8] == mark and board[9] == mark)or\r\n",
    "        (board[4] == mark and board[5] == mark and board[6] == mark)or\r\n",
    "        (board[1] == mark and board[2] == mark and board[3] == mark)or\r\n",
    "        (board[7] == mark and board[8] == mark and board[9] == mark)or\r\n",
    "        (board[4] == mark and board[5] == mark and board[6] == mark)or\r\n",
    "        (board[1] == mark and board[2] == mark and board[3] == mark)or\r\n",
    "        (board[7] == mark and board[5] == mark and board[3] == mark)or\r\n",
    "        (board[9] == mark and board[5] == mark and board[1] == mark)\r\n",
    "    \r\n",
    "    \r\n",
    "    )\r\n",
    "    \r\n",
    "    \r\n",
    "    \r\n",
    "    "
   ],
   "outputs": [],
   "metadata": {}
  },
  {
   "cell_type": "code",
   "execution_count": 19,
   "source": [
    "import random\r\n",
    "\r\n",
    "def  choose_first():\r\n",
    "    \r\n",
    "    flip = random.randint(0,1)\r\n",
    "    \r\n",
    "    if flip == 1:\r\n",
    "        return \"player1\"\r\n",
    "    else:\r\n",
    "        return \"player2\"\r\n",
    "        \r\n",
    "\r\n"
   ],
   "outputs": [],
   "metadata": {}
  },
  {
   "cell_type": "code",
   "execution_count": 20,
   "source": [
    "def space_check(board,position):\r\n",
    "    \r\n",
    "    return board[position] ==  \" \""
   ],
   "outputs": [],
   "metadata": {}
  },
  {
   "cell_type": "code",
   "execution_count": 21,
   "source": [
    "def full_board_check(board):\r\n",
    "    for i in range(1,10):\r\n",
    "        if space_check(board,i):\r\n",
    "            return False\r\n",
    "        \r\n",
    "    return True    \r\n",
    "        \r\n",
    "            \r\n",
    "        \r\n",
    "        "
   ],
   "outputs": [],
   "metadata": {}
  },
  {
   "cell_type": "code",
   "execution_count": 22,
   "source": [
    "def player_choice(board):\r\n",
    "    \r\n",
    "    positon = 0\r\n",
    "    \r\n",
    "    \r\n",
    "    while positon not in range(1,10) or not space_check(board,positon):\r\n",
    "        positon = int(input(\"Enter the positon on the board form (1 - 9) : \"))\r\n",
    "        \r\n",
    "        if positon not in range(1,10):\r\n",
    "            print(\"please enter the valid input\")\r\n",
    "            \r\n",
    "    return(positon)         \r\n",
    "            \r\n",
    "            \r\n",
    " "
   ],
   "outputs": [],
   "metadata": {}
  },
  {
   "cell_type": "code",
   "execution_count": 23,
   "source": [
    "def replay():\r\n",
    "    \r\n",
    "    choice = input(\"please enter if you want to play the game ( 'Y' or 'N'): \")\r\n",
    "    \r\n",
    "    return choice == 'Yes'"
   ],
   "outputs": [],
   "metadata": {}
  },
  {
   "cell_type": "code",
   "execution_count": null,
   "source": [
    "print(\"Welcome to the tik tak toe \")\r\n",
    "\r\n",
    "while True:\r\n",
    "    \r\n",
    "    display_board(board)\r\n",
    "    player1_marker,player2_marker = player_input()\r\n",
    "    turn = choose_first()\r\n",
    "    print(turn + \"will go first\")\r\n",
    "    \r\n",
    "    play_game = input(\"ready to play ? 'Y' or 'N'? : \")\r\n",
    "    \r\n",
    "    if play_game == \"Y\":\r\n",
    "        game_on = True\r\n",
    "    else:\r\n",
    "        game_on = False\r\n",
    "        \r\n",
    "        \r\n",
    "    while game_on:\r\n",
    "        \r\n",
    "        if turn == \"player1\":\r\n",
    "            \r\n",
    "            display_board(board)\r\n",
    "            \r\n",
    "            position = player_choice(board)\r\n",
    "            \r\n",
    "            place_marker(board,player1_marker,position)\r\n",
    "            \r\n",
    "            if win_check(board,player1_marker):\r\n",
    "                display_board(board)\r\n",
    "                print(\"player1 you have won the game\")\r\n",
    "                game_on = False\r\n",
    "            else:\r\n",
    "                if full_board_check(board):\r\n",
    "                    display_board(board)\r\n",
    "                    print(\"TIE GAME!!\")\r\n",
    "                    game_on = False\r\n",
    "                else:\r\n",
    "                    turn = \"player2\"\r\n",
    "                    \r\n",
    "        else:\r\n",
    "            display_board(board)\r\n",
    "            \r\n",
    "            position = player_choice(board)\r\n",
    "            \r\n",
    "            place_marker(board,player2_marker,position)\r\n",
    "            \r\n",
    "            if win_check(board,player2_marker):\r\n",
    "                display_board(board)\r\n",
    "                print(\"player2 you have won the game\")\r\n",
    "                game_on = False\r\n",
    "            else:\r\n",
    "                if full_board_check(board):\r\n",
    "                    display_board(board)\r\n",
    "                    print(\"TIE GAME!!\")\r\n",
    "                    game_on = False\r\n",
    "                else:\r\n",
    "                    turn = \"player1\"  \r\n",
    "                    \r\n",
    "    if not replay():\r\n",
    "        break\r\n",
    "            \r\n",
    "            \r\n",
    "            \r\n",
    "                    \r\n",
    "                \r\n",
    "            \r\n",
    "        \r\n",
    "    \r\n",
    "    \r\n",
    "    \r\n",
    "    \r\n",
    "    \r\n",
    "    \r\n"
   ],
   "outputs": [],
   "metadata": {}
  },
  {
   "cell_type": "code",
   "execution_count": 1,
   "source": [
    "for i in range(10):\r\n",
    "    print(i)"
   ],
   "outputs": [
    {
     "output_type": "stream",
     "name": "stdout",
     "text": [
      "0\n",
      "1\n",
      "2\n",
      "3\n",
      "4\n",
      "5\n",
      "6\n",
      "7\n",
      "8\n",
      "9\n"
     ]
    }
   ],
   "metadata": {}
  },
  {
   "cell_type": "code",
   "execution_count": null,
   "source": [],
   "outputs": [],
   "metadata": {}
  },
  {
   "cell_type": "code",
   "execution_count": null,
   "source": [],
   "outputs": [],
   "metadata": {}
  },
  {
   "cell_type": "code",
   "execution_count": null,
   "source": [],
   "outputs": [],
   "metadata": {}
  },
  {
   "cell_type": "code",
   "execution_count": null,
   "source": [],
   "outputs": [],
   "metadata": {}
  },
  {
   "cell_type": "code",
   "execution_count": null,
   "source": [],
   "outputs": [],
   "metadata": {}
  },
  {
   "cell_type": "code",
   "execution_count": null,
   "source": [],
   "outputs": [],
   "metadata": {}
  },
  {
   "cell_type": "code",
   "execution_count": null,
   "source": [],
   "outputs": [],
   "metadata": {}
  },
  {
   "cell_type": "code",
   "execution_count": null,
   "source": [],
   "outputs": [],
   "metadata": {}
  },
  {
   "cell_type": "code",
   "execution_count": null,
   "source": [],
   "outputs": [],
   "metadata": {}
  },
  {
   "cell_type": "code",
   "execution_count": null,
   "source": [],
   "outputs": [],
   "metadata": {}
  },
  {
   "cell_type": "code",
   "execution_count": null,
   "source": [],
   "outputs": [],
   "metadata": {}
  },
  {
   "cell_type": "code",
   "execution_count": null,
   "source": [],
   "outputs": [],
   "metadata": {}
  }
 ],
 "metadata": {
  "kernelspec": {
   "name": "python3",
   "display_name": "Python 3.8.8 64-bit ('base': conda)"
  },
  "language_info": {
   "codemirror_mode": {
    "name": "ipython",
    "version": 3
   },
   "file_extension": ".py",
   "mimetype": "text/x-python",
   "name": "python",
   "nbconvert_exporter": "python",
   "pygments_lexer": "ipython3",
   "version": "3.8.8"
  },
  "interpreter": {
   "hash": "42588fd11209419b7c81abe23e31a1d2101f60811b02170c268e57ebb57d5d9a"
  }
 },
 "nbformat": 4,
 "nbformat_minor": 5
}