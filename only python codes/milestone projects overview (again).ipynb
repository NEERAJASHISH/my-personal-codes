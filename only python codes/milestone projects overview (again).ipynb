{
 "cells": [
  {
   "cell_type": "code",
   "execution_count": 5,
   "source": [
    "def user_choice():\n",
    "    \n",
    "    \n",
    "    choice = \" WRONG\"\n",
    "    acceptable_range = range(10)\n",
    "    within_range = False\n",
    "    \n",
    "    while choice.isdigit() == False or within_range  == False:\n",
    "        choice = input(\"Enter the number of your choice (1-10): \")\n",
    "        \n",
    "        \n",
    "        if choice.isdigit() == False:\n",
    "            print(\"please enter an valid input!!!\")\n",
    "            \n",
    "        if choice.isdigit() == True:\n",
    "            if int(choice) in acceptable_range:\n",
    "                within_range = True\n",
    "            else:\n",
    "                print(\"soory,list index out of range\")\n",
    "                within_range = False\n",
    "                \n",
    "                \n",
    "    return int(choice)        \n",
    "\n",
    "\n",
    "user_choice()\n",
    "                \n",
    "                \n",
    "               \n",
    "            \n",
    "            \n",
    "            \n",
    "            \n",
    "            \n",
    "            \n",
    "        \n",
    "            \n",
    "        \n",
    "            \n",
    "            \n",
    "            \n",
    "            \n",
    "            \n",
    "        "
   ],
   "outputs": [
    {
     "output_type": "stream",
     "name": "stdout",
     "text": [
      "Enter the number of your choice (1-10): 1\n"
     ]
    },
    {
     "output_type": "execute_result",
     "data": {
      "text/plain": [
       "1"
      ]
     },
     "metadata": {},
     "execution_count": 5
    }
   ],
   "metadata": {}
  },
  {
   "cell_type": "markdown",
   "source": [
    "# user list game"
   ],
   "metadata": {}
  },
  {
   "cell_type": "code",
   "execution_count": null,
   "source": [
    "# my own programme"
   ],
   "outputs": [],
   "metadata": {}
  },
  {
   "cell_type": "code",
   "execution_count": 7,
   "source": [
    "def user_input():\n",
    "    user_list = [1,2,3]\n",
    "    index_input = \"wrong\"\n",
    "    within_index = [0,1,2]\n",
    "    index_selected = False\n",
    "    game_on = True\n",
    "    next_game = True\n",
    "    \n",
    "    while next_game:\n",
    "        \n",
    "         while index_input.isdigit() == False or index_selected == False:\n",
    "                index_input = input(\"Please enter the index position of the user_list:  \")\n",
    "                index_value = input(\"please enter the value that you want to replace:   \")\n",
    "                \n",
    "                \n",
    "                \n",
    "                if index_input.isdigit() == False:\n",
    "                    print(\"Please enter an valid input!!!!\")\n",
    "                    \n",
    "                if index_input.isdigit() == True:\n",
    "                    if int(index_input) in within_index:\n",
    "                        index_selected = True\n",
    "                        \n",
    "                    else:\n",
    "                        print(\"please enter the correct index position:\")\n",
    "                        index_selected = False\n",
    "                        \n",
    "                        \n",
    "                while  game_on:\n",
    "                    if index_selected == True:\n",
    "                        user_list[int(index_input)] = index_value\n",
    "                        print(user_list)\n",
    "                        game_on = False\n",
    "                        next_game = False\n",
    "                        \n",
    "user_input()                        \n",
    "            \n",
    "    "
   ],
   "outputs": [
    {
     "output_type": "stream",
     "name": "stdout",
     "text": [
      "Please enter the index position of the user_list:  1\n",
      "please enter the value that you want to replace:   hello\n",
      "[1, 'hello', 3]\n"
     ]
    }
   ],
   "metadata": {
    "scrolled": true
   }
  },
  {
   "cell_type": "code",
   "execution_count": null,
   "source": [
    "# this is udemy programme"
   ],
   "outputs": [],
   "metadata": {}
  },
  {
   "cell_type": "code",
   "execution_count": 9,
   "source": [
    "def display_game(game_list):\n",
    "    print(\"Here is your current list {}\".format(game_list))\n",
    "    \n",
    "\n",
    "    \n",
    "    "
   ],
   "outputs": [],
   "metadata": {}
  },
  {
   "cell_type": "code",
   "execution_count": 10,
   "source": [
    "def index_choice():\n",
    "    \n",
    "    choice = \"wrong\"\n",
    "    \n",
    "    while choice not in [0,1,2]:\n",
    "        choice = int(input(\"Enter the index of your choice (0,1,2): \"))\n",
    "        \n",
    "        \n",
    "        \n",
    "        \n",
    "        if choice  not in [0,1,2]:\n",
    "            print(\"please enter a  valid input!!\")\n",
    "            \n",
    "    return(choice) \n",
    "\n",
    "#index_choice()\n",
    "\n",
    "\n",
    "        "
   ],
   "outputs": [],
   "metadata": {}
  },
  {
   "cell_type": "code",
   "execution_count": 11,
   "source": [
    "def user_replacement(game_list,choice):\n",
    "    \n",
    "    user_choice = input(\"Type a value to place at the given position: \")\n",
    "    \n",
    "    game_list[choice] =  user_choice\n",
    "    \n",
    "    return(game_list)\n",
    "\n",
    "\n",
    "\n",
    "    \n",
    "    "
   ],
   "outputs": [],
   "metadata": {}
  },
  {
   "cell_type": "code",
   "execution_count": 12,
   "source": [
    "def gameon_choice():\n",
    "    \n",
    "    choice = \"wrong\"\n",
    "    \n",
    "    while choice not in [\"Y\",\"N\"]:\n",
    "        choice = input(\"would you like to contine with the game ('Y','N'): \")\n",
    "        \n",
    "        if choice not in [\"Y\",\"N\"]:\n",
    "            print(\"please enter an valid input!!\")\n",
    "            \n",
    "    if choice == \"Y\":\n",
    "        return(True)\n",
    "    else:\n",
    "        return(False)\n",
    "    \n",
    "    \n",
    "#gameon_choice()    \n",
    "        \n",
    "        \n",
    "        \n",
    "        "
   ],
   "outputs": [],
   "metadata": {}
  },
  {
   "cell_type": "code",
   "execution_count": 13,
   "source": [
    "game_on = True\n",
    "game_list = [1,2,3]\n",
    "\n",
    "while game_on:\n",
    "    \n",
    "    display_game(game_list)\n",
    "    index = index_choice()\n",
    "    replacement = user_replacement(game_list,index)\n",
    "    display_game(replacement)\n",
    "    game_on = gameon_choice()\n",
    "    \n",
    "    \n",
    "    \n",
    "    \n",
    "    \n",
    "    \n",
    "    \n"
   ],
   "outputs": [
    {
     "output_type": "stream",
     "name": "stdout",
     "text": [
      "Here is your current list [1, 2, 3]\n",
      "Enter the index of your choice (0,1,2): 1\n",
      "Type a value to place at the given position: hello\n",
      "Here is your current list [1, 'hello', 3]\n",
      "would you like to contine with the game ('Y','N'): Y\n",
      "Here is your current list [1, 'hello', 3]\n",
      "Enter the index of your choice (0,1,2): 1\n",
      "Type a value to place at the given position: hello\n",
      "Here is your current list [1, 'hello', 3]\n",
      "would you like to contine with the game ('Y','N'): N\n"
     ]
    }
   ],
   "metadata": {}
  },
  {
   "cell_type": "code",
   "execution_count": 1,
   "source": [
    "print(\"hello\")"
   ],
   "outputs": [
    {
     "output_type": "stream",
     "name": "stdout",
     "text": [
      "hello\n"
     ]
    }
   ],
   "metadata": {}
  },
  {
   "cell_type": "code",
   "execution_count": 4,
   "source": [
    "def add(a,b):\n",
    "    return (a+b)\n",
    "add(5,6)"
   ],
   "outputs": [
    {
     "output_type": "execute_result",
     "data": {
      "text/plain": [
       "11"
      ]
     },
     "metadata": {},
     "execution_count": 4
    }
   ],
   "metadata": {}
  },
  {
   "cell_type": "code",
   "execution_count": 46,
   "source": [
    "import math\n",
    "p =  \" \"\n",
    "\n",
    "\n",
    "class area:\n",
    "    \n",
    "    def __init__(self,a,b):\n",
    "        self.a = a \n",
    "        self.b = b\n",
    "        \n",
    "        \n",
    "    def add(self):\n",
    "        return(math.sqrt(self.a+self.b))\n",
    "         \n",
    "         \n",
    "    \n",
    "            \n",
    "obj1 = area(2,3) \n",
    "print(obj1.add())\n",
    "    \n",
    "    \n",
    "    "
   ],
   "outputs": [
    {
     "output_type": "stream",
     "name": "stdout",
     "text": [
      "2.23606797749979\n"
     ]
    }
   ],
   "metadata": {}
  },
  {
   "cell_type": "markdown",
   "source": [
    "# TICK TAK TOE GAME"
   ],
   "metadata": {}
  },
  {
   "cell_type": "code",
   "execution_count": 14,
   "source": [
    "from IPython.display import clear_output\n",
    "def display_board(board):\n",
    "    clear_output()\n",
    "    \n",
    "    print(board[7]+ '|'+ board[8]+ '|' + board[9] )\n",
    "    print(\"-----\")\n",
    "    print(board[4]+ '|'+ board[5]+ '|' + board[6] )\n",
    "    print(\"-----\")\n",
    "    print(board[1]+ '|'+ board[2]+ '|' + board[3] )\n",
    "    print(\"-----\")\n",
    "    \n",
    "\n",
    "    "
   ],
   "outputs": [],
   "metadata": {}
  },
  {
   "cell_type": "code",
   "execution_count": 15,
   "source": [
    "board = [\"#\",\" \",\" \",\" \",\" \",\" \",\" \",\" \",\" \",\" \"]\n",
    "#display_board(board)"
   ],
   "outputs": [],
   "metadata": {}
  },
  {
   "cell_type": "code",
   "execution_count": 16,
   "source": [
    "def player_input():\n",
    "    \n",
    "    marker = \"wrong\"\n",
    "    \n",
    "    while marker not in [\"X\",\"O\"]:\n",
    "        \n",
    "        marker = input(\"Please choose ('X' or 'O'): \")\n",
    "        \n",
    "        \n",
    "        if marker not in [\"X\",\"O\"]:\n",
    "            print(\"please enter the valid input\")\n",
    "            \n",
    "    player1 = marker\n",
    "    \n",
    "    if player1 == \"X\":\n",
    "        player2 = \"O\"\n",
    "    else:\n",
    "        player2 = \"X\"\n",
    "        \n",
    "    return(player1,player2)    \n",
    "    \n",
    "    \n",
    "    \n",
    "    \n",
    "    \n",
    "    \n",
    "        \n",
    "        \n",
    "            \n",
    "        \n",
    "            \n",
    "#player_input()            \n",
    "            \n",
    "          \n",
    "        \n",
    "        \n",
    "    \n",
    "    "
   ],
   "outputs": [],
   "metadata": {}
  },
  {
   "cell_type": "code",
   "execution_count": 17,
   "source": [
    "def place_marker(board,marker,position):\n",
    "    \n",
    "    board[position] = marker\n",
    "    \n",
    "    \n",
    "#place_marker(board,\"X\",1)\n",
    "#display_board(board)"
   ],
   "outputs": [],
   "metadata": {}
  },
  {
   "cell_type": "code",
   "execution_count": 18,
   "source": [
    "def win_check(board,mark):\n",
    "    \n",
    "    return(\n",
    "        (board[7] == mark and board[8] == mark and board[9] == mark)or\n",
    "        (board[4] == mark and board[5] == mark and board[6] == mark)or\n",
    "        (board[1] == mark and board[2] == mark and board[3] == mark)or\n",
    "        (board[7] == mark and board[8] == mark and board[9] == mark)or\n",
    "        (board[4] == mark and board[5] == mark and board[6] == mark)or\n",
    "        (board[1] == mark and board[2] == mark and board[3] == mark)or\n",
    "        (board[7] == mark and board[5] == mark and board[3] == mark)or\n",
    "        (board[9] == mark and board[5] == mark and board[1] == mark)\n",
    "    \n",
    "    \n",
    "    )\n",
    "    \n",
    "    \n",
    "    \n",
    "    "
   ],
   "outputs": [],
   "metadata": {}
  },
  {
   "cell_type": "code",
   "execution_count": 19,
   "source": [
    "import random\n",
    "\n",
    "def  choose_first():\n",
    "    \n",
    "    flip = random.randint(0,1)\n",
    "    \n",
    "    if flip == 1:\n",
    "        return \"player1\"\n",
    "    else:\n",
    "        return \"player2\"\n",
    "        \n",
    "\n"
   ],
   "outputs": [],
   "metadata": {}
  },
  {
   "cell_type": "code",
   "execution_count": 20,
   "source": [
    "def space_check(board,position):\n",
    "    \n",
    "    return board[position] ==  \" \""
   ],
   "outputs": [],
   "metadata": {}
  },
  {
   "cell_type": "code",
   "execution_count": 21,
   "source": [
    "def full_board_check(board):\n",
    "    for i in range(1,10):\n",
    "        if space_check(board,i):\n",
    "            return False\n",
    "        \n",
    "    return True    \n",
    "        \n",
    "            \n",
    "        \n",
    "        "
   ],
   "outputs": [],
   "metadata": {}
  },
  {
   "cell_type": "code",
   "execution_count": 22,
   "source": [
    "def player_choice(board):\n",
    "    \n",
    "    positon = 0\n",
    "    \n",
    "    \n",
    "    while positon not in range(1,10) or not space_check(board,positon):\n",
    "        positon = int(input(\"Enter the positon on the board form (1 - 9) : \"))\n",
    "        \n",
    "        if positon not in range(1,10):\n",
    "            print(\"please enter the valid input\")\n",
    "            \n",
    "    return(positon)         \n",
    "            \n",
    "            \n",
    " "
   ],
   "outputs": [],
   "metadata": {}
  },
  {
   "cell_type": "code",
   "execution_count": 23,
   "source": [
    "def replay():\n",
    "    \n",
    "    choice = input(\"please enter if you want to play the game ( 'Y' or 'N'): \")\n",
    "    \n",
    "    return choice == 'Yes'"
   ],
   "outputs": [],
   "metadata": {}
  },
  {
   "cell_type": "code",
   "execution_count": null,
   "source": [
    "print(\"Welcome to the tik tak toe \")\r\n",
    "\r\n",
    "while True:\r\n",
    "    \r\n",
    "    display_board(board)\r\n",
    "    player1_marker,player2_marker = player_input()\r\n",
    "    turn = choose_first()\r\n",
    "    print(turn + \"will go first\")\r\n",
    "    \r\n",
    "    play_game = input(\"ready to play ? 'Y' or 'N'? : \")\r\n",
    "    \r\n",
    "    if play_game == \"Y\":\r\n",
    "        game_on = True\r\n",
    "    else:\r\n",
    "        game_on = False\r\n",
    "        \r\n",
    "        \r\n",
    "    while game_on:\r\n",
    "        \r\n",
    "        if turn == \"player1\":\r\n",
    "            \r\n",
    "            display_board(board)\r\n",
    "            \r\n",
    "            position = player_choice(board)\r\n",
    "            \r\n",
    "            place_marker(board,player1_marker,position)\r\n",
    "            \r\n",
    "            if win_check(board,player1_marker):\r\n",
    "                display_board(board)\r\n",
    "                print(\"player1 you have won the game\")\r\n",
    "                game_on = False\r\n",
    "            else:\r\n",
    "                if full_board_check(board):\r\n",
    "                    display_board(board)\r\n",
    "                    print(\"TIE GAME!!\")\r\n",
    "                    game_on = False\r\n",
    "                else:\r\n",
    "                    turn = \"player2\"\r\n",
    "                    \r\n",
    "        else:\r\n",
    "            display_board(board)\r\n",
    "            \r\n",
    "            position = player_choice(board)\r\n",
    "            \r\n",
    "            place_marker(board,player2_marker,position)\r\n",
    "            \r\n",
    "            if win_check(board,player2_marker):\r\n",
    "                display_board(board)\r\n",
    "                print(\"player2 you have won the game\")\r\n",
    "                game_on = False\r\n",
    "            else:\r\n",
    "                if full_board_check(board):\r\n",
    "                    display_board(board)\r\n",
    "                    print(\"TIE GAME!!\")\r\n",
    "                    game_on = False\r\n",
    "                else:\r\n",
    "                    turn = \"player1\"  \r\n",
    "                    \r\n",
    "    if not replay():\r\n",
    "        break\r\n",
    "            \r\n",
    "            \r\n",
    "            \r\n",
    "                    \r\n",
    "                \r\n",
    "            \r\n",
    "        \r\n",
    "    \r\n",
    "    \r\n",
    "    \r\n",
    "    \r\n",
    "    \r\n",
    "    \r\n"
   ],
   "outputs": [],
   "metadata": {}
  },
  {
   "cell_type": "markdown",
   "source": [
    "# This is the intheriance of the class from onr class to onther class"
   ],
   "metadata": {}
  },
  {
   "cell_type": "code",
   "execution_count": 19,
   "source": [
    "class animal():\r\n",
    "\r\n",
    "    def __init__(self) -> None:\r\n",
    "        print(\"hello iam an animal\")\r\n",
    "        \r\n",
    "\r\n",
    "    def name(self):\r\n",
    "        print(\"Hello iam an animal!! \")\r\n",
    "\r\n",
    "\r\n",
    "    def age(self):\r\n",
    "        print(\"my age is 10 \")\r\n",
    "\r\n",
    "\r\n",
    "\r\n",
    "\r\n",
    "\r\n",
    "\r\n",
    "\r\n",
    "\r\n",
    "        \r\n",
    "\r\n",
    "    "
   ],
   "outputs": [],
   "metadata": {}
  },
  {
   "cell_type": "code",
   "execution_count": 25,
   "source": [
    "class charecter(animal):\r\n",
    "\r\n",
    "    def __init__(self) -> None:\r\n",
    "        animal.__init__(self)\r\n",
    "        print(\"dog created\")\r\n",
    "\r\n",
    "    def who_am_i(self):\r\n",
    "        print(\"hello iam an neerajs dog\")  \r\n",
    "\r\n",
    "\r\n",
    "mydog = charecter()         \r\n",
    "mydog.name()\r\n",
    "mydog.age()\r\n",
    "\r\n",
    "    "
   ],
   "outputs": [
    {
     "output_type": "stream",
     "name": "stdout",
     "text": [
      "hello iam an animal\n",
      "dog created\n",
      "Hello iam an animal!! \n",
      "my age is 10 \n"
     ]
    }
   ],
   "metadata": {}
  },
  {
   "cell_type": "code",
   "execution_count": null,
   "source": [],
   "outputs": [],
   "metadata": {}
  },
  {
   "cell_type": "code",
   "execution_count": null,
   "source": [],
   "outputs": [],
   "metadata": {}
  },
  {
   "cell_type": "code",
   "execution_count": null,
   "source": [],
   "outputs": [],
   "metadata": {}
  },
  {
   "cell_type": "code",
   "execution_count": null,
   "source": [],
   "outputs": [],
   "metadata": {}
  },
  {
   "cell_type": "code",
   "execution_count": null,
   "source": [],
   "outputs": [],
   "metadata": {}
  },
  {
   "cell_type": "code",
   "execution_count": null,
   "source": [],
   "outputs": [],
   "metadata": {}
  },
  {
   "cell_type": "code",
   "execution_count": null,
   "source": [],
   "outputs": [],
   "metadata": {}
  },
  {
   "cell_type": "code",
   "execution_count": null,
   "source": [],
   "outputs": [],
   "metadata": {}
  },
  {
   "cell_type": "code",
   "execution_count": null,
   "source": [],
   "outputs": [],
   "metadata": {}
  }
 ],
 "metadata": {
  "interpreter": {
   "hash": "42588fd11209419b7c81abe23e31a1d2101f60811b02170c268e57ebb57d5d9a"
  },
  "kernelspec": {
   "name": "python3",
   "display_name": "Python 3.8.8 64-bit ('base': conda)"
  },
  "language_info": {
   "codemirror_mode": {
    "name": "ipython",
    "version": 3
   },
   "file_extension": ".py",
   "mimetype": "text/x-python",
   "name": "python",
   "nbconvert_exporter": "python",
   "pygments_lexer": "ipython3",
   "version": "3.8.8"
  }
 },
 "nbformat": 4,
 "nbformat_minor": 5
}