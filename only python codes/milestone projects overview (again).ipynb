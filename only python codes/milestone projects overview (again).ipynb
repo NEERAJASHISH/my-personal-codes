{
 "cells": [
  {
   "cell_type": "code",
   "execution_count": 5,
   "id": "608cfc20",
   "metadata": {},
   "outputs": [
    {
     "name": "stdout",
     "output_type": "stream",
     "text": [
      "Enter the number of your choice (1-10): 1\n"
     ]
    },
    {
     "data": {
      "text/plain": [
       "1"
      ]
     },
     "execution_count": 5,
     "metadata": {},
     "output_type": "execute_result"
    }
   ],
   "source": [
    "def user_choice():\n",
    "    \n",
    "    \n",
    "    choice = \" WRONG\"\n",
    "    acceptable_range = range(10)\n",
    "    within_range = False\n",
    "    \n",
    "    while choice.isdigit() == False or within_range  == False:\n",
    "        choice = input(\"Enter the number of your choice (1-10): \")\n",
    "        \n",
    "        \n",
    "        if choice.isdigit() == False:\n",
    "            print(\"please enter an valid input!!!\")\n",
    "            \n",
    "        if choice.isdigit() == True:\n",
    "            if int(choice) in acceptable_range:\n",
    "                within_range = True\n",
    "            else:\n",
    "                print(\"soory,list index out of range\")\n",
    "                within_range = False\n",
    "                \n",
    "                \n",
    "    return int(choice)        \n",
    "\n",
    "\n",
    "user_choice()\n",
    "                \n",
    "                \n",
    "               \n",
    "            \n",
    "            \n",
    "            \n",
    "            \n",
    "            \n",
    "            \n",
    "        \n",
    "            \n",
    "        \n",
    "            \n",
    "            \n",
    "            \n",
    "            \n",
    "            \n",
    "        "
   ]
  },
  {
   "cell_type": "markdown",
   "id": "f08981cb",
   "metadata": {},
   "source": [
    "# user list game"
   ]
  },
  {
   "cell_type": "code",
   "execution_count": null,
   "id": "253f41ea",
   "metadata": {},
   "outputs": [],
   "source": [
    "# my own programme"
   ]
  },
  {
   "cell_type": "code",
   "execution_count": 7,
   "id": "6317d320",
   "metadata": {
    "scrolled": true
   },
   "outputs": [
    {
     "name": "stdout",
     "output_type": "stream",
     "text": [
      "Please enter the index position of the user_list:  1\n",
      "please enter the value that you want to replace:   hello\n",
      "[1, 'hello', 3]\n"
     ]
    }
   ],
   "source": [
    "def user_input():\n",
    "    user_list = [1,2,3]\n",
    "    index_input = \"wrong\"\n",
    "    within_index = [0,1,2]\n",
    "    index_selected = False\n",
    "    game_on = True\n",
    "    next_game = True\n",
    "    \n",
    "    while next_game:\n",
    "        \n",
    "         while index_input.isdigit() == False or index_selected == False:\n",
    "                index_input = input(\"Please enter the index position of the user_list:  \")\n",
    "                index_value = input(\"please enter the value that you want to replace:   \")\n",
    "                \n",
    "                \n",
    "                \n",
    "                if index_input.isdigit() == False:\n",
    "                    print(\"Please enter an valid input!!!!\")\n",
    "                    \n",
    "                if index_input.isdigit() == True:\n",
    "                    if int(index_input) in within_index:\n",
    "                        index_selected = True\n",
    "                        \n",
    "                    else:\n",
    "                        print(\"please enter the correct index position:\")\n",
    "                        index_selected = False\n",
    "                        \n",
    "                        \n",
    "                while  game_on:\n",
    "                    if index_selected == True:\n",
    "                        user_list[int(index_input)] = index_value\n",
    "                        print(user_list)\n",
    "                        game_on = False\n",
    "                        next_game = False\n",
    "                        \n",
    "user_input()                        \n",
    "            \n",
    "    "
   ]
  },
  {
   "cell_type": "code",
   "execution_count": null,
   "id": "6c6870bb",
   "metadata": {},
   "outputs": [],
   "source": [
    "# this is udemy programme"
   ]
  },
  {
   "cell_type": "code",
   "execution_count": 9,
   "id": "83e188d5",
   "metadata": {},
   "outputs": [],
   "source": [
    "def display_game(game_list):\n",
    "    print(\"Here is your current list {}\".format(game_list))\n",
    "    \n",
    "\n",
    "    \n",
    "    "
   ]
  },
  {
   "cell_type": "code",
   "execution_count": 10,
   "id": "76155b83",
   "metadata": {},
   "outputs": [],
   "source": [
    "def index_choice():\n",
    "    \n",
    "    choice = \"wrong\"\n",
    "    \n",
    "    while choice not in [0,1,2]:\n",
    "        choice = int(input(\"Enter the index of your choice (0,1,2): \"))\n",
    "        \n",
    "        \n",
    "        \n",
    "        \n",
    "        if choice  not in [0,1,2]:\n",
    "            print(\"please enter a  valid input!!\")\n",
    "            \n",
    "    return(choice) \n",
    "\n",
    "#index_choice()\n",
    "\n",
    "\n",
    "        "
   ]
  },
  {
   "cell_type": "code",
   "execution_count": 11,
   "id": "794c0db1",
   "metadata": {},
   "outputs": [],
   "source": [
    "def user_replacement(game_list,choice):\n",
    "    \n",
    "    user_choice = input(\"Type a value to place at the given position: \")\n",
    "    \n",
    "    game_list[choice] =  user_choice\n",
    "    \n",
    "    return(game_list)\n",
    "\n",
    "\n",
    "\n",
    "    \n",
    "    "
   ]
  },
  {
   "cell_type": "code",
   "execution_count": 12,
   "id": "98a42498",
   "metadata": {},
   "outputs": [],
   "source": [
    "def gameon_choice():\n",
    "    \n",
    "    choice = \"wrong\"\n",
    "    \n",
    "    while choice not in [\"Y\",\"N\"]:\n",
    "        choice = input(\"would you like to contine with the game ('Y','N'): \")\n",
    "        \n",
    "        if choice not in [\"Y\",\"N\"]:\n",
    "            print(\"please enter an valid input!!\")\n",
    "            \n",
    "    if choice == \"Y\":\n",
    "        return(True)\n",
    "    else:\n",
    "        return(False)\n",
    "    \n",
    "    \n",
    "#gameon_choice()    \n",
    "        \n",
    "        \n",
    "        \n",
    "        "
   ]
  },
  {
   "cell_type": "code",
   "execution_count": 13,
   "id": "7db28333",
   "metadata": {},
   "outputs": [
    {
     "name": "stdout",
     "output_type": "stream",
     "text": [
      "Here is your current list [1, 2, 3]\n",
      "Enter the index of your choice (0,1,2): 1\n",
      "Type a value to place at the given position: hello\n",
      "Here is your current list [1, 'hello', 3]\n",
      "would you like to contine with the game ('Y','N'): Y\n",
      "Here is your current list [1, 'hello', 3]\n",
      "Enter the index of your choice (0,1,2): 1\n",
      "Type a value to place at the given position: hello\n",
      "Here is your current list [1, 'hello', 3]\n",
      "would you like to contine with the game ('Y','N'): N\n"
     ]
    }
   ],
   "source": [
    "game_on = True\n",
    "game_list = [1,2,3]\n",
    "\n",
    "while game_on:\n",
    "    \n",
    "    display_game(game_list)\n",
    "    index = index_choice()\n",
    "    replacement = user_replacement(game_list,index)\n",
    "    display_game(replacement)\n",
    "    game_on = gameon_choice()\n",
    "    \n",
    "    \n",
    "    \n",
    "    \n",
    "    \n",
    "    \n",
    "    \n"
   ]
  },
  {
   "cell_type": "code",
   "execution_count": 1,
   "id": "807e48b9",
   "metadata": {},
   "outputs": [
    {
     "name": "stdout",
     "output_type": "stream",
     "text": [
      "hello\n"
     ]
    }
   ],
   "source": [
    "print(\"hello\")"
   ]
  },
  {
   "cell_type": "code",
   "execution_count": 4,
   "id": "ea482053",
   "metadata": {},
   "outputs": [
    {
     "data": {
      "text/plain": [
       "11"
      ]
     },
     "execution_count": 4,
     "metadata": {},
     "output_type": "execute_result"
    }
   ],
   "source": [
    "def add(a,b):\n",
    "    return (a+b)\n",
    "add(5,6)"
   ]
  },
  {
   "cell_type": "code",
   "execution_count": 46,
   "id": "877b2dbc",
   "metadata": {},
   "outputs": [
    {
     "name": "stdout",
     "output_type": "stream",
     "text": [
      "2.23606797749979\n"
     ]
    }
   ],
   "source": [
    "import math\n",
    "p =  \" \"\n",
    "\n",
    "\n",
    "class area:\n",
    "    \n",
    "    def __init__(self,a,b):\n",
    "        self.a = a \n",
    "        self.b = b\n",
    "        \n",
    "        \n",
    "    def add(self):\n",
    "        return(math.sqrt(self.a+self.b))\n",
    "         \n",
    "         \n",
    "    \n",
    "            \n",
    "obj1 = area(2,3) \n",
    "print(obj1.add())\n",
    "    \n",
    "    \n",
    "    "
   ]
  },
  {
   "cell_type": "markdown",
   "id": "e581619d",
   "metadata": {},
   "source": [
    "# TICK TAK TOE GAME"
   ]
  },
  {
   "cell_type": "code",
   "execution_count": 14,
   "id": "2d3d3be7",
   "metadata": {},
   "outputs": [],
   "source": [
    "from IPython.display import clear_output\n",
    "def display_board(board):\n",
    "    clear_output()\n",
    "    \n",
    "    print(board[7]+ '|'+ board[8]+ '|' + board[9] )\n",
    "    print(\"-----\")\n",
    "    print(board[4]+ '|'+ board[5]+ '|' + board[6] )\n",
    "    print(\"-----\")\n",
    "    print(board[1]+ '|'+ board[2]+ '|' + board[3] )\n",
    "    print(\"-----\")\n",
    "    \n",
    "\n",
    "    "
   ]
  },
  {
   "cell_type": "code",
   "execution_count": 15,
   "id": "262b2dbd",
   "metadata": {},
   "outputs": [],
   "source": [
    "board = [\"#\",\" \",\" \",\" \",\" \",\" \",\" \",\" \",\" \",\" \"]\n",
    "#display_board(board)"
   ]
  },
  {
   "cell_type": "code",
   "execution_count": 16,
   "id": "540dbbac",
   "metadata": {},
   "outputs": [],
   "source": [
    "def player_input():\n",
    "    \n",
    "    marker = \"wrong\"\n",
    "    \n",
    "    while marker not in [\"X\",\"O\"]:\n",
    "        \n",
    "        marker = input(\"Please choose ('X' or 'O'): \")\n",
    "        \n",
    "        \n",
    "        if marker not in [\"X\",\"O\"]:\n",
    "            print(\"please enter the valid input\")\n",
    "            \n",
    "    player1 = marker\n",
    "    \n",
    "    if player1 == \"X\":\n",
    "        player2 = \"O\"\n",
    "    else:\n",
    "        player2 = \"X\"\n",
    "        \n",
    "    return(player1,player2)    \n",
    "    \n",
    "    \n",
    "    \n",
    "    \n",
    "    \n",
    "    \n",
    "        \n",
    "        \n",
    "            \n",
    "        \n",
    "            \n",
    "#player_input()            \n",
    "            \n",
    "          \n",
    "        \n",
    "        \n",
    "    \n",
    "    "
   ]
  },
  {
   "cell_type": "code",
   "execution_count": 17,
   "id": "86c60d05",
   "metadata": {},
   "outputs": [],
   "source": [
    "def place_marker(board,marker,position):\n",
    "    \n",
    "    board[position] = marker\n",
    "    \n",
    "    \n",
    "#place_marker(board,\"X\",1)\n",
    "#display_board(board)"
   ]
  },
  {
   "cell_type": "code",
   "execution_count": 18,
   "id": "a588271d",
   "metadata": {},
   "outputs": [],
   "source": [
    "def win_check(board,mark):\n",
    "    \n",
    "    return(\n",
    "        (board[7] == mark and board[8] == mark and board[9] == mark)or\n",
    "        (board[4] == mark and board[5] == mark and board[6] == mark)or\n",
    "        (board[1] == mark and board[2] == mark and board[3] == mark)or\n",
    "        (board[7] == mark and board[8] == mark and board[9] == mark)or\n",
    "        (board[4] == mark and board[5] == mark and board[6] == mark)or\n",
    "        (board[1] == mark and board[2] == mark and board[3] == mark)or\n",
    "        (board[7] == mark and board[5] == mark and board[3] == mark)or\n",
    "        (board[9] == mark and board[5] == mark and board[1] == mark)\n",
    "    \n",
    "    \n",
    "    )\n",
    "    \n",
    "    \n",
    "    \n",
    "    "
   ]
  },
  {
   "cell_type": "code",
   "execution_count": 19,
   "id": "189ec1a7",
   "metadata": {},
   "outputs": [],
   "source": [
    "import random\n",
    "\n",
    "def  choose_first():\n",
    "    \n",
    "    flip = random.randint(0,1)\n",
    "    \n",
    "    if flip == 1:\n",
    "        return \"player1\"\n",
    "    else:\n",
    "        return \"player2\"\n",
    "        \n",
    "\n"
   ]
  },
  {
   "cell_type": "code",
   "execution_count": 20,
   "id": "68da8b85",
   "metadata": {},
   "outputs": [],
   "source": [
    "def space_check(board,position):\n",
    "    \n",
    "    return board[position] ==  \" \""
   ]
  },
  {
   "cell_type": "code",
   "execution_count": 21,
   "id": "835ac927",
   "metadata": {},
   "outputs": [],
   "source": [
    "def full_board_check(board):\n",
    "    for i in range(1,10):\n",
    "        if space_check(board,i):\n",
    "            return False\n",
    "        \n",
    "    return True    \n",
    "        \n",
    "            \n",
    "        \n",
    "        "
   ]
  },
  {
   "cell_type": "code",
   "execution_count": 22,
   "id": "9e461124",
   "metadata": {},
   "outputs": [],
   "source": [
    "def player_choice(board):\n",
    "    \n",
    "    positon = 0\n",
    "    \n",
    "    \n",
    "    while positon not in range(1,10) or not space_check(board,positon):\n",
    "        positon = int(input(\"Enter the positon on the board form (1 - 9) : \"))\n",
    "        \n",
    "        if positon not in range(1,10):\n",
    "            print(\"please enter the valid input\")\n",
    "            \n",
    "    return(positon)         \n",
    "            \n",
    "            \n",
    " "
   ]
  },
  {
   "cell_type": "code",
   "execution_count": 23,
   "id": "a32eed9b",
   "metadata": {},
   "outputs": [],
   "source": [
    "def replay():\n",
    "    \n",
    "    choice = input(\"please enter if you want to play the game ( 'Y' or 'N'): \")\n",
    "    \n",
    "    return choice == 'Yes'"
   ]
  },
  {
   "cell_type": "code",
   "execution_count": null,
   "id": "16930d1e",
   "metadata": {},
   "outputs": [],
   "source": [
    "print(\"Welcome to the tik tak toe \")\n",
    "\n",
    "while True:\n",
    "    \n",
    "    display_board(board)\n",
    "    player1_marker,player2_marker = player_input()\n",
    "    turn = choose_first()\n",
    "    print(turn + \"will go first\")\n",
    "    \n",
    "    play_game = input(\"ready to play ? 'Y' or 'N'? : \")\n",
    "    \n",
    "    if play_game == \"Y\":\n",
    "        game_on = True\n",
    "    else:\n",
    "        game_on = False\n",
    "        \n",
    "        \n",
    "    while game_on:\n",
    "        \n",
    "        if turn == \"player1\":\n",
    "            \n",
    "            display_board(board)\n",
    "            \n",
    "            position = player_choice(board)\n",
    "            \n",
    "            place_marker(board,player1_marker,position)\n",
    "            \n",
    "            if win_check(board,player1_marker):\n",
    "                display_board(board)\n",
    "                print(\"player1 you have won the game\")\n",
    "                game_on = False\n",
    "            else:\n",
    "                if full_board_check(board):\n",
    "                    display_board(board)\n",
    "                    print(\"TIE GAME!!\")\n",
    "                    game_on = False\n",
    "                else:\n",
    "                    turn = \"player2\"\n",
    "                    \n",
    "        else:\n",
    "            display_board(board)\n",
    "            \n",
    "            position = player_choice(board)\n",
    "            \n",
    "            place_marker(board,player2_marker,position)\n",
    "            \n",
    "            if win_check(board,player2_marker):\n",
    "                display_board(board)\n",
    "                print(\"player2 you have won the game\")\n",
    "                game_on = False\n",
    "            else:\n",
    "                if full_board_check(board):\n",
    "                    display_board(board)\n",
    "                    print(\"TIE GAME!!\")\n",
    "                    game_on = False\n",
    "                else:\n",
    "                    turn = \"player1\"  \n",
    "                    \n",
    "    if not replay():\n",
    "        break\n",
    "            \n",
    "            \n",
    "            \n",
    "                    \n",
    "                \n",
    "            \n",
    "        \n",
    "    \n",
    "    \n",
    "    \n",
    "    \n",
    "    \n",
    "    \n"
   ]
  },
  {
   "cell_type": "code",
   "execution_count": 1,
   "id": "192f0651",
   "metadata": {},
   "outputs": [
    {
     "name": "stdout",
     "output_type": "stream",
     "text": [
      "0\n",
      "1\n",
      "2\n",
      "3\n",
      "4\n",
      "5\n",
      "6\n",
      "7\n",
      "8\n",
      "9\n"
     ]
    }
   ],
   "source": [
    "for i in range(10):\n",
    "    print(i)"
   ]
  },
  {
   "cell_type": "code",
   "execution_count": 1,
   "id": "14f5774e",
   "metadata": {},
   "outputs": [
    {
     "name": "stdout",
     "output_type": "stream",
     "text": [
      "this code is edited in the jupyter note book\n"
     ]
    }
   ],
   "source": [
    "print(\"this code is edited in the jupyter note book\")"
   ]
  },
  {
   "cell_type": "code",
   "execution_count": null,
   "id": "c3c9ade1",
   "metadata": {},
   "outputs": [],
   "source": []
  },
  {
   "cell_type": "code",
   "execution_count": null,
   "id": "3978f575",
   "metadata": {},
   "outputs": [],
   "source": []
  },
  {
   "cell_type": "code",
   "execution_count": null,
   "id": "a286544d",
   "metadata": {},
   "outputs": [],
   "source": []
  },
  {
   "cell_type": "code",
   "execution_count": null,
   "id": "fff07707",
   "metadata": {},
   "outputs": [],
   "source": []
  },
  {
   "cell_type": "code",
   "execution_count": null,
   "id": "441c11ac",
   "metadata": {},
   "outputs": [],
   "source": []
  },
  {
   "cell_type": "code",
   "execution_count": null,
   "id": "68fa87f7",
   "metadata": {},
   "outputs": [],
   "source": []
  },
  {
   "cell_type": "code",
   "execution_count": null,
   "id": "ba8e6588",
   "metadata": {},
   "outputs": [],
   "source": []
  },
  {
   "cell_type": "code",
   "execution_count": null,
   "id": "caa45f1a",
   "metadata": {},
   "outputs": [],
   "source": []
  },
  {
   "cell_type": "code",
   "execution_count": null,
   "id": "e73dffc8",
   "metadata": {},
   "outputs": [],
   "source": []
  },
  {
   "cell_type": "code",
   "execution_count": null,
   "id": "50f41b87",
   "metadata": {},
   "outputs": [],
   "source": []
  },
  {
   "cell_type": "code",
   "execution_count": null,
   "id": "c51035ff",
   "metadata": {},
   "outputs": [],
   "source": []
  }
 ],
 "metadata": {
  "interpreter": {
   "hash": "42588fd11209419b7c81abe23e31a1d2101f60811b02170c268e57ebb57d5d9a"
  },
  "kernelspec": {
   "display_name": "Python 3",
   "language": "python",
   "name": "python3"
  },
  "language_info": {
   "codemirror_mode": {
    "name": "ipython",
    "version": 3
   },
   "file_extension": ".py",
   "mimetype": "text/x-python",
   "name": "python",
   "nbconvert_exporter": "python",
   "pygments_lexer": "ipython3",
   "version": "3.8.8"
  }
 },
 "nbformat": 4,
 "nbformat_minor": 5
}
