{
 "cells": [
  {
   "cell_type": "code",
   "execution_count": 5,
   "metadata": {},
   "outputs": [
    {
     "name": "stdout",
     "output_type": "stream",
     "text": [
      "Enter the number of your choice (1-10): 1\n"
     ]
    },
    {
     "data": {
      "text/plain": [
       "1"
      ]
     },
     "execution_count": 5,
     "metadata": {},
     "output_type": "execute_result"
    }
   ],
   "source": [
    "def user_choice():\n",
    "    \n",
    "    \n",
    "    choice = \" WRONG\"\n",
    "    acceptable_range = range(10)\n",
    "    within_range = False\n",
    "    \n",
    "    while choice.isdigit() == False or within_range  == False:\n",
    "        choice = input(\"Enter the number of your choice (1-10): \")\n",
    "        \n",
    "        \n",
    "        if choice.isdigit() == False:\n",
    "            print(\"please enter an valid input!!!\")\n",
    "            \n",
    "        if choice.isdigit() == True:\n",
    "            if int(choice) in acceptable_range:\n",
    "                within_range = True\n",
    "            else:\n",
    "                print(\"soory,list index out of range\")\n",
    "                within_range = False\n",
    "                \n",
    "                \n",
    "    return int(choice)        \n",
    "\n",
    "\n",
    "user_choice()\n",
    "                \n",
    "                \n",
    "               \n",
    "            \n",
    "            \n",
    "            \n",
    "            \n",
    "            \n",
    "            \n",
    "        \n",
    "            \n",
    "        \n",
    "            \n",
    "            \n",
    "            \n",
    "            \n",
    "            \n",
    "        "
   ]
  },
  {
   "cell_type": "markdown",
   "metadata": {},
   "source": [
    "# user list game"
   ]
  },
  {
   "cell_type": "code",
   "execution_count": null,
   "metadata": {},
   "outputs": [],
   "source": [
    "# my own programme"
   ]
  },
  {
   "cell_type": "code",
   "execution_count": 7,
   "metadata": {
    "scrolled": true
   },
   "outputs": [
    {
     "name": "stdout",
     "output_type": "stream",
     "text": [
      "Please enter the index position of the user_list:  1\n",
      "please enter the value that you want to replace:   hello\n",
      "[1, 'hello', 3]\n"
     ]
    }
   ],
   "source": [
    "def user_input():\n",
    "    user_list = [1,2,3]\n",
    "    index_input = \"wrong\"\n",
    "    within_index = [0,1,2]\n",
    "    index_selected = False\n",
    "    game_on = True\n",
    "    next_game = True\n",
    "    \n",
    "    while next_game:\n",
    "        \n",
    "         while index_input.isdigit() == False or index_selected == False:\n",
    "                index_input = input(\"Please enter the index position of the user_list:  \")\n",
    "                index_value = input(\"please enter the value that you want to replace:   \")\n",
    "                \n",
    "                \n",
    "                \n",
    "                if index_input.isdigit() == False:\n",
    "                    print(\"Please enter an valid input!!!!\")\n",
    "                    \n",
    "                if index_input.isdigit() == True:\n",
    "                    if int(index_input) in within_index:\n",
    "                        index_selected = True\n",
    "                        \n",
    "                    else:\n",
    "                        print(\"please enter the correct index position:\")\n",
    "                        index_selected = False\n",
    "                        \n",
    "                        \n",
    "                while  game_on:\n",
    "                    if index_selected == True:\n",
    "                        user_list[int(index_input)] = index_value\n",
    "                        print(user_list)\n",
    "                        game_on = False\n",
    "                        next_game = False\n",
    "                        \n",
    "user_input()                        \n",
    "            \n",
    "    "
   ]
  },
  {
   "cell_type": "code",
   "execution_count": null,
   "metadata": {},
   "outputs": [],
   "source": [
    "# this is udemy programme"
   ]
  },
  {
   "cell_type": "code",
   "execution_count": 9,
   "metadata": {},
   "outputs": [],
   "source": [
    "def display_game(game_list):\n",
    "    print(\"Here is your current list {}\".format(game_list))\n",
    "    \n",
    "\n",
    "    \n",
    "    "
   ]
  },
  {
   "cell_type": "code",
   "execution_count": 10,
   "metadata": {},
   "outputs": [],
   "source": [
    "def index_choice():\n",
    "    \n",
    "    choice = \"wrong\"\n",
    "    \n",
    "    while choice not in [0,1,2]:\n",
    "        choice = int(input(\"Enter the index of your choice (0,1,2): \"))\n",
    "        \n",
    "        \n",
    "        \n",
    "        \n",
    "        if choice  not in [0,1,2]:\n",
    "            print(\"please enter a  valid input!!\")\n",
    "            \n",
    "    return(choice) \n",
    "\n",
    "#index_choice()\n",
    "\n",
    "\n",
    "        "
   ]
  },
  {
   "cell_type": "code",
   "execution_count": 11,
   "metadata": {},
   "outputs": [],
   "source": [
    "def user_replacement(game_list,choice):\n",
    "    \n",
    "    user_choice = input(\"Type a value to place at the given position: \")\n",
    "    \n",
    "    game_list[choice] =  user_choice\n",
    "    \n",
    "    return(game_list)\n",
    "\n",
    "\n",
    "\n",
    "    \n",
    "    "
   ]
  },
  {
   "cell_type": "code",
   "execution_count": 12,
   "metadata": {},
   "outputs": [],
   "source": [
    "def gameon_choice():\n",
    "    \n",
    "    choice = \"wrong\"\n",
    "    \n",
    "    while choice not in [\"Y\",\"N\"]:\n",
    "        choice = input(\"would you like to contine with the game ('Y','N'): \")\n",
    "        \n",
    "        if choice not in [\"Y\",\"N\"]:\n",
    "            print(\"please enter an valid input!!\")\n",
    "            \n",
    "    if choice == \"Y\":\n",
    "        return(True)\n",
    "    else:\n",
    "        return(False)\n",
    "    \n",
    "    \n",
    "#gameon_choice()    \n",
    "        \n",
    "        \n",
    "        \n",
    "        "
   ]
  },
  {
   "cell_type": "code",
   "execution_count": 13,
   "metadata": {},
   "outputs": [
    {
     "name": "stdout",
     "output_type": "stream",
     "text": [
      "Here is your current list [1, 2, 3]\n",
      "Enter the index of your choice (0,1,2): 1\n",
      "Type a value to place at the given position: hello\n",
      "Here is your current list [1, 'hello', 3]\n",
      "would you like to contine with the game ('Y','N'): Y\n",
      "Here is your current list [1, 'hello', 3]\n",
      "Enter the index of your choice (0,1,2): 1\n",
      "Type a value to place at the given position: hello\n",
      "Here is your current list [1, 'hello', 3]\n",
      "would you like to contine with the game ('Y','N'): N\n"
     ]
    }
   ],
   "source": [
    "game_on = True\n",
    "game_list = [1,2,3]\n",
    "\n",
    "while game_on:\n",
    "    \n",
    "    display_game(game_list)\n",
    "    index = index_choice()\n",
    "    replacement = user_replacement(game_list,index)\n",
    "    display_game(replacement)\n",
    "    game_on = gameon_choice()\n",
    "    \n",
    "    \n",
    "    \n",
    "    \n",
    "    \n",
    "    \n",
    "    \n"
   ]
  },
  {
   "cell_type": "code",
   "execution_count": 1,
   "metadata": {},
   "outputs": [
    {
     "name": "stdout",
     "output_type": "stream",
     "text": [
      "hello\n"
     ]
    }
   ],
   "source": [
    "print(\"hello\")"
   ]
  },
  {
   "cell_type": "code",
   "execution_count": 4,
   "metadata": {},
   "outputs": [
    {
     "data": {
      "text/plain": [
       "11"
      ]
     },
     "execution_count": 4,
     "metadata": {},
     "output_type": "execute_result"
    }
   ],
   "source": [
    "def add(a,b):\n",
    "    return (a+b)\n",
    "add(5,6)"
   ]
  },
  {
   "cell_type": "code",
   "execution_count": 46,
   "metadata": {},
   "outputs": [
    {
     "name": "stdout",
     "output_type": "stream",
     "text": [
      "2.23606797749979\n"
     ]
    }
   ],
   "source": [
    "import math\n",
    "p =  \" \"\n",
    "\n",
    "\n",
    "class area:\n",
    "    \n",
    "    def __init__(self,a,b):\n",
    "        self.a = a \n",
    "        self.b = b\n",
    "        \n",
    "        \n",
    "    def add(self):\n",
    "        return(math.sqrt(self.a+self.b))\n",
    "         \n",
    "         \n",
    "    \n",
    "            \n",
    "obj1 = area(2,3) \n",
    "print(obj1.add())\n",
    "    \n",
    "    \n",
    "    "
   ]
  },
  {
   "cell_type": "markdown",
   "metadata": {},
   "source": [
    "# TICK TAK TOE GAME"
   ]
  },
  {
   "cell_type": "code",
   "execution_count": 14,
   "metadata": {},
   "outputs": [],
   "source": [
    "from IPython.display import clear_output\n",
    "def display_board(board):\n",
    "    clear_output()\n",
    "    \n",
    "    print(board[7]+ '|'+ board[8]+ '|' + board[9] )\n",
    "    print(\"-----\")\n",
    "    print(board[4]+ '|'+ board[5]+ '|' + board[6] )\n",
    "    print(\"-----\")\n",
    "    print(board[1]+ '|'+ board[2]+ '|' + board[3] )\n",
    "    print(\"-----\")\n",
    "    \n",
    "\n",
    "    "
   ]
  },
  {
   "cell_type": "code",
   "execution_count": 15,
   "metadata": {},
   "outputs": [],
   "source": [
    "board = [\"#\",\" \",\" \",\" \",\" \",\" \",\" \",\" \",\" \",\" \"]\n",
    "#display_board(board)"
   ]
  },
  {
   "cell_type": "code",
   "execution_count": 16,
   "metadata": {},
   "outputs": [],
   "source": [
    "def player_input():\n",
    "    \n",
    "    marker = \"wrong\"\n",
    "    \n",
    "    while marker not in [\"X\",\"O\"]:\n",
    "        \n",
    "        marker = input(\"Please choose ('X' or 'O'): \")\n",
    "        \n",
    "        \n",
    "        if marker not in [\"X\",\"O\"]:\n",
    "            print(\"please enter the valid input\")\n",
    "            \n",
    "    player1 = marker\n",
    "    \n",
    "    if player1 == \"X\":\n",
    "        player2 = \"O\"\n",
    "    else:\n",
    "        player2 = \"X\"\n",
    "        \n",
    "    return(player1,player2)    \n",
    "    \n",
    "    \n",
    "    \n",
    "    \n",
    "    \n",
    "    \n",
    "        \n",
    "        \n",
    "            \n",
    "        \n",
    "            \n",
    "#player_input()            \n",
    "            \n",
    "          \n",
    "        \n",
    "        \n",
    "    \n",
    "    "
   ]
  },
  {
   "cell_type": "code",
   "execution_count": 17,
   "metadata": {},
   "outputs": [],
   "source": [
    "def place_marker(board,marker,position):\n",
    "    \n",
    "    board[position] = marker\n",
    "    \n",
    "    \n",
    "#place_marker(board,\"X\",1)\n",
    "#display_board(board)"
   ]
  },
  {
   "cell_type": "code",
   "execution_count": 18,
   "metadata": {},
   "outputs": [],
   "source": [
    "def win_check(board,mark):\n",
    "    \n",
    "    return(\n",
    "        (board[7] == mark and board[8] == mark and board[9] == mark)or\n",
    "        (board[4] == mark and board[5] == mark and board[6] == mark)or\n",
    "        (board[1] == mark and board[2] == mark and board[3] == mark)or\n",
    "        (board[7] == mark and board[8] == mark and board[9] == mark)or\n",
    "        (board[4] == mark and board[5] == mark and board[6] == mark)or\n",
    "        (board[1] == mark and board[2] == mark and board[3] == mark)or\n",
    "        (board[7] == mark and board[5] == mark and board[3] == mark)or\n",
    "        (board[9] == mark and board[5] == mark and board[1] == mark)\n",
    "    \n",
    "    \n",
    "    )\n",
    "    \n",
    "    \n",
    "    \n",
    "    "
   ]
  },
  {
   "cell_type": "code",
   "execution_count": 19,
   "metadata": {},
   "outputs": [],
   "source": [
    "import random\n",
    "\n",
    "def  choose_first():\n",
    "    \n",
    "    flip = random.randint(0,1)\n",
    "    \n",
    "    if flip == 1:\n",
    "        return \"player1\"\n",
    "    else:\n",
    "        return \"player2\"\n",
    "        \n",
    "\n"
   ]
  },
  {
   "cell_type": "code",
   "execution_count": 20,
   "metadata": {},
   "outputs": [],
   "source": [
    "def space_check(board,position):\n",
    "    \n",
    "    return board[position] ==  \" \""
   ]
  },
  {
   "cell_type": "code",
   "execution_count": 21,
   "metadata": {},
   "outputs": [],
   "source": [
    "def full_board_check(board):\n",
    "    for i in range(1,10):\n",
    "        if space_check(board,i):\n",
    "            return False\n",
    "        \n",
    "    return True    \n",
    "        \n",
    "            \n",
    "        \n",
    "        "
   ]
  },
  {
   "cell_type": "code",
   "execution_count": 22,
   "metadata": {},
   "outputs": [],
   "source": [
    "def player_choice(board):\n",
    "    \n",
    "    positon = 0\n",
    "    \n",
    "    \n",
    "    while positon not in range(1,10) or not space_check(board,positon):\n",
    "        positon = int(input(\"Enter the positon on the board form (1 - 9) : \"))\n",
    "        \n",
    "        if positon not in range(1,10):\n",
    "            print(\"please enter the valid input\")\n",
    "            \n",
    "    return(positon)         \n",
    "            \n",
    "            \n",
    " "
   ]
  },
  {
   "cell_type": "code",
   "execution_count": 23,
   "metadata": {},
   "outputs": [],
   "source": [
    "def replay():\n",
    "    \n",
    "    choice = input(\"please enter if you want to play the game ( 'Y' or 'N'): \")\n",
    "    \n",
    "    return choice == 'Yes'"
   ]
  },
  {
   "cell_type": "code",
   "execution_count": null,
   "metadata": {},
   "outputs": [],
   "source": [
    "print(\"Welcome to the tik tak toe \")\n",
    "\n",
    "while True:\n",
    "    \n",
    "    display_board(board)\n",
    "    player1_marker,player2_marker = player_input()\n",
    "    turn = choose_first()\n",
    "    print(turn + \"will go first\")\n",
    "    \n",
    "    play_game = input(\"ready to play ? 'Y' or 'N'? : \")\n",
    "    \n",
    "    if play_game == \"Y\":\n",
    "        game_on = True\n",
    "    else:\n",
    "        game_on = False\n",
    "        \n",
    "        \n",
    "    while game_on:\n",
    "        \n",
    "        if turn == \"player1\":\n",
    "            \n",
    "            display_board(board)\n",
    "            \n",
    "            position = player_choice(board)\n",
    "            \n",
    "            place_marker(board,player1_marker,position)\n",
    "            \n",
    "            if win_check(board,player1_marker):\n",
    "                display_board(board)\n",
    "                print(\"player1 you have won the game\")\n",
    "                game_on = False\n",
    "            else:\n",
    "                if full_board_check(board):\n",
    "                    display_board(board)\n",
    "                    print(\"TIE GAME!!\")\n",
    "                    game_on = False\n",
    "                else:\n",
    "                    turn = \"player2\"\n",
    "                    \n",
    "        else:\n",
    "            display_board(board)\n",
    "            \n",
    "            position = player_choice(board)\n",
    "            \n",
    "            place_marker(board,player2_marker,position)\n",
    "            \n",
    "            if win_check(board,player2_marker):\n",
    "                display_board(board)\n",
    "                print(\"player2 you have won the game\")\n",
    "                game_on = False\n",
    "            else:\n",
    "                if full_board_check(board):\n",
    "                    display_board(board)\n",
    "                    print(\"TIE GAME!!\")\n",
    "                    game_on = False\n",
    "                else:\n",
    "                    turn = \"player1\"  \n",
    "                    \n",
    "    if not replay():\n",
    "        break\n",
    "            \n",
    "            \n",
    "            \n",
    "                    \n",
    "                \n",
    "            \n",
    "        \n",
    "    \n",
    "    \n",
    "    \n",
    "    \n",
    "    \n",
    "    \n"
   ]
  },
  {
   "cell_type": "markdown",
   "metadata": {},
   "source": [
    "# This is the intheriance of the class from onr class to onther class"
   ]
  },
  {
   "cell_type": "code",
   "execution_count": 19,
   "metadata": {},
   "outputs": [],
   "source": [
    "class animal():\n",
    "\n",
    "    def __init__(self) -> None:\n",
    "        print(\"hello iam an animal\")\n",
    "        \n",
    "\n",
    "    def name(self):\n",
    "        print(\"Hello iam an animal!! \")\n",
    "\n",
    "\n",
    "    def age(self):\n",
    "        print(\"my age is 10 \")\n",
    "\n",
    "\n",
    "\n",
    "\n",
    "\n",
    "\n",
    "\n",
    "\n",
    "        \n",
    "\n",
    "    "
   ]
  },
  {
   "cell_type": "code",
   "execution_count": 25,
   "metadata": {},
   "outputs": [
    {
     "name": "stdout",
     "output_type": "stream",
     "text": [
      "hello iam an animal\n",
      "dog created\n",
      "Hello iam an animal!! \n",
      "my age is 10 \n"
     ]
    }
   ],
   "source": [
    "class charecter(animal):\n",
    "\n",
    "    def __init__(self) -> None:\n",
    "        animal.__init__(self)\n",
    "        print(\"dog created\")\n",
    "\n",
    "    def who_am_i(self):\n",
    "        print(\"hello iam an neerajs dog\")  \n",
    "\n",
    "\n",
    "mydog = charecter()         \n",
    "mydog.name()\n",
    "mydog.age()\n",
    "\n",
    "    "
   ]
  },
  {
   "cell_type": "code",
   "execution_count": 26,
   "metadata": {},
   "outputs": [
    {
     "name": "stdout",
     "output_type": "stream",
     "text": [
      "hello iam an neerajs dog\n"
     ]
    }
   ],
   "source": [
    "mydog.who_am_i()"
   ]
  },
  {
   "cell_type": "code",
   "execution_count": 33,
   "metadata": {},
   "outputs": [],
   "source": [
    "class dog():\n",
    "    def __init__(self,name) -> None:\n",
    "        self.name = name\n",
    "    def speak(self):\n",
    "        return self.name + \" hello i am a dog\"\n",
    "\n",
    "my_dog = dog(\"jimmy\")            \n",
    "\n",
    "    "
   ]
  },
  {
   "cell_type": "code",
   "execution_count": 34,
   "metadata": {},
   "outputs": [],
   "source": [
    "class cat():\n",
    "    def __init__(self,name) -> None:\n",
    "        self.name = name\n",
    "    def speak(self):\n",
    "        return self.name + \" hello i am cat\"    \n",
    "my_cat = cat(\"pussy\")        \n",
    "    "
   ]
  },
  {
   "cell_type": "code",
   "execution_count": 35,
   "metadata": {},
   "outputs": [
    {
     "data": {
      "text/plain": [
       "'pussy hello i am cat'"
      ]
     },
     "execution_count": 35,
     "metadata": {},
     "output_type": "execute_result"
    }
   ],
   "source": [
    "my_dog.speak()\n",
    "my_cat.speak()"
   ]
  },
  {
   "cell_type": "code",
   "execution_count": 36,
   "metadata": {},
   "outputs": [
    {
     "name": "stdout",
     "output_type": "stream",
     "text": [
      "jimmy hello i am a dog\n",
      "pussy hello i am cat\n"
     ]
    }
   ],
   "source": [
    "for pet in [my_dog,my_cat]:\n",
    "    print(pet.speak())"
   ]
  },
  {
   "cell_type": "code",
   "execution_count": 41,
   "metadata": {},
   "outputs": [],
   "source": [
    "def pet_speak(pet):\n",
    "    print(pet.speak())"
   ]
  },
  {
   "cell_type": "code",
   "execution_count": 42,
   "metadata": {},
   "outputs": [
    {
     "name": "stdout",
     "output_type": "stream",
     "text": [
      "jimmy hello i am a dog\n"
     ]
    }
   ],
   "source": [
    "pet_speak(my_dog)"
   ]
  },
  {
   "cell_type": "code",
   "execution_count": 5,
   "metadata": {},
   "outputs": [
    {
     "name": "stdout",
     "output_type": "stream",
     "text": [
      "handry by hello \n"
     ]
    },
    {
     "data": {
      "text/plain": [
       "50"
      ]
     },
     "execution_count": 5,
     "metadata": {},
     "output_type": "execute_result"
    }
   ],
   "source": [
    "class handry():\n",
    "    def __init__(self,name,book,number) -> None:\n",
    "        self.name  = name \n",
    "        self.book = book\n",
    "        self.number = number\n",
    "        \n",
    "\n",
    "    def __str__(self) -> str:\n",
    "        return \"{} by {} \".format(self.name,self.book)\n",
    "\n",
    "    def __len__(self):\n",
    "        return self.number\n",
    "\n",
    "\n",
    "\n",
    "har = handry(\"handry\",\"hello\",50)   \n",
    "print(har)\n",
    "len(har)\n",
    "\n",
    "\n",
    "\n",
    "\n",
    "\n",
    "        \n",
    "        \n",
    "\n",
    "         \n",
    "        \n",
    "    "
   ]
  },
  {
   "cell_type": "code",
   "execution_count": 27,
   "metadata": {},
   "outputs": [],
   "source": [
    "import math\n",
    "\n",
    "class line:\n",
    "\n",
    "    def __init__(self,cordinate1,cordinate2) -> None:\n",
    "        self.cordinate1 = cordinate1\n",
    "        self.cordinate2 = cordinate2\n",
    "    def distance(self):\n",
    "        return math.sqrt((self.cordinate2[0]-self.cordinate1[0])**2+(self.cordinate2[1]-self.cordinate1[1])**2)\n",
    "\n",
    "    def slope(self):\n",
    "        return ((self.cordinate2[1]-self.cordinate1[1])/(self.cordinate2[0]-self.cordinate1[0]))    \n",
    "cordinate1 = (3,2)\n",
    "cordinate2 = (8,10)\n",
    "li = line(cordinate1,cordinate2)\n",
    "\n",
    "         \n",
    "    "
   ]
  },
  {
   "cell_type": "code",
   "execution_count": 28,
   "metadata": {},
   "outputs": [
    {
     "data": {
      "text/plain": [
       "1.6"
      ]
     },
     "execution_count": 28,
     "metadata": {},
     "output_type": "execute_result"
    }
   ],
   "source": [
    "li.distance()\n",
    "li.slope()"
   ]
  },
  {
   "cell_type": "code",
   "execution_count": 32,
   "metadata": {},
   "outputs": [
    {
     "data": {
      "text/plain": [
       "1357.1680263507906"
      ]
     },
     "execution_count": 32,
     "metadata": {},
     "output_type": "execute_result"
    }
   ],
   "source": [
    "import math\n",
    "pie = math.pi\n",
    "class cylinder():\n",
    "    def __init__(self,radius,height) -> None:\n",
    "        self.radius = radius\n",
    "        self.height = height\n",
    "\n",
    "    def volume(self):\n",
    "        return (pie*self.radius*self.radius*self.height)     \n",
    "\n",
    "    def surface_area(self):\n",
    "        return (2*pie*self.radius*self.height+2*pie*self.radius*self.radius)   \n",
    "\n",
    "\n",
    "cyl = cylinder(12,3)      \n",
    "\n",
    "cyl.volume()\n",
    "\n",
    "\n",
    "\n",
    "\n",
    "        \n",
    "\n",
    "        "
   ]
  },
  {
   "cell_type": "code",
   "execution_count": 33,
   "metadata": {},
   "outputs": [
    {
     "data": {
      "text/plain": [
       "1130.9733552923256"
      ]
     },
     "execution_count": 33,
     "metadata": {},
     "output_type": "execute_result"
    }
   ],
   "source": [
    "cyl.surface_area()"
   ]
  },
  {
   "cell_type": "code",
   "execution_count": 7,
   "metadata": {},
   "outputs": [
    {
     "name": "stdout",
     "output_type": "stream",
     "text": [
      "Hello Neeraj you have sucessfully created your bank account and the your balance is 0\n",
      "your account balance is 100\n",
      "your account balance after transaction is 50 :\n"
     ]
    }
   ],
   "source": [
    "class bank_account:\n",
    "\n",
    "    def __init__(self,owner,deposit,withdraw,balance = 0) -> None:\n",
    "        self.owner = owner\n",
    "        self.deposit = deposit\n",
    "        self.balance = balance\n",
    "        self.withdraw = withdraw\n",
    "\n",
    "    def depo(self):\n",
    "        print(\"Hello {} you have sucessfully created your bank account and the your balance is {}\".format(self.owner,self.balance))  \n",
    "        self.balance = self.deposit + self.balance\n",
    "        print(\"your account balance is {}\".format(self.balance))\n",
    "\n",
    "    def withd(self):\n",
    "        if self.balance < self.withdraw :\n",
    "            \n",
    "            print(\"soory you dont have enough amount in your account\")\n",
    "        else:\n",
    "            self.balance = self.balance - self.withdraw\n",
    "            print(\"your account balance after transaction is {} :\".format(self.balance))\n",
    "                \n",
    "                \n",
    "\n",
    "\n",
    "s = input(\"Enter the name of your bank account: \")\n",
    "p = int(input(\"Enter the amount that you want to deposit:\"))\n",
    "q = int(input(\"Enter the amount that you want to withdraw:\"))\n",
    "\n",
    "account = bank_account(s,p,q)\n",
    "account.depo()\n",
    "account.withd()\n",
    "\n",
    "\n",
    "\n",
    "\n",
    "\n",
    "\n"
   ]
  },
  {
   "cell_type": "code",
   "execution_count": 1,
   "metadata": {},
   "outputs": [
    {
     "name": "stdout",
     "output_type": "stream",
     "text": [
      "0\n",
      "1\n",
      "2\n",
      "3\n",
      "4\n",
      "5\n",
      "6\n",
      "7\n",
      "8\n",
      "9\n"
     ]
    }
   ],
   "source": [
    "for i in range(10):\n",
    "    print(i)"
   ]
  },
  {
   "cell_type": "code",
   "execution_count": 1,
   "metadata": {},
   "outputs": [],
   "source": [
    "import random\n",
    "suits = (\"clubs\",\"diamond\",\"hearts\",\"spades\")\n",
    "rank = (\"two\",\"three\",\"four\",\"five\",\"six\",\"seven\",\"eight\",\"nine\",\"ten\",\"jack\",\"queen\",\"king\",\"ace\")\n",
    "values = {\"two\":2,\"three\":3,\"four\":4,\"five\":5,\"six\":6,\"seven\":7,\"eight\":8,\"nine\":9,\"ten\":10,\"jack\":11,\"queen\":12,\"king\":13,\"ace\":14}"
   ]
  },
  {
   "cell_type": "code",
   "execution_count": 2,
   "metadata": {},
   "outputs": [],
   "source": [
    "class cards():\n",
    "\n",
    "    def __init__(self,suits,rank) -> None:\n",
    "        self.suits = suits\n",
    "        self.rank = rank\n",
    "        self.value = values[rank]\n",
    "\n",
    "    def __str__(self) -> str:\n",
    "        return self.rank +  \" of \" + self.suits\n",
    "\n",
    "\n",
    "#obj1 = cards(\"spades\",\"three\")\n",
    "#print(obj1)\n",
    "#obj1.suits\n",
    "#obj1.rank\n",
    "#obj1.value    \n",
    "\n",
    "\n",
    "            \n",
    "        "
   ]
  },
  {
   "cell_type": "code",
   "execution_count": 3,
   "metadata": {},
   "outputs": [],
   "source": [
    "class deck():\n",
    "\n",
    "    def __init__(self) -> None:\n",
    "        self.all_cards = []\n",
    "\n",
    "\n",
    "        for suit in suits:\n",
    "            for ranks in rank:\n",
    "\n",
    "                my_cards = cards(suit,ranks)\n",
    "\n",
    "                self.all_cards.append(my_cards)\n",
    "\n",
    "\n",
    "    def shuffle(self):\n",
    "\n",
    "        random.shuffle(self.all_cards)\n",
    "\n",
    "    def deal_one(self):\n",
    "        return self.all_cards.pop()    \n",
    "        \n",
    "                    \n",
    "\n",
    "#my_deck = deck()\n",
    "#my_cards = my_deck.all_cards[0]\n",
    "#print(my_cards)\n",
    "# another way of doing it is \n",
    "#for my_cards in my_deck.all_cards:\n",
    "    #print(my_cards)\n",
    "\n",
    "#my_deck.shuffle()\n",
    "#print(my_deck.all_cards[0])\n",
    "\n",
    "\n",
    "#print(my_deck.deal_one())\n",
    "\n",
    "\n",
    "\n",
    "\n",
    "\n",
    "            \n",
    "                \n",
    "\n",
    "\n",
    "                \n",
    "\n",
    "        \n",
    "        \n",
    "        "
   ]
  },
  {
   "cell_type": "code",
   "execution_count": 4,
   "metadata": {},
   "outputs": [],
   "source": [
    "class player():\n",
    "\n",
    "    def __init__(self,name) -> None:\n",
    "        self.name = name\n",
    "        self.all_cards = []\n",
    "\n",
    "    def remove_one(self):\n",
    "        return self.all_cards.pop(0)\n",
    "\n",
    "    def add_cards(self,new_cards):\n",
    "        if type(new_cards) == type([]):\n",
    "            self.all_cards.extend(new_cards)\n",
    "        else:\n",
    "            self.all_cards.append(new_cards)\n",
    "\n",
    "\n",
    "    def __str__(self) -> str:\n",
    "        return f'player {self.name} has {len(self.all_cards)} cards.' # use the retun here\n",
    "\n",
    "#new_player = player(\"neeraj\")\n",
    "#print(new_player)\n",
    "\n",
    "#new_player.add_cards(my_deck.deal_one()) # to add the cards\n",
    "#print(new_player)\n",
    "\n",
    "#new_player.remove_one() #to remove the cards \n",
    "#print(new_player)\n",
    "\n",
    "#new_player.add_cards([my_deck.deal_one(),my_deck.deal_one()])\n",
    "#print(new_player)\n",
    "\n",
    "\n",
    "\n",
    "\n",
    "\n",
    "        \n",
    "\n",
    "                \n",
    "\n",
    "\n",
    "\n",
    "\n",
    "\n",
    "            \n",
    "\n",
    "        "
   ]
  },
  {
   "cell_type": "code",
   "execution_count": 5,
   "metadata": {},
   "outputs": [],
   "source": [
    "# game setup\n",
    "player_one = player(\"one\")\n",
    "player_two = player(\"two\")\n",
    "\n",
    "my_deck = deck()\n",
    "my_deck.shuffle()\n",
    "\n",
    "for x  in range(26):\n",
    "    player_one.add_cards(my_deck.deal_one())\n",
    "    player_two.add_cards(my_deck.deal_one())    \n"
   ]
  },
  {
   "cell_type": "code",
   "execution_count": null,
   "metadata": {},
   "outputs": [],
   "source": [
    "game_on = True\n",
    "round_num = 0\n",
    "\n",
    "while game_on:\n",
    "    round_num += 1\n",
    "\n",
    "    if len(player_one.all_cards) == 0:\n",
    "        print(\"player one out of the cards!!,player two wins the game \")\n",
    "        game_on = False\n",
    "        break\n",
    "\n",
    "    if len(player_two.all_cards) == 0:\n",
    "        print(\"player two is out of the cards!!,player one has won the game \") \n",
    "        game_on  = False\n",
    "        break\n",
    "\n",
    "    # the new game starts here\n",
    "    player1 = []\n",
    "    player1.append(player_one.remove_one())\n",
    "\n",
    "    player2 = []\n",
    "    player2.append(player_two.remove_one())\n",
    "\n",
    "\n",
    "    at_war = True\n",
    "    while at_war:\n",
    "        \n",
    "        if player1[-1].value > player2[-1].value:\n",
    "            player_one.add_cards(player1)\n",
    "            player_one.add_cards(player2)\n",
    "\n",
    "        elif player1[-1].value < player2[-1].value:\n",
    "            player_two.add_cards(player1)\n",
    "            player_two.add_cards(player2)   \n",
    "\n",
    "        else:\n",
    "            print(\"at war\")\n",
    "\n",
    "            if len(player_one.all_cards) < 5:\n",
    "                print(\"The player one has lost the game , player two wins!! \")    \n",
    "                at_war = False\n",
    "                break\n",
    "\n",
    "            elif len(player_two.all_cards) < 5:\n",
    "                print(\"The player two has lost the game , player one wins!! \")    \n",
    "                at_war = False\n",
    "                break\n",
    "\n",
    "            else:\n",
    "                for num in range(3):\n",
    "                    player1.append(player_one.remove_one())\n",
    "                    player2.append(player_two.remove_one())\n",
    "\n",
    "\n",
    "\n",
    "\n",
    "\n",
    "\n",
    "    \n",
    "\n",
    "\n",
    "\n",
    "\n",
    "\n",
    "\n",
    "\n"
   ]
  },
  {
   "cell_type": "markdown",
   "metadata": {},
   "source": [
    "# DECORATORS\n"
   ]
  },
  {
   "cell_type": "code",
   "execution_count": 1,
   "metadata": {},
   "outputs": [
    {
     "name": "stdout",
     "output_type": "stream",
     "text": [
      "hello world\n"
     ]
    }
   ],
   "source": [
    "print(\"hello world\")"
   ]
  },
  {
   "cell_type": "code",
   "execution_count": 2,
   "metadata": {},
   "outputs": [
    {
     "name": "stdout",
     "output_type": "stream",
     "text": [
      "hello\n"
     ]
    }
   ],
   "source": [
    "print(\"hello\")"
   ]
  },
  {
   "cell_type": "code",
   "execution_count": 1,
   "metadata": {},
   "outputs": [],
   "source": [
    "def hello():\n",
    "    return \"This is the hello() function\"\n",
    "    \n",
    "\n"
   ]
  },
  {
   "cell_type": "code",
   "execution_count": 4,
   "metadata": {},
   "outputs": [
    {
     "data": {
      "text/plain": [
       "'This is the hello() function'"
      ]
     },
     "execution_count": 4,
     "metadata": {},
     "output_type": "execute_result"
    }
   ],
   "source": [
    "temp = hello()\n",
    "hello()"
   ]
  },
  {
   "cell_type": "code",
   "execution_count": 5,
   "metadata": {},
   "outputs": [
    {
     "data": {
      "text/plain": [
       "'This is the hello() function'"
      ]
     },
     "execution_count": 5,
     "metadata": {},
     "output_type": "execute_result"
    }
   ],
   "source": [
    "temp"
   ]
  },
  {
   "cell_type": "code",
   "execution_count": 7,
   "metadata": {},
   "outputs": [],
   "source": [
    "del hello"
   ]
  },
  {
   "cell_type": "code",
   "execution_count": 9,
   "metadata": {},
   "outputs": [
    {
     "ename": "NameError",
     "evalue": "name 'hello' is not defined",
     "output_type": "error",
     "traceback": [
      "\u001b[1;31m---------------------------------------------------------------------------\u001b[0m",
      "\u001b[1;31mNameError\u001b[0m                                 Traceback (most recent call last)",
      "\u001b[1;32m<ipython-input-9-a75d7781aaeb>\u001b[0m in \u001b[0;36m<module>\u001b[1;34m\u001b[0m\n\u001b[1;32m----> 1\u001b[1;33m \u001b[0mhello\u001b[0m\u001b[1;33m(\u001b[0m\u001b[1;33m)\u001b[0m\u001b[1;33m\u001b[0m\u001b[1;33m\u001b[0m\u001b[0m\n\u001b[0m",
      "\u001b[1;31mNameError\u001b[0m: name 'hello' is not defined"
     ]
    }
   ],
   "source": [
    "hello()"
   ]
  },
  {
   "cell_type": "code",
   "execution_count": 10,
   "metadata": {},
   "outputs": [
    {
     "data": {
      "text/plain": [
       "'This is the hello() function'"
      ]
     },
     "execution_count": 10,
     "metadata": {},
     "output_type": "execute_result"
    }
   ],
   "source": [
    "temp"
   ]
  },
  {
   "cell_type": "code",
   "execution_count": 33,
   "metadata": {},
   "outputs": [
    {
     "data": {
      "text/plain": [
       "'This is the hello() function'"
      ]
     },
     "execution_count": 33,
     "metadata": {},
     "output_type": "execute_result"
    }
   ],
   "source": [
    "def hello():\n",
    "    return (\"This is the hello() function\")\n",
    "    \n",
    "\n",
    "    def sub():\n",
    "        return \"\\t this is the  sub function inside the hello() function \" \n",
    "\n",
    "    def undersub():\n",
    "        return  \"\\t this is the undersub()\"    \n",
    "\n",
    "    print(sub())    \n",
    "    print(Undersub())\n",
    "\n",
    "        \n",
    "hello()\n",
    "\n",
    "        \n",
    "    \n"
   ]
  },
  {
   "cell_type": "code",
   "execution_count": 44,
   "metadata": {},
   "outputs": [],
   "source": [
    "def first():\n",
    "    print(\"this is the first()\")\n",
    "\n",
    "    def second():\n",
    "        return(\"\\t this is the second()\")\n",
    "\n",
    "    def third():\n",
    "        return(\"\\t  this is the third func()\")    \n",
    "\n",
    "    print(second())   \n",
    "    print(third()) \n",
    "    print(\"This is the end of the programme\")\n",
    "\n",
    "\n",
    "\n",
    "    \n",
    "    \n",
    "\n",
    "\n",
    "    "
   ]
  },
  {
   "cell_type": "code",
   "execution_count": 45,
   "metadata": {},
   "outputs": [
    {
     "name": "stdout",
     "output_type": "stream",
     "text": [
      "this is the first()\n",
      "\t this is the second()\n",
      "\t  this is the third func()\n",
      "This is the end of the programme\n"
     ]
    }
   ],
   "source": [
    "first()"
   ]
  },
  {
   "cell_type": "code",
   "execution_count": 1,
   "metadata": {},
   "outputs": [],
   "source": [
    "def first(name):\n",
    "    print(\"this is the first()\")\n",
    "\n",
    "    def second():\n",
    "        return '\\t This is the second()'\n",
    "\n",
    "    def third():\n",
    "        return \"\\t This is the third func()\" \n",
    "\n",
    "\n",
    "    print(\"iam going to return a function\")        \n",
    "\n",
    "    if name == \"neeraj\":\n",
    "        return second()\n",
    "    else:\n",
    "        return third()    \n",
    "\n",
    "\n",
    "       \n",
    "     "
   ]
  },
  {
   "cell_type": "code",
   "execution_count": 6,
   "metadata": {},
   "outputs": [
    {
     "name": "stdout",
     "output_type": "stream",
     "text": [
      "this is the first()\n",
      "iam going to return a function\n"
     ]
    }
   ],
   "source": [
    "my_new_func = first(\"neeraj\")"
   ]
  },
  {
   "cell_type": "code",
   "execution_count": 4,
   "metadata": {},
   "outputs": [
    {
     "name": "stdout",
     "output_type": "stream",
     "text": [
      "\t This is the second()\n"
     ]
    }
   ],
   "source": [
    "print(my_new_func)"
   ]
  },
  {
   "cell_type": "code",
   "execution_count": 26,
   "metadata": {},
   "outputs": [],
   "source": [
    "def cool():\n",
    "\n",
    "    def supercool():\n",
    "        return \"iam super cool;)\"\n",
    "\n",
    "\n",
    "    return supercool"
   ]
  },
  {
   "cell_type": "code",
   "execution_count": 32,
   "metadata": {},
   "outputs": [],
   "source": [
    "some = cool() "
   ]
  },
  {
   "cell_type": "code",
   "execution_count": 30,
   "metadata": {},
   "outputs": [
    {
     "data": {
      "text/plain": [
       "<function __main__.cool.<locals>.supercool()>"
      ]
     },
     "execution_count": 30,
     "metadata": {},
     "output_type": "execute_result"
    }
   ],
   "source": [
    "some"
   ]
  },
  {
   "cell_type": "code",
   "execution_count": 33,
   "metadata": {},
   "outputs": [],
   "source": [
    "some = cool()"
   ]
  },
  {
   "cell_type": "code",
   "execution_count": 35,
   "metadata": {},
   "outputs": [],
   "source": [
    "def upper():\n",
    "    return \"this is the upper() function\"\n",
    "\n",
    "\n"
   ]
  },
  {
   "cell_type": "code",
   "execution_count": 39,
   "metadata": {},
   "outputs": [
    {
     "data": {
      "text/plain": [
       "<function __main__.upper()>"
      ]
     },
     "execution_count": 39,
     "metadata": {},
     "output_type": "execute_result"
    }
   ],
   "source": [
    "upper"
   ]
  },
  {
   "cell_type": "code",
   "execution_count": 41,
   "metadata": {},
   "outputs": [
    {
     "name": "stdout",
     "output_type": "stream",
     "text": [
      "this code below is the inserted function\n",
      "this is the upper() function\n"
     ]
    }
   ],
   "source": [
    "def lower(insert):\n",
    "    print(\"this code below is the inserted function\")\n",
    "    print(insert())\n",
    "\n",
    "\n",
    "lower(upper)    \n",
    "\n",
    "\n",
    "\n",
    "    "
   ]
  },
  {
   "cell_type": "code",
   "execution_count": 6,
   "metadata": {},
   "outputs": [],
   "source": [
    "def new_decorator(decorateda):\n",
    "\n",
    "    def warp():\n",
    "\n",
    "        print(\"This,is the code before the excecution\")\n",
    "\n",
    "        decorateda()\n",
    "\n",
    "        print(\"This,is the code after excecution?\")\n",
    "\n",
    "\n",
    "    return warp()    "
   ]
  },
  {
   "cell_type": "code",
   "execution_count": 7,
   "metadata": {},
   "outputs": [],
   "source": [
    "def iam_decoarated():\n",
    "    print(\"iam the code in the centere\")"
   ]
  },
  {
   "cell_type": "code",
   "execution_count": 10,
   "metadata": {},
   "outputs": [
    {
     "name": "stdout",
     "output_type": "stream",
     "text": [
      "This,is the code before the excecution\n",
      "iam the code in the centere\n",
      "This,is the code after excecution?\n"
     ]
    }
   ],
   "source": [
    "new_decorator(iam_decoarated) # please dont use the () symbol here"
   ]
  },
  {
   "cell_type": "code",
   "execution_count": null,
   "metadata": {},
   "outputs": [],
   "source": []
  },
  {
   "cell_type": "code",
   "execution_count": null,
   "metadata": {},
   "outputs": [],
   "source": []
  },
  {
   "cell_type": "code",
   "execution_count": null,
   "metadata": {},
   "outputs": [],
   "source": []
  },
  {
   "cell_type": "code",
   "execution_count": null,
   "metadata": {},
   "outputs": [],
   "source": []
  },
  {
   "cell_type": "code",
   "execution_count": null,
   "metadata": {},
   "outputs": [],
   "source": []
  },
  {
   "cell_type": "code",
   "execution_count": null,
   "metadata": {},
   "outputs": [],
   "source": []
  },
  {
   "cell_type": "code",
   "execution_count": null,
   "metadata": {},
   "outputs": [],
   "source": []
  },
  {
   "cell_type": "code",
   "execution_count": null,
   "metadata": {},
   "outputs": [],
   "source": []
  },
  {
   "cell_type": "code",
   "execution_count": null,
   "metadata": {},
   "outputs": [],
   "source": []
  },
  {
   "cell_type": "code",
   "execution_count": null,
   "metadata": {},
   "outputs": [],
   "source": []
  },
  {
   "cell_type": "code",
   "execution_count": null,
   "metadata": {},
   "outputs": [],
   "source": []
  },
  {
   "cell_type": "code",
   "execution_count": null,
   "metadata": {},
   "outputs": [],
   "source": []
  },
  {
   "cell_type": "code",
   "execution_count": null,
   "metadata": {},
   "outputs": [],
   "source": []
  },
  {
   "cell_type": "code",
   "execution_count": null,
   "metadata": {},
   "outputs": [],
   "source": []
  },
  {
   "cell_type": "code",
   "execution_count": null,
   "metadata": {},
   "outputs": [],
   "source": []
  },
  {
   "cell_type": "code",
   "execution_count": null,
   "metadata": {},
   "outputs": [],
   "source": []
  },
  {
   "cell_type": "code",
   "execution_count": null,
   "metadata": {},
   "outputs": [],
   "source": []
  },
  {
   "cell_type": "code",
   "execution_count": null,
   "metadata": {},
   "outputs": [],
   "source": []
  }
 ],
 "metadata": {
  "interpreter": {
   "hash": "42588fd11209419b7c81abe23e31a1d2101f60811b02170c268e57ebb57d5d9a"
  },
  "kernelspec": {
   "display_name": "Python 3.8.8 64-bit ('base': conda)",
   "name": "python3"
  },
  "language_info": {
   "codemirror_mode": {
    "name": "ipython",
    "version": 3
   },
   "file_extension": ".py",
   "mimetype": "text/x-python",
   "name": "python",
   "nbconvert_exporter": "python",
   "pygments_lexer": "ipython3",
   "version": "3.8.8"
  }
 },
 "nbformat": 4,
 "nbformat_minor": 5
}
