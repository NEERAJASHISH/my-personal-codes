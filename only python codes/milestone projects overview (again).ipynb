{
 "cells": [
  {
   "cell_type": "code",
   "execution_count": 5,
   "source": [
    "def user_choice():\n",
    "    \n",
    "    \n",
    "    choice = \" WRONG\"\n",
    "    acceptable_range = range(10)\n",
    "    within_range = False\n",
    "    \n",
    "    while choice.isdigit() == False or within_range  == False:\n",
    "        choice = input(\"Enter the number of your choice (1-10): \")\n",
    "        \n",
    "        \n",
    "        if choice.isdigit() == False:\n",
    "            print(\"please enter an valid input!!!\")\n",
    "            \n",
    "        if choice.isdigit() == True:\n",
    "            if int(choice) in acceptable_range:\n",
    "                within_range = True\n",
    "            else:\n",
    "                print(\"soory,list index out of range\")\n",
    "                within_range = False\n",
    "                \n",
    "                \n",
    "    return int(choice)        \n",
    "\n",
    "\n",
    "user_choice()\n",
    "                \n",
    "                \n",
    "               \n",
    "            \n",
    "            \n",
    "            \n",
    "            \n",
    "            \n",
    "            \n",
    "        \n",
    "            \n",
    "        \n",
    "            \n",
    "            \n",
    "            \n",
    "            \n",
    "            \n",
    "        "
   ],
   "outputs": [
    {
     "output_type": "stream",
     "name": "stdout",
     "text": [
      "Enter the number of your choice (1-10): 1\n"
     ]
    },
    {
     "output_type": "execute_result",
     "data": {
      "text/plain": [
       "1"
      ]
     },
     "metadata": {},
     "execution_count": 5
    }
   ],
   "metadata": {}
  },
  {
   "cell_type": "markdown",
   "source": [
    "# user list game"
   ],
   "metadata": {}
  },
  {
   "cell_type": "code",
   "execution_count": null,
   "source": [
    "# my own programme"
   ],
   "outputs": [],
   "metadata": {}
  },
  {
   "cell_type": "code",
   "execution_count": 7,
   "source": [
    "def user_input():\n",
    "    user_list = [1,2,3]\n",
    "    index_input = \"wrong\"\n",
    "    within_index = [0,1,2]\n",
    "    index_selected = False\n",
    "    game_on = True\n",
    "    next_game = True\n",
    "    \n",
    "    while next_game:\n",
    "        \n",
    "         while index_input.isdigit() == False or index_selected == False:\n",
    "                index_input = input(\"Please enter the index position of the user_list:  \")\n",
    "                index_value = input(\"please enter the value that you want to replace:   \")\n",
    "                \n",
    "                \n",
    "                \n",
    "                if index_input.isdigit() == False:\n",
    "                    print(\"Please enter an valid input!!!!\")\n",
    "                    \n",
    "                if index_input.isdigit() == True:\n",
    "                    if int(index_input) in within_index:\n",
    "                        index_selected = True\n",
    "                        \n",
    "                    else:\n",
    "                        print(\"please enter the correct index position:\")\n",
    "                        index_selected = False\n",
    "                        \n",
    "                        \n",
    "                while  game_on:\n",
    "                    if index_selected == True:\n",
    "                        user_list[int(index_input)] = index_value\n",
    "                        print(user_list)\n",
    "                        game_on = False\n",
    "                        next_game = False\n",
    "                        \n",
    "user_input()                        \n",
    "            \n",
    "    "
   ],
   "outputs": [
    {
     "output_type": "stream",
     "name": "stdout",
     "text": [
      "Please enter the index position of the user_list:  1\n",
      "please enter the value that you want to replace:   hello\n",
      "[1, 'hello', 3]\n"
     ]
    }
   ],
   "metadata": {
    "scrolled": true
   }
  },
  {
   "cell_type": "code",
   "execution_count": null,
   "source": [
    "# this is udemy programme"
   ],
   "outputs": [],
   "metadata": {}
  },
  {
   "cell_type": "code",
   "execution_count": 9,
   "source": [
    "def display_game(game_list):\n",
    "    print(\"Here is your current list {}\".format(game_list))\n",
    "    \n",
    "\n",
    "    \n",
    "    "
   ],
   "outputs": [],
   "metadata": {}
  },
  {
   "cell_type": "code",
   "execution_count": 10,
   "source": [
    "def index_choice():\n",
    "    \n",
    "    choice = \"wrong\"\n",
    "    \n",
    "    while choice not in [0,1,2]:\n",
    "        choice = int(input(\"Enter the index of your choice (0,1,2): \"))\n",
    "        \n",
    "        \n",
    "        \n",
    "        \n",
    "        if choice  not in [0,1,2]:\n",
    "            print(\"please enter a  valid input!!\")\n",
    "            \n",
    "    return(choice) \n",
    "\n",
    "#index_choice()\n",
    "\n",
    "\n",
    "        "
   ],
   "outputs": [],
   "metadata": {}
  },
  {
   "cell_type": "code",
   "execution_count": 11,
   "source": [
    "def user_replacement(game_list,choice):\n",
    "    \n",
    "    user_choice = input(\"Type a value to place at the given position: \")\n",
    "    \n",
    "    game_list[choice] =  user_choice\n",
    "    \n",
    "    return(game_list)\n",
    "\n",
    "\n",
    "\n",
    "    \n",
    "    "
   ],
   "outputs": [],
   "metadata": {}
  },
  {
   "cell_type": "code",
   "execution_count": 12,
   "source": [
    "def gameon_choice():\n",
    "    \n",
    "    choice = \"wrong\"\n",
    "    \n",
    "    while choice not in [\"Y\",\"N\"]:\n",
    "        choice = input(\"would you like to contine with the game ('Y','N'): \")\n",
    "        \n",
    "        if choice not in [\"Y\",\"N\"]:\n",
    "            print(\"please enter an valid input!!\")\n",
    "            \n",
    "    if choice == \"Y\":\n",
    "        return(True)\n",
    "    else:\n",
    "        return(False)\n",
    "    \n",
    "    \n",
    "#gameon_choice()    \n",
    "        \n",
    "        \n",
    "        \n",
    "        "
   ],
   "outputs": [],
   "metadata": {}
  },
  {
   "cell_type": "code",
   "execution_count": 13,
   "source": [
    "game_on = True\n",
    "game_list = [1,2,3]\n",
    "\n",
    "while game_on:\n",
    "    \n",
    "    display_game(game_list)\n",
    "    index = index_choice()\n",
    "    replacement = user_replacement(game_list,index)\n",
    "    display_game(replacement)\n",
    "    game_on = gameon_choice()\n",
    "    \n",
    "    \n",
    "    \n",
    "    \n",
    "    \n",
    "    \n",
    "    \n"
   ],
   "outputs": [
    {
     "output_type": "stream",
     "name": "stdout",
     "text": [
      "Here is your current list [1, 2, 3]\n",
      "Enter the index of your choice (0,1,2): 1\n",
      "Type a value to place at the given position: hello\n",
      "Here is your current list [1, 'hello', 3]\n",
      "would you like to contine with the game ('Y','N'): Y\n",
      "Here is your current list [1, 'hello', 3]\n",
      "Enter the index of your choice (0,1,2): 1\n",
      "Type a value to place at the given position: hello\n",
      "Here is your current list [1, 'hello', 3]\n",
      "would you like to contine with the game ('Y','N'): N\n"
     ]
    }
   ],
   "metadata": {}
  },
  {
   "cell_type": "code",
   "execution_count": 1,
   "source": [
    "print(\"hello\")"
   ],
   "outputs": [
    {
     "output_type": "stream",
     "name": "stdout",
     "text": [
      "hello\n"
     ]
    }
   ],
   "metadata": {}
  },
  {
   "cell_type": "code",
   "execution_count": 4,
   "source": [
    "def add(a,b):\n",
    "    return (a+b)\n",
    "add(5,6)"
   ],
   "outputs": [
    {
     "output_type": "execute_result",
     "data": {
      "text/plain": [
       "11"
      ]
     },
     "metadata": {},
     "execution_count": 4
    }
   ],
   "metadata": {}
  },
  {
   "cell_type": "code",
   "execution_count": 46,
   "source": [
    "import math\n",
    "p =  \" \"\n",
    "\n",
    "\n",
    "class area:\n",
    "    \n",
    "    def __init__(self,a,b):\n",
    "        self.a = a \n",
    "        self.b = b\n",
    "        \n",
    "        \n",
    "    def add(self):\n",
    "        return(math.sqrt(self.a+self.b))\n",
    "         \n",
    "         \n",
    "    \n",
    "            \n",
    "obj1 = area(2,3) \n",
    "print(obj1.add())\n",
    "    \n",
    "    \n",
    "    "
   ],
   "outputs": [
    {
     "output_type": "stream",
     "name": "stdout",
     "text": [
      "2.23606797749979\n"
     ]
    }
   ],
   "metadata": {}
  },
  {
   "cell_type": "markdown",
   "source": [
    "# TICK TAK TOE GAME"
   ],
   "metadata": {}
  },
  {
   "cell_type": "code",
   "execution_count": 14,
   "source": [
    "from IPython.display import clear_output\n",
    "def display_board(board):\n",
    "    clear_output()\n",
    "    \n",
    "    print(board[7]+ '|'+ board[8]+ '|' + board[9] )\n",
    "    print(\"-----\")\n",
    "    print(board[4]+ '|'+ board[5]+ '|' + board[6] )\n",
    "    print(\"-----\")\n",
    "    print(board[1]+ '|'+ board[2]+ '|' + board[3] )\n",
    "    print(\"-----\")\n",
    "    \n",
    "\n",
    "    "
   ],
   "outputs": [],
   "metadata": {}
  },
  {
   "cell_type": "code",
   "execution_count": 15,
   "source": [
    "board = [\"#\",\" \",\" \",\" \",\" \",\" \",\" \",\" \",\" \",\" \"]\n",
    "#display_board(board)"
   ],
   "outputs": [],
   "metadata": {}
  },
  {
   "cell_type": "code",
   "execution_count": 16,
   "source": [
    "def player_input():\n",
    "    \n",
    "    marker = \"wrong\"\n",
    "    \n",
    "    while marker not in [\"X\",\"O\"]:\n",
    "        \n",
    "        marker = input(\"Please choose ('X' or 'O'): \")\n",
    "        \n",
    "        \n",
    "        if marker not in [\"X\",\"O\"]:\n",
    "            print(\"please enter the valid input\")\n",
    "            \n",
    "    player1 = marker\n",
    "    \n",
    "    if player1 == \"X\":\n",
    "        player2 = \"O\"\n",
    "    else:\n",
    "        player2 = \"X\"\n",
    "        \n",
    "    return(player1,player2)    \n",
    "    \n",
    "    \n",
    "    \n",
    "    \n",
    "    \n",
    "    \n",
    "        \n",
    "        \n",
    "            \n",
    "        \n",
    "            \n",
    "#player_input()            \n",
    "            \n",
    "          \n",
    "        \n",
    "        \n",
    "    \n",
    "    "
   ],
   "outputs": [],
   "metadata": {}
  },
  {
   "cell_type": "code",
   "execution_count": 17,
   "source": [
    "def place_marker(board,marker,position):\r\n",
    "    \r\n",
    "    board[position] = marker\r\n",
    "    \r\n",
    "    \r\n",
    "#place_marker(board,\"X\",1)\r\n",
    "#display_board(board)"
   ],
   "outputs": [],
   "metadata": {}
  },
  {
   "cell_type": "code",
   "execution_count": 18,
   "source": [
    "def win_check(board,mark):\r\n",
    "    \r\n",
    "    return(\r\n",
    "        (board[7] == mark and board[8] == mark and board[9] == mark)or\r\n",
    "        (board[4] == mark and board[5] == mark and board[6] == mark)or\r\n",
    "        (board[1] == mark and board[2] == mark and board[3] == mark)or\r\n",
    "        (board[7] == mark and board[8] == mark and board[9] == mark)or\r\n",
    "        (board[4] == mark and board[5] == mark and board[6] == mark)or\r\n",
    "        (board[1] == mark and board[2] == mark and board[3] == mark)or\r\n",
    "        (board[7] == mark and board[5] == mark and board[3] == mark)or\r\n",
    "        (board[9] == mark and board[5] == mark and board[1] == mark)\r\n",
    "    \r\n",
    "    \r\n",
    "    )\r\n",
    "    \r\n",
    "    \r\n",
    "    \r\n",
    "    "
   ],
   "outputs": [],
   "metadata": {}
  },
  {
   "cell_type": "code",
   "execution_count": 19,
   "source": [
    "import random\r\n",
    "\r\n",
    "def  choose_first():\r\n",
    "    \r\n",
    "    flip = random.randint(0,1)\r\n",
    "    \r\n",
    "    if flip == 1:\r\n",
    "        return \"player1\"\r\n",
    "    else:\r\n",
    "        return \"player2\"\r\n",
    "        \r\n",
    "\r\n"
   ],
   "outputs": [],
   "metadata": {}
  },
  {
   "cell_type": "code",
   "execution_count": 20,
   "source": [
    "def space_check(board,position):\r\n",
    "    \r\n",
    "    return board[position] ==  \" \""
   ],
   "outputs": [],
   "metadata": {}
  },
  {
   "cell_type": "code",
   "execution_count": 21,
   "source": [
    "def full_board_check(board):\r\n",
    "    for i in range(1,10):\r\n",
    "        if space_check(board,i):\r\n",
    "            return False\r\n",
    "        \r\n",
    "    return True    \r\n",
    "        \r\n",
    "            \r\n",
    "        \r\n",
    "        "
   ],
   "outputs": [],
   "metadata": {}
  },
  {
   "cell_type": "code",
   "execution_count": 22,
   "source": [
    "def player_choice(board):\r\n",
    "    \r\n",
    "    positon = 0\r\n",
    "    \r\n",
    "    \r\n",
    "    while positon not in range(1,10) or not space_check(board,positon):\r\n",
    "        positon = int(input(\"Enter the positon on the board form (1 - 9) : \"))\r\n",
    "        \r\n",
    "        if positon not in range(1,10):\r\n",
    "            print(\"please enter the valid input\")\r\n",
    "            \r\n",
    "    return(positon)         \r\n",
    "            \r\n",
    "            \r\n",
    " "
   ],
   "outputs": [],
   "metadata": {}
  },
  {
   "cell_type": "code",
   "execution_count": 23,
   "source": [
    "def replay():\r\n",
    "    \r\n",
    "    choice = input(\"please enter if you want to play the game ( 'Y' or 'N'): \")\r\n",
    "    \r\n",
    "    return choice == 'Yes'"
   ],
   "outputs": [],
   "metadata": {}
  },
  {
   "cell_type": "code",
   "execution_count": null,
   "source": [
    "print(\"Welcome to the tik tak toe \")\r\n",
    "\r\n",
    "while True:\r\n",
    "    \r\n",
    "    display_board(board)\r\n",
    "    player1_marker,player2_marker = player_input()\r\n",
    "    turn = choose_first()\r\n",
    "    print(turn + \"will go first\")\r\n",
    "    \r\n",
    "    play_game = input(\"ready to play ? 'Y' or 'N'? : \")\r\n",
    "    \r\n",
    "    if play_game == \"Y\":\r\n",
    "        game_on = True\r\n",
    "    else:\r\n",
    "        game_on = False\r\n",
    "        \r\n",
    "        \r\n",
    "    while game_on:\r\n",
    "        \r\n",
    "        if turn == \"player1\":\r\n",
    "            \r\n",
    "            display_board(board)\r\n",
    "            \r\n",
    "            position = player_choice(board)\r\n",
    "            \r\n",
    "            place_marker(board,player1_marker,position)\r\n",
    "            \r\n",
    "            if win_check(board,player1_marker):\r\n",
    "                display_board(board)\r\n",
    "                print(\"player1 you have won the game\")\r\n",
    "                game_on = False\r\n",
    "            else:\r\n",
    "                if full_board_check(board):\r\n",
    "                    display_board(board)\r\n",
    "                    print(\"TIE GAME!!\")\r\n",
    "                    game_on = False\r\n",
    "                else:\r\n",
    "                    turn = \"player2\"\r\n",
    "                    \r\n",
    "        else:\r\n",
    "            display_board(board)\r\n",
    "            \r\n",
    "            position = player_choice(board)\r\n",
    "            \r\n",
    "            place_marker(board,player2_marker,position)\r\n",
    "            \r\n",
    "            if win_check(board,player2_marker):\r\n",
    "                display_board(board)\r\n",
    "                print(\"player2 you have won the game\")\r\n",
    "                game_on = False\r\n",
    "            else:\r\n",
    "                if full_board_check(board):\r\n",
    "                    display_board(board)\r\n",
    "                    print(\"TIE GAME!!\")\r\n",
    "                    game_on = False\r\n",
    "                else:\r\n",
    "                    turn = \"player1\"  \r\n",
    "                    \r\n",
    "    if not replay():\r\n",
    "        break\r\n",
    "            \r\n",
    "            \r\n",
    "            \r\n",
    "                    \r\n",
    "                \r\n",
    "            \r\n",
    "        \r\n",
    "    \r\n",
    "    \r\n",
    "    \r\n",
    "    \r\n",
    "    \r\n",
    "    \r\n"
   ],
   "outputs": [],
   "metadata": {}
  },
  {
   "cell_type": "markdown",
   "source": [
    "# This is the intheriance of the class from onr class to onther class"
   ],
   "metadata": {}
  },
  {
   "cell_type": "code",
   "execution_count": 19,
   "source": [
    "class animal():\r\n",
    "\r\n",
    "    def __init__(self) -> None:\r\n",
    "        print(\"hello iam an animal\")\r\n",
    "        \r\n",
    "\r\n",
    "    def name(self):\r\n",
    "        print(\"Hello iam an animal!! \")\r\n",
    "\r\n",
    "\r\n",
    "    def age(self):\r\n",
    "        print(\"my age is 10 \")\r\n",
    "\r\n",
    "\r\n",
    "\r\n",
    "\r\n",
    "\r\n",
    "\r\n",
    "\r\n",
    "\r\n",
    "        \r\n",
    "\r\n",
    "    "
   ],
   "outputs": [],
   "metadata": {}
  },
  {
   "cell_type": "code",
   "execution_count": 25,
   "source": [
    "class charecter(animal):\r\n",
    "\r\n",
    "    def __init__(self) -> None:\r\n",
    "        animal.__init__(self)\r\n",
    "        print(\"dog created\")\r\n",
    "\r\n",
    "    def who_am_i(self):\r\n",
    "        print(\"hello iam an neerajs dog\")  \r\n",
    "\r\n",
    "\r\n",
    "mydog = charecter()         \r\n",
    "mydog.name()\r\n",
    "mydog.age()\r\n",
    "\r\n",
    "    "
   ],
   "outputs": [
    {
     "output_type": "stream",
     "name": "stdout",
     "text": [
      "hello iam an animal\n",
      "dog created\n",
      "Hello iam an animal!! \n",
      "my age is 10 \n"
     ]
    }
   ],
   "metadata": {}
  },
  {
   "cell_type": "code",
   "execution_count": 26,
   "source": [
    "mydog.who_am_i()"
   ],
   "outputs": [
    {
     "output_type": "stream",
     "name": "stdout",
     "text": [
      "hello iam an neerajs dog\n"
     ]
    }
   ],
   "metadata": {}
  },
  {
   "cell_type": "code",
   "execution_count": 33,
   "source": [
    "class dog():\r\n",
    "    def __init__(self,name) -> None:\r\n",
    "        self.name = name\r\n",
    "    def speak(self):\r\n",
    "        return self.name + \" hello i am a dog\"\r\n",
    "\r\n",
    "my_dog = dog(\"jimmy\")            \r\n",
    "\r\n",
    "    "
   ],
   "outputs": [],
   "metadata": {}
  },
  {
   "cell_type": "code",
   "execution_count": 34,
   "source": [
    "class cat():\r\n",
    "    def __init__(self,name) -> None:\r\n",
    "        self.name = name\r\n",
    "    def speak(self):\r\n",
    "        return self.name + \" hello i am cat\"    \r\n",
    "my_cat = cat(\"pussy\")        \r\n",
    "    "
   ],
   "outputs": [],
   "metadata": {}
  },
  {
   "cell_type": "code",
   "execution_count": 35,
   "source": [
    "my_dog.speak()\r\n",
    "my_cat.speak()"
   ],
   "outputs": [
    {
     "output_type": "execute_result",
     "data": {
      "text/plain": [
       "'pussy hello i am cat'"
      ]
     },
     "metadata": {},
     "execution_count": 35
    }
   ],
   "metadata": {}
  },
  {
   "cell_type": "code",
   "execution_count": 36,
   "source": [
    "for pet in [my_dog,my_cat]:\r\n",
    "    print(pet.speak())"
   ],
   "outputs": [
    {
     "output_type": "stream",
     "name": "stdout",
     "text": [
      "jimmy hello i am a dog\n",
      "pussy hello i am cat\n"
     ]
    }
   ],
   "metadata": {}
  },
  {
   "cell_type": "code",
   "execution_count": 41,
   "source": [
    "def pet_speak(pet):\r\n",
    "    print(pet.speak())"
   ],
   "outputs": [],
   "metadata": {}
  },
  {
   "cell_type": "code",
   "execution_count": 42,
   "source": [
    "pet_speak(my_dog)"
   ],
   "outputs": [
    {
     "output_type": "stream",
     "name": "stdout",
     "text": [
      "jimmy hello i am a dog\n"
     ]
    }
   ],
   "metadata": {}
  },
  {
   "cell_type": "code",
   "execution_count": 5,
   "source": [
    "class handry():\r\n",
    "    def __init__(self,name,book,number) -> None:\r\n",
    "        self.name  = name \r\n",
    "        self.book = book\r\n",
    "        self.number = number\r\n",
    "        \r\n",
    "\r\n",
    "    def __str__(self) -> str:\r\n",
    "        return \"{} by {} \".format(self.name,self.book)\r\n",
    "\r\n",
    "    def __len__(self):\r\n",
    "        return self.number\r\n",
    "\r\n",
    "\r\n",
    "\r\n",
    "har = handry(\"handry\",\"hello\",50)   \r\n",
    "print(har)\r\n",
    "len(har)\r\n",
    "\r\n",
    "\r\n",
    "\r\n",
    "\r\n",
    "\r\n",
    "        \r\n",
    "        \r\n",
    "\r\n",
    "         \r\n",
    "        \r\n",
    "    "
   ],
   "outputs": [
    {
     "output_type": "stream",
     "name": "stdout",
     "text": [
      "handry by hello \n"
     ]
    },
    {
     "output_type": "execute_result",
     "data": {
      "text/plain": [
       "50"
      ]
     },
     "metadata": {},
     "execution_count": 5
    }
   ],
   "metadata": {}
  },
  {
   "cell_type": "code",
   "execution_count": 27,
   "source": [
    "import math\r\n",
    "\r\n",
    "class line:\r\n",
    "\r\n",
    "    def __init__(self,cordinate1,cordinate2) -> None:\r\n",
    "        self.cordinate1 = cordinate1\r\n",
    "        self.cordinate2 = cordinate2\r\n",
    "    def distance(self):\r\n",
    "        return math.sqrt((self.cordinate2[0]-self.cordinate1[0])**2+(self.cordinate2[1]-self.cordinate1[1])**2)\r\n",
    "\r\n",
    "    def slope(self):\r\n",
    "        return ((self.cordinate2[1]-self.cordinate1[1])/(self.cordinate2[0]-self.cordinate1[0]))    \r\n",
    "cordinate1 = (3,2)\r\n",
    "cordinate2 = (8,10)\r\n",
    "li = line(cordinate1,cordinate2)\r\n",
    "\r\n",
    "         \r\n",
    "    "
   ],
   "outputs": [],
   "metadata": {}
  },
  {
   "cell_type": "code",
   "execution_count": 28,
   "source": [
    "li.distance()\r\n",
    "li.slope()"
   ],
   "outputs": [
    {
     "output_type": "execute_result",
     "data": {
      "text/plain": [
       "1.6"
      ]
     },
     "metadata": {},
     "execution_count": 28
    }
   ],
   "metadata": {}
  },
  {
   "cell_type": "code",
   "execution_count": 32,
   "source": [
    "import math\r\n",
    "pie = math.pi\r\n",
    "class cylinder():\r\n",
    "    def __init__(self,radius,height) -> None:\r\n",
    "        self.radius = radius\r\n",
    "        self.height = height\r\n",
    "\r\n",
    "    def volume(self):\r\n",
    "        return (pie*self.radius*self.radius*self.height)     \r\n",
    "\r\n",
    "    def surface_area(self):\r\n",
    "        return (2*pie*self.radius*self.height+2*pie*self.radius*self.radius)   \r\n",
    "\r\n",
    "\r\n",
    "cyl = cylinder(12,3)      \r\n",
    "\r\n",
    "cyl.volume()\r\n",
    "\r\n",
    "\r\n",
    "\r\n",
    "\r\n",
    "        \r\n",
    "\r\n",
    "        "
   ],
   "outputs": [
    {
     "output_type": "execute_result",
     "data": {
      "text/plain": [
       "1357.1680263507906"
      ]
     },
     "metadata": {},
     "execution_count": 32
    }
   ],
   "metadata": {}
  },
  {
   "cell_type": "code",
   "execution_count": 33,
   "source": [
    "cyl.surface_area()"
   ],
   "outputs": [
    {
     "output_type": "execute_result",
     "data": {
      "text/plain": [
       "1130.9733552923256"
      ]
     },
     "metadata": {},
     "execution_count": 33
    }
   ],
   "metadata": {}
  },
  {
   "cell_type": "code",
   "execution_count": 7,
   "source": [
    "class bank_account:\r\n",
    "\r\n",
    "    def __init__(self,owner,deposit,withdraw,balance = 0) -> None:\r\n",
    "        self.owner = owner\r\n",
    "        self.deposit = deposit\r\n",
    "        self.balance = balance\r\n",
    "        self.withdraw = withdraw\r\n",
    "\r\n",
    "    def depo(self):\r\n",
    "        print(\"Hello {} you have sucessfully created your bank account and the your balance is {}\".format(self.owner,self.balance))  \r\n",
    "        self.balance = self.deposit + self.balance\r\n",
    "        print(\"your account balance is {}\".format(self.balance))\r\n",
    "\r\n",
    "    def withd(self):\r\n",
    "        if self.balance < self.withdraw :\r\n",
    "            \r\n",
    "            print(\"soory you dont have enough amount in your account\")\r\n",
    "        else:\r\n",
    "            self.balance = self.balance - self.withdraw\r\n",
    "            print(\"your account balance after transaction is {} :\".format(self.balance))\r\n",
    "                \r\n",
    "                \r\n",
    "\r\n",
    "\r\n",
    "s = input(\"Enter the name of your bank account: \")\r\n",
    "p = int(input(\"Enter the amount that you want to deposit:\"))\r\n",
    "q = int(input(\"Enter the amount that you want to withdraw:\"))\r\n",
    "\r\n",
    "account = bank_account(s,p,q)\r\n",
    "account.depo()\r\n",
    "account.withd()\r\n",
    "\r\n",
    "\r\n",
    "\r\n",
    "\r\n",
    "\r\n",
    "\r\n"
   ],
   "outputs": [
    {
     "output_type": "stream",
     "name": "stdout",
     "text": [
      "Hello Neeraj you have sucessfully created your bank account and the your balance is 0\n",
      "your account balance is 100\n",
      "your account balance after transaction is 50 :\n"
     ]
    }
   ],
   "metadata": {}
  },
  {
   "cell_type": "code",
   "execution_count": 1,
   "source": [
    "for i in range(10):\r\n",
    "    print(i)"
   ],
   "outputs": [
    {
     "output_type": "stream",
     "name": "stdout",
     "text": [
      "0\n",
      "1\n",
      "2\n",
      "3\n",
      "4\n",
      "5\n",
      "6\n",
      "7\n",
      "8\n",
      "9\n"
     ]
    }
   ],
   "metadata": {}
  },
  {
   "cell_type": "code",
   "execution_count": 1,
   "source": [
    "import random\r\n",
    "suits = (\"clubs\",\"diamond\",\"hearts\",\"spades\")\r\n",
    "rank = (\"two\",\"three\",\"four\",\"five\",\"six\",\"seven\",\"eight\",\"nine\",\"ten\",\"jack\",\"queen\",\"king\",\"ace\")\r\n",
    "values = {\"two\":2,\"three\":3,\"four\":4,\"five\":5,\"six\":6,\"seven\":7,\"eight\":8,\"nine\":9,\"ten\":10,\"jack\":11,\"queen\":12,\"king\":13,\"ace\":14}"
   ],
   "outputs": [],
   "metadata": {}
  },
  {
   "cell_type": "code",
   "execution_count": 2,
   "source": [
    "class cards():\r\n",
    "\r\n",
    "    def __init__(self,suits,rank) -> None:\r\n",
    "        self.suits = suits\r\n",
    "        self.rank = rank\r\n",
    "        self.value = values[rank]\r\n",
    "\r\n",
    "    def __str__(self) -> str:\r\n",
    "        return self.rank +  \" of \" + self.suits\r\n",
    "\r\n",
    "\r\n",
    "#obj1 = cards(\"spades\",\"three\")\r\n",
    "#print(obj1)\r\n",
    "#obj1.suits\r\n",
    "#obj1.rank\r\n",
    "#obj1.value    \r\n",
    "\r\n",
    "\r\n",
    "            \r\n",
    "        "
   ],
   "outputs": [],
   "metadata": {}
  },
  {
   "cell_type": "code",
   "execution_count": 3,
   "source": [
    "class deck():\r\n",
    "\r\n",
    "    def __init__(self) -> None:\r\n",
    "        self.all_cards = []\r\n",
    "\r\n",
    "\r\n",
    "        for suit in suits:\r\n",
    "            for ranks in rank:\r\n",
    "\r\n",
    "                my_cards = cards(suit,ranks)\r\n",
    "\r\n",
    "                self.all_cards.append(my_cards)\r\n",
    "\r\n",
    "\r\n",
    "    def shuffle(self):\r\n",
    "\r\n",
    "        random.shuffle(self.all_cards)\r\n",
    "\r\n",
    "    def deal_one(self):\r\n",
    "        return self.all_cards.pop()    \r\n",
    "        \r\n",
    "                    \r\n",
    "\r\n",
    "#my_deck = deck()\r\n",
    "#my_cards = my_deck.all_cards[0]\r\n",
    "#print(my_cards)\r\n",
    "# another way of doing it is \r\n",
    "#for my_cards in my_deck.all_cards:\r\n",
    "    #print(my_cards)\r\n",
    "\r\n",
    "#my_deck.shuffle()\r\n",
    "#print(my_deck.all_cards[0])\r\n",
    "\r\n",
    "\r\n",
    "#print(my_deck.deal_one())\r\n",
    "\r\n",
    "\r\n",
    "\r\n",
    "\r\n",
    "\r\n",
    "            \r\n",
    "                \r\n",
    "\r\n",
    "\r\n",
    "                \r\n",
    "\r\n",
    "        \r\n",
    "        \r\n",
    "        "
   ],
   "outputs": [],
   "metadata": {}
  },
  {
   "cell_type": "code",
   "execution_count": 4,
   "source": [
    "class player():\r\n",
    "\r\n",
    "    def __init__(self,name) -> None:\r\n",
    "        self.name = name\r\n",
    "        self.all_cards = []\r\n",
    "\r\n",
    "    def remove_one(self):\r\n",
    "        return self.all_cards.pop(0)\r\n",
    "\r\n",
    "    def add_cards(self,new_cards):\r\n",
    "        if type(new_cards) == type([]):\r\n",
    "            self.all_cards.extend(new_cards)\r\n",
    "        else:\r\n",
    "            self.all_cards.append(new_cards)\r\n",
    "\r\n",
    "\r\n",
    "    def __str__(self) -> str:\r\n",
    "        return f'player {self.name} has {len(self.all_cards)} cards.' # use the retun here\r\n",
    "\r\n",
    "#new_player = player(\"neeraj\")\r\n",
    "#print(new_player)\r\n",
    "\r\n",
    "#new_player.add_cards(my_deck.deal_one()) # to add the cards\r\n",
    "#print(new_player)\r\n",
    "\r\n",
    "#new_player.remove_one() #to remove the cards \r\n",
    "#print(new_player)\r\n",
    "\r\n",
    "#new_player.add_cards([my_deck.deal_one(),my_deck.deal_one()])\r\n",
    "#print(new_player)\r\n",
    "\r\n",
    "\r\n",
    "\r\n",
    "\r\n",
    "\r\n",
    "        \r\n",
    "\r\n",
    "                \r\n",
    "\r\n",
    "\r\n",
    "\r\n",
    "\r\n",
    "\r\n",
    "            \r\n",
    "\r\n",
    "        "
   ],
   "outputs": [],
   "metadata": {}
  },
  {
   "cell_type": "code",
   "execution_count": 5,
   "source": [
    "# game setup\r\n",
    "player_one = player(\"one\")\r\n",
    "player_two = player(\"two\")\r\n",
    "\r\n",
    "my_deck = deck()\r\n",
    "my_deck.shuffle()\r\n",
    "\r\n",
    "for x  in range(26):\r\n",
    "    player_one.add_cards(my_deck.deal_one())\r\n",
    "    player_two.add_cards(my_deck.deal_one())    \r\n"
   ],
   "outputs": [],
   "metadata": {}
  },
  {
   "cell_type": "code",
   "execution_count": null,
   "source": [
    "game_on = True\r\n",
    "round_num = 0\r\n",
    "\r\n",
    "while game_on:\r\n",
    "    round_num += 1\r\n",
    "\r\n",
    "    if len(player_one.all_cards) == 0:\r\n",
    "        print(\"player one out of the cards!!,player two wins the game \")\r\n",
    "        game_on = False\r\n",
    "        break\r\n",
    "\r\n",
    "    if len(player_two.all_cards) == 0:\r\n",
    "        print(\"player two is out of the cards!!,player one has won the game \") \r\n",
    "        game_on  = False\r\n",
    "        break\r\n",
    "\r\n",
    "    # the new game starts here\r\n",
    "    player1 = []\r\n",
    "    player1.append(player_one.remove_one())\r\n",
    "\r\n",
    "    player2 = []\r\n",
    "    player2.append(player_two.remove_one())\r\n",
    "\r\n",
    "\r\n",
    "    at_war = True\r\n",
    "    while at_war:\r\n",
    "        \r\n",
    "        if player1[-1].value > player2[-1].value:\r\n",
    "            player_one.add_cards(player1)\r\n",
    "            player_one.add_cards(player2)\r\n",
    "\r\n",
    "        elif player1[-1].value < player2[-1].value:\r\n",
    "            player_two.add_cards(player1)\r\n",
    "            player_two.add_cards(player2)   \r\n",
    "\r\n",
    "        else:\r\n",
    "            print(\"at war\")\r\n",
    "\r\n",
    "            if len(player_one.all_cards) < 5:\r\n",
    "                print(\"The player one has lost the game , player two wins!! \")    \r\n",
    "                at_war = False\r\n",
    "                break\r\n",
    "\r\n",
    "            elif len(player_two.all_cards) < 5:\r\n",
    "                print(\"The player two has lost the game , player one wins!! \")    \r\n",
    "                at_war = False\r\n",
    "                break\r\n",
    "\r\n",
    "            else:\r\n",
    "                for num in range(3):\r\n",
    "                    player1.append(player_one.remove_one())\r\n",
    "                    player2.append(player_two.remove_one())\r\n",
    "\r\n",
    "\r\n",
    "\r\n",
    "\r\n",
    "\r\n",
    "\r\n",
    "    \r\n",
    "\r\n",
    "\r\n",
    "\r\n",
    "\r\n",
    "\r\n",
    "\r\n",
    "\r\n"
   ],
   "outputs": [],
   "metadata": {}
  },
  {
   "cell_type": "code",
   "execution_count": null,
   "source": [],
   "outputs": [],
   "metadata": {}
  },
  {
   "cell_type": "code",
   "execution_count": null,
   "source": [],
   "outputs": [],
   "metadata": {}
  },
  {
   "cell_type": "code",
   "execution_count": null,
   "source": [],
   "outputs": [],
   "metadata": {}
  },
  {
   "cell_type": "code",
   "execution_count": null,
   "source": [],
   "outputs": [],
   "metadata": {}
  },
  {
   "cell_type": "code",
   "execution_count": null,
   "source": [],
   "outputs": [],
   "metadata": {}
  },
  {
   "cell_type": "code",
   "execution_count": null,
   "source": [],
   "outputs": [],
   "metadata": {}
  },
  {
   "cell_type": "code",
   "execution_count": null,
   "source": [],
   "outputs": [],
   "metadata": {}
  },
  {
   "cell_type": "code",
   "execution_count": null,
   "source": [],
   "outputs": [],
   "metadata": {}
  },
  {
   "cell_type": "code",
   "execution_count": null,
   "source": [],
   "outputs": [],
   "metadata": {}
  },
  {
   "cell_type": "code",
   "execution_count": null,
   "source": [],
   "outputs": [],
   "metadata": {}
  },
  {
   "cell_type": "code",
   "execution_count": null,
   "source": [],
   "outputs": [],
   "metadata": {}
  },
  {
   "cell_type": "code",
   "execution_count": null,
   "source": [],
   "outputs": [],
   "metadata": {}
  },
  {
   "cell_type": "code",
   "execution_count": null,
   "source": [],
   "outputs": [],
   "metadata": {}
  },
  {
   "cell_type": "code",
   "execution_count": null,
   "source": [],
   "outputs": [],
   "metadata": {}
  },
  {
   "cell_type": "code",
   "execution_count": null,
   "source": [],
   "outputs": [],
   "metadata": {}
  },
  {
   "cell_type": "code",
   "execution_count": null,
   "source": [],
   "outputs": [],
   "metadata": {}
  }
 ],
 "metadata": {
  "interpreter": {
   "hash": "42588fd11209419b7c81abe23e31a1d2101f60811b02170c268e57ebb57d5d9a"
  },
  "kernelspec": {
   "name": "python3",
   "display_name": "Python 3.8.8 64-bit ('base': conda)"
  },
  "language_info": {
   "codemirror_mode": {
    "name": "ipython",
    "version": 3
   },
   "file_extension": ".py",
   "mimetype": "text/x-python",
   "name": "python",
   "nbconvert_exporter": "python",
   "pygments_lexer": "ipython3",
   "version": "3.8.8"
  }
 },
 "nbformat": 4,
 "nbformat_minor": 5
}