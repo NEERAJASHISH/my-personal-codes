{
 "cells": [
  {
   "cell_type": "markdown",
   "id": "3216a3b8",
   "metadata": {},
   "source": [
    " # object oriented programming assignment 2"
   ]
  },
  {
   "cell_type": "code",
   "execution_count": 2,
   "id": "43d3a8d8",
   "metadata": {
    "scrolled": true
   },
   "outputs": [
    {
     "name": "stdout",
     "output_type": "stream",
     "text": [
      "Enter the name of the account holder:neeraj\n",
      "Enter the amount that you want to deposit:1000\n",
      "Enter the amount that you want to withdraw:2000\n",
      "The balance is -1000\n",
      "you have insufficient fund ....brainless!!\n"
     ]
    }
   ],
   "source": [
    "class account():\n",
    "    \n",
    "    def __init__(self,owner,balance,deposit,withdraw):\n",
    "        self.owner = owner\n",
    "        self.balance = balance\n",
    "        self.deposit = deposit\n",
    "        self.withdraw = withdraw\n",
    "    def config1(self):\n",
    "        self.balance = self.balance + self.deposit\n",
    "        \n",
    "       \n",
    "    def config2(self):\n",
    "        if self.balance >= self.withdraw:\n",
    "            self.balance = self.balance - self.withdraw\n",
    "            print(\"The balance of the account holder is {}\".format(self.balance))\n",
    "            print(\"withdrwal successfull :)\")\n",
    "            \n",
    "        elif self.balance < self.withdraw:\n",
    "            self.balance = self.balance - self.withdraw\n",
    "            print(\"The balance is {}\".format(self.balance))\n",
    "            print(\"you have insufficient fund ....brainless!!\")\n",
    "           \n",
    "            \n",
    "            \n",
    "            \n",
    "            \n",
    "    \n",
    "    \n",
    "            \n",
    "        \n",
    "      \n",
    "\n",
    "q = str(input(\"Enter the name of the account holder:\"))\n",
    "w = int(input(\"Enter the amount that you want to deposit:\"))\n",
    "e = int(input(\"Enter the amount that you want to withdraw:\"))\n",
    "\n",
    "        \n",
    "        \n",
    "        \n",
    "        \n",
    "omr = account(q,0,w,e)\n",
    "\n",
    "omr.config1()\n",
    "omr.config2()\n",
    "\n",
    "\n",
    "\n",
    "\n",
    "\n",
    "\n",
    "        \n",
    "        \n",
    "        "
   ]
  },
  {
   "cell_type": "markdown",
   "id": "086d813b",
   "metadata": {},
   "source": [
    "# EXCEPTION HANDLING AND CREATING A FILE"
   ]
  },
  {
   "cell_type": "code",
   "execution_count": 1,
   "id": "11fee9f5",
   "metadata": {},
   "outputs": [
    {
     "name": "stdout",
     "output_type": "stream",
     "text": [
      "20\n",
      "this statement will be excecuted if there is error also\n"
     ]
    }
   ],
   "source": [
    "try:\n",
    "    result = 10 + 10 \n",
    "except:\n",
    "    print(\"hey its looks like you are making some mistakes!!\")\n",
    "    \n",
    "else:\n",
    "    print(result)\n",
    "finally:\n",
    "    print(\"this statement will be excecuted if there is error also\")\n",
    "    "
   ]
  },
  {
   "cell_type": "code",
   "execution_count": 2,
   "id": "6f0c298d",
   "metadata": {},
   "outputs": [
    {
     "name": "stdout",
     "output_type": "stream",
     "text": [
      "hey its looks like you are making some mistakes!!\n",
      "this statement will be excecuted if there is error also\n"
     ]
    }
   ],
   "source": [
    "try:\n",
    "    result = 10 + \"10\" \n",
    "except:\n",
    "    print(\"hey its looks like you are making some mistakes!!\")\n",
    "    \n",
    "else:\n",
    "    print(result)\n",
    "finally:\n",
    "    print(\"this statement will be excecuted if there is error also\")\n",
    "    "
   ]
  },
  {
   "cell_type": "code",
   "execution_count": 19,
   "id": "a22bc238",
   "metadata": {},
   "outputs": [
    {
     "ename": "NameError",
     "evalue": "name 'testfile' is not defined",
     "output_type": "error",
     "traceback": [
      "\u001b[1;31m---------------------------------------------------------------------------\u001b[0m",
      "\u001b[1;31mNameError\u001b[0m                                 Traceback (most recent call last)",
      "\u001b[1;32m<ipython-input-19-98dc4db5f458>\u001b[0m in \u001b[0;36m<module>\u001b[1;34m\u001b[0m\n\u001b[1;32m----> 1\u001b[1;33m \u001b[0mf\u001b[0m \u001b[1;33m=\u001b[0m \u001b[0mopen\u001b[0m\u001b[1;33m(\u001b[0m\u001b[0mtestfile\u001b[0m\u001b[1;33m.\u001b[0m\u001b[0mpy\u001b[0m\u001b[1;33m)\u001b[0m\u001b[1;33m\u001b[0m\u001b[1;33m\u001b[0m\u001b[0m\n\u001b[0m",
      "\u001b[1;31mNameError\u001b[0m: name 'testfile' is not defined"
     ]
    }
   ],
   "source": [
    "f = open(testfile.py)"
   ]
  },
  {
   "cell_type": "code",
   "execution_count": 9,
   "id": "76893991",
   "metadata": {},
   "outputs": [
    {
     "name": "stdout",
     "output_type": "stream",
     "text": [
      "print(\"hello\")\n",
      "\n"
     ]
    }
   ],
   "source": [
    "# opening a text file\n",
    "f = open(\"testfile.txt\",\"r\")\n",
    "for i in f:\n",
    "    print(i)\n",
    "\n",
    "\n"
   ]
  },
  {
   "cell_type": "code",
   "execution_count": 11,
   "id": "f7324998",
   "metadata": {},
   "outputs": [
    {
     "name": "stdout",
     "output_type": "stream",
     "text": [
      "the file doesnot exist\n"
     ]
    }
   ],
   "source": [
    "# file not found erroe\n",
    "try:\n",
    "    f = open(\"samplefile.txt\",\"r\")\n",
    "except FileNotFoundError:\n",
    "    print(\"the file doesnot exist\")\n",
    "    \n",
    "\n",
    "    \n"
   ]
  },
  {
   "cell_type": "code",
   "execution_count": 32,
   "id": "ec48c4c7",
   "metadata": {},
   "outputs": [
    {
     "name": "stdout",
     "output_type": "stream",
     "text": [
      "\n",
      "\n",
      "Hello how are you\n"
     ]
    }
   ],
   "source": [
    "#the file has been overwrited\n",
    "\n",
    "f = open(\"testfile.txt\",\"r\")\n",
    "for i in f.readlines():\n",
    "    print(i)"
   ]
  },
  {
   "cell_type": "code",
   "execution_count": 40,
   "id": "9a5dd6a5",
   "metadata": {},
   "outputs": [
    {
     "data": {
      "text/plain": [
       "'this is a file '"
      ]
     },
     "execution_count": 40,
     "metadata": {},
     "output_type": "execute_result"
    }
   ],
   "source": [
    "# writing into a file\n",
    "fh = open(\"hello.txt\",\"w\")\n",
    "fh.write(\"this is a file \")\n",
    "fh = open(\"hello.txt\",\"r\")\n",
    "fh.read()"
   ]
  },
  {
   "cell_type": "code",
   "execution_count": 41,
   "id": "c7702bd7",
   "metadata": {},
   "outputs": [
    {
     "name": "stdout",
     "output_type": "stream",
     "text": [
      "there is an os error\n",
      "there are no errors\n"
     ]
    }
   ],
   "source": [
    "#this is an os error \n",
    "try:\n",
    "    tel = open(\"filer\",\"r\")  #--> here the os  error ocuurs \n",
    "    tel.write(\"hello how are you \")\n",
    "    \n",
    "except OSError:\n",
    "    print(\"there is an os error\")\n",
    "    \n",
    "except TypeError:\n",
    "    print(\"there is an type error\")\n",
    "finally:\n",
    "    print(\"there are no errors\")\n",
    "    \n",
    "        \n",
    "        \n",
    "        \n",
    "        \n",
    "\n"
   ]
  },
  {
   "cell_type": "code",
   "execution_count": 38,
   "id": "334bc728",
   "metadata": {},
   "outputs": [],
   "source": [
    "# valueerror\n",
    "def checkifint():\n",
    "    try:\n",
    "        t = int(input(\"enter a num:\"))\n",
    "    except ValueError:\n",
    "        print(\"This gives an value error\")\n",
    "    finally:\n",
    "        print(\"hello\")\n",
    "    "
   ]
  },
  {
   "cell_type": "code",
   "execution_count": 40,
   "id": "1640ce43",
   "metadata": {
    "scrolled": true
   },
   "outputs": [
    {
     "name": "stdout",
     "output_type": "stream",
     "text": [
      "enter a num:hello\n",
      "this gives an value error\n",
      "hello\n"
     ]
    }
   ],
   "source": [
    "checkifint()"
   ]
  },
  {
   "cell_type": "code",
   "execution_count": 41,
   "id": "1e4bd054",
   "metadata": {},
   "outputs": [],
   "source": [
    "def intiger():\n",
    "    while True:\n",
    "        try:\n",
    "            p = int(input(\"enter a number:\"))\n",
    "        except:\n",
    "            print(\"please enter an valid input!\")\n",
    "        else:\n",
    "            print(\"great\")\n",
    "            break\n",
    "        finally:\n",
    "            print('done:)')"
   ]
  },
  {
   "cell_type": "code",
   "execution_count": 44,
   "id": "608b15be",
   "metadata": {
    "scrolled": true
   },
   "outputs": [
    {
     "name": "stdout",
     "output_type": "stream",
     "text": [
      "enter a number:h\n",
      "please enter an valid input!\n",
      "done:)\n",
      "enter a number:5\n",
      "great\n",
      "done:)\n"
     ]
    }
   ],
   "source": [
    " intiger()"
   ]
  },
  {
   "cell_type": "markdown",
   "id": "7dc3ef2e",
   "metadata": {},
   "source": [
    "# assignment of exception handling"
   ]
  },
  {
   "cell_type": "code",
   "execution_count": 51,
   "id": "400d14f4",
   "metadata": {},
   "outputs": [
    {
     "name": "stdout",
     "output_type": "stream",
     "text": [
      "you have an error\n"
     ]
    }
   ],
   "source": [
    "# exception handling assignment\n",
    "try:\n",
    "    for i in [\"hello\",\"how are you\",\"there\"]:\n",
    "        print(i**2)\n",
    "\n",
    "except TypeError:\n",
    "    print(\"you have an error\")\n"
   ]
  },
  {
   "cell_type": "code",
   "execution_count": 82,
   "id": "fc17fb4f",
   "metadata": {},
   "outputs": [
    {
     "name": "stdout",
     "output_type": "stream",
     "text": [
      "1.0\n",
      "you have the answer above \n"
     ]
    }
   ],
   "source": [
    "# ZeroDivisionError  \n",
    "x = 5\n",
    "y = 5\n",
    "try:\n",
    "    z = x/y\n",
    "    print(z)\n",
    "except ZeroDivisionError:\n",
    "    print(\"you have error\")\n",
    "else:\n",
    "    print(\"you have the answer above \")\n",
    "\n",
    "    \n",
    "    "
   ]
  },
  {
   "cell_type": "code",
   "execution_count": 2,
   "id": "4742881d",
   "metadata": {},
   "outputs": [],
   "source": [
    "def square():\n",
    "    while True:\n",
    "        try:\n",
    "            t = int(input(\"Enter the number:\"))\n",
    "            square = (t**2)\n",
    "            print(square)\n",
    "            break\n",
    "        except ValueError:\n",
    "            print(\"you have the value error\")\n",
    "        finally:\n",
    "            print(\"you have the output\")"
   ]
  },
  {
   "cell_type": "code",
   "execution_count": 3,
   "id": "8f5e4273",
   "metadata": {},
   "outputs": [
    {
     "name": "stdout",
     "output_type": "stream",
     "text": [
      "Enter the number:4\n",
      "16\n",
      "you have the output\n"
     ]
    }
   ],
   "source": [
    " square()"
   ]
  },
  {
   "cell_type": "code",
   "execution_count": 4,
   "id": "39869eae",
   "metadata": {},
   "outputs": [
    {
     "data": {
      "text/plain": [
       "'\\nplease enter\\n'"
      ]
     },
     "execution_count": 4,
     "metadata": {},
     "output_type": "execute_result"
    }
   ],
   "source": [
    "'''\n",
    "please enter\n",
    "'''"
   ]
  },
  {
   "cell_type": "markdown",
   "id": "c9d14916",
   "metadata": {},
   "source": [
    "# MILE STONE PROJECT 2"
   ]
  },
  {
   "cell_type": "code",
   "execution_count": 1,
   "id": "25ea0f7c",
   "metadata": {},
   "outputs": [],
   "source": [
    "import random\n",
    "suit = (\"spades\",\"club\",\"heart\",\"diamond\")\n",
    "rank = (\"two\",\"three\",\"four\",\"five\",\"six\",\"seven\",\"eight\",\"nine\",\"ten\",\"jack\",\"queen\",\"king\",\"ace\")\n",
    "values = {\"two\":2,\"three\":3,\"four\":4,\"five\":5,\"six\":6,\"seven\":7,\"eight\":8,\"nine\":9,\"ten\":10,\"jack\":11,\"queen\":12,\"king\":13,\"ace\":14}"
   ]
  },
  {
   "cell_type": "code",
   "execution_count": 2,
   "id": "7b964076",
   "metadata": {},
   "outputs": [],
   "source": [
    "class card():\n",
    "    def __init__(self,suit,rank):\n",
    "        self.suit = suit\n",
    "        self.rank = rank\n",
    "        self.value = values[rank]\n",
    "    def __str__(self): \n",
    "        return self.rank + \" of \" + self.suit\n",
    "    \n",
    "#three_clubs = card(\"club\",\"three\")\n",
    "#three_clubs.__str__()\n",
    "#print(three_clubs)\n",
    "#three_clubs.value\n",
    "    \n",
    "        \n",
    "         "
   ]
  },
  {
   "cell_type": "code",
   "execution_count": 3,
   "id": "31cd13cd",
   "metadata": {},
   "outputs": [],
   "source": [
    "class deck():\n",
    "    \n",
    "    def __init__(self):\n",
    "        self.all_cards = []\n",
    "        \n",
    "        for suits in suit:\n",
    "            for ranks in rank:\n",
    "                \n",
    "                created_card = card(suits,ranks)\n",
    "                self.all_cards.append(created_card)\n",
    "                \n",
    "    def shuffle(self):\n",
    "        random.shuffle(self.all_cards)\n",
    "        \n",
    "    def deal_one(self):\n",
    "        return self.all_cards.pop()\n",
    "                \n",
    "                \n",
    "                \n",
    "                \n",
    "#new_deck = deck()\n",
    "#print(new_deck.all_cards[-1])\n",
    "#new_deck.shuffle()\n",
    "#print(new_deck.all_cards[0]) # randomly printed \n",
    "#new_deck.deal_one()\n",
    "#print(new_deck.deal_one())\n",
    "\n",
    "\n",
    "                \n",
    "                 \n",
    "        \n",
    "        \n",
    "            \n",
    "         "
   ]
  },
  {
   "cell_type": "code",
   "execution_count": 4,
   "id": "29e79cee",
   "metadata": {
    "scrolled": true
   },
   "outputs": [],
   "source": [
    "#for card_object in new_deck.all_cards:\n",
    "    #print (card_object)"
   ]
  },
  {
   "cell_type": "code",
   "execution_count": 4,
   "id": "5c05995e",
   "metadata": {},
   "outputs": [],
   "source": [
    "class player():\n",
    "    \n",
    "    \n",
    "    def __init__(self,name):\n",
    "        self.name = name\n",
    "        self.all_cards = []\n",
    "        \n",
    "    def remove_one(self):\n",
    "        return self.all_cards.pop(0)\n",
    "    \n",
    "    \n",
    "    def add_cards(self,new_cards):\n",
    "        if type(new_cards) == type([]):\n",
    "            self.all_cards.extend(new_cards)\n",
    "        else:\n",
    "            self.all_cards.append(new_cards)\n",
    "    def __str__(self):\n",
    "        return  f'player {self.name} has {len(self.all_cards)} cards'\n",
    "    \n",
    "#new_player  =  player(\"jose\") # object\n",
    "#print(new_player)\n",
    "#new_player.add_cards(card_object)\n",
    "#print(new_player)\n",
    "\n",
    "\n",
    "\n",
    "\n",
    "\n",
    "\n",
    "        \n",
    "        "
   ]
  },
  {
   "cell_type": "code",
   "execution_count": null,
   "id": "65901399",
   "metadata": {},
   "outputs": [],
   "source": [
    "# GAME SETUP\n"
   ]
  },
  {
   "cell_type": "code",
   "execution_count": 5,
   "id": "a1c0be83",
   "metadata": {},
   "outputs": [],
   "source": [
    "player_one = player(\"one\")\n",
    "player_two = player(\"two\")\n",
    "\n",
    "new_deck = deck()\n",
    "new_deck.shuffle() \n",
    "\n",
    "for x in range(26):\n",
    "    player_one.add_cards(new_deck.deal_one())\n",
    "    player_two.add_cards(new_deck.deal_one())\n",
    "\n"
   ]
  },
  {
   "cell_type": "code",
   "execution_count": 16,
   "id": "d09b8b39",
   "metadata": {},
   "outputs": [
    {
     "name": "stdout",
     "output_type": "stream",
     "text": [
      "jack of diamond\n"
     ]
    },
    {
     "data": {
      "text/plain": [
       "26"
      ]
     },
     "execution_count": 16,
     "metadata": {},
     "output_type": "execute_result"
    }
   ],
   "source": [
    "#print(player_one.all_cards[0])\n",
    "#len(player_one.all_cards)"
   ]
  },
  {
   "cell_type": "code",
   "execution_count": 6,
   "id": "fc995034",
   "metadata": {},
   "outputs": [
    {
     "name": "stdout",
     "output_type": "stream",
     "text": [
      "round is 1\n",
      "round is 2\n",
      "round is 3\n",
      "round is 4\n",
      "at war!\n",
      "at war!\n",
      "round is 5\n",
      "round is 6\n",
      "round is 7\n",
      "round is 8\n",
      "round is 9\n",
      "round is 10\n",
      "round is 11\n",
      "round is 12\n",
      "round is 13\n",
      "round is 14\n",
      "round is 15\n",
      "round is 16\n",
      "round is 17\n",
      "round is 18\n",
      "round is 19\n",
      "round is 20\n",
      "round is 21\n",
      "round is 22\n",
      "round is 23\n",
      "round is 24\n",
      "round is 25\n",
      "round is 26\n",
      "round is 27\n",
      "round is 28\n",
      "round is 29\n",
      "round is 30\n",
      "round is 31\n",
      "round is 32\n",
      "round is 33\n",
      "at war!\n",
      "at war!\n",
      "round is 34\n",
      "round is 35\n",
      "round is 36\n",
      "round is 37\n",
      "round is 38\n",
      "round is 39\n",
      "round is 40\n",
      "round is 41\n",
      "round is 42\n",
      "round is 43\n",
      "round is 44\n",
      "round is 45\n",
      "round is 46\n",
      "round is 47\n",
      "round is 48\n",
      "round is 49\n",
      "round is 50\n",
      "round is 51\n",
      "round is 52\n",
      "round is 53\n",
      "round is 54\n",
      "round is 55\n",
      "round is 56\n",
      "round is 57\n",
      "round is 58\n",
      "round is 59\n",
      "at war!\n",
      "at war!\n",
      "round is 60\n",
      "round is 61\n",
      "round is 62\n",
      "round is 63\n",
      "at war!\n",
      "round is 64\n",
      "player one is out of cards,player two  has won the game\n"
     ]
    }
   ],
   "source": [
    "game_on = True\n",
    "round_num = 0\n",
    "\n",
    "while game_on:\n",
    "    round_num = round_num + 1\n",
    "    print(f'round is {round_num}')\n",
    "    \n",
    "    if len(player_one.all_cards) == 0:\n",
    "        print(\"player one is out of cards,player two  has won the game\")\n",
    "        game_on = False\n",
    "        break\n",
    "    if len(player_two.all_cards) == 0:\n",
    "        print(\"player two is out of cards,player one has won the game\")\n",
    "        game_on = False\n",
    "        break\n",
    "        \n",
    "    # the start of the game\n",
    "    player_one_cards = []\n",
    "    player_one_cards.append(player_one.remove_one())\n",
    "    \n",
    "    player_two_cards = []\n",
    "    player_two_cards.append(player_two.remove_one())\n",
    "    \n",
    "    at_war = True\n",
    "    \n",
    "    while at_war:\n",
    "        if player_one_cards[-1].value > player_two_cards[-1].value:\n",
    "            \n",
    "            player_one.add_cards(player_one_cards)\n",
    "            player_one.add_cards(player_two_cards)\n",
    "            \n",
    "            at_war = False\n",
    "        elif player_one_cards[-1].value < player_two_cards[-1].value:\n",
    "            \n",
    "            player_two.add_cards(player_two_cards)\n",
    "            player_two.add_cards(player_one_cards)\n",
    "            at_war = False\n",
    "            \n",
    "        else:\n",
    "            print(\"at war!\")\n",
    "            \n",
    "            if len(player_one.all_cards) < 3:\n",
    "                print(\"player one is unable to declare war\")\n",
    "                print(\"the player two has won the game !!\")\n",
    "                \n",
    "            if len(player_two.all_cards) < 3:\n",
    "                print(\"player two is unable to declare war\")\n",
    "                print(\"the player one has won the game !!\")\n",
    "                \n",
    "            else:\n",
    "                for i in range(3):\n",
    "                    player_one_cards.append(player_one.remove_one())\n",
    "                    player_two_cards.append(player_two.remove_one())\n",
    "            \n",
    "            \n",
    "            \n",
    "            \n",
    "            \n",
    "    \n",
    "    \n",
    "    \n",
    "    "
   ]
  },
  {
   "cell_type": "code",
   "execution_count": 31,
   "id": "3611e06d",
   "metadata": {},
   "outputs": [
    {
     "name": "stdout",
     "output_type": "stream",
     "text": [
      "round 1\n",
      "at war!\n",
      "round 2\n",
      "round 3\n",
      "at war!\n",
      "round 4\n",
      "round 5\n",
      "round 6\n",
      "round 7\n",
      "at war!\n",
      "round 8\n",
      "round 9\n",
      "round 10\n",
      "round 11\n",
      "round 12\n",
      "round 13\n",
      "round 14\n",
      "at war!\n",
      "round 15\n",
      "at war!\n",
      "round 16\n",
      "at war!\n",
      "round 17\n",
      "at war!\n",
      "round 18\n",
      "at war!\n",
      "round 19\n",
      "player two has won the game!\n"
     ]
    }
   ],
   "source": [
    "import random\n",
    "suit = (\"spades\",\"club\",\"heart\",\"diamond\")\n",
    "rank = (\"two\",\"three\",\"four\",\"five\",\"six\",\"seven\",\"eight\",\"nine\",\"ten\",\"jack\",\"queen\",\"king\",\"ace\")\n",
    "values = {\"two\":2,\"three\":3,\"four\":4,\"five\":5,\"six\":6,\"seven\":7,\"eight\":8,\"nine\":9,\"ten\":10,\"jack\":11,\"queen\":12,\"king\":13,\"ace\":14}\n",
    "\n",
    "class cards():\n",
    "    \n",
    "    def __init__(self,suit,rank):\n",
    "        \n",
    "        self.suit = suit\n",
    "        self.rank = rank\n",
    "        self.value = values[rank]\n",
    "        \n",
    "    def __str__(self):\n",
    "        return  self.rank + \" of \" + self.suit\n",
    "       \n",
    "        \n",
    "#player1 = cards(\"spades\",\"three\")  \n",
    "\n",
    "class deck():\n",
    "    \n",
    "    def __init__(self):\n",
    "        \n",
    "        self.all_cards = []\n",
    "        \n",
    "        \n",
    "        for suits in suit:\n",
    "            for ranks in rank:\n",
    "                \n",
    "                \n",
    "                created_cards = cards(suits,ranks)\n",
    "                \n",
    "                self.all_cards.append(created_cards)\n",
    "                \n",
    "                \n",
    "    def shuffle(self):\n",
    "        return random.shuffle(self.all_cards)\n",
    "    \n",
    "    \n",
    "    def deal_one(self):\n",
    "        return self.all_cards.pop()\n",
    "    \n",
    "    \n",
    "class player():\n",
    "    \n",
    "    def __init__(self,name):\n",
    "        self.name = name\n",
    "        self.all_cards = []\n",
    "        \n",
    "    def remove_one(self):\n",
    "        return self.all_cards.pop(0)\n",
    "    \n",
    "    def add_cards(self,new_cards):\n",
    "        if type(new_cards) == type([]):\n",
    "            self.all_cards.extend(new_cards)\n",
    "        else:\n",
    "            self.all_cards.append(new_cards)\n",
    "    def __str__(self):\n",
    "        return f'player {self.name} has {len(self.all_cards)} cards'\n",
    "    \n",
    "    \n",
    "#game setup\n",
    "\n",
    "player_1 = player(\"one\")\n",
    "player_2 = player(\"two\")\n",
    "\n",
    "new_deck = deck()\n",
    "new_deck.shuffle()\n",
    "\n",
    "for x in range(26):\n",
    "    player_1.add_cards(new_deck.deal_one())\n",
    "    player_2.add_cards(new_deck.deal_one())\n",
    "    \n",
    "    \n",
    "game_on = True\n",
    "\n",
    "round_num = 0\n",
    "\n",
    "while game_on:\n",
    "    round_num = round_num + 1\n",
    "    print(f'round {round_num}')\n",
    "          \n",
    "          \n",
    "    if len(player_1.all_cards) == 0:\n",
    "          print(\"player two has won the game!\")\n",
    "          game_on =False\n",
    "          break\n",
    "    if len(player_2.all_cards) == 0:\n",
    "          print(\"player one has won the game!\")\n",
    "          game_on - False\n",
    "          break\n",
    "          \n",
    "    player_one_cards = []\n",
    "    player_one_cards.append(player_1.remove_one())\n",
    "    player_Two_cards = []\n",
    "    player_Two_cards.append(player_2.remove_one()) \n",
    "          \n",
    "          \n",
    "    at_war = True\n",
    "          \n",
    "    if player_one_cards[-1].value > player_Two_cards[-1].value:\n",
    "          \n",
    "          player_1.add_cards(player_one_cards)\n",
    "          player_1.add_cards(player_Two_cards)\n",
    "          \n",
    "    if player_one_cards[-1].value < player_Two_cards[-1].value:\n",
    "          \n",
    "          player_2.add_cards(player_one_cards)\n",
    "          player_2.add_cards(player_Two_cards)      \n",
    "    else:\n",
    "          print(\"at war!\")\n",
    "          \n",
    "          if len(player_1.all_cards) < 3:\n",
    "                print(\"player one is unable to declare war\")\n",
    "                print(\"the player two has won the game !!\")\n",
    "          if len(player_2.all_cards) < 3:\n",
    "                print(\"player two is unable to declare war\")\n",
    "                print(\"the player one has won the game !!\")\n",
    "          \n",
    "          else:\n",
    "                for i in range(3):\n",
    "                    player_one_cards.append(player_1.remove_one())\n",
    "                    player_Two_cards.append(player_2.remove_one())\n",
    "          \n",
    "          \n",
    "             \n",
    "    \n",
    "    "
   ]
  },
  {
   "cell_type": "markdown",
   "id": "2bed3ff0",
   "metadata": {},
   "source": [
    "# mile stone project 3"
   ]
  },
  {
   "cell_type": "code",
   "execution_count": 32,
   "id": "e551a25c",
   "metadata": {},
   "outputs": [],
   "source": [
    "import random\n",
    "suit = (\"spades\",\"club\",\"heart\",\"diamond\")\n",
    "rank = (\"two\",\"three\",\"four\",\"five\",\"six\",\"seven\",\"eight\",\"nine\",\"ten\",\"jack\",\"queen\",\"king\",\"ace\")\n",
    "values = {\"two\":2,\"three\":3,\"four\":4,\"five\":5,\"six\":6,\"seven\":7,\"eight\":8,\"nine\":9,\"ten\":10,\"jack\":11,\"queen\":12,\"king\":13,\"ace\":14}\n"
   ]
  },
  {
   "cell_type": "code",
   "execution_count": 33,
   "id": "4d162b07",
   "metadata": {},
   "outputs": [],
   "source": [
    "class card():\n",
    "    \n",
    "    def __init__(self,suit,rank):\n",
    "        self.suit = suit\n",
    "        self.rank = rank\n",
    "        \n",
    "    def __str__(self):\n",
    "        return self.rank + \" of \" + self.suit\n",
    "    \n",
    "\n",
    "\n",
    "\n",
    "\n"
   ]
  },
  {
   "cell_type": "code",
   "execution_count": 35,
   "id": "ab1b8275",
   "metadata": {},
   "outputs": [],
   "source": [
    "class deck():\n",
    "    \n",
    "    def __init__(self):\n",
    "        \n",
    "        self.all_cards = []\n",
    "        for suits in suit:\n",
    "            for ranks in rank:\n",
    "                \n",
    "                created_cards = card(suits,ranks)\n",
    "                \n",
    "                self.all_cards.append(created_cards)\n",
    "                \n",
    "    def __str__(self):\n",
    "        deck_comp = \" \"\n",
    "        for cards in self.all_cards:\n",
    "            deck_comp += \"\\n\" +  cards.__str__()\n",
    "            \n",
    "        return \"The deck has: \"+ deck_comp     \n",
    "            \n",
    "            \n",
    "                \n",
    "                \n",
    "    def shuffle(self):\n",
    "        random.shuffle(self.all_cards)\n",
    "        \n",
    "        \n",
    "         \n",
    "    \n",
    "    \n",
    "    def deal_one(self):\n",
    "        single_card = self.all_cards.pop()\n",
    "        return single_card\n",
    "        \n",
    "        \n",
    "        \n",
    "        \n",
    "#test_deck = deck()\n",
    "#test_deck.shuffle()\n",
    "#print(test_deck)\n",
    "        \n",
    "        \n",
    "                \n",
    "                \n",
    "                \n",
    "                \n",
    "                \n",
    "                \n",
    "                \n",
    "            \n",
    "    \n",
    "    "
   ]
  },
  {
   "cell_type": "code",
   "execution_count": 36,
   "id": "bacee81c",
   "metadata": {},
   "outputs": [],
   "source": [
    "class hand():\n",
    "    \n",
    "    def __init__(self):\n",
    "        self.cards = []\n",
    "        self.value = 0\n",
    "        self.aces = 0\n",
    "        \n",
    "    def add_cards(self,new_cards):\n",
    "        self.cards.append(new_cards)\n",
    "        self.value = self.value + values[new_cards.rank]\n",
    "        #track aces\n",
    "        if new_cards.rank == \"ace\":\n",
    "            self.aces = self.aces + 1\n",
    "        \n",
    "        \n",
    "        \n",
    "        \n",
    "            \n",
    "            \n",
    "    def adjust_for_ace(self):\n",
    "        \n",
    "        while self.value > 21 and self.aces > 0:\n",
    "            self.value = self.value - 10\n",
    "            self.aces = self.aces  - 1\n",
    "         \n",
    "        \n",
    "          \n",
    "        \n",
    "        \n",
    "         \n",
    "#test_deck = deck()\n",
    "\n",
    "#test_deck.shuffle()\n",
    "\n",
    "#test_player = hand()\n",
    "#pulled_cards = test_deck.deal_one()\n",
    "#print(pulled_cards)\n",
    "#test_player.add_cards(pulled_cards)\n",
    "#print(test_player.value)\n",
    "\n",
    "        \n",
    "            \n",
    "        \n",
    "        \n",
    "        "
   ]
  },
  {
   "cell_type": "code",
   "execution_count": 37,
   "id": "6b176c08",
   "metadata": {},
   "outputs": [],
   "source": [
    "class chips():\n",
    "    \n",
    "    def __init__(self,total = 100):\n",
    "        self.total = total\n",
    "        self.bet = 0\n",
    "        \n",
    "    def win_bet(self):\n",
    "        self.total = self.total + self.bet\n",
    "        \n",
    "    def lose_bet(self):\n",
    "        self.total = self.total - self.bet\n",
    "        \n",
    "#chips = chips()\n",
    "#chips.total\n",
    "         \n",
    "    \n",
    "    "
   ]
  },
  {
   "cell_type": "code",
   "execution_count": 38,
   "id": "d6ac6c34",
   "metadata": {},
   "outputs": [],
   "source": [
    "def take_bet(chips):\n",
    "    \n",
    "    while True:\n",
    "        \n",
    "        try:\n",
    "            chips.bet = int(input(\"enter the amount that you want to place the bet$\"))\n",
    "        except:\n",
    "            print(\"sorry enter an valid input!!!!\")\n",
    "        if chips.bet > chips.total:\n",
    "            print(\"you dont have enough money to play ,your balance is {}\".format(chips.total))\n",
    "        else:\n",
    "            break\n",
    "            \n",
    "            "
   ]
  },
  {
   "cell_type": "code",
   "execution_count": 47,
   "id": "a2b1f4dd",
   "metadata": {},
   "outputs": [],
   "source": [
    "def hit(deck,hand):\n",
    "    single_card = deck.deal_one()\n",
    "    hand.add_cards(single_card)\n",
    "    hand.adjust_for_ace()"
   ]
  },
  {
   "cell_type": "code",
   "execution_count": 55,
   "id": "d5864c46",
   "metadata": {},
   "outputs": [],
   "source": [
    "def hit_or_stand(deck,hand):\n",
    "    \n",
    "    \n",
    "    while True:\n",
    "        x = input(\"enter the hit or stand? 'h' or 's' \")\n",
    "        \n",
    "        if x[0].lower() == \"h\":\n",
    "            hit(deck,hand)\n",
    "            \n",
    "            \n",
    "        elif x[0].lower() == \"s\" :\n",
    "            print(\"the player like to stand ,aganist the dealers turn!\")\n",
    "            break\n",
    "        else:\n",
    "            print(\"please iam not able to undersatnd please enter 'h'or 's' \")\n",
    "            \n",
    "        "
   ]
  },
  {
   "cell_type": "code",
   "execution_count": 50,
   "id": "b0d2869c",
   "metadata": {},
   "outputs": [],
   "source": [
    "def player_busts(player,dealer,chips):\n",
    "    print(\"player busts!!\")\n",
    "    chips.lose_bet()\n",
    "    \n",
    "def player_wins(player,dealer,chips):\n",
    "    print(\"player wins!!\")\n",
    "    chips.win_bet()\n",
    "    \n",
    "    \n",
    "def dealer_busts(player,dealer,chips):\n",
    "    print(\"player wins,dealer busts\")\n",
    "    chips.win_bet()\n",
    "    \n",
    "def dealer_wins(player,dealer,chips):\n",
    "    print(\"player loses,dealer wins\")\n",
    "    chips.lose_bet()\n",
    "    \n",
    "def push(player,dealer):\n",
    "    print(\"tie between the player and the dealer!\")"
   ]
  },
  {
   "cell_type": "code",
   "execution_count": 51,
   "id": "04255f62",
   "metadata": {},
   "outputs": [],
   "source": [
    "def show_some(player,dealer):\n",
    "    \n",
    "    print(\"Dealers hand\")\n",
    "    print(\"one card hidden\")\n",
    "    print(dealer.cards[1])\n",
    "    print('\\n')\n",
    "    print(\"players hand\")\n",
    "    for card in player.cards:\n",
    "        print(card)\n",
    "        \n",
    "def show_all(player,dealer):\n",
    "    print(\"dealers hand\")\n",
    "    for card in dealer.cards:\n",
    "        print(card)\n",
    "        \n",
    "    print('\\n') \n",
    "    print(\"players hand\")\n",
    "    for card in player.cards:\n",
    "        print(card)"
   ]
  },
  {
   "cell_type": "code",
   "execution_count": 56,
   "id": "e0b7b983",
   "metadata": {},
   "outputs": [
    {
     "name": "stdout",
     "output_type": "stream",
     "text": [
      "Welcome to the game :) \n",
      "enter the amount that you want to place the bet$100\n",
      "Dealers hand\n",
      "one card hidden\n",
      "five of diamond\n",
      "\n",
      "\n",
      "players hand\n",
      "six of club\n",
      "seven of spades\n",
      "enter the hit or stand? 'h' or 's' s\n",
      "the player like to stand ,aganist the dealers turn!\n",
      "Dealers hand\n",
      "one card hidden\n",
      "five of diamond\n",
      "\n",
      "\n",
      "players hand\n",
      "six of club\n",
      "seven of spades\n",
      "enter the hit or stand? 'h' or 's' h\n",
      "enter the hit or stand? 'h' or 's' h\n",
      "enter the hit or stand? 'h' or 's' s\n",
      "the player like to stand ,aganist the dealers turn!\n",
      "Dealers hand\n",
      "one card hidden\n",
      "five of diamond\n",
      "\n",
      "\n",
      "players hand\n",
      "six of club\n",
      "seven of spades\n",
      "queen of club\n",
      "two of club\n",
      "player busts!!\n",
      "Welcome to the game :) \n",
      "enter the amount that you want to place the bet$100\n",
      "Dealers hand\n",
      "one card hidden\n",
      "three of diamond\n",
      "\n",
      "\n",
      "players hand\n",
      "nine of heart\n",
      "four of diamond\n",
      "enter the hit or stand? 'h' or 's' h\n"
     ]
    },
    {
     "ename": "KeyboardInterrupt",
     "evalue": "Interrupted by user",
     "output_type": "error",
     "traceback": [
      "\u001b[1;31m---------------------------------------------------------------------------\u001b[0m",
      "\u001b[1;31mKeyboardInterrupt\u001b[0m                         Traceback (most recent call last)",
      "\u001b[1;32m<ipython-input-56-75a5f5d8aa97>\u001b[0m in \u001b[0;36m<module>\u001b[1;34m\u001b[0m\n\u001b[0;32m     22\u001b[0m \u001b[1;33m\u001b[0m\u001b[0m\n\u001b[0;32m     23\u001b[0m     \u001b[1;32mwhile\u001b[0m \u001b[0mplaying\u001b[0m\u001b[1;33m:\u001b[0m\u001b[1;33m\u001b[0m\u001b[1;33m\u001b[0m\u001b[0m\n\u001b[1;32m---> 24\u001b[1;33m         \u001b[0mhit_or_stand\u001b[0m\u001b[1;33m(\u001b[0m\u001b[0mdecke\u001b[0m\u001b[1;33m,\u001b[0m\u001b[0mplayer_hand\u001b[0m\u001b[1;33m)\u001b[0m\u001b[1;33m\u001b[0m\u001b[1;33m\u001b[0m\u001b[0m\n\u001b[0m\u001b[0;32m     25\u001b[0m \u001b[1;33m\u001b[0m\u001b[0m\n\u001b[0;32m     26\u001b[0m         \u001b[0mshow_some\u001b[0m\u001b[1;33m(\u001b[0m\u001b[0mplayer_hand\u001b[0m\u001b[1;33m,\u001b[0m\u001b[0mdealers_hand\u001b[0m\u001b[1;33m)\u001b[0m\u001b[1;33m\u001b[0m\u001b[1;33m\u001b[0m\u001b[0m\n",
      "\u001b[1;32m<ipython-input-55-5f121c2f901c>\u001b[0m in \u001b[0;36mhit_or_stand\u001b[1;34m(deck, hand)\u001b[0m\n\u001b[0;32m      3\u001b[0m \u001b[1;33m\u001b[0m\u001b[0m\n\u001b[0;32m      4\u001b[0m     \u001b[1;32mwhile\u001b[0m \u001b[1;32mTrue\u001b[0m\u001b[1;33m:\u001b[0m\u001b[1;33m\u001b[0m\u001b[1;33m\u001b[0m\u001b[0m\n\u001b[1;32m----> 5\u001b[1;33m         \u001b[0mx\u001b[0m \u001b[1;33m=\u001b[0m \u001b[0minput\u001b[0m\u001b[1;33m(\u001b[0m\u001b[1;34m\"enter the hit or stand? 'h' or 's' \"\u001b[0m\u001b[1;33m)\u001b[0m\u001b[1;33m\u001b[0m\u001b[1;33m\u001b[0m\u001b[0m\n\u001b[0m\u001b[0;32m      6\u001b[0m \u001b[1;33m\u001b[0m\u001b[0m\n\u001b[0;32m      7\u001b[0m         \u001b[1;32mif\u001b[0m \u001b[0mx\u001b[0m\u001b[1;33m[\u001b[0m\u001b[1;36m0\u001b[0m\u001b[1;33m]\u001b[0m\u001b[1;33m.\u001b[0m\u001b[0mlower\u001b[0m\u001b[1;33m(\u001b[0m\u001b[1;33m)\u001b[0m \u001b[1;33m==\u001b[0m \u001b[1;34m\"h\"\u001b[0m\u001b[1;33m:\u001b[0m\u001b[1;33m\u001b[0m\u001b[1;33m\u001b[0m\u001b[0m\n",
      "\u001b[1;32m~\\anaconda3\\lib\\site-packages\\ipykernel\\kernelbase.py\u001b[0m in \u001b[0;36mraw_input\u001b[1;34m(self, prompt)\u001b[0m\n\u001b[0;32m    858\u001b[0m                 \u001b[1;34m\"raw_input was called, but this frontend does not support input requests.\"\u001b[0m\u001b[1;33m\u001b[0m\u001b[1;33m\u001b[0m\u001b[0m\n\u001b[0;32m    859\u001b[0m             )\n\u001b[1;32m--> 860\u001b[1;33m         return self._input_request(str(prompt),\n\u001b[0m\u001b[0;32m    861\u001b[0m             \u001b[0mself\u001b[0m\u001b[1;33m.\u001b[0m\u001b[0m_parent_ident\u001b[0m\u001b[1;33m,\u001b[0m\u001b[1;33m\u001b[0m\u001b[1;33m\u001b[0m\u001b[0m\n\u001b[0;32m    862\u001b[0m             \u001b[0mself\u001b[0m\u001b[1;33m.\u001b[0m\u001b[0m_parent_header\u001b[0m\u001b[1;33m,\u001b[0m\u001b[1;33m\u001b[0m\u001b[1;33m\u001b[0m\u001b[0m\n",
      "\u001b[1;32m~\\anaconda3\\lib\\site-packages\\ipykernel\\kernelbase.py\u001b[0m in \u001b[0;36m_input_request\u001b[1;34m(self, prompt, ident, parent, password)\u001b[0m\n\u001b[0;32m    902\u001b[0m             \u001b[1;32mexcept\u001b[0m \u001b[0mKeyboardInterrupt\u001b[0m\u001b[1;33m:\u001b[0m\u001b[1;33m\u001b[0m\u001b[1;33m\u001b[0m\u001b[0m\n\u001b[0;32m    903\u001b[0m                 \u001b[1;31m# re-raise KeyboardInterrupt, to truncate traceback\u001b[0m\u001b[1;33m\u001b[0m\u001b[1;33m\u001b[0m\u001b[1;33m\u001b[0m\u001b[0m\n\u001b[1;32m--> 904\u001b[1;33m                 \u001b[1;32mraise\u001b[0m \u001b[0mKeyboardInterrupt\u001b[0m\u001b[1;33m(\u001b[0m\u001b[1;34m\"Interrupted by user\"\u001b[0m\u001b[1;33m)\u001b[0m \u001b[1;32mfrom\u001b[0m \u001b[1;32mNone\u001b[0m\u001b[1;33m\u001b[0m\u001b[1;33m\u001b[0m\u001b[0m\n\u001b[0m\u001b[0;32m    905\u001b[0m             \u001b[1;32mexcept\u001b[0m \u001b[0mException\u001b[0m \u001b[1;32mas\u001b[0m \u001b[0me\u001b[0m\u001b[1;33m:\u001b[0m\u001b[1;33m\u001b[0m\u001b[1;33m\u001b[0m\u001b[0m\n\u001b[0;32m    906\u001b[0m                 \u001b[0mself\u001b[0m\u001b[1;33m.\u001b[0m\u001b[0mlog\u001b[0m\u001b[1;33m.\u001b[0m\u001b[0mwarning\u001b[0m\u001b[1;33m(\u001b[0m\u001b[1;34m\"Invalid Message:\"\u001b[0m\u001b[1;33m,\u001b[0m \u001b[0mexc_info\u001b[0m\u001b[1;33m=\u001b[0m\u001b[1;32mTrue\u001b[0m\u001b[1;33m)\u001b[0m\u001b[1;33m\u001b[0m\u001b[1;33m\u001b[0m\u001b[0m\n",
      "\u001b[1;31mKeyboardInterrupt\u001b[0m: Interrupted by user"
     ]
    }
   ],
   "source": [
    "# game on\n",
    "playing  = True\n",
    "while True:\n",
    "    print(\"Welcome to the game :) \")\n",
    "    \n",
    "    decke = deck()\n",
    "    decke.shuffle()\n",
    "    \n",
    "    # each player gets two cards\n",
    "    player_hand = hand()\n",
    "    player_hand.add_cards(decke.deal_one())\n",
    "    player_hand.add_cards(decke.deal_one())\n",
    "    \n",
    "    dealers_hand = hand()\n",
    "    dealers_hand.add_cards(decke.deal_one())\n",
    "    dealers_hand.add_cards(decke.deal_one())\n",
    "    \n",
    "    player_chips = chips()\n",
    "    take_bet(player_chips)\n",
    "    \n",
    "    show_some(player_hand,dealers_hand)\n",
    "    \n",
    "    while playing:\n",
    "        hit_or_stand(decke,player_hand)\n",
    "        \n",
    "        show_some(player_hand,dealers_hand)\n",
    "        \n",
    "        if player_hand.value > 21:\n",
    "            player_busts(player_hand,dealers_hand,player_chips)\n",
    "            \n",
    "            \n",
    "            break\n",
    "            \n",
    "            \n",
    "    if player_hand.value <= 21:\n",
    "        \n",
    "        \n",
    "        while dealer_hand.value < 17:\n",
    "            hit(decke,dealer_hand)\n",
    "            \n",
    "        show_all(player_hand,dealer_hand)\n",
    "        \n",
    "        \n",
    "        if dealer_hand.value > 21:\n",
    "            dealer_busts(player_hand,dealer_hand,player_chips)\n",
    "            \n",
    "        elif dealers_hand.value > player_hand.value:\n",
    "            dealer_wins(player_hand,dealer_hand,player_chips)\n",
    "            \n",
    "        elif dealers_hand.value < player_hand.value:\n",
    "            player_wins(player_hand,dealer_hand,player_chips)\n",
    "            \n",
    "        else:\n",
    "            push(player_hand,dealers_hand)\n",
    "            \n",
    "            \n",
    "        print(\"\\n player total chips are at :{}\".format(player_chips.total))  \n",
    "   \n",
    "\n",
    "\n",
    "  \n",
    "     \n",
    "            \n",
    "            \n",
    "            \n",
    "            \n",
    "            \n",
    "        \n",
    "        \n",
    "            \n",
    "            \n",
    "             \n",
    "            \n",
    "             \n",
    "            \n",
    "            \n",
    "              \n",
    "            \n",
    "            \n",
    "           \n",
    "        \n",
    "    \n",
    "    \n",
    "    \n",
    "    "
   ]
  },
  {
   "cell_type": "code",
   "execution_count": 13,
   "id": "0c6cace7",
   "metadata": {},
   "outputs": [
    {
     "name": "stdout",
     "output_type": "stream",
     "text": [
      "hello neeraj\n"
     ]
    }
   ],
   "source": [
    "def wri(m):\n",
    "    print(\"hello {}\".format(m))\n",
    "    \n",
    "t = \"neeraj\"    \n",
    "wri(t)"
   ]
  },
  {
   "cell_type": "code",
   "execution_count": null,
   "id": "63e42ac2",
   "metadata": {},
   "outputs": [],
   "source": []
  },
  {
   "cell_type": "code",
   "execution_count": null,
   "id": "7eab9277",
   "metadata": {},
   "outputs": [],
   "source": [
    "def name(enter):\n",
    "    \n",
    "    p = \" \"\n",
    "    for i in enter:\n",
    "        p = i + p\n",
    "    return(p)    \n",
    "   "
   ]
  }
 ],
 "metadata": {
  "kernelspec": {
   "display_name": "Python 3",
   "language": "python",
   "name": "python3"
  },
  "language_info": {
   "codemirror_mode": {
    "name": "ipython",
    "version": 3
   },
   "file_extension": ".py",
   "mimetype": "text/x-python",
   "name": "python",
   "nbconvert_exporter": "python",
   "pygments_lexer": "ipython3",
   "version": "3.8.8"
  }
 },
 "nbformat": 4,
 "nbformat_minor": 5
}
