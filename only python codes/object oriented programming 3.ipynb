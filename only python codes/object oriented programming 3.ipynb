{
 "cells": [
  {
   "cell_type": "markdown",
   "id": "94173251",
   "metadata": {},
   "source": [
    "# reccursive function\n"
   ]
  },
  {
   "cell_type": "code",
   "execution_count": 14,
   "id": "de510aee",
   "metadata": {},
   "outputs": [
    {
     "data": {
      "text/plain": [
       "18"
      ]
     },
     "execution_count": 14,
     "metadata": {},
     "output_type": "execute_result"
    }
   ],
   "source": [
    "def mul(m,n):\n",
    "    if n==1:\n",
    "        return(m)\n",
    "    else:\n",
    "        return(m*n)\n",
    "\n",
    "p = mul(6,3)\n",
    "p\n",
    "\n",
    "\n",
    "    \n",
    "    "
   ]
  },
  {
   "cell_type": "code",
   "execution_count": 23,
   "id": "aa10b575",
   "metadata": {},
   "outputs": [
    {
     "data": {
      "text/plain": [
       "6"
      ]
     },
     "execution_count": 23,
     "metadata": {},
     "output_type": "execute_result"
    }
   ],
   "source": [
    "def length(l):\n",
    "    total = 0\n",
    "    for i in range(len(l)):\n",
    "        total = total + 1\n",
    "    return(total)\n",
    "\n",
    "l =[1,2,3,4,5,6]\n",
    "length(l)\n",
    "\n",
    "        \n",
    "   \n",
    "    "
   ]
  },
  {
   "cell_type": "code",
   "execution_count": 31,
   "id": "399534cc",
   "metadata": {},
   "outputs": [],
   "source": [
    "def lengt(m):\n",
    "    if l == []:\n",
    "        return(0)\n",
    "    else:\n",
    "        return(1+lengt(m[1:]))\n",
    "\n",
    "    "
   ]
  },
  {
   "cell_type": "code",
   "execution_count": 46,
   "id": "041199ce",
   "metadata": {},
   "outputs": [],
   "source": [
    "def sumlist(x):\n",
    "    if x==[]:\n",
    "        return(0)\n",
    "    else:\n",
    "        return(x[0]+sumlist(x[1:]))\n",
    "    "
   ]
  },
  {
   "cell_type": "code",
   "execution_count": 47,
   "id": "cd8fc9f9",
   "metadata": {},
   "outputs": [
    {
     "data": {
      "text/plain": [
       "15"
      ]
     },
     "execution_count": 47,
     "metadata": {},
     "output_type": "execute_result"
    }
   ],
   "source": [
    "x = [1,2,3,4,5]\n",
    "sumlist(x)"
   ]
  },
  {
   "cell_type": "code",
   "execution_count": 48,
   "id": "8edc59e9",
   "metadata": {},
   "outputs": [
    {
     "name": "stdout",
     "output_type": "stream",
     "text": [
      "15\n"
     ]
    }
   ],
   "source": [
    "v = [1,2,3,4,5]\n",
    "sum  = 0\n",
    "for i in l:\n",
    "    sum  =sum+i\n",
    "print(sum)    \n",
    "    \n",
    "    \n"
   ]
  },
  {
   "cell_type": "code",
   "execution_count": 2,
   "id": "59e7a22d",
   "metadata": {},
   "outputs": [
    {
     "data": {
      "text/plain": [
       "2"
      ]
     },
     "execution_count": 2,
     "metadata": {},
     "output_type": "execute_result"
    }
   ],
   "source": [
    "5//2"
   ]
  },
  {
   "cell_type": "code",
   "execution_count": 3,
   "id": "ce7809bc",
   "metadata": {},
   "outputs": [
    {
     "data": {
      "text/plain": [
       "1"
      ]
     },
     "execution_count": 3,
     "metadata": {},
     "output_type": "execute_result"
    }
   ],
   "source": [
    "3//2\n"
   ]
  },
  {
   "cell_type": "code",
   "execution_count": 4,
   "id": "fb9c46bf",
   "metadata": {},
   "outputs": [
    {
     "data": {
      "text/plain": [
       "4"
      ]
     },
     "execution_count": 4,
     "metadata": {},
     "output_type": "execute_result"
    }
   ],
   "source": [
    "9//2"
   ]
  },
  {
   "cell_type": "code",
   "execution_count": 5,
   "id": "4aa06869",
   "metadata": {},
   "outputs": [
    {
     "data": {
      "text/plain": [
       "4"
      ]
     },
     "execution_count": 5,
     "metadata": {},
     "output_type": "execute_result"
    }
   ],
   "source": [
    "9//2"
   ]
  },
  {
   "cell_type": "code",
   "execution_count": 7,
   "id": "5686510d",
   "metadata": {},
   "outputs": [
    {
     "data": {
      "text/plain": [
       "5"
      ]
     },
     "execution_count": 7,
     "metadata": {},
     "output_type": "execute_result"
    }
   ],
   "source": [
    "10//2\n"
   ]
  },
  {
   "cell_type": "code",
   "execution_count": 25,
   "id": "eebeee3b",
   "metadata": {},
   "outputs": [
    {
     "data": {
      "text/plain": [
       "slice([1, 2, 3, 4, 5, 6, 7], 0, 7)"
      ]
     },
     "execution_count": 25,
     "metadata": {},
     "output_type": "execute_result"
    }
   ],
   "source": [
    "slice([1,2,3,4,5,6,7],0,7)\n"
   ]
  },
  {
   "cell_type": "markdown",
   "id": "b97306ca",
   "metadata": {},
   "source": [
    "# merge sort"
   ]
  },
  {
   "cell_type": "code",
   "execution_count": 3,
   "id": "f1a931b8",
   "metadata": {},
   "outputs": [],
   "source": [
    "def merge(a,b):\n",
    "    (c,m,n) = ([],len(a),len(b))\n",
    "    (i,j)   = (0,0)\n",
    "\n",
    "\n",
    "    while i+j < m+n:\n",
    "        if i == m:\n",
    "            c.append(b[j])\n",
    "            j = j+1\n",
    "        elif j == n:\n",
    "            c.append(a[i])\n",
    "            i = i+1\n",
    "        elif a[i] > b[j]:\n",
    "            c.append(b[j])\n",
    "            j = j+1\n",
    "        elif a[i] < b[j]:\n",
    "            c.append(a[i])\n",
    "            i = i+1\n",
    "    return(c)        "
   ]
  },
  {
   "cell_type": "code",
   "execution_count": 4,
   "id": "ccdc3d09",
   "metadata": {},
   "outputs": [
    {
     "data": {
      "text/plain": [
       "[21, 32, 55, 64, 74, 89]"
      ]
     },
     "execution_count": 4,
     "metadata": {},
     "output_type": "execute_result"
    }
   ],
   "source": [
    "a = [32,74,89]\n",
    "b = [21,55,64]\n",
    "merge(a,b)"
   ]
  },
  {
   "cell_type": "code",
   "execution_count": 24,
   "id": "7fbc77f1",
   "metadata": {},
   "outputs": [],
   "source": [
    "def merge(a,b):\n",
    "    (c,m,n) = ([],len(a),len(b))\n",
    "    (i,j)   = (0,0)\n",
    "\n",
    "\n",
    "    while i+j < m+n:\n",
    "        if i == m:\n",
    "            c.append(b[j])\n",
    "            j = j+1\n",
    "        elif j == n:\n",
    "            c.append(a[i])\n",
    "            i = i+1\n",
    "        elif a[i] > b[j]:\n",
    "            c.append(b[j])\n",
    "            j = j+1\n",
    "        elif a[i] < b[j]:\n",
    "            c.append(a[i])\n",
    "            i = i+1\n",
    "    return(c)        \n",
    "\n",
    "def mergesort(k,left,right):\n",
    "\n",
    "    if right - left <= 1:\n",
    "        return(k[left:right])\n",
    "    \n",
    "    if right-left > 1:\n",
    "        \n",
    "        mid = (left+right)//2\n",
    "\n",
    "        l = mergesort(k,left,mid)\n",
    "        r = mergesort(k,mid,right)\n",
    "        return(merge(l,r))\n",
    "\n",
    "        \n",
    "    \n",
    "   \n",
    "\n",
    "        "
   ]
  },
  {
   "cell_type": "code",
   "execution_count": 25,
   "id": "2aaa5311",
   "metadata": {},
   "outputs": [
    {
     "data": {
      "text/plain": [
       "[21, 32, 55, 64, 74, 89]"
      ]
     },
     "execution_count": 25,
     "metadata": {},
     "output_type": "execute_result"
    }
   ],
   "source": [
    "k = [32,74,89,21,55,64]\n",
    "mergesort(k,0,6)"
   ]
  },
  {
   "cell_type": "markdown",
   "id": "f4a02253",
   "metadata": {},
   "source": [
    "# class and objects"
   ]
  },
  {
   "cell_type": "code",
   "execution_count": 1,
   "id": "fb7f9f5a",
   "metadata": {},
   "outputs": [
    {
     "name": "stdout",
     "output_type": "stream",
     "text": [
      "self\n",
      "self\n",
      "computer\n",
      "computer\n"
     ]
    }
   ],
   "source": [
    "class computer:\n",
    "    def __init__(self):\n",
    "        print(\"self\")\n",
    "\n",
    "    def config(self):\n",
    "        print(\"computer\")   \n",
    "\n",
    "obj1 = computer()\n",
    "obj2 = computer()        \n",
    "\n",
    "obj1.config()\n",
    "obj2.config()\n",
    "\n",
    "        "
   ]
  },
  {
   "cell_type": "code",
   "execution_count": 1,
   "id": "2b0c66bb",
   "metadata": {},
   "outputs": [],
   "source": [
    "class computer:\n",
    "    def __init__(self,cpu,ram):\n",
    "        self.cpu = cpu\n",
    "        self.ram  = ram\n",
    "    def config(self):\n",
    "        print(\"the config is:\",self.cpu,self.ram)    \n",
    "\n",
    "obj1  = computer(\"i5\",8)\n",
    "obj2  = computer(\"ryzen\",16)\n",
    "\n",
    "obj1.\n",
    "obj2."
   ]
  },
  {
   "cell_type": "code",
   "execution_count": null,
   "id": "de2c39d0",
   "metadata": {},
   "outputs": [],
   "source": []
  },
  {
   "cell_type": "code",
   "execution_count": null,
   "id": "8f1e67fc",
   "metadata": {},
   "outputs": [],
   "source": []
  },
  {
   "cell_type": "code",
   "execution_count": null,
   "id": "b6759f37",
   "metadata": {},
   "outputs": [],
   "source": []
  }
 ],
 "metadata": {
  "kernelspec": {
   "display_name": "Python 3",
   "language": "python",
   "name": "python3"
  },
  "language_info": {
   "codemirror_mode": {
    "name": "ipython",
    "version": 3
   },
   "file_extension": ".py",
   "mimetype": "text/x-python",
   "name": "python",
   "nbconvert_exporter": "python",
   "pygments_lexer": "ipython3",
   "version": "3.8.8"
  }
 },
 "nbformat": 4,
 "nbformat_minor": 5
}
