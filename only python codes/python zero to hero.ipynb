{
 "cells": [
  {
   "cell_type": "code",
   "execution_count": 1,
   "id": "5c3d0ac4",
   "metadata": {},
   "outputs": [
    {
     "name": "stdout",
     "output_type": "stream",
     "text": [
      "10 10\n",
      "10\n"
     ]
    }
   ],
   "source": [
    "a = b = c = 10\n",
    "print(a,end=\" \")\n",
    "print(b)\n",
    "print(c)"
   ]
  },
  {
   "cell_type": "code",
   "execution_count": 2,
   "id": "19fd853a",
   "metadata": {},
   "outputs": [
    {
     "name": "stdout",
     "output_type": "stream",
     "text": [
      "10 10 10 "
     ]
    }
   ],
   "source": [
    "a = b = c = 10\n",
    "print(a,end=\" \")# end it with space\n",
    "print(b,end=\" \")\n",
    "print(c,end = \" \")"
   ]
  },
  {
   "cell_type": "code",
   "execution_count": 3,
   "id": "3aa37728",
   "metadata": {},
   "outputs": [
    {
     "name": "stdout",
     "output_type": "stream",
     "text": [
      "10\n",
      "10\n",
      "10\n"
     ]
    }
   ],
   "source": [
    "a = b = c = 10\n",
    "print(a)\n",
    "print(b)\n",
    "print(c)"
   ]
  },
  {
   "cell_type": "code",
   "execution_count": 4,
   "id": "9e0ae983",
   "metadata": {},
   "outputs": [
    {
     "name": "stdout",
     "output_type": "stream",
     "text": [
      "10 20 30\n"
     ]
    }
   ],
   "source": [
    "a,b,c = 10,20,30\n",
    "print(a,b,c)"
   ]
  },
  {
   "cell_type": "markdown",
   "id": "59fbd1fb",
   "metadata": {},
   "source": [
    "# input function\n"
   ]
  },
  {
   "cell_type": "code",
   "execution_count": null,
   "id": "2717a2e3",
   "metadata": {},
   "outputs": [],
   "source": [
    "a = int(input(\"enter the number: \"))\n",
    "b = int(input(\"enter the second number:\"))\n",
    "print(a+b)"
   ]
  },
  {
   "cell_type": "code",
   "execution_count": null,
   "id": "2d91ab4c",
   "metadata": {},
   "outputs": [],
   "source": [
    "a = int(input(\"enter the number: \"))\n",
    "b = int(input(\"enter the second number:\"))\n",
    "print(a+b)"
   ]
  },
  {
   "cell_type": "code",
   "execution_count": null,
   "id": "3fdf2c37",
   "metadata": {},
   "outputs": [],
   "source": [
    "print(\"hello\")"
   ]
  },
  {
   "cell_type": "code",
   "execution_count": 2,
   "id": "b33daeb5",
   "metadata": {},
   "outputs": [
    {
     "name": "stdout",
     "output_type": "stream",
     "text": [
      "enter the number: 10\n",
      "enter the second number:15\n",
      "sum:25\n"
     ]
    }
   ],
   "source": [
    "a = int(input(\"enter the number: \"))\n",
    "b = int(input(\"enter the second number:\"))\n",
    "res = a + b\n",
    "print(f'sum:{res}')#imp point\n",
    "\n"
   ]
  },
  {
   "cell_type": "code",
   "execution_count": 3,
   "id": "92a0bb05",
   "metadata": {},
   "outputs": [
    {
     "name": "stdout",
     "output_type": "stream",
     "text": [
      "140709679016016 140709679016016 140709679016016\n"
     ]
    }
   ],
   "source": [
    "a = b = c = d =10\n",
    "print(id(a),id(b),id(c))"
   ]
  },
  {
   "cell_type": "markdown",
   "id": "ce3fe324",
   "metadata": {},
   "source": [
    "# list"
   ]
  },
  {
   "cell_type": "code",
   "execution_count": 5,
   "id": "b8552919",
   "metadata": {},
   "outputs": [
    {
     "name": "stdout",
     "output_type": "stream",
     "text": [
      "<class 'list'>\n"
     ]
    }
   ],
   "source": [
    "l1 = [1,2,3,4,5,6,7]\n",
    "print(type(l1))\n"
   ]
  },
  {
   "cell_type": "code",
   "execution_count": 6,
   "id": "e1d9ed49",
   "metadata": {},
   "outputs": [
    {
     "name": "stdout",
     "output_type": "stream",
     "text": [
      "[5, 10.5, 'hello', 'coders', (12+5j)]\n"
     ]
    }
   ],
   "source": [
    "l = [5,10.5,\"hello\",\"coders\",12+5j]\n",
    "print(l)"
   ]
  },
  {
   "cell_type": "code",
   "execution_count": 7,
   "id": "0290c460",
   "metadata": {},
   "outputs": [
    {
     "name": "stdout",
     "output_type": "stream",
     "text": [
      "5\n"
     ]
    }
   ],
   "source": [
    "print(l[0])"
   ]
  },
  {
   "cell_type": "code",
   "execution_count": 8,
   "id": "b9a8c043",
   "metadata": {},
   "outputs": [
    {
     "name": "stdout",
     "output_type": "stream",
     "text": [
      "[1, 2, 3, 4, 5, 6]\n",
      "True\n",
      "False\n"
     ]
    }
   ],
   "source": [
    "m = [1,2,3,4,5,6]\n",
    "print(m)\n",
    "print( 5 in m)\n",
    "print(10 in m)"
   ]
  },
  {
   "cell_type": "code",
   "execution_count": 9,
   "id": "049375b0",
   "metadata": {},
   "outputs": [
    {
     "name": "stdout",
     "output_type": "stream",
     "text": [
      "[1, 2, 3, 1, 2, 3, 1, 2, 3]\n"
     ]
    }
   ],
   "source": [
    "i = [1,2,3]\n",
    "print(i*3)"
   ]
  },
  {
   "cell_type": "code",
   "execution_count": 10,
   "id": "f8ef9cf9",
   "metadata": {},
   "outputs": [
    {
     "name": "stdout",
     "output_type": "stream",
     "text": [
      "[1, 2, 3, 4, 5, 6, 7, 8]\n"
     ]
    }
   ],
   "source": [
    "l1 = [1,2,3,4]\n",
    "l2 = [5,6,7,8]\n",
    "print(l1+l2)"
   ]
  },
  {
   "cell_type": "code",
   "execution_count": 12,
   "id": "c72306ad",
   "metadata": {},
   "outputs": [
    {
     "name": "stdout",
     "output_type": "stream",
     "text": [
      "1\n",
      "2\n",
      "3\n",
      "4\n",
      "5\n",
      "6\n",
      "7\n",
      "8\n"
     ]
    }
   ],
   "source": [
    "l1 = [1,2,3,4,5,6,7,8]\n",
    "for i in l1:\n",
    "    print(i)"
   ]
  },
  {
   "cell_type": "code",
   "execution_count": 3,
   "id": "7d6c6a84",
   "metadata": {},
   "outputs": [
    {
     "name": "stdout",
     "output_type": "stream",
     "text": [
      "[1, 2, 3, 4, 5, 7]\n"
     ]
    }
   ],
   "source": [
    "li = [5,4,3,1,2,7]\n",
    "li.sort()\n",
    "print(li)"
   ]
  },
  {
   "cell_type": "code",
   "execution_count": 4,
   "id": "bb2109cc",
   "metadata": {},
   "outputs": [
    {
     "name": "stdout",
     "output_type": "stream",
     "text": [
      "[1, 2, 3, 4, 5, 7]\n",
      "[5, 4, 3, 1, 2, 7]\n"
     ]
    }
   ],
   "source": [
    "li = [5,4,3,1,2,7]\n",
    "print(sorted(li))\n",
    "print(li)"
   ]
  },
  {
   "cell_type": "code",
   "execution_count": 5,
   "id": "d29384de",
   "metadata": {},
   "outputs": [
    {
     "name": "stdout",
     "output_type": "stream",
     "text": [
      "[7, 5, 4, 3, 2, 1]\n"
     ]
    }
   ],
   "source": [
    "li = [5,4,3,1,2,7]\n",
    "li.sort(reverse = True)\n",
    "print(li)"
   ]
  },
  {
   "cell_type": "code",
   "execution_count": 8,
   "id": "7d2a11e3",
   "metadata": {},
   "outputs": [
    {
     "name": "stdout",
     "output_type": "stream",
     "text": [
      "[7, 2, 1, 3, 4, 5]\n"
     ]
    }
   ],
   "source": [
    "li = [5,4,3,1,2,7]\n",
    "li.reverse()\n",
    "print(li)"
   ]
  },
  {
   "cell_type": "code",
   "execution_count": 11,
   "id": "7ef67d98",
   "metadata": {},
   "outputs": [
    {
     "name": "stdout",
     "output_type": "stream",
     "text": [
      "0\n",
      "1\n",
      "2\n"
     ]
    }
   ],
   "source": [
    "li = [5,4,3,1,2,7]# it gives the index of the element\n",
    "print(li.index(5))\n",
    "print(li.index(4))\n",
    "print(li.index(3))"
   ]
  },
  {
   "cell_type": "code",
   "execution_count": 13,
   "id": "42b319de",
   "metadata": {},
   "outputs": [
    {
     "data": {
      "text/plain": [
       "2"
      ]
     },
     "execution_count": 13,
     "metadata": {},
     "output_type": "execute_result"
    }
   ],
   "source": [
    "li = [5,4,3,1,2,7,5,4,3,1,2,7]\n",
    "li.index(3)\n",
    "# the index return only the first occurance of an element"
   ]
  },
  {
   "cell_type": "code",
   "execution_count": 15,
   "id": "a243cc51",
   "metadata": {},
   "outputs": [
    {
     "name": "stdout",
     "output_type": "stream",
     "text": [
      "2\n"
     ]
    }
   ],
   "source": [
    "li=[5,4,3,1,2,7,5,4,3,1,2,7]\n",
    "print(li.count(5))"
   ]
  },
  {
   "cell_type": "code",
   "execution_count": 183,
   "id": "e11dff87",
   "metadata": {},
   "outputs": [
    {
     "name": "stdout",
     "output_type": "stream",
     "text": [
      "['b', 'l', 'a', 'z']\n",
      "['z', 'a', 'l', 'b']\n"
     ]
    }
   ],
   "source": [
    "st = \"blaz\"\n",
    "li = list(st)\n",
    "print(li)\n",
    "li.reverse()\n",
    "print(li)\n",
    "\n",
    "    "
   ]
  },
  {
   "cell_type": "code",
   "execution_count": 184,
   "id": "03eadc47",
   "metadata": {},
   "outputs": [
    {
     "name": "stdout",
     "output_type": "stream",
     "text": [
      "['z', 'a', 'l', 'b']\n",
      "blaz \n"
     ]
    }
   ],
   "source": [
    "print(li) #converting the list into string\n",
    "res = \" \"\n",
    "for i in li:\n",
    "    res  = i + res \n",
    "    \n",
    "print(res)    "
   ]
  },
  {
   "cell_type": "code",
   "execution_count": 24,
   "id": "7681aabf",
   "metadata": {},
   "outputs": [
    {
     "name": "stdout",
     "output_type": "stream",
     "text": [
      "['b', 'l', 'a', 'z']\n",
      "zalb \n"
     ]
    }
   ],
   "source": [
    "st = \"blaz\"\n",
    "li = list(st)\n",
    "print(li)\n",
    "ser = \" \"\n",
    "for i in li:\n",
    "    ser = i + ser\n",
    "print(ser)    \n",
    "    \n"
   ]
  },
  {
   "cell_type": "code",
   "execution_count": 25,
   "id": "7a079e29",
   "metadata": {},
   "outputs": [
    {
     "name": "stdout",
     "output_type": "stream",
     "text": [
      "[1, 2, 4, 5]\n"
     ]
    }
   ],
   "source": [
    "li  = [1,2,3,4,5] # the pop is used for indexing\n",
    "li.pop(2)\n",
    "print(li)"
   ]
  },
  {
   "cell_type": "code",
   "execution_count": 26,
   "id": "b031bf24",
   "metadata": {},
   "outputs": [
    {
     "name": "stdout",
     "output_type": "stream",
     "text": [
      "[1, 3, 4, 5]\n"
     ]
    }
   ],
   "source": [
    "li  = [1,2,3,4,5] # to remove the element in the list\n",
    "li.remove(2)\n",
    "print(li)"
   ]
  },
  {
   "cell_type": "markdown",
   "id": "bfe14e95",
   "metadata": {},
   "source": [
    "# sets"
   ]
  },
  {
   "cell_type": "code",
   "execution_count": 29,
   "id": "1020bb26",
   "metadata": {},
   "outputs": [
    {
     "name": "stdout",
     "output_type": "stream",
     "text": [
      "{1, 2, 3, 4, 5, 6, 7}\n",
      "{4, 5}\n",
      "{1, 2, 3}\n"
     ]
    }
   ],
   "source": [
    "s1 = {1,2,3,4,5}\n",
    "s2 = {4,5,6,7}\n",
    "print(s1 | s2)\n",
    "print(s1 & s2)\n",
    "print(s1 - s2)"
   ]
  },
  {
   "cell_type": "code",
   "execution_count": null,
   "id": "84fa9984",
   "metadata": {},
   "outputs": [],
   "source": [
    "# if s1 is subset of s2 ,s2 will contain all the element of s1"
   ]
  },
  {
   "cell_type": "code",
   "execution_count": 30,
   "id": "586bc529",
   "metadata": {},
   "outputs": [
    {
     "name": "stdout",
     "output_type": "stream",
     "text": [
      "False\n"
     ]
    }
   ],
   "source": [
    "s1 = {1,2,3,4,5}\n",
    "s2 = {4,5,6,7}\n",
    "print( s1 < s2)"
   ]
  },
  {
   "cell_type": "code",
   "execution_count": null,
   "id": "971cd155",
   "metadata": {},
   "outputs": [],
   "source": [
    "# take a string input and check whether it is pamgram\n",
    "# a quick brown fox jumps over a laxy dog\n"
   ]
  },
  {
   "cell_type": "code",
   "execution_count": 34,
   "id": "c7fd5a1d",
   "metadata": {},
   "outputs": [
    {
     "name": "stdout",
     "output_type": "stream",
     "text": [
      "enter the string:welcome\n",
      "{'w', 'm', 'c', 'o', 'e', 'l'}\n",
      "{'w', 'i', 'm', 'v', 'u', 't', 'y', 'c', 'h', 'a', 'l', 'z', 'p', 'd', 'r', 'x', 'b', 'n', 'g', 'q', 'j', 'e', 's', 'k', 'o', 'f'}\n",
      "not pangram\n"
     ]
    }
   ],
   "source": [
    "import string\n",
    "s= set(input(\"enter the string:\"))\n",
    "alpha = set(string.ascii_lowercase)\n",
    "print(s)\n",
    "print(alpha)\n",
    "if alpha <s:\n",
    "    print(\"pangram\")\n",
    "else:\n",
    "    print(\"not pangram\")\n",
    "\n",
    "\n",
    "\n"
   ]
  },
  {
   "cell_type": "code",
   "execution_count": 37,
   "id": "113d5d64",
   "metadata": {},
   "outputs": [
    {
     "name": "stdout",
     "output_type": "stream",
     "text": [
      "enter the string:  a quick brown fox jumps over the  lazy dog\n",
      "{'w', 'i', 'm', 'v', 'u', 't', 'y', 'c', 'h', 'a', 'l', ' ', 'z', 'p', 'd', 'r', 'x', 'b', 'n', 'g', 'q', 'j', 'e', 's', 'k', 'o', 'f'}\n",
      "{'w', 'i', 'm', 'v', 'u', 't', 'y', 'c', 'h', 'a', 'l', 'z', 'p', 'd', 'r', 'x', 'b', 'n', 'g', 'q', 'j', 'e', 's', 'k', 'o', 'f'}\n",
      "pangram\n"
     ]
    }
   ],
   "source": [
    "import string\n",
    "s= set(input(\"enter the string:\"))\n",
    "alpha = set(string.ascii_lowercase)\n",
    "print(s)\n",
    "print(alpha)\n",
    "\n",
    "\n",
    "if alpha <s:\n",
    "    print(\"pangram\")\n",
    "else:\n",
    "    print(\"not pangram\")"
   ]
  },
  {
   "cell_type": "code",
   "execution_count": 2,
   "id": "74f8d12d",
   "metadata": {},
   "outputs": [
    {
     "name": "stdout",
     "output_type": "stream",
     "text": [
      "8.0\n"
     ]
    }
   ],
   "source": [
    "import math\n",
    "print(math.sqrt(64))"
   ]
  },
  {
   "cell_type": "code",
   "execution_count": 3,
   "id": "4dd2f477",
   "metadata": {},
   "outputs": [
    {
     "name": "stdout",
     "output_type": "stream",
     "text": [
      "8.0\n"
     ]
    }
   ],
   "source": [
    "import math as m\n",
    "print(m.sqrt(64))"
   ]
  },
  {
   "cell_type": "code",
   "execution_count": 4,
   "id": "7c15d85e",
   "metadata": {},
   "outputs": [
    {
     "name": "stdout",
     "output_type": "stream",
     "text": [
      "8.0\n"
     ]
    }
   ],
   "source": [
    "from math import sqrt\n",
    "print(sqrt(64))"
   ]
  },
  {
   "cell_type": "code",
   "execution_count": 5,
   "id": "3f473cd8",
   "metadata": {},
   "outputs": [
    {
     "name": "stdout",
     "output_type": "stream",
     "text": [
      "3\n"
     ]
    }
   ],
   "source": [
    "# random module\n",
    "import random as r\n",
    "print(r.randrange(10))"
   ]
  },
  {
   "cell_type": "code",
   "execution_count": 6,
   "id": "8e7ff6b3",
   "metadata": {},
   "outputs": [
    {
     "name": "stdout",
     "output_type": "stream",
     "text": [
      "3\n"
     ]
    }
   ],
   "source": [
    "print(r.randint(1,5))"
   ]
  },
  {
   "cell_type": "code",
   "execution_count": 8,
   "id": "e0bb71f0",
   "metadata": {},
   "outputs": [
    {
     "name": "stdout",
     "output_type": "stream",
     "text": [
      "5.767534209881262\n"
     ]
    }
   ],
   "source": [
    "print(r.random() * 10)"
   ]
  },
  {
   "cell_type": "markdown",
   "id": "e95703b0",
   "metadata": {},
   "source": [
    "# mini project or generating otp\n",
    "creating a random 8 digit charecter and assign it to user:"
   ]
  },
  {
   "cell_type": "code",
   "execution_count": 85,
   "id": "79b375b6",
   "metadata": {},
   "outputs": [
    {
     "name": "stdout",
     "output_type": "stream",
     "text": [
      " SunqImMS\n"
     ]
    }
   ],
   "source": [
    "import random \n",
    "import string\n",
    "id = \" \"\n",
    "charecter_list = string.ascii_letters + string.digits\n",
    "\n",
    "for i in range(8):\n",
    "    id += random.choice(charecter_list)\n",
    "print(id)   \n",
    "\n",
    "\n",
    "    \n"
   ]
  },
  {
   "cell_type": "markdown",
   "id": "119dc185",
   "metadata": {},
   "source": [
    "assignment : generate everytime 6 charecter otp"
   ]
  },
  {
   "cell_type": "code",
   "execution_count": 167,
   "id": "3730f98a",
   "metadata": {},
   "outputs": [
    {
     "data": {
      "text/plain": [
       "'y'"
      ]
     },
     "execution_count": 167,
     "metadata": {},
     "output_type": "execute_result"
    }
   ],
   "source": [
    "charecter_list = string.ascii_letters + string.digits\n",
    "random.choice(charecter_list)\n"
   ]
  },
  {
   "cell_type": "code",
   "execution_count": null,
   "id": "457b5c70",
   "metadata": {},
   "outputs": [],
   "source": [
    "import random \n",
    "import string\n",
    "id = \" \"\n",
    "charecter_list = string.ascii_letters + string.digits\n",
    "\n",
    "for i in range(8):\n",
    "    id += random.choice(charecter_list)\n",
    "print(id) "
   ]
  },
  {
   "cell_type": "code",
   "execution_count": 6,
   "id": "876bb5ff",
   "metadata": {},
   "outputs": [
    {
     "name": "stdout",
     "output_type": "stream",
     "text": [
      " tvmlYd\n"
     ]
    }
   ],
   "source": [
    "import random \n",
    "import string\n",
    "id = \" \"\n",
    "charecter_list = string.ascii_letters + string.digits\n",
    "\n",
    "for i in range(6):\n",
    "    id += random.choice(charecter_list)\n",
    "print(id) "
   ]
  },
  {
   "cell_type": "code",
   "execution_count": null,
   "id": "f9d21726",
   "metadata": {},
   "outputs": [],
   "source": []
  },
  {
   "cell_type": "code",
   "execution_count": null,
   "id": "ca20d82f",
   "metadata": {},
   "outputs": [],
   "source": []
  },
  {
   "cell_type": "code",
   "execution_count": null,
   "id": "a2717162",
   "metadata": {},
   "outputs": [],
   "source": []
  },
  {
   "cell_type": "code",
   "execution_count": 168,
   "id": "3e8423dc",
   "metadata": {},
   "outputs": [],
   "source": [
    "#functions\n",
    "def fun():\n",
    "    print(\"good evening\")\n",
    "    \n",
    "    \n"
   ]
  },
  {
   "cell_type": "code",
   "execution_count": 169,
   "id": "dec638be",
   "metadata": {},
   "outputs": [
    {
     "name": "stdout",
     "output_type": "stream",
     "text": [
      "good evening\n"
     ]
    }
   ],
   "source": [
    "fun()\n"
   ]
  },
  {
   "cell_type": "code",
   "execution_count": null,
   "id": "5aadd1c7",
   "metadata": {},
   "outputs": [],
   "source": [
    "def fun(name):\n",
    "    print()"
   ]
  },
  {
   "cell_type": "code",
   "execution_count": 186,
   "id": "4a55fc60",
   "metadata": {
    "scrolled": true
   },
   "outputs": [
    {
     "name": "stdout",
     "output_type": "stream",
     "text": [
      " 123\n"
     ]
    }
   ],
   "source": [
    "z = \"hello \"\n",
    "p = [\"1\",\"2\",\"3\"]\n",
    "res = \" \"\n",
    "pes = \" \"\n",
    "for i in p:\n",
    "    res = res + i\n",
    "    \n",
    "for i in range(8):\n",
    "    pes +=  random.choice(z) +\n",
    "    \n",
    "   \n",
    "    \n",
    "   \n",
    "  \n"
   ]
  },
  {
   "cell_type": "markdown",
   "id": "a2bd038e",
   "metadata": {},
   "source": [
    "# decorator"
   ]
  },
  {
   "cell_type": "code",
   "execution_count": 190,
   "id": "9c417a39",
   "metadata": {},
   "outputs": [
    {
     "name": "stdout",
     "output_type": "stream",
     "text": [
      "2\n"
     ]
    }
   ],
   "source": [
    "def sub(a,b):\n",
    "    print(a,b)"
   ]
  },
  {
   "cell_type": "code",
   "execution_count": 188,
   "id": "41cedb0f",
   "metadata": {},
   "outputs": [
    {
     "name": "stdout",
     "output_type": "stream",
     "text": [
      "2\n"
     ]
    }
   ],
   "source": [
    "sub(7,5)"
   ]
  },
  {
   "cell_type": "code",
   "execution_count": 191,
   "id": "a4ef7aef",
   "metadata": {},
   "outputs": [
    {
     "name": "stdout",
     "output_type": "stream",
     "text": [
      "2\n"
     ]
    }
   ],
   "source": [
    "def sub(a,b): # we are not getting the negative value here\n",
    "    if a < b:\n",
    "        a,b = b,a\n",
    "    print(a-b)  \n",
    "sub(5,7)   "
   ]
  },
  {
   "cell_type": "code",
   "execution_count": null,
   "id": "6dc14c38",
   "metadata": {},
   "outputs": [],
   "source": []
  },
  {
   "cell_type": "code",
   "execution_count": null,
   "id": "048eb265",
   "metadata": {},
   "outputs": [],
   "source": []
  },
  {
   "cell_type": "code",
   "execution_count": null,
   "id": "2f56aa18",
   "metadata": {},
   "outputs": [],
   "source": []
  },
  {
   "cell_type": "code",
   "execution_count": null,
   "id": "f8e334fc",
   "metadata": {},
   "outputs": [],
   "source": []
  },
  {
   "cell_type": "code",
   "execution_count": null,
   "id": "cb2e74bc",
   "metadata": {},
   "outputs": [],
   "source": []
  },
  {
   "cell_type": "code",
   "execution_count": null,
   "id": "13ac3cc4",
   "metadata": {},
   "outputs": [],
   "source": []
  },
  {
   "cell_type": "code",
   "execution_count": null,
   "id": "d7ca024e",
   "metadata": {},
   "outputs": [],
   "source": []
  },
  {
   "cell_type": "code",
   "execution_count": null,
   "id": "a3566684",
   "metadata": {},
   "outputs": [],
   "source": []
  }
 ],
 "metadata": {
  "kernelspec": {
   "display_name": "Python 3",
   "language": "python",
   "name": "python3"
  },
  "language_info": {
   "codemirror_mode": {
    "name": "ipython",
    "version": 3
   },
   "file_extension": ".py",
   "mimetype": "text/x-python",
   "name": "python",
   "nbconvert_exporter": "python",
   "pygments_lexer": "ipython3",
   "version": "3.8.8"
  }
 },
 "nbformat": 4,
 "nbformat_minor": 5
}
