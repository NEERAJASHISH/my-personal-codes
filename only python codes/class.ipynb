{
 "cells": [
  {
   "cell_type": "markdown",
   "metadata": {},
   "source": [
    "# class "
   ]
  },
  {
   "cell_type": "code",
   "execution_count": 18,
   "metadata": {},
   "outputs": [
    {
     "name": "stdout",
     "output_type": "stream",
     "text": [
      "1tb 6gb i5\n",
      "1tb 6gb i5\n"
     ]
    }
   ],
   "source": [
    "class computer:\n",
    "    def config(self):\n",
    "        print(\"1tb\",\"6gb\",\"i5\")\n",
    "\n",
    "        \n",
    "\n",
    "\n",
    "com1  = computer()\n",
    "\n",
    "computer.config(com1)\n",
    "\n",
    "com1.config()\n",
    "\n",
    "\n"
   ]
  },
  {
   "cell_type": "code",
   "execution_count": 19,
   "metadata": {},
   "outputs": [
    {
     "name": "stdout",
     "output_type": "stream",
     "text": [
      "1. iphone 2.16gb ram 3.cost\n",
      "1. iphone 2.16gb ram 3.cost\n"
     ]
    }
   ],
   "source": [
    "class mobile:\n",
    "    def config(self):\n",
    "        print(\n",
    "            \"1. iphone\",\n",
    "            \"2.16gb ram\",\n",
    "            \"3.cost\"\n",
    "        )\n",
    "\n",
    "object1 = mobile()\n",
    "object2 = mobile()\n",
    "\n",
    "\n",
    "object1.config()\n",
    "object2.config()\n",
    "\n",
    "\n",
    "\n",
    "    "
   ]
  },
  {
   "cell_type": "code",
   "execution_count": 20,
   "metadata": {},
   "outputs": [
    {
     "name": "stdout",
     "output_type": "stream",
     "text": [
      "self\n",
      "self\n",
      "computer\n",
      "computer\n"
     ]
    }
   ],
   "source": [
    "class computer:\n",
    "    def __init__(self):\n",
    "        print(\"self\")\n",
    "\n",
    "    def config(self):\n",
    "        print(\"computer\")   \n",
    "\n",
    "obj1 = computer()\n",
    "obj2 = computer()        \n",
    "\n",
    "obj1.config()\n",
    "obj2.config()\n",
    "\n",
    "\n",
    "\n",
    "         \n",
    "        "
   ]
  },
  {
   "cell_type": "code",
   "execution_count": 21,
   "metadata": {},
   "outputs": [
    {
     "name": "stdout",
     "output_type": "stream",
     "text": [
      "the config is: i5 8\n",
      "the config is: ryzen 16\n"
     ]
    }
   ],
   "source": [
    "class computer:\n",
    "    def __init__(self,cpu,ram):\n",
    "        self.cpu = cpu\n",
    "        self.ram  = ram\n",
    "\n",
    "    def config(self):\n",
    "        print(\"the config is:\",self.cpu,self.ram)    \n",
    "    \n",
    "    \n",
    "obj1  = computer(\"i5\",8)\n",
    "obj2  = computer(\"ryzen\",16)\n",
    "\n",
    "obj1.config()\n",
    "obj2.config()\n",
    "\n",
    "\n",
    "\n",
    "\n",
    "\n",
    "\n",
    "\n",
    "    \n",
    "        "
   ]
  },
  {
   "cell_type": "code",
   "execution_count": 1,
   "metadata": {},
   "outputs": [
    {
     "name": "stdout",
     "output_type": "stream",
     "text": [
      "i5\n",
      "8\n",
      "ryzen\n",
      "16\n"
     ]
    }
   ],
   "source": [
    "class computer:\n",
    "    def __init__(self,cpu,ram):\n",
    "        self.cpu = cpu\n",
    "        self.ram  = ram\n",
    "        print(cpu)\n",
    "        print(ram)\n",
    "\n",
    "    \n",
    "    \n",
    "obj1  = computer(\"i5\",8)\n",
    "obj2  = computer(\"ryzen\",16)\n",
    "\n"
   ]
  },
  {
   "cell_type": "code",
   "execution_count": 2,
   "metadata": {},
   "outputs": [
    {
     "data": {
      "text/plain": [
       "'i5'"
      ]
     },
     "execution_count": 2,
     "metadata": {},
     "output_type": "execute_result"
    }
   ],
   "source": [
    "obj1.cpu"
   ]
  },
  {
   "cell_type": "code",
   "execution_count": 17,
   "metadata": {},
   "outputs": [
    {
     "name": "stdout",
     "output_type": "stream",
     "text": [
      "hello\n",
      "10\n",
      "hello\n",
      "10\n"
     ]
    }
   ],
   "source": [
    "class computer:\n",
    "    def __init__(self):\n",
    "        self.name = \"hello\" # for number of objects it will be excecuted number of times\n",
    "        self.age = 10\n",
    "        print(self.name)\n",
    "        print(self.age)\n",
    "\n",
    "\n",
    "obj1 = computer()\n",
    "obj2 = computer()\n"
   ]
  },
  {
   "cell_type": "code",
   "execution_count": 5,
   "metadata": {},
   "outputs": [
    {
     "name": "stdout",
     "output_type": "stream",
     "text": [
      "legend\n",
      "40\n"
     ]
    }
   ],
   "source": [
    "class student:\n",
    "    def __init__(self):\n",
    "        self.name= \"neeraj\"\n",
    "        self.age = 21\n",
    "\n",
    "    def update(self):\n",
    "        self.age = 40\n",
    "\n",
    "            \n",
    "\n",
    "\n",
    "\n",
    "\n",
    "\n",
    "object1 = student()\n",
    "object2 = student()\n",
    "\n",
    "\n",
    "# here we can update the variables in the class\n",
    "object1.name = \"legend\"\n",
    "object2.age = 80\n",
    "\n",
    "object2.update()\n",
    "\n",
    "print(object1.name)\n",
    "print(object2.age)\n",
    "\n",
    "\n",
    "\n",
    "\n",
    "\n",
    "\n",
    "    \n",
    "    \n",
    "    \n"
   ]
  },
  {
   "cell_type": "markdown",
   "metadata": {},
   "source": [
    "# comapring the two objects"
   ]
  },
  {
   "cell_type": "code",
   "execution_count": 11,
   "metadata": {},
   "outputs": [
    {
     "name": "stdout",
     "output_type": "stream",
     "text": [
      "they are different\n"
     ]
    }
   ],
   "source": [
    "class student:\n",
    "    def __init__(self):\n",
    "        self.name= \"neeraj\"\n",
    "        self.age = 21\n",
    "        \n",
    "    def compare(self,other):\n",
    "        if self.age == other.age:\n",
    "            return (True)\n",
    "        else:\n",
    "            return(False)\n",
    "        \n",
    "object1 = student()\n",
    "object2 = student()\n",
    "\n",
    "object2.age = 10\n",
    "object1.name = \"legend\"\n",
    "\n",
    "if object1.compare(object2):\n",
    "    print(\"they are same\")\n",
    "else:\n",
    "    print(\"they are different\")\n",
    "    \n",
    "    \n",
    "    \n",
    "    \n",
    "\n",
    "        \n",
    "        \n",
    "            \n",
    "        \n",
    "        \n",
    "        \n",
    "        \n",
    "        \n",
    "\n",
    "        \n",
    "\n",
    "        \n",
    "\n",
    "   \n",
    "        \n",
    "\n",
    "            \n",
    "\n",
    "\n",
    "\n",
    "\n",
    "\n",
    "\n",
    "\n",
    "\n",
    "\n",
    "\n",
    "\n",
    "\n",
    "\n",
    "\n",
    "\n"
   ]
  },
  {
   "cell_type": "code",
   "execution_count": null,
   "metadata": {},
   "outputs": [],
   "source": [
    "from IPython.display import clear_output\n",
    "\n",
    "def display_board(board):\n",
    "    print(board[7] + '|'+board[8]+'|'+board[9])\n",
    "    print(\"-----\")\n",
    "    print(board[4] + '|'+board[5]+'|'+board[6])\n",
    "    print(\"-----\")\n",
    "    print(board[1] + '|'+board[2]+'|'+board[3])\n",
    "    print(\"-----\")\n",
    "    \n",
    "board=[\"#\",\" \",\" \",\" \",\" \",\" \",\" \",\" \",\" \",\" \"]\n",
    "\n",
    "\n",
    "def user_marker():\n",
    "    \n",
    "    marker = \"   \"\n",
    "    \n",
    "    while marker not in [\"x\",\"o\"]:\n",
    "        \n",
    "        marker = input(\"please select the marker (x 0r o ):\")\n",
    "        \n",
    "        if marker not in [\"x\",\"o\"]:\n",
    "            print(\"please enter the vlaid input!\")\n",
    "            \n",
    "    return(marker)\n",
    "\n",
    "def user_choiceinnum():\n",
    "        \n",
    "        position = \"  \"\n",
    "        \n",
    "        \n",
    "        \n",
    "        \n",
    "        while position not in [\"1\",\"2\",\"3\",\"4\",\"5\",\"6\",\"7\",\"8\",\"9\"]:\n",
    "            position = input(\"please select the positon by chosing numbers between (1-9):\")\n",
    "            \n",
    "            if position not in [\"1\",\"2\",\"3\",\"4\",\"5\",\"6\",\"7\",\"8\",\"9\"] :\n",
    "                print(\"please enter an valid input!\")\n",
    "                \n",
    "        return(int(position))\n",
    "    \n",
    "def replacement(board,marker,position):\n",
    "    \n",
    "    board[position] = marker\n",
    "    \n",
    "    return(board)\n",
    "\n",
    "gameison = True\n",
    "\n",
    "\n",
    "while gameison:\n",
    "    \n",
    "    display_board(board)\n",
    "    \n",
    "    marker = user_marker()\n",
    "    \n",
    "    position = user_choiceinnum()\n",
    "    \n",
    "    board = replacement(board,marker,position)\n",
    "    \n",
    "    if ( (board[7] == marker and board[8] == marker and board[9] == marker) or\n",
    "        (board[4] == marker and board[5] == marker and board[6] == marker) or\n",
    "        (board[1] == marker and board[2] == marker and board[3] == marker) or\n",
    "        (board[7] == marker and board[4] == marker and board[1] == marker) or\n",
    "        (board[8] == marker and board[5] == marker and board[2] == marker) or\n",
    "        (board[9] == marker and board[6] == marker and board[3] == marker) or\n",
    "        (board[7] == marker and board[5] == marker and board[3] == marker) or\n",
    "        (board[9] == marker and board[5] == marker and board[1] == marker) ):\n",
    "        \n",
    "        print(\"won\")\n",
    "        break\n"
   ]
  },
  {
   "cell_type": "code",
   "execution_count": null,
   "metadata": {},
   "outputs": [],
   "source": []
  },
  {
   "cell_type": "code",
   "execution_count": null,
   "metadata": {},
   "outputs": [],
   "source": []
  },
  {
   "cell_type": "code",
   "execution_count": null,
   "metadata": {},
   "outputs": [],
   "source": []
  },
  {
   "cell_type": "code",
   "execution_count": null,
   "metadata": {},
   "outputs": [],
   "source": []
  },
  {
   "cell_type": "code",
   "execution_count": null,
   "metadata": {},
   "outputs": [],
   "source": []
  },
  {
   "cell_type": "code",
   "execution_count": null,
   "metadata": {},
   "outputs": [],
   "source": []
  },
  {
   "cell_type": "code",
   "execution_count": null,
   "metadata": {},
   "outputs": [],
   "source": []
  },
  {
   "cell_type": "code",
   "execution_count": null,
   "metadata": {},
   "outputs": [],
   "source": []
  },
  {
   "cell_type": "code",
   "execution_count": null,
   "metadata": {},
   "outputs": [],
   "source": []
  }
 ],
 "metadata": {
  "interpreter": {
   "hash": "23300995598eec4bcf6bd89cf02d1c3675e8b2616661418dbbf5580aa901878d"
  },
  "kernelspec": {
   "display_name": "Python 3",
   "language": "python",
   "name": "python3"
  },
  "language_info": {
   "codemirror_mode": {
    "name": "ipython",
    "version": 3
   },
   "file_extension": ".py",
   "mimetype": "text/x-python",
   "name": "python",
   "nbconvert_exporter": "python",
   "pygments_lexer": "ipython3",
   "version": "3.8.8"
  }
 },
 "nbformat": 4,
 "nbformat_minor": 2
}
