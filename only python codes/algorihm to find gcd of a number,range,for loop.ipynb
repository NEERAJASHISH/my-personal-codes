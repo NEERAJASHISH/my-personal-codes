{
 "cells": [
  {
   "cell_type": "code",
   "execution_count": 4,
   "id": "c4141f44",
   "metadata": {},
   "outputs": [
    {
     "name": "stdout",
     "output_type": "stream",
     "text": [
      "enter the number m:14\n",
      "enter the number n:63\n",
      "the gcd of the given number:\n",
      "1\n"
     ]
    }
   ],
   "source": [
    "def gcd(m,n):\n",
    "    \n",
    "    fm=[]\n",
    "    for i in range(1,m+1):\n",
    "        if(m%i) == 0:\n",
    "            fm.append(i)\n",
    "            \n",
    "    fn=[]\n",
    "    for j in range(1,n+1):\n",
    "        if (n%j) == 0:\n",
    "            fn.append(j)\n",
    "            \n",
    "    cf=[]\n",
    "    for f in fm:\n",
    "        if f in fn:\n",
    "            cf.append(f)\n",
    "            \n",
    "            \n",
    "            return(cf[-1])\n",
    "        \n",
    "        \n",
    "x = int(input(\"enter the number m:\"))\n",
    "y= int(input(\"enter the number n:\"))\n",
    "num = gcd(x,y)\n",
    "print(\"the gcd of the given number:\")\n",
    "print(num)\n",
    "            \n",
    "            \n",
    "            \n",
    "            \n",
    "            \n",
    "        \n"
   ]
  },
  {
   "cell_type": "code",
   "execution_count": 17,
   "id": "865929c0",
   "metadata": {},
   "outputs": [],
   "source": [
    "#method 2 of gcd \n",
    "def gcd(m,n):\n",
    "    \n",
    "    cf = []\n",
    "    for i in range (1,min(m,n)+1):\n",
    "        if (m%i) == 0 and (n%i) == 0:\n",
    "            cf.append(i)\n",
    "            \n",
    "            return(cf[-1])\n",
    "            \n",
    "          \n",
    "            \n",
    "        "
   ]
  },
  {
   "cell_type": "code",
   "execution_count": 18,
   "id": "6272cf16",
   "metadata": {},
   "outputs": [
    {
     "data": {
      "text/plain": [
       "1"
      ]
     },
     "execution_count": 18,
     "metadata": {},
     "output_type": "execute_result"
    }
   ],
   "source": [
    "gcd(14,63)"
   ]
  },
  {
   "cell_type": "code",
   "execution_count": 19,
   "id": "bdd13be8",
   "metadata": {},
   "outputs": [
    {
     "name": "stdout",
     "output_type": "stream",
     "text": [
      "enter the number m:14\n",
      "enter the number n:63\n",
      "the gcd of the given number is :\n",
      "1\n"
     ]
    }
   ],
   "source": [
    "# using the user interface\n",
    "def gcd(x,y):\n",
    "    \n",
    "    cf =[]\n",
    "    for i in range(1,min(x,y)+1):\n",
    "        if (x%i) == 0  and (y%i) == 0:\n",
    "            cf.append(i)\n",
    "            \n",
    "            return(cf[-1])\n",
    "\n",
    "m = int(input(\"enter the number m:\"))\n",
    "n  = int(input(\"enter the number n:\"))\n",
    "num = gcd(m,n)\n",
    "print(\"the gcd of the given number is :\")\n",
    "print(num)\n",
    "        \n",
    "        \n",
    "        "
   ]
  },
  {
   "cell_type": "code",
   "execution_count": 20,
   "id": "0d93cced",
   "metadata": {},
   "outputs": [],
   "source": [
    "def gcd(m,n):\n",
    "    for i in range(1,min(m,n)):\n",
    "        if (m%i) == 0 and (n%i) == 0:\n",
    "            mrcf = i\n",
    "            \n",
    "            return(mrcf)\n",
    "    \n",
    "     \n",
    "     \n"
   ]
  },
  {
   "cell_type": "code",
   "execution_count": 21,
   "id": "2dd51508",
   "metadata": {
    "scrolled": true
   },
   "outputs": [
    {
     "data": {
      "text/plain": [
       "1"
      ]
     },
     "execution_count": 21,
     "metadata": {},
     "output_type": "execute_result"
    }
   ],
   "source": [
    "gcd(14,63)"
   ]
  },
  {
   "cell_type": "code",
   "execution_count": 22,
   "id": "07385893",
   "metadata": {},
   "outputs": [],
   "source": [
    "def gcd(m,n):\n",
    "    \n",
    "    i = min(m,n)\n",
    "    while i>0:\n",
    "        if (m%i) == 0 and (n%i) ==0:\n",
    "            return(i)\n",
    "        \n",
    "        else:\n",
    "            i = i-1\n",
    "    \n",
    "    "
   ]
  },
  {
   "cell_type": "code",
   "execution_count": 23,
   "id": "4bc368a2",
   "metadata": {},
   "outputs": [
    {
     "data": {
      "text/plain": [
       "7"
      ]
     },
     "execution_count": 23,
     "metadata": {},
     "output_type": "execute_result"
    }
   ],
   "source": [
    "gcd(14,63)"
   ]
  },
  {
   "cell_type": "code",
   "execution_count": null,
   "id": "513471b2",
   "metadata": {},
   "outputs": [],
   "source": [
    "# gcd of the given number  using euclids of the given number"
   ]
  },
  {
   "cell_type": "code",
   "execution_count": 42,
   "id": "9ab8f009",
   "metadata": {},
   "outputs": [
    {
     "name": "stdout",
     "output_type": "stream",
     "text": [
      "enter the number n:14\n",
      "enter the number m :63\n",
      "gcd of the given number is:\n",
      "None\n"
     ]
    }
   ],
   "source": [
    "def gcd(m,n):\n",
    "    if m<n:\n",
    "        (m,n) = (n,m) \n",
    "        if (m%n) == 0:\n",
    "            return(n)\n",
    "        \n",
    "        else:\n",
    "            diff = m-n\n",
    "            \n",
    "            return(gcd(max(n,diff),min(n,diff)))\n",
    "        \n",
    "x = int(input(\"enter the number n:\"))\n",
    "y = int(input(\"enter the number m :\"))\n",
    "num = gcd(x,y)\n",
    "print(\"gcd of the given number is:\")\n",
    "print(num)\n",
    "        \n",
    "            \n",
    "        \n",
    "            \n",
    "        \n",
    "        "
   ]
  },
  {
   "cell_type": "code",
   "execution_count": 43,
   "id": "e4caf527",
   "metadata": {},
   "outputs": [],
   "source": [
    "gcd(14,63) #error"
   ]
  },
  {
   "cell_type": "code",
   "execution_count": 48,
   "id": "645e8435",
   "metadata": {},
   "outputs": [
    {
     "ename": "SyntaxError",
     "evalue": "invalid syntax (<ipython-input-48-2265b8146321>, line 5)",
     "output_type": "error",
     "traceback": [
      "\u001b[1;36m  File \u001b[1;32m\"<ipython-input-48-2265b8146321>\"\u001b[1;36m, line \u001b[1;32m5\u001b[0m\n\u001b[1;33m    while (m%n)! = 0:\u001b[0m\n\u001b[1;37m               ^\u001b[0m\n\u001b[1;31mSyntaxError\u001b[0m\u001b[1;31m:\u001b[0m invalid syntax\n"
     ]
    }
   ],
   "source": [
    "def gcd(m,n):\n",
    "    if m<n:\n",
    "        (m,n) = (n,m)\n",
    "        \n",
    "        while m%n ! = 0:\n",
    "            diff = m-n\n",
    "            (m,n) = (max(n,diff),min(n,diff))\n",
    "            return(n)\n",
    "            \n",
    "            \n",
    "        "
   ]
  },
  {
   "cell_type": "code",
   "execution_count": null,
   "id": "c50e41f3",
   "metadata": {},
   "outputs": [],
   "source": [
    "# for and range fuctions"
   ]
  },
  {
   "cell_type": "code",
   "execution_count": 37,
   "id": "5bb3b4b4",
   "metadata": {},
   "outputs": [
    {
     "name": "stdout",
     "output_type": "stream",
     "text": [
      "hello\n",
      "he\n",
      "you\n"
     ]
    }
   ],
   "source": [
    "l=[\"hello\",\"he\",\"you\"]\n",
    "for x in l:\n",
    "    print(x)\n"
   ]
  },
  {
   "cell_type": "code",
   "execution_count": 7,
   "id": "ec206986",
   "metadata": {},
   "outputs": [
    {
     "name": "stdout",
     "output_type": "stream",
     "text": [
      "l\n",
      "e\n",
      "a\n",
      "r\n",
      "n\n",
      "i\n",
      "n\n",
      "g\n",
      " \n",
      "t\n",
      "h\n",
      "e\n",
      " \n",
      "p\n",
      "y\n",
      "t\n",
      "h\n",
      "o\n",
      "n\n"
     ]
    }
   ],
   "source": [
    "x = \"learning the python\" # here we can use for loop in two manner. if we give for i in x (print(x))it will print all the words in x for the number of words in x\n",
    "for i in x:               #or we can use the print(i) for each individual words\n",
    "    print(i)"
   ]
  },
  {
   "cell_type": "code",
   "execution_count": 11,
   "id": "e22139a6",
   "metadata": {},
   "outputs": [
    {
     "name": "stdout",
     "output_type": "stream",
     "text": [
      "['hello']\n"
     ]
    }
   ],
   "source": [
    "l = [\"hello\"]\n",
    "for i in l:\n",
    "    print(l)"
   ]
  },
  {
   "cell_type": "code",
   "execution_count": 22,
   "id": "396348eb",
   "metadata": {},
   "outputs": [
    {
     "name": "stdout",
     "output_type": "stream",
     "text": [
      "2\n",
      "8\n",
      "array\n"
     ]
    }
   ],
   "source": [
    "for i in (2,8,\"array\"):\n",
    "    print(i)"
   ]
  },
  {
   "cell_type": "code",
   "execution_count": 12,
   "id": "3002540e",
   "metadata": {},
   "outputs": [
    {
     "name": "stdout",
     "output_type": "stream",
     "text": [
      "['hello', 'there', 'awesome']\n",
      "['hello', 'there', 'awesome']\n",
      "['hello', 'there', 'awesome']\n"
     ]
    }
   ],
   "source": [
    "l = [\"hello\",\"there\",\"awesome\"]\n",
    "for i in l:\n",
    "    print(l)"
   ]
  },
  {
   "cell_type": "code",
   "execution_count": 14,
   "id": "b8116254",
   "metadata": {},
   "outputs": [
    {
     "name": "stdout",
     "output_type": "stream",
     "text": [
      "blaz\n",
      "blaz\n",
      "blaz\n",
      "blaz\n"
     ]
    }
   ],
   "source": [
    "l = \"blaz\"\n",
    "for i in l:\n",
    "    print(l)"
   ]
  },
  {
   "cell_type": "code",
   "execution_count": 19,
   "id": "49fddbbf",
   "metadata": {},
   "outputs": [
    {
     "name": "stdout",
     "output_type": "stream",
     "text": [
      "0\n",
      "1\n",
      "2\n",
      "3\n",
      "4\n",
      "5\n",
      "6\n",
      "7\n",
      "8\n",
      "9\n"
     ]
    }
   ],
   "source": [
    "for i in range(10):\n",
    "    print(i)"
   ]
  },
  {
   "cell_type": "code",
   "execution_count": 21,
   "id": "61bdb268",
   "metadata": {},
   "outputs": [
    {
     "name": "stdout",
     "output_type": "stream",
     "text": [
      "11\n",
      "12\n",
      "13\n",
      "14\n",
      "15\n",
      "16\n",
      "17\n",
      "18\n",
      "19\n",
      "20\n"
     ]
    }
   ],
   "source": [
    "for i in range(11,21):\n",
    "    print(i)"
   ]
  },
  {
   "cell_type": "code",
   "execution_count": 25,
   "id": "a218bbaa",
   "metadata": {},
   "outputs": [
    {
     "name": "stdout",
     "output_type": "stream",
     "text": [
      "1\n",
      "2\n",
      "3\n",
      "4\n",
      "5\n",
      "6\n",
      "7\n",
      "8\n",
      "9\n"
     ]
    }
   ],
   "source": [
    "for i in range(1,10,1):\n",
    "    print(i)"
   ]
  },
  {
   "cell_type": "code",
   "execution_count": 28,
   "id": "953e4dda",
   "metadata": {},
   "outputs": [
    {
     "name": "stdout",
     "output_type": "stream",
     "text": [
      "1\n",
      "4\n",
      "7\n"
     ]
    }
   ],
   "source": [
    "for i in range (1,10,3):\n",
    "    print(i)\n"
   ]
  },
  {
   "cell_type": "code",
   "execution_count": 50,
   "id": "d0f63234",
   "metadata": {},
   "outputs": [
    {
     "name": "stdout",
     "output_type": "stream",
     "text": [
      "hello how are you\n"
     ]
    }
   ],
   "source": [
    "#  strings\n",
    "# operations on string :a string is a sequence of charercter\n",
    "\n",
    "s = \"hello\"\n",
    "t = s + \" how are you\"\n",
    "print(t)"
   ]
  },
  {
   "cell_type": "code",
   "execution_count": 51,
   "id": "0af94689",
   "metadata": {},
   "outputs": [
    {
     "data": {
      "text/plain": [
       "17"
      ]
     },
     "execution_count": 51,
     "metadata": {},
     "output_type": "execute_result"
    }
   ],
   "source": [
    "len(t)"
   ]
  },
  {
   "cell_type": "code",
   "execution_count": 53,
   "id": "edd246dc",
   "metadata": {},
   "outputs": [
    {
     "data": {
      "text/plain": [
       "'earning'"
      ]
     },
     "execution_count": 53,
     "metadata": {},
     "output_type": "execute_result"
    }
   ],
   "source": [
    "#slicing\n",
    "# a part of the string is slice\n",
    "h = \"learningpython\"\n",
    "h[1:8]\n",
    "\n",
    "    "
   ]
  },
  {
   "cell_type": "code",
   "execution_count": 54,
   "id": "a9714812",
   "metadata": {},
   "outputs": [
    {
     "data": {
      "text/plain": [
       "'learningpy'"
      ]
     },
     "execution_count": 54,
     "metadata": {},
     "output_type": "execute_result"
    }
   ],
   "source": [
    "h[0:10]"
   ]
  },
  {
   "cell_type": "code",
   "execution_count": 55,
   "id": "e31082c1",
   "metadata": {},
   "outputs": [
    {
     "data": {
      "text/plain": [
       "'l'"
      ]
     },
     "execution_count": 55,
     "metadata": {},
     "output_type": "execute_result"
    }
   ],
   "source": [
    "h[0]"
   ]
  },
  {
   "cell_type": "code",
   "execution_count": 56,
   "id": "f7f6e013",
   "metadata": {},
   "outputs": [
    {
     "data": {
      "text/plain": [
       "'learningpython'"
      ]
     },
     "execution_count": 56,
     "metadata": {},
     "output_type": "execute_result"
    }
   ],
   "source": [
    "h[0:]"
   ]
  },
  {
   "cell_type": "code",
   "execution_count": 57,
   "id": "db6deae8",
   "metadata": {},
   "outputs": [
    {
     "ename": "TypeError",
     "evalue": "'str' object does not support item assignment",
     "output_type": "error",
     "traceback": [
      "\u001b[1;31m---------------------------------------------------------------------------\u001b[0m",
      "\u001b[1;31mTypeError\u001b[0m                                 Traceback (most recent call last)",
      "\u001b[1;32m<ipython-input-57-24cd35b29c26>\u001b[0m in \u001b[0;36m<module>\u001b[1;34m\u001b[0m\n\u001b[1;32m----> 1\u001b[1;33m \u001b[0mh\u001b[0m\u001b[1;33m[\u001b[0m\u001b[1;36m0\u001b[0m\u001b[1;33m]\u001b[0m \u001b[1;33m=\u001b[0m \u001b[1;34m\"p\"\u001b[0m\u001b[1;33m\u001b[0m\u001b[1;33m\u001b[0m\u001b[0m\n\u001b[0m",
      "\u001b[1;31mTypeError\u001b[0m: 'str' object does not support item assignment"
     ]
    }
   ],
   "source": [
    "h[0] = \"p\" # gives an error"
   ]
  },
  {
   "cell_type": "code",
   "execution_count": 58,
   "id": "682646c6",
   "metadata": {},
   "outputs": [
    {
     "data": {
      "text/plain": [
       "'hello how are '"
      ]
     },
     "execution_count": 58,
     "metadata": {},
     "output_type": "execute_result"
    }
   ],
   "source": [
    "#  modifying the strings\n",
    "l = \"hello how are you\"\n",
    "l[0:14]"
   ]
  },
  {
   "cell_type": "code",
   "execution_count": 4,
   "id": "7911bf77",
   "metadata": {},
   "outputs": [
    {
     "name": "stdout",
     "output_type": "stream",
     "text": [
      "hello how are you there\n"
     ]
    }
   ],
   "source": [
    "l = \"hello how are you\"\n",
    "s = \"people\"\n",
    "t = l + \" there\"\n",
    "print(t)\n"
   ]
  },
  {
   "cell_type": "code",
   "execution_count": 5,
   "id": "b261e75a",
   "metadata": {},
   "outputs": [
    {
     "data": {
      "text/plain": [
       "'hel'"
      ]
     },
     "execution_count": 5,
     "metadata": {},
     "output_type": "execute_result"
    }
   ],
   "source": [
    "l = \"hello how are you\"\n",
    "l[0:3]"
   ]
  },
  {
   "cell_type": "code",
   "execution_count": 8,
   "id": "86a690e0",
   "metadata": {},
   "outputs": [
    {
     "data": {
      "text/plain": [
       "'ello how are you'"
      ]
     },
     "execution_count": 8,
     "metadata": {},
     "output_type": "execute_result"
    }
   ],
   "source": [
    "l = \"hello how are you\"\n",
    "l[1:]"
   ]
  },
  {
   "cell_type": "code",
   "execution_count": 17,
   "id": "e18a0c10",
   "metadata": {},
   "outputs": [
    {
     "data": {
      "text/plain": [
       "dict"
      ]
     },
     "execution_count": 17,
     "metadata": {},
     "output_type": "execute_result"
    }
   ],
   "source": [
    "elements={\"ronaldo\":1,\"messi\":2}\n",
    "type(elements)"
   ]
  },
  {
   "cell_type": "code",
   "execution_count": 19,
   "id": "c41462dc",
   "metadata": {},
   "outputs": [
    {
     "name": "stdout",
     "output_type": "stream",
     "text": [
      "True\n"
     ]
    }
   ],
   "source": [
    "print(\"ronaldo\" in elements)"
   ]
  },
  {
   "cell_type": "code",
   "execution_count": 21,
   "id": "e8aed939",
   "metadata": {},
   "outputs": [
    {
     "name": "stdout",
     "output_type": "stream",
     "text": [
      "Reset css and font defaults in:\n",
      "C:\\Users\\USER\\.jupyter\\custom &\n",
      "C:\\Users\\USER\\AppData\\Roaming\\jupyter\\nbextensions\n"
     ]
    }
   ],
   "source": [
    "!jt -r"
   ]
  },
  {
   "cell_type": "code",
   "execution_count": 27,
   "id": "6c80fe3e",
   "metadata": {},
   "outputs": [],
   "source": [
    "# lists in python\n",
    "#lists is a sequence of values in python\n",
    "#example of the list is given by\n",
    "list = [10,\"play\",\"TRUE\"]\n",
    "\n",
    "\n",
    "\n",
    "\n",
    "\n"
   ]
  },
  {
   "cell_type": "code",
   "execution_count": 28,
   "id": "a970481d",
   "metadata": {},
   "outputs": [
    {
     "data": {
      "text/plain": [
       "10"
      ]
     },
     "execution_count": 28,
     "metadata": {},
     "output_type": "execute_result"
    }
   ],
   "source": [
    "list[0]"
   ]
  },
  {
   "cell_type": "code",
   "execution_count": 33,
   "id": "d1e0f4f9",
   "metadata": {},
   "outputs": [],
   "source": [
    "#strings is a sequence of value it can gave both numbers and charecters\n",
    "# for strings both sigle position and slice return the string\n",
    "# for list a single position return a value\n",
    "# slice return a list\n",
    "fact = [10,20,30,40,50]\n",
    "\n"
   ]
  },
  {
   "cell_type": "code",
   "execution_count": 35,
   "id": "05dc25ff",
   "metadata": {},
   "outputs": [
    {
     "data": {
      "text/plain": [
       "20"
      ]
     },
     "execution_count": 35,
     "metadata": {},
     "output_type": "execute_result"
    }
   ],
   "source": [
    "fact[0]\n",
    "\n",
    "\n"
   ]
  },
  {
   "cell_type": "code",
   "execution_count": 36,
   "id": "1e5776be",
   "metadata": {},
   "outputs": [
    {
     "data": {
      "text/plain": [
       "20"
      ]
     },
     "execution_count": 36,
     "metadata": {},
     "output_type": "execute_result"
    }
   ],
   "source": [
    "fact[1] #single postion gives a value"
   ]
  },
  {
   "cell_type": "code",
   "execution_count": 37,
   "id": "fff044f7",
   "metadata": {},
   "outputs": [
    {
     "data": {
      "text/plain": [
       "30"
      ]
     },
     "execution_count": 37,
     "metadata": {},
     "output_type": "execute_result"
    }
   ],
   "source": [
    "fact[2]  #single position gives a value"
   ]
  },
  {
   "cell_type": "code",
   "execution_count": 38,
   "id": "ee198b46",
   "metadata": {},
   "outputs": [
    {
     "data": {
      "text/plain": [
       "[10, 20, 30]"
      ]
     },
     "execution_count": 38,
     "metadata": {},
     "output_type": "execute_result"
    }
   ],
   "source": [
    "fact[0:3] #slicing the return the list for the given list"
   ]
  },
  {
   "cell_type": "code",
   "execution_count": 39,
   "id": "2cbd874b",
   "metadata": {},
   "outputs": [],
   "source": [
    "h = [\"hello world\",\"hi\",10]\n"
   ]
  },
  {
   "cell_type": "code",
   "execution_count": 41,
   "id": "a1de6aa7",
   "metadata": {},
   "outputs": [
    {
     "data": {
      "text/plain": [
       "['hello world']"
      ]
     },
     "execution_count": 41,
     "metadata": {},
     "output_type": "execute_result"
    }
   ],
   "source": [
    "h[0:1]"
   ]
  },
  {
   "cell_type": "code",
   "execution_count": 42,
   "id": "42047b61",
   "metadata": {},
   "outputs": [
    {
     "data": {
      "text/plain": [
       "['hello world', 'hi']"
      ]
     },
     "execution_count": 42,
     "metadata": {},
     "output_type": "execute_result"
    }
   ],
   "source": [
    "h[0:2]"
   ]
  },
  {
   "cell_type": "code",
   "execution_count": 43,
   "id": "21c5be3f",
   "metadata": {},
   "outputs": [
    {
     "data": {
      "text/plain": [
       "['hello world', 'hi', 10]"
      ]
     },
     "execution_count": 43,
     "metadata": {},
     "output_type": "execute_result"
    }
   ],
   "source": [
    "h[0:]"
   ]
  },
  {
   "cell_type": "code",
   "execution_count": 56,
   "id": "3b4615f4",
   "metadata": {},
   "outputs": [],
   "source": [
    "#NESTED LIST\n",
    "nest = [[2,[37]],4,\"hello\"]\n"
   ]
  },
  {
   "cell_type": "code",
   "execution_count": 45,
   "id": "208d062d",
   "metadata": {},
   "outputs": [
    {
     "data": {
      "text/plain": [
       "[2, [37]]"
      ]
     },
     "execution_count": 45,
     "metadata": {},
     "output_type": "execute_result"
    }
   ],
   "source": [
    "nest[0]"
   ]
  },
  {
   "cell_type": "code",
   "execution_count": 57,
   "id": "e773cba9",
   "metadata": {},
   "outputs": [
    {
     "data": {
      "text/plain": [
       "4"
      ]
     },
     "execution_count": 57,
     "metadata": {},
     "output_type": "execute_result"
    }
   ],
   "source": [
    "nest[1]"
   ]
  },
  {
   "cell_type": "code",
   "execution_count": 60,
   "id": "70d260af",
   "metadata": {},
   "outputs": [
    {
     "data": {
      "text/plain": [
       "'hel'"
      ]
     },
     "execution_count": 60,
     "metadata": {},
     "output_type": "execute_result"
    }
   ],
   "source": [
    "nest[2][0:3]"
   ]
  },
  {
   "cell_type": "code",
   "execution_count": 61,
   "id": "fcd0ec44",
   "metadata": {},
   "outputs": [],
   "source": [
    "nest = [[2,[37]],3,\"hello\"]"
   ]
  },
  {
   "cell_type": "code",
   "execution_count": 62,
   "id": "f4c3f2ed",
   "metadata": {},
   "outputs": [
    {
     "data": {
      "text/plain": [
       "3"
      ]
     },
     "execution_count": 62,
     "metadata": {},
     "output_type": "execute_result"
    }
   ],
   "source": [
    "nest[1]"
   ]
  },
  {
   "cell_type": "code",
   "execution_count": 63,
   "id": "8ac04a6a",
   "metadata": {},
   "outputs": [
    {
     "data": {
      "text/plain": [
       "37"
      ]
     },
     "execution_count": 63,
     "metadata": {},
     "output_type": "execute_result"
    }
   ],
   "source": [
    "nest[0][1][0]"
   ]
  },
  {
   "cell_type": "code",
   "execution_count": 64,
   "id": "113a3b89",
   "metadata": {},
   "outputs": [
    {
     "ename": "IndexError",
     "evalue": "list index out of range",
     "output_type": "error",
     "traceback": [
      "\u001b[1;31m---------------------------------------------------------------------------\u001b[0m",
      "\u001b[1;31mIndexError\u001b[0m                                Traceback (most recent call last)",
      "\u001b[1;32m<ipython-input-64-505895a74ac8>\u001b[0m in \u001b[0;36m<module>\u001b[1;34m\u001b[0m\n\u001b[1;32m----> 1\u001b[1;33m \u001b[0mnest\u001b[0m\u001b[1;33m[\u001b[0m\u001b[1;36m0\u001b[0m\u001b[1;33m]\u001b[0m\u001b[1;33m[\u001b[0m\u001b[1;36m1\u001b[0m\u001b[1;33m]\u001b[0m\u001b[1;33m[\u001b[0m\u001b[1;36m2\u001b[0m\u001b[1;33m]\u001b[0m\u001b[1;33m\u001b[0m\u001b[1;33m\u001b[0m\u001b[0m\n\u001b[0m",
      "\u001b[1;31mIndexError\u001b[0m: list index out of range"
     ]
    }
   ],
   "source": [
    "nest[0][1][2] # note the mistake"
   ]
  },
  {
   "cell_type": "code",
   "execution_count": 65,
   "id": "18556a09",
   "metadata": {},
   "outputs": [
    {
     "data": {
      "text/plain": [
       "[2]"
      ]
     },
     "execution_count": 65,
     "metadata": {},
     "output_type": "execute_result"
    }
   ],
   "source": [
    "nest[0][0:1]"
   ]
  },
  {
   "cell_type": "code",
   "execution_count": 66,
   "id": "52179185",
   "metadata": {},
   "outputs": [],
   "source": [
    "l = [1,2,3,4,5]\n"
   ]
  },
  {
   "cell_type": "code",
   "execution_count": 68,
   "id": "34b1108f",
   "metadata": {},
   "outputs": [
    {
     "data": {
      "text/plain": [
       "[1, 2, 3]"
      ]
     },
     "execution_count": 68,
     "metadata": {},
     "output_type": "execute_result"
    }
   ],
   "source": [
    "l[0:3] # slice also works on the numbers"
   ]
  },
  {
   "cell_type": "code",
   "execution_count": 69,
   "id": "cc41a424",
   "metadata": {
    "scrolled": true
   },
   "outputs": [
    {
     "data": {
      "text/plain": [
       "'ll'"
      ]
     },
     "execution_count": 69,
     "metadata": {},
     "output_type": "execute_result"
    }
   ],
   "source": [
    "nest[2][2:4]"
   ]
  },
  {
   "cell_type": "code",
   "execution_count": null,
   "id": "6f9367fa",
   "metadata": {},
   "outputs": [],
   "source": [
    "#strings can be upadted in the place\n"
   ]
  },
  {
   "cell_type": "code",
   "execution_count": 70,
   "id": "d80b7394",
   "metadata": {},
   "outputs": [],
   "source": [
    "#examples of strings getting updated\n",
    "l = [[2,[37,65,76,85]],\"madmax\",123]\n",
    "\n"
   ]
  },
  {
   "cell_type": "code",
   "execution_count": 71,
   "id": "820c189f",
   "metadata": {},
   "outputs": [],
   "source": [
    "l[0][1][2] = 67"
   ]
  },
  {
   "cell_type": "code",
   "execution_count": 72,
   "id": "fe2390e0",
   "metadata": {},
   "outputs": [
    {
     "data": {
      "text/plain": [
       "[[2, [37, 65, 67, 85]], 'madmax', 123]"
      ]
     },
     "execution_count": 72,
     "metadata": {},
     "output_type": "execute_result"
    }
   ],
   "source": [
    "l"
   ]
  },
  {
   "cell_type": "code",
   "execution_count": 73,
   "id": "bbd8b22e",
   "metadata": {},
   "outputs": [],
   "source": [
    "l[1] = \"maxmad\""
   ]
  },
  {
   "cell_type": "code",
   "execution_count": 74,
   "id": "c2ae4d5a",
   "metadata": {},
   "outputs": [
    {
     "data": {
      "text/plain": [
       "[[2, [37, 65, 67, 85]], 'maxmad', 123]"
      ]
     },
     "execution_count": 74,
     "metadata": {},
     "output_type": "execute_result"
    }
   ],
   "source": [
    "l"
   ]
  },
  {
   "cell_type": "code",
   "execution_count": 75,
   "id": "69e09e25",
   "metadata": {},
   "outputs": [],
   "source": [
    "l[1] = 23"
   ]
  },
  {
   "cell_type": "code",
   "execution_count": 76,
   "id": "04940945",
   "metadata": {},
   "outputs": [
    {
     "data": {
      "text/plain": [
       "[[2, [37, 65, 67, 85]], 23, 123]"
      ]
     },
     "execution_count": 76,
     "metadata": {},
     "output_type": "execute_result"
    }
   ],
   "source": [
    "l\n"
   ]
  },
  {
   "cell_type": "code",
   "execution_count": 77,
   "id": "8cea39f3",
   "metadata": {},
   "outputs": [],
   "source": [
    "l[0][0] = 35"
   ]
  },
  {
   "cell_type": "code",
   "execution_count": 78,
   "id": "3608029b",
   "metadata": {},
   "outputs": [
    {
     "data": {
      "text/plain": [
       "[[35, [37, 65, 67, 85]], 23, 123]"
      ]
     },
     "execution_count": 78,
     "metadata": {},
     "output_type": "execute_result"
    }
   ],
   "source": [
    "l"
   ]
  },
  {
   "cell_type": "code",
   "execution_count": 79,
   "id": "6c1e5a82",
   "metadata": {},
   "outputs": [],
   "source": [
    "#mutability in the list\n",
    "x = 5\n",
    "y = x\n",
    "x = 7\n"
   ]
  },
  {
   "cell_type": "code",
   "execution_count": 80,
   "id": "1ed66535",
   "metadata": {},
   "outputs": [
    {
     "data": {
      "text/plain": [
       "7"
      ]
     },
     "execution_count": 80,
     "metadata": {},
     "output_type": "execute_result"
    }
   ],
   "source": [
    "x"
   ]
  },
  {
   "cell_type": "code",
   "execution_count": 81,
   "id": "e9de6922",
   "metadata": {},
   "outputs": [
    {
     "data": {
      "text/plain": [
       "5"
      ]
     },
     "execution_count": 81,
     "metadata": {},
     "output_type": "execute_result"
    }
   ],
   "source": [
    "y # the new value  of the x is not affected"
   ]
  },
  {
   "cell_type": "code",
   "execution_count": 86,
   "id": "e5864ef2",
   "metadata": {},
   "outputs": [],
   "source": [
    "#the strings doesnot work in the same way\n",
    "list1 = [1,2,3,4,5]\n",
    "list2 = list1\n",
    "\n"
   ]
  },
  {
   "cell_type": "code",
   "execution_count": 87,
   "id": "6b4c60f2",
   "metadata": {},
   "outputs": [
    {
     "data": {
      "text/plain": [
       "[1, 2, 3, 4, 5]"
      ]
     },
     "execution_count": 87,
     "metadata": {},
     "output_type": "execute_result"
    }
   ],
   "source": [
    "list2\n"
   ]
  },
  {
   "cell_type": "code",
   "execution_count": 88,
   "id": "73122623",
   "metadata": {},
   "outputs": [],
   "source": [
    "list1[2]=10"
   ]
  },
  {
   "cell_type": "code",
   "execution_count": 90,
   "id": "016e2f59",
   "metadata": {},
   "outputs": [
    {
     "data": {
      "text/plain": [
       "[1, 2, 10, 4, 5]"
      ]
     },
     "execution_count": 90,
     "metadata": {},
     "output_type": "execute_result"
    }
   ],
   "source": [
    "list1"
   ]
  },
  {
   "cell_type": "code",
   "execution_count": 91,
   "id": "a0a67912",
   "metadata": {},
   "outputs": [
    {
     "data": {
      "text/plain": [
       "[1, 2, 10, 4, 5]"
      ]
     },
     "execution_count": 91,
     "metadata": {},
     "output_type": "execute_result"
    }
   ],
   "source": [
    "list2 #here we can see that the value gets changed here "
   ]
  },
  {
   "cell_type": "code",
   "execution_count": null,
   "id": "424afee2",
   "metadata": {},
   "outputs": [],
   "source": []
  }
 ],
 "metadata": {
  "kernelspec": {
   "display_name": "Python 3",
   "language": "python",
   "name": "python3"
  },
  "language_info": {
   "codemirror_mode": {
    "name": "ipython",
    "version": 3
   },
   "file_extension": ".py",
   "mimetype": "text/x-python",
   "name": "python",
   "nbconvert_exporter": "python",
   "pygments_lexer": "ipython3",
   "version": "3.8.8"
  }
 },
 "nbformat": 4,
 "nbformat_minor": 5
}
