{
 "cells": [
  {
   "cell_type": "code",
   "execution_count": 2,
   "id": "276ea82b",
   "metadata": {},
   "outputs": [
    {
     "data": {
      "text/plain": [
       "0.30000000000000004"
      ]
     },
     "execution_count": 2,
     "metadata": {},
     "output_type": "execute_result"
    }
   ],
   "source": [
    "def adder(a,b,c):\n",
    "    return sum((a,b,c)) * 0.05\n",
    "\n",
    "adder(1,2,3)"
   ]
  },
  {
   "cell_type": "code",
   "execution_count": 3,
   "id": "e490500b",
   "metadata": {},
   "outputs": [
    {
     "ename": "TypeError",
     "evalue": "adder2() takes 3 positional arguments but 4 were given",
     "output_type": "error",
     "traceback": [
      "\u001b[1;31m---------------------------------------------------------------------------\u001b[0m",
      "\u001b[1;31mTypeError\u001b[0m                                 Traceback (most recent call last)",
      "\u001b[1;32m<ipython-input-3-027956e614e4>\u001b[0m in \u001b[0;36m<module>\u001b[1;34m\u001b[0m\n\u001b[0;32m      2\u001b[0m     \u001b[1;32mreturn\u001b[0m \u001b[0msum\u001b[0m\u001b[1;33m(\u001b[0m\u001b[1;33m(\u001b[0m\u001b[0ma\u001b[0m\u001b[1;33m,\u001b[0m\u001b[0mb\u001b[0m\u001b[1;33m,\u001b[0m\u001b[0mc\u001b[0m\u001b[1;33m)\u001b[0m\u001b[1;33m)\u001b[0m \u001b[1;33m*\u001b[0m \u001b[1;36m0.05\u001b[0m\u001b[1;33m\u001b[0m\u001b[1;33m\u001b[0m\u001b[0m\n\u001b[0;32m      3\u001b[0m \u001b[1;33m\u001b[0m\u001b[0m\n\u001b[1;32m----> 4\u001b[1;33m \u001b[0madder2\u001b[0m\u001b[1;33m(\u001b[0m\u001b[1;36m1\u001b[0m\u001b[1;33m,\u001b[0m\u001b[1;36m2\u001b[0m\u001b[1;33m,\u001b[0m\u001b[1;36m3\u001b[0m\u001b[1;33m,\u001b[0m\u001b[1;36m4\u001b[0m\u001b[1;33m)\u001b[0m\u001b[1;33m\u001b[0m\u001b[1;33m\u001b[0m\u001b[0m\n\u001b[0m",
      "\u001b[1;31mTypeError\u001b[0m: adder2() takes 3 positional arguments but 4 were given"
     ]
    }
   ],
   "source": [
    "def adder2(a,b,c): # note this as a hint for next cell\n",
    "    return sum((a,b,c)) * 0.05\n",
    "\n",
    "adder2(1,2,3,4)"
   ]
  },
  {
   "cell_type": "code",
   "execution_count": null,
   "id": "bb667bc6",
   "metadata": {},
   "outputs": [],
   "source": [
    "# args and kwargs takes more than three arguments or infinite"
   ]
  },
  {
   "cell_type": "code",
   "execution_count": null,
   "id": "d49afc05",
   "metadata": {},
   "outputs": [],
   "source": [
    "# the args takes the value of the tuple only"
   ]
  },
  {
   "cell_type": "code",
   "execution_count": 5,
   "id": "b6920123",
   "metadata": {},
   "outputs": [
    {
     "data": {
      "text/plain": [
       "50.0"
      ]
     },
     "execution_count": 5,
     "metadata": {},
     "output_type": "execute_result"
    }
   ],
   "source": [
    "def agrs(*args):\n",
    "    return sum(args) * 0.05\n",
    "\n",
    "agrs(100,200,300,400)"
   ]
  },
  {
   "cell_type": "code",
   "execution_count": null,
   "id": "4e84db5f",
   "metadata": {},
   "outputs": [],
   "source": [
    "# the kwargs act like a dictionaries"
   ]
  },
  {
   "cell_type": "code",
   "execution_count": 11,
   "id": "56e4a47a",
   "metadata": {},
   "outputs": [
    {
     "data": {
      "text/plain": [
       "'The fruit of the choice is apple '"
      ]
     },
     "execution_count": 11,
     "metadata": {},
     "output_type": "execute_result"
    }
   ],
   "source": [
    "def myfunc(**kwargs):\n",
    "    if \"fruit\" in kwargs:\n",
    "        return (\"The fruit of the choice is {} \".format(kwargs[\"fruit\"]))\n",
    "    else:\n",
    "        return (\"I did not find any fruit here\")\n",
    "    \n",
    "myfunc(fruit = \"apple\",fruits = \"mango\")    \n",
    "    "
   ]
  },
  {
   "cell_type": "code",
   "execution_count": 12,
   "id": "b65bfffd",
   "metadata": {},
   "outputs": [
    {
     "data": {
      "text/plain": [
       "'The fruit of the choice is apple and mango'"
      ]
     },
     "execution_count": 12,
     "metadata": {},
     "output_type": "execute_result"
    }
   ],
   "source": [
    "def myfunc(**kwargs):\n",
    "    if \"fruit\" in kwargs:\n",
    "        return (\"The fruit of the choice is {} and {}\".format(kwargs[\"fruit\"],kwargs[\"fruits\"]))\n",
    "    else:\n",
    "        return (\"I did not find any fruit here\")\n",
    "    \n",
    "myfunc(fruit = \"apple\",fruits = \"mango\")"
   ]
  },
  {
   "cell_type": "code",
   "execution_count": 13,
   "id": "9457410d",
   "metadata": {},
   "outputs": [
    {
     "data": {
      "text/plain": [
       "1"
      ]
     },
     "execution_count": 13,
     "metadata": {},
     "output_type": "execute_result"
    }
   ],
   "source": [
    "tu = (1,2,3,4,5) # tupleunpacking\n",
    "tu[0]"
   ]
  },
  {
   "cell_type": "code",
   "execution_count": 18,
   "id": "6ff12c61",
   "metadata": {},
   "outputs": [
    {
     "data": {
      "text/plain": [
       "'I would prefer to eat 10 eggs'"
      ]
     },
     "execution_count": 18,
     "metadata": {},
     "output_type": "execute_result"
    }
   ],
   "source": [
    "def my(*args,**kwargs):\n",
    "    return (\"I would prefer to eat {} {}\".format(args[0],kwargs[\"food\"]))\n",
    "\n",
    "my((10),food = \"eggs\")\n",
    "    \n",
    "    \n",
    "    "
   ]
  },
  {
   "cell_type": "code",
   "execution_count": null,
   "id": "5685294e",
   "metadata": {},
   "outputs": [],
   "source": []
  },
  {
   "cell_type": "code",
   "execution_count": null,
   "id": "20e315d9",
   "metadata": {},
   "outputs": [],
   "source": []
  },
  {
   "cell_type": "code",
   "execution_count": null,
   "id": "50840683",
   "metadata": {},
   "outputs": [],
   "source": []
  },
  {
   "cell_type": "code",
   "execution_count": null,
   "id": "10307df7",
   "metadata": {},
   "outputs": [],
   "source": []
  },
  {
   "cell_type": "code",
   "execution_count": null,
   "id": "59b02d0c",
   "metadata": {},
   "outputs": [],
   "source": []
  },
  {
   "cell_type": "code",
   "execution_count": null,
   "id": "e3b66c80",
   "metadata": {},
   "outputs": [],
   "source": []
  },
  {
   "cell_type": "code",
   "execution_count": null,
   "id": "9031d5ee",
   "metadata": {},
   "outputs": [],
   "source": []
  },
  {
   "cell_type": "code",
   "execution_count": null,
   "id": "18a0ebbd",
   "metadata": {},
   "outputs": [],
   "source": []
  },
  {
   "cell_type": "code",
   "execution_count": null,
   "id": "b0b5ae41",
   "metadata": {},
   "outputs": [],
   "source": []
  },
  {
   "cell_type": "code",
   "execution_count": null,
   "id": "8c19e87d",
   "metadata": {},
   "outputs": [],
   "source": []
  },
  {
   "cell_type": "code",
   "execution_count": null,
   "id": "5bb42559",
   "metadata": {},
   "outputs": [],
   "source": []
  },
  {
   "cell_type": "code",
   "execution_count": null,
   "id": "57154425",
   "metadata": {},
   "outputs": [],
   "source": []
  },
  {
   "cell_type": "code",
   "execution_count": null,
   "id": "da72397e",
   "metadata": {},
   "outputs": [],
   "source": []
  },
  {
   "cell_type": "code",
   "execution_count": null,
   "id": "bd834d19",
   "metadata": {},
   "outputs": [],
   "source": []
  },
  {
   "cell_type": "code",
   "execution_count": null,
   "id": "068338b9",
   "metadata": {},
   "outputs": [],
   "source": []
  }
 ],
 "metadata": {
  "kernelspec": {
   "display_name": "Python 3",
   "language": "python",
   "name": "python3"
  },
  "language_info": {
   "codemirror_mode": {
    "name": "ipython",
    "version": 3
   },
   "file_extension": ".py",
   "mimetype": "text/x-python",
   "name": "python",
   "nbconvert_exporter": "python",
   "pygments_lexer": "ipython3",
   "version": "3.8.8"
  }
 },
 "nbformat": 4,
 "nbformat_minor": 5
}
