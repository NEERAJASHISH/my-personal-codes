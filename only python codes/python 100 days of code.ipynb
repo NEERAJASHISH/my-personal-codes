{
 "cells": [
  {
   "cell_type": "code",
   "execution_count": 3,
   "id": "cbe93f3e",
   "metadata": {},
   "outputs": [
    {
     "name": "stdout",
     "output_type": "stream",
     "text": [
      "enter the number:3\n",
      "the number is odd\n"
     ]
    }
   ],
   "source": [
    " n = int(input(\"enter the number:\"))\n",
    "if n%2 == 0:\n",
    "    print(\"The given number is even\")\n",
    "else:\n",
    "    print(\"the number is odd\")\n"
   ]
  },
  {
   "cell_type": "markdown",
   "id": "fef6920e",
   "metadata": {},
   "source": [
    "BMI CALCULATOR"
   ]
  },
  {
   "cell_type": "code",
   "execution_count": 14,
   "id": "d83e36d8",
   "metadata": {},
   "outputs": [
    {
     "name": "stdout",
     "output_type": "stream",
     "text": [
      "enter the weight of your body:80\n",
      "enter the height of your body: 1.75\n",
      "The bmi of a given person is : 26\n"
     ]
    }
   ],
   "source": [
    "weight = int(input(\"enter the weight of your body:\"))\n",
    "height = float(input(\"enter the height of your body: \"))\n",
    "bmi = weight/height**2\n",
    "print(\"The bmi of a given person is : {}\".format(int(bmi)))"
   ]
  },
  {
   "cell_type": "code",
   "execution_count": 17,
   "id": "0d97133e",
   "metadata": {},
   "outputs": [
    {
     "data": {
      "text/plain": [
       "2.7"
      ]
     },
     "execution_count": 17,
     "metadata": {},
     "output_type": "execute_result"
    }
   ],
   "source": [
    "round(2.6666666,1)"
   ]
  },
  {
   "cell_type": "code",
   "execution_count": 19,
   "id": "c1d8379b",
   "metadata": {},
   "outputs": [
    {
     "data": {
      "text/plain": [
       "2"
      ]
     },
     "execution_count": 19,
     "metadata": {},
     "output_type": "execute_result"
    }
   ],
   "source": [
    "(8//3)"
   ]
  },
  {
   "cell_type": "markdown",
   "id": "eb4b941d",
   "metadata": {},
   "source": [
    "# to calculate the days week  and month"
   ]
  },
  {
   "cell_type": "code",
   "execution_count": 28,
   "id": "ab1aa45a",
   "metadata": {},
   "outputs": [
    {
     "name": "stdout",
     "output_type": "stream",
     "text": [
      "Enter your age: 56\n",
      "The total number of years remaining in your life is : 34\n",
      "The total number of days reamining in your life is : 12410\n",
      "The total number of weeks reamining in your life is : 238\n",
      "The total number of monthsremaining reamining in your life is : 408\n"
     ]
    }
   ],
   "source": [
    "x = int(input(\"Enter your age: \"))\n",
    "totalyear = 90\n",
    "totalmonth = 90*12\n",
    "totaldays = 365*90\n",
    "yearsremaining = 90 - x\n",
    "daysremaining = yearsremaining*365\n",
    "weeksremaining = yearsremaining*7\n",
    "monthsremaining = yearsremaining*12\n",
    "    \n",
    "print(f'The total number of years remaining in your life is : {yearsremaining}')\n",
    "print(f'The total number of days reamining in your life is : {daysremaining}')\n",
    "print(f'The total number of weeks reamining in your life is : {weeksremaining}')\n",
    "print(f'The total number of monthsremaining reamining in your life is : {monthsremaining}')\n",
    "\n"
   ]
  },
  {
   "cell_type": "code",
   "execution_count": 46,
   "id": "f748b52d",
   "metadata": {},
   "outputs": [],
   "source": [
    "k = 12/100"
   ]
  },
  {
   "cell_type": "code",
   "execution_count": 48,
   "id": "a9b77d18",
   "metadata": {},
   "outputs": [
    {
     "data": {
      "text/plain": [
       "12.0"
      ]
     },
     "execution_count": 48,
     "metadata": {},
     "output_type": "execute_result"
    }
   ],
   "source": [
    "k*5"
   ]
  },
  {
   "cell_type": "markdown",
   "id": "55d5bf40",
   "metadata": {},
   "source": [
    "# The tip calculator"
   ]
  },
  {
   "cell_type": "code",
   "execution_count": 51,
   "id": "1daada22",
   "metadata": {},
   "outputs": [
    {
     "name": "stdout",
     "output_type": "stream",
     "text": [
      "WELCOME TO THE TIP CALCULATOR!!!\n",
      "enter the total bill: 153.45\n",
      "what percentage of the tip would you like to give ( 10, 12 or 15) 15\n",
      "how many people to split the bill: 5\n",
      "Each person should pay: 35.29\n"
     ]
    }
   ],
   "source": [
    "print(\"WELCOME TO THE TIP CALCULATOR!!!\")\n",
    "x  = float(input(\"enter the total bill: \"))  \n",
    "p = int(input(\"what percentage of the tip would you like to give ( 10, 12 or 15) \"))\n",
    "k = int(input(\"how many people to split the bill: \"))\n",
    "if p == 10:\n",
    "    s = (x/k) * 1.10\n",
    "    print(f'Each person should pay: {round(s,2)}')\n",
    "elif p == 12:\n",
    "    r = (x/k) * 1.12\n",
    "    print(f'Each person should pay: {round(r,2)}')\n",
    "elif p == 15:\n",
    "    t = (x/k) * 1.15\n",
    "    print(f'Each person should pay: {round(t,2)}')    \n",
    "    \n",
    "    \n",
    "    \n",
    "    \n",
    "    \n",
    "    \n",
    "    \n",
    "    \n",
    "\n",
    "    \n",
    "    \n",
    "\n",
    "\n",
    "\n",
    "\n"
   ]
  },
  {
   "cell_type": "code",
   "execution_count": null,
   "id": "3b571459",
   "metadata": {},
   "outputs": [],
   "source": []
  },
  {
   "cell_type": "code",
   "execution_count": null,
   "id": "bb115bc0",
   "metadata": {},
   "outputs": [],
   "source": []
  },
  {
   "cell_type": "code",
   "execution_count": null,
   "id": "30a31da2",
   "metadata": {},
   "outputs": [],
   "source": []
  },
  {
   "cell_type": "code",
   "execution_count": null,
   "id": "8a039621",
   "metadata": {},
   "outputs": [],
   "source": []
  },
  {
   "cell_type": "code",
   "execution_count": null,
   "id": "78f4961a",
   "metadata": {},
   "outputs": [],
   "source": []
  },
  {
   "cell_type": "code",
   "execution_count": null,
   "id": "49be9eb4",
   "metadata": {},
   "outputs": [],
   "source": []
  },
  {
   "cell_type": "code",
   "execution_count": null,
   "id": "2ba64e63",
   "metadata": {},
   "outputs": [],
   "source": []
  },
  {
   "cell_type": "code",
   "execution_count": null,
   "id": "b3830243",
   "metadata": {},
   "outputs": [],
   "source": []
  },
  {
   "cell_type": "code",
   "execution_count": null,
   "id": "c60f9b17",
   "metadata": {},
   "outputs": [],
   "source": []
  },
  {
   "cell_type": "code",
   "execution_count": null,
   "id": "f0aa5bdc",
   "metadata": {},
   "outputs": [],
   "source": []
  },
  {
   "cell_type": "code",
   "execution_count": null,
   "id": "68a66d18",
   "metadata": {},
   "outputs": [],
   "source": []
  },
  {
   "cell_type": "code",
   "execution_count": null,
   "id": "2b59262b",
   "metadata": {},
   "outputs": [],
   "source": []
  },
  {
   "cell_type": "code",
   "execution_count": null,
   "id": "689f0e7f",
   "metadata": {},
   "outputs": [],
   "source": []
  },
  {
   "cell_type": "code",
   "execution_count": null,
   "id": "42f59c74",
   "metadata": {},
   "outputs": [],
   "source": []
  },
  {
   "cell_type": "code",
   "execution_count": null,
   "id": "911ed7da",
   "metadata": {},
   "outputs": [],
   "source": []
  },
  {
   "cell_type": "code",
   "execution_count": null,
   "id": "56131e29",
   "metadata": {},
   "outputs": [],
   "source": []
  },
  {
   "cell_type": "code",
   "execution_count": null,
   "id": "db037541",
   "metadata": {},
   "outputs": [],
   "source": []
  },
  {
   "cell_type": "code",
   "execution_count": null,
   "id": "bee4bbc4",
   "metadata": {},
   "outputs": [],
   "source": []
  },
  {
   "cell_type": "code",
   "execution_count": null,
   "id": "5e236123",
   "metadata": {},
   "outputs": [],
   "source": []
  },
  {
   "cell_type": "code",
   "execution_count": null,
   "id": "db0a9bf9",
   "metadata": {},
   "outputs": [],
   "source": []
  },
  {
   "cell_type": "code",
   "execution_count": null,
   "id": "d1d8d62c",
   "metadata": {},
   "outputs": [],
   "source": []
  },
  {
   "cell_type": "code",
   "execution_count": null,
   "id": "f711c3f4",
   "metadata": {},
   "outputs": [],
   "source": []
  },
  {
   "cell_type": "code",
   "execution_count": null,
   "id": "451812b9",
   "metadata": {},
   "outputs": [],
   "source": []
  },
  {
   "cell_type": "code",
   "execution_count": null,
   "id": "84ab9016",
   "metadata": {},
   "outputs": [],
   "source": []
  },
  {
   "cell_type": "code",
   "execution_count": null,
   "id": "71caed47",
   "metadata": {},
   "outputs": [],
   "source": []
  },
  {
   "cell_type": "code",
   "execution_count": null,
   "id": "5939e7f6",
   "metadata": {},
   "outputs": [],
   "source": []
  },
  {
   "cell_type": "code",
   "execution_count": null,
   "id": "a1411555",
   "metadata": {},
   "outputs": [],
   "source": []
  },
  {
   "cell_type": "code",
   "execution_count": null,
   "id": "4d228f79",
   "metadata": {},
   "outputs": [],
   "source": []
  },
  {
   "cell_type": "code",
   "execution_count": null,
   "id": "d5dd0677",
   "metadata": {},
   "outputs": [],
   "source": []
  },
  {
   "cell_type": "code",
   "execution_count": null,
   "id": "5f0d1932",
   "metadata": {},
   "outputs": [],
   "source": []
  },
  {
   "cell_type": "code",
   "execution_count": null,
   "id": "2a9e5f86",
   "metadata": {},
   "outputs": [],
   "source": []
  }
 ],
 "metadata": {
  "interpreter": {
   "hash": "42588fd11209419b7c81abe23e31a1d2101f60811b02170c268e57ebb57d5d9a"
  },
  "kernelspec": {
   "display_name": "Python 3",
   "language": "python",
   "name": "python3"
  },
  "language_info": {
   "codemirror_mode": {
    "name": "ipython",
    "version": 3
   },
   "file_extension": ".py",
   "mimetype": "text/x-python",
   "name": "python",
   "nbconvert_exporter": "python",
   "pygments_lexer": "ipython3",
   "version": "3.8.8"
  }
 },
 "nbformat": 4,
 "nbformat_minor": 5
}
