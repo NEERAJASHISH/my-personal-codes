{
 "cells": [
  {
   "cell_type": "code",
   "execution_count": 3,
   "id": "b680d80a",
   "metadata": {},
   "outputs": [
    {
     "name": "stdout",
     "output_type": "stream",
     "text": [
      "['ABCDEFGHIJKLMNOPQRSTUVWXYZ']\n"
     ]
    }
   ],
   "source": [
    "from string import ascii_uppercase\n",
    "    \n",
    "    \n",
    "lister= []\n",
    "lister.append(ascii_uppercase)\n",
    "\n",
    "print(lister)\n",
    "    \n",
    "    \n",
    "    \n",
    "    "
   ]
  },
  {
   "cell_type": "code",
   "execution_count": 39,
   "id": "e08643a1",
   "metadata": {},
   "outputs": [
    {
     "name": "stdout",
     "output_type": "stream",
     "text": [
      "[]\n",
      "['B', 'A', 'N', 'A', 'N', 'A']\n"
     ]
    }
   ],
   "source": [
    "from collections import Counter\n",
    "\n",
    "\n",
    "lister = []\n",
    "collecter = []\n",
    "\n",
    "given = \"BANANA\"\n",
    "\n",
    "for i in given:\n",
    "    collecter.append(i)\n",
    "    \n",
    "    \n",
    "if  j in collecter is [\"A\",\"E\",\"I\",\"O\",\"U\"]:\n",
    "    p = collecter.index()\n",
    "    lister.append(collecter[p:])\n",
    "        \n",
    "        \n",
    "        \n",
    "        \n",
    "        \n",
    "        \n",
    "print(lister)  \n",
    "print(collecter)\n",
    "\n",
    "        \n",
    "        \n",
    "        \n",
    "        \n",
    "        \n",
    "        \n",
    "\n",
    "        \n",
    "    "
   ]
  },
  {
   "cell_type": "code",
   "execution_count": 9,
   "id": "841270d2",
   "metadata": {},
   "outputs": [
    {
     "data": {
      "text/plain": [
       "{'p': 2}"
      ]
     },
     "execution_count": 9,
     "metadata": {},
     "output_type": "execute_result"
    }
   ],
   "source": [
    "dictr = {\"p\":1}\n",
    "\n",
    "dictr[\"p\"] = dictr[\"p\"] + 1\n",
    "\n",
    "dictr"
   ]
  },
  {
   "cell_type": "code",
   "execution_count": 24,
   "id": "e75a986c",
   "metadata": {},
   "outputs": [
    {
     "ename": "NameError",
     "evalue": "name 's' is not defined",
     "output_type": "error",
     "traceback": [
      "\u001b[1;31m---------------------------------------------------------------------------\u001b[0m",
      "\u001b[1;31mNameError\u001b[0m                                 Traceback (most recent call last)",
      "\u001b[1;32m<ipython-input-24-b0e0ba9de7bf>\u001b[0m in \u001b[0;36m<module>\u001b[1;34m\u001b[0m\n\u001b[0;32m      4\u001b[0m \u001b[1;32mfor\u001b[0m \u001b[0mi\u001b[0m \u001b[1;32min\u001b[0m \u001b[0mk\u001b[0m\u001b[1;33m:\u001b[0m\u001b[1;33m\u001b[0m\u001b[1;33m\u001b[0m\u001b[0m\n\u001b[0;32m      5\u001b[0m     \u001b[1;32mif\u001b[0m \u001b[0mi\u001b[0m \u001b[1;32min\u001b[0m \u001b[1;33m[\u001b[0m\u001b[1;34m\"A\"\u001b[0m\u001b[1;33m,\u001b[0m\u001b[1;34m\"E\"\u001b[0m\u001b[1;33m,\u001b[0m\u001b[1;34m\"I\"\u001b[0m\u001b[1;33m,\u001b[0m\u001b[1;34m\"O\"\u001b[0m\u001b[1;33m,\u001b[0m\u001b[1;34m\"U\"\u001b[0m\u001b[1;33m]\u001b[0m\u001b[1;33m:\u001b[0m\u001b[1;33m\u001b[0m\u001b[1;33m\u001b[0m\u001b[0m\n\u001b[1;32m----> 6\u001b[1;33m         \u001b[0ms\u001b[0m\u001b[1;33m.\u001b[0m\u001b[0mappend\u001b[0m\u001b[1;33m(\u001b[0m\u001b[1;33m)\u001b[0m\u001b[1;33m\u001b[0m\u001b[1;33m\u001b[0m\u001b[0m\n\u001b[0m\u001b[0;32m      7\u001b[0m \u001b[0mk\u001b[0m\u001b[1;33m.\u001b[0m\u001b[0mindex\u001b[0m\u001b[1;33m(\u001b[0m\u001b[1;34m\"B\"\u001b[0m\u001b[1;33m)\u001b[0m\u001b[1;33m\u001b[0m\u001b[1;33m\u001b[0m\u001b[0m\n",
      "\u001b[1;31mNameError\u001b[0m: name 's' is not defined"
     ]
    }
   ],
   "source": [
    "S = [] \n",
    "k = \"BANANA\"\n",
    "\n",
    "for i in k:\n",
    "    if i in [\"A\",\"E\",\"I\",\"O\",\"U\"]:\n",
    "        p = index\n",
    "      \n"
   ]
  },
  {
   "cell_type": "code",
   "execution_count": 27,
   "id": "67ce5dce",
   "metadata": {},
   "outputs": [
    {
     "data": {
      "text/plain": [
       "'BAN'"
      ]
     },
     "execution_count": 27,
     "metadata": {},
     "output_type": "execute_result"
    }
   ],
   "source": [
    "k = \"BANANA\"\n",
    "k[0:3]"
   ]
  },
  {
   "cell_type": "code",
   "execution_count": 25,
   "id": "f3a674d9",
   "metadata": {},
   "outputs": [
    {
     "data": {
      "text/plain": [
       "0"
      ]
     },
     "execution_count": 25,
     "metadata": {},
     "output_type": "execute_result"
    }
   ],
   "source": [
    "k.index(\"B\")"
   ]
  },
  {
   "cell_type": "code",
   "execution_count": 29,
   "id": "e6c1153e",
   "metadata": {},
   "outputs": [
    {
     "name": "stdout",
     "output_type": "stream",
     "text": [
      "0\n"
     ]
    }
   ],
   "source": [
    "k = \"BANANA\"\n",
    "p = k.index(\"B\")\n",
    "print(p)"
   ]
  },
  {
   "cell_type": "code",
   "execution_count": 45,
   "id": "a8220bd5",
   "metadata": {},
   "outputs": [
    {
     "name": "stdout",
     "output_type": "stream",
     "text": [
      "message: hello world\n"
     ]
    }
   ],
   "source": [
    "message = \"    hello world       \"\n",
    "print(\"message:\",message.strip())"
   ]
  },
  {
   "cell_type": "code",
   "execution_count": 52,
   "id": "7103eb84",
   "metadata": {},
   "outputs": [
    {
     "name": "stdout",
     "output_type": "stream",
     "text": [
      "True\n"
     ]
    }
   ],
   "source": [
    "n = 9\n",
    "\n",
    "if n%3 == 0:\n",
    "    print(True)\n",
    "else:\n",
    "    print(False)"
   ]
  },
  {
   "cell_type": "code",
   "execution_count": 55,
   "id": "905b8e35",
   "metadata": {},
   "outputs": [
    {
     "name": "stdout",
     "output_type": "stream",
     "text": [
      "False\n"
     ]
    }
   ],
   "source": [
    "n = 6\n",
    "if n in range(2,6):\n",
    "    print(\"true\")\n",
    "else:\n",
    "    print(False)"
   ]
  },
  {
   "cell_type": "code",
   "execution_count": 10,
   "id": "1c88b295",
   "metadata": {},
   "outputs": [
    {
     "data": {
      "text/plain": [
       "Counter({1: 1, 2: 3, 3: 1, 4: 1, 5: 2})"
      ]
     },
     "execution_count": 10,
     "metadata": {},
     "output_type": "execute_result"
    }
   ],
   "source": [
    "from collections import Counter\n",
    "\n",
    "l = [1,2,2,2,3,4,5,5]\n",
    "p = Counter(l)\n",
    "p\n",
    "\n"
   ]
  },
  {
   "cell_type": "code",
   "execution_count": 7,
   "id": "858ab7fb",
   "metadata": {},
   "outputs": [
    {
     "name": "stdout",
     "output_type": "stream",
     "text": [
      "dict_keys([1, 2, 3, 4, 5])\n"
     ]
    }
   ],
   "source": [
    "print(p.keys())"
   ]
  },
  {
   "cell_type": "code",
   "execution_count": 8,
   "id": "25654a72",
   "metadata": {},
   "outputs": [
    {
     "name": "stdout",
     "output_type": "stream",
     "text": [
      "dict_values([1, 3, 1, 1, 2])\n"
     ]
    }
   ],
   "source": [
    "print(p.values())"
   ]
  },
  {
   "cell_type": "code",
   "execution_count": 11,
   "id": "87ffa3c9",
   "metadata": {},
   "outputs": [
    {
     "name": "stdout",
     "output_type": "stream",
     "text": [
      "dict_items([(1, 1), (2, 3), (3, 1), (4, 1), (5, 2)])\n"
     ]
    }
   ],
   "source": [
    "print(p.items()) # it returns a tuple"
   ]
  },
  {
   "cell_type": "code",
   "execution_count": 17,
   "id": "3e9f837f",
   "metadata": {},
   "outputs": [
    {
     "data": {
      "text/plain": [
       "dict_keys([6, 5])"
      ]
     },
     "execution_count": 17,
     "metadata": {},
     "output_type": "execute_result"
    }
   ],
   "source": [
    "dicter = {6:4,5:6}\n",
    "s = dicter.keys()\n",
    "s"
   ]
  },
  {
   "cell_type": "code",
   "execution_count": 20,
   "id": "b4db0a95",
   "metadata": {},
   "outputs": [
    {
     "name": "stdout",
     "output_type": "stream",
     "text": [
      "11\n"
     ]
    }
   ],
   "source": [
    "sum = 0\n",
    "for i in s:\n",
    "    \n",
    "    sum = sum + i\n",
    "print(sum)    \n",
    "    \n",
    "    "
   ]
  },
  {
   "cell_type": "code",
   "execution_count": 29,
   "id": "640212b3",
   "metadata": {},
   "outputs": [
    {
     "name": "stdout",
     "output_type": "stream",
     "text": [
      "200\n"
     ]
    }
   ],
   "source": [
    "shoes = 10\n",
    "size = [2,3,4,5,6,8,7,6,5,18]\n",
    "customers = 6\n",
    "prizes = {6:55,6:45,6:55,4:40,18:60,10:45}\n",
    "p = prizes.values()\n",
    "sum = 0\n",
    "for i in p:\n",
    "    sum = sum + i\n",
    "print(sum)    "
   ]
  },
  {
   "cell_type": "code",
   "execution_count": 27,
   "id": "386e3e09",
   "metadata": {},
   "outputs": [
    {
     "name": "stdout",
     "output_type": "stream",
     "text": [
      "dict_values([55, 40, 60, 50])\n"
     ]
    }
   ],
   "source": [
    "prizes = {6:55,6:45,6:55,4:40,18:60,10:50}\n",
    "r = prizes.values()\n",
    "print(r)\n",
    "    "
   ]
  },
  {
   "cell_type": "code",
   "execution_count": 35,
   "id": "cdc0a586",
   "metadata": {},
   "outputs": [
    {
     "name": "stdout",
     "output_type": "stream",
     "text": [
      "4\n",
      "4\n"
     ]
    }
   ],
   "source": [
    "int(input())\n",
    "sizes = list(map(int,input().split()))"
   ]
  },
  {
   "cell_type": "code",
   "execution_count": 41,
   "id": "9e04536f",
   "metadata": {},
   "outputs": [
    {
     "name": "stdout",
     "output_type": "stream",
     "text": [
      "5\n",
      "10\n",
      "Counter({10: 1})\n"
     ]
    }
   ],
   "source": [
    "from collections import Counter\n",
    "\n",
    "int(input())\n",
    "sizes = list(map(int,input().split()))\n",
    "money = 0\n",
    "stock = Counter(sizes)\n",
    "print(stock)\n"
   ]
  },
  {
   "cell_type": "code",
   "execution_count": 49,
   "id": "6203febb",
   "metadata": {},
   "outputs": [
    {
     "data": {
      "text/plain": [
       "Counter({'hell0': 1, 'how': 1, 'are': 1, 'you': 1, 'there': 1})"
      ]
     },
     "execution_count": 49,
     "metadata": {},
     "output_type": "execute_result"
    }
   ],
   "source": [
    "l = \"hell0 how are you there\"\n",
    "p = l.split()\n",
    "Counter(p)"
   ]
  },
  {
   "cell_type": "code",
   "execution_count": 104,
   "id": "8e130a8a",
   "metadata": {},
   "outputs": [
    {
     "name": "stdout",
     "output_type": "stream",
     "text": [
      "10\n",
      "2 3 4 5 6 8 7 6 5 18\n",
      "6\n",
      "Counter({5: 2, 6: 2, 2: 1, 3: 1, 4: 1, 8: 1, 7: 1, 18: 1})\n"
     ]
    }
   ],
   "source": [
    "from collections import Counter\n",
    "numShoes = int(input())\n",
    "shoes = Counter(map(int, input().split()))\n",
    "numCust = int(input())\n",
    "\n",
    "print(shoes)\n",
    "\n",
    "\n"
   ]
  },
  {
   "cell_type": "code",
   "execution_count": 81,
   "id": "20d5fcf7",
   "metadata": {},
   "outputs": [
    {
     "data": {
      "text/plain": [
       "['hello', 'how', 'are', 'you']"
      ]
     },
     "execution_count": 81,
     "metadata": {},
     "output_type": "execute_result"
    }
   ],
   "source": [
    "p = \"hello how are you\"\n",
    "h = p.split()\n",
    "h"
   ]
  },
  {
   "cell_type": "code",
   "execution_count": 84,
   "id": "36710c95",
   "metadata": {},
   "outputs": [
    {
     "data": {
      "text/plain": [
       "Counter({' ': 2, 'h': 1, 'e': 1, 'l': 2, 'o': 1})"
      ]
     },
     "execution_count": 84,
     "metadata": {},
     "output_type": "execute_result"
    }
   ],
   "source": [
    "d = \" hello \"\n",
    "Counter(d)"
   ]
  },
  {
   "cell_type": "code",
   "execution_count": 103,
   "id": "99da03b6",
   "metadata": {},
   "outputs": [
    {
     "name": "stdout",
     "output_type": "stream",
     "text": [
      "2 3\n",
      "2\n",
      "3\n"
     ]
    }
   ],
   "source": [
    "s,r  = map(int,input().split())\n",
    "print(s)\n",
    "print(r)\n",
    "\n"
   ]
  },
  {
   "cell_type": "code",
   "execution_count": 95,
   "id": "4ceaf832",
   "metadata": {},
   "outputs": [
    {
     "name": "stdout",
     "output_type": "stream",
     "text": [
      "1\n",
      "2\n",
      "3\n",
      "4\n",
      "5\n"
     ]
    }
   ],
   "source": [
    "for i in s:\n",
    "    print(i)"
   ]
  },
  {
   "cell_type": "markdown",
   "id": "8300269f",
   "metadata": {},
   "source": [
    "# The shoes shopper code"
   ]
  },
  {
   "cell_type": "code",
   "execution_count": null,
   "id": "5c86d336",
   "metadata": {},
   "outputs": [],
   "source": []
  },
  {
   "cell_type": "code",
   "execution_count": 110,
   "id": "08b44259",
   "metadata": {},
   "outputs": [
    {
     "data": {
      "text/plain": [
       "'helto'"
      ]
     },
     "execution_count": 110,
     "metadata": {},
     "output_type": "execute_result"
    }
   ],
   "source": [
    "s = \"hello\"\n",
    "t = s[:3] + \"t\" + s[3+1:]\n",
    "t"
   ]
  },
  {
   "cell_type": "code",
   "execution_count": 113,
   "id": "215d971d",
   "metadata": {},
   "outputs": [],
   "source": [
    "def mutate_string(string, position, character):\n",
    "    \n",
    "    s = string\n",
    "    t = s[:position] + character + s[position+1:]\n",
    "    print(t)"
   ]
  },
  {
   "cell_type": "code",
   "execution_count": 114,
   "id": "332ff0ad",
   "metadata": {},
   "outputs": [
    {
     "name": "stdout",
     "output_type": "stream",
     "text": [
      "helto\n"
     ]
    }
   ],
   "source": [
    "mutate_string(\"hello\",3,\"t\")"
   ]
  },
  {
   "cell_type": "code",
   "execution_count": 118,
   "id": "d410df34",
   "metadata": {},
   "outputs": [
    {
     "name": "stdout",
     "output_type": "stream",
     "text": [
      "please enter the string:ABCDCDC\n",
      "please enter the sub string:CDC\n",
      "['C', 'D', 'C', 'D', 'C']\n"
     ]
    }
   ],
   "source": [
    "s = input(\"please enter the string:\")\n",
    "p = input(\"please enter the sub string:\")\n",
    "lister  = []\n",
    "\n",
    "for i in s:\n",
    "    if i in p:\n",
    "        lister.append(i)\n",
    "        \n",
    "print(lister)        \n",
    "        \n",
    "\n",
    "\n",
    "\n",
    "\n"
   ]
  },
  {
   "cell_type": "code",
   "execution_count": 124,
   "id": "7846bbde",
   "metadata": {},
   "outputs": [
    {
     "name": "stdout",
     "output_type": "stream",
     "text": [
      "ABCDCDC\n",
      "Counter({'ABCDCDC': 1})\n",
      "CDC\n"
     ]
    },
    {
     "ename": "NameError",
     "evalue": "name 'P' is not defined",
     "output_type": "error",
     "traceback": [
      "\u001b[1;31m---------------------------------------------------------------------------\u001b[0m",
      "\u001b[1;31mNameError\u001b[0m                                 Traceback (most recent call last)",
      "\u001b[1;32m<ipython-input-124-10eec933458f>\u001b[0m in \u001b[0;36m<module>\u001b[1;34m\u001b[0m\n\u001b[0;32m      3\u001b[0m \u001b[0mS\u001b[0m \u001b[1;33m=\u001b[0m \u001b[0mCounter\u001b[0m\u001b[1;33m(\u001b[0m\u001b[0mmap\u001b[0m\u001b[1;33m(\u001b[0m\u001b[0mstr\u001b[0m\u001b[1;33m,\u001b[0m\u001b[0minput\u001b[0m\u001b[1;33m(\u001b[0m\u001b[1;33m)\u001b[0m\u001b[1;33m.\u001b[0m\u001b[0msplit\u001b[0m\u001b[1;33m(\u001b[0m\u001b[1;33m)\u001b[0m\u001b[1;33m)\u001b[0m\u001b[1;33m)\u001b[0m\u001b[1;33m\u001b[0m\u001b[1;33m\u001b[0m\u001b[0m\n\u001b[0;32m      4\u001b[0m \u001b[1;33m\u001b[0m\u001b[0m\n\u001b[1;32m----> 5\u001b[1;33m \u001b[1;32mfor\u001b[0m \u001b[0mi\u001b[0m \u001b[1;32min\u001b[0m \u001b[0mrange\u001b[0m\u001b[1;33m(\u001b[0m\u001b[0mlen\u001b[0m\u001b[1;33m(\u001b[0m\u001b[0mP\u001b[0m\u001b[1;33m)\u001b[0m\u001b[1;33m)\u001b[0m\u001b[1;33m:\u001b[0m\u001b[1;33m\u001b[0m\u001b[1;33m\u001b[0m\u001b[0m\n\u001b[0m\u001b[0;32m      6\u001b[0m     \u001b[1;32mif\u001b[0m \u001b[0mp\u001b[0m\u001b[1;33m[\u001b[0m\u001b[0mi\u001b[0m\u001b[1;33m]\u001b[0m \u001b[1;33m==\u001b[0m \u001b[0ms\u001b[0m\u001b[1;33m:\u001b[0m\u001b[1;33m\u001b[0m\u001b[1;33m\u001b[0m\u001b[0m\n\u001b[0;32m      7\u001b[0m         \u001b[0mp\u001b[0m\u001b[1;33m[\u001b[0m\u001b[0mi\u001b[0m\u001b[1;33m]\u001b[0m \u001b[1;33m+=\u001b[0m \u001b[1;36m1\u001b[0m\u001b[1;33m\u001b[0m\u001b[1;33m\u001b[0m\u001b[0m\n",
      "\u001b[1;31mNameError\u001b[0m: name 'P' is not defined"
     ]
    }
   ],
   "source": [
    "p = Counter(map(str,input().split()))\n",
    "print(p)\n",
    "S = Counter(map(str,input().split()))\n",
    "\n",
    "for i in range(len(P)):\n",
    "    if p[i] == s:\n",
    "        p[i] += 1"
   ]
  },
  {
   "cell_type": "code",
   "execution_count": 67,
   "id": "6da3f4d5",
   "metadata": {},
   "outputs": [
    {
     "name": "stdout",
     "output_type": "stream",
     "text": [
      "['CDC', 'CDC']\n"
     ]
    }
   ],
   "source": [
    " \n",
    "x = \"ABCDCDC\"\n",
    "z = \"CDC\"\n",
    "listerss = []\n",
    "\n",
    "for i in range(len(x)):\n",
    "    if x[i:len(z)+i] == z[0:] :\n",
    "        listerss.append(z[0:])\n",
    "        \n",
    "        \n",
    "        \n",
    "    \n",
    "    \n",
    "print(listerss)    \n",
    "    \n",
    "    \n",
    "    \n",
    "    \n"
   ]
  },
  {
   "cell_type": "code",
   "execution_count": 60,
   "id": "1c4da6b2",
   "metadata": {},
   "outputs": [
    {
     "name": "stdout",
     "output_type": "stream",
     "text": [
      "7\n",
      "3\n",
      "false\n",
      "false\n",
      "True\n",
      "false\n",
      "True\n",
      "false\n",
      "false\n"
     ]
    }
   ],
   "source": [
    "p = \"ABCDCDC\"\n",
    "print(len(p))\n",
    "\n",
    "s = \"CDC\"\n",
    "print(len(s))\n",
    "\n",
    "for i in range(len(p)):\n",
    "    if p[i:len(s)+i] == s[0:]:\n",
    "        print(\"True\")\n",
    "    else:\n",
    "        print(\"false\")\n",
    "        \n",
    "        \n",
    "\n",
    "    "
   ]
  },
  {
   "cell_type": "code",
   "execution_count": 130,
   "id": "d2cb7f70",
   "metadata": {},
   "outputs": [
    {
     "data": {
      "text/plain": [
       "'CDC'"
      ]
     },
     "execution_count": 130,
     "metadata": {},
     "output_type": "execute_result"
    }
   ],
   "source": [
    "s = \"CDC\"\n",
    "s[0:]"
   ]
  },
  {
   "cell_type": "code",
   "execution_count": 59,
   "id": "bfe8725b",
   "metadata": {},
   "outputs": [
    {
     "data": {
      "text/plain": [
       "'ABCD'"
      ]
     },
     "execution_count": 59,
     "metadata": {},
     "output_type": "execute_result"
    }
   ],
   "source": [
    "p = \"ABCDCDC\"\n",
    "p[0:4]"
   ]
  },
  {
   "cell_type": "markdown",
   "id": "2f1dfaa8",
   "metadata": {},
   "source": [
    "# the true code of neeraj ashish thalarv"
   ]
  },
  {
   "cell_type": "code",
   "execution_count": 76,
   "id": "737dc0e5",
   "metadata": {},
   "outputs": [
    {
     "name": "stdout",
     "output_type": "stream",
     "text": [
      "2\n"
     ]
    }
   ],
   "source": [
    "from collections import Counter\n",
    "x = \"ABCDCDC\"\n",
    "z = \"CDC\"\n",
    "listerss = []\n",
    "\n",
    "\n",
    "for i in range(len(x)):\n",
    "    if x[i:len(z)+i] == z[0:] :\n",
    "        listerss.append(z[0:])\n",
    "        \n",
    "        \n",
    "print(len(listerss))        \n",
    "        \n",
    "        \n",
    "        \n",
    "        \n",
    "        \n",
    "    \n",
    "    \n",
    " "
   ]
  },
  {
   "cell_type": "code",
   "execution_count": 74,
   "id": "5009fdd3",
   "metadata": {},
   "outputs": [
    {
     "data": {
      "text/plain": [
       "2"
      ]
     },
     "execution_count": 74,
     "metadata": {},
     "output_type": "execute_result"
    }
   ],
   "source": [
    "k = ['CDC', 'CDC']\n",
    "len(k)"
   ]
  },
  {
   "cell_type": "markdown",
   "id": "0653d30e",
   "metadata": {},
   "source": [
    "# hacker rank problem"
   ]
  },
  {
   "cell_type": "code",
   "execution_count": 117,
   "id": "5ecb4f2b",
   "metadata": {},
   "outputs": [
    {
     "name": "stdout",
     "output_type": "stream",
     "text": [
      "[0, 1, 2]\n",
      "[[0, 1, 2], [0, 1, 2], [0, 1, 2]]\n"
     ]
    }
   ],
   "source": [
    "import random\n",
    "prot = []\n",
    "final = []\n",
    "for i in range(3):\n",
    "    k = random.randint(0,2)\n",
    "    prot.append(k)\n",
    "    final.append(prot)\n",
    "\n",
    "\n",
    "print(prot)  \n",
    "print(final)  \n",
    "\n",
    "\n",
    "\n"
   ]
  },
  {
   "cell_type": "code",
   "execution_count": null,
   "id": "0db56cf9",
   "metadata": {},
   "outputs": [],
   "source": [
    "usa = []\n",
    "for  i in range(10):\n",
    "    "
   ]
  },
  {
   "cell_type": "code",
   "execution_count": 85,
   "id": "f6004f12",
   "metadata": {},
   "outputs": [
    {
     "name": "stdout",
     "output_type": "stream",
     "text": [
      "[1, 2, 3, 4, [6, 6, 7, 8]]\n"
     ]
    }
   ],
   "source": [
    "f = [1,2,3,4]\n",
    "l = [6,6,7,8]\n",
    "f.append(l)\n",
    "print(f)"
   ]
  },
  {
   "cell_type": "code",
   "execution_count": null,
   "id": "15713f52",
   "metadata": {},
   "outputs": [],
   "source": []
  },
  {
   "cell_type": "markdown",
   "id": "2b591c8d",
   "metadata": {},
   "source": [
    "# my own code for hacker rank problem"
   ]
  },
  {
   "cell_type": "code",
   "execution_count": 23,
   "id": "b7047ee1",
   "metadata": {},
   "outputs": [
    {
     "name": "stdout",
     "output_type": "stream",
     "text": [
      "[[0, 0, 0], [0, 0, 1], [0, 0, 2], [0, 1, 0], [0, 1, 1], [0, 1, 2], [0, 2, 0], [0, 2, 1], [0, 2, 2], [1, 0, 0], [1, 0, 1], [1, 0, 2], [1, 1, 0], [1, 1, 1], [1, 1, 2], [1, 2, 0], [1, 2, 1], [1, 2, 2], [2, 0, 0], [2, 0, 1], [2, 0, 2], [2, 1, 0], [2, 1, 1], [2, 1, 2], [2, 2, 0], [2, 2, 1], [2, 2, 2]]\n",
      "[[0, 0, 0], [0, 0, 1], [0, 1, 0], [0, 1, 2], [0, 2, 1], [0, 2, 2], [1, 0, 0], [1, 0, 2], [1, 1, 1], [1, 1, 2], [1, 2, 0], [1, 2, 1], [1, 2, 2], [2, 0, 1], [2, 0, 2], [2, 1, 0], [2, 1, 1], [2, 1, 2], [2, 2, 0], [2, 2, 1], [2, 2, 2]]\n"
     ]
    }
   ],
   "source": [
    "x = int(input())\n",
    "y = int(input())\n",
    "z = int(input())\n",
    "n = int(input())\n",
    "\n",
    "cor  = []\n",
    "lev = []\n",
    "for i in range(x+1):\n",
    "    for j in range(y+1):\n",
    "        for k in range(z+1):\n",
    "            if i <= x or j <= y or k <= x :\n",
    "                cor.append([i,j,k])\n",
    "\n",
    "for b in cor:\n",
    "    if sum(b) > n or sum(b) < n:\n",
    "        lev.append(b)\n",
    "\n",
    "\n",
    "print(cor)   \n",
    "print(lev)     \n",
    "\n",
    "\n",
    "\n",
    "\n",
    "\n",
    "               \n",
    "\n",
    "\n",
    "        \n",
    "                    \n",
    "                        \n",
    "                                "
   ]
  },
  {
   "cell_type": "code",
   "execution_count": 10,
   "id": "65bd3e9f",
   "metadata": {},
   "outputs": [
    {
     "name": "stdout",
     "output_type": "stream",
     "text": [
      "[[0, 0, 0], [0, 0, 1], [0, 0, 2], [0, 1, 0], [0, 1, 1], [0, 1, 2], [0, 2, 0], [0, 2, 1], [0, 2, 2], [1, 0, 0], [1, 0, 1], [1, 0, 2], [1, 1, 0], [1, 1, 1], [1, 1, 2], [1, 2, 0], [1, 2, 1], [1, 2, 2], [2, 0, 0], [2, 0, 1], [2, 0, 2], [2, 1, 0], [2, 1, 1], [2, 1, 2], [2, 2, 0], [2, 2, 1]]\n"
     ]
    }
   ],
   "source": [
    "print(cor)"
   ]
  },
  {
   "cell_type": "code",
   "execution_count": 17,
   "id": "8821c06d",
   "metadata": {},
   "outputs": [
    {
     "name": "stdout",
     "output_type": "stream",
     "text": [
      "[[1, 2, 3]]\n"
     ]
    }
   ],
   "source": [
    "h = [[1,2,3],[4,5,6],[7,8,9],[10,11,12]]\n",
    "lsi = []\n",
    "for i in h :\n",
    "    if sum(i) > 120 or sum(i) < 10:\n",
    "        lsi.append(i)\n",
    "\n",
    "print(lsi)       \n",
    "\n"
   ]
  },
  {
   "cell_type": "code",
   "execution_count": null,
   "id": "f4cdf6ed",
   "metadata": {},
   "outputs": [],
   "source": [
    "N = int(input())\n",
    "lister = []\n",
    "#for i in range(n):\n",
    "p = int(input(\"enter the positon that you want to select in the list:\"))\n",
    "s = int(input(\"enter the number that you want to replace: \"))\n",
    "lister[p] = s\n"
   ]
  },
  {
   "cell_type": "code",
   "execution_count": 7,
   "id": "5d19439d",
   "metadata": {},
   "outputs": [
    {
     "name": "stdout",
     "output_type": "stream",
     "text": [
      "[0, 0, 0, 10]\n"
     ]
    }
   ],
   "source": [
    "ret = [0,0,0]\n",
    "p = int(input(\"enter the positon that you want to select in the list:\"))\n",
    "s = int(input(\"enter the number that you want to replace: \"))\n",
    "ret.append(10)\n",
    "print(ret)\n"
   ]
  },
  {
   "cell_type": "markdown",
   "id": "4dce1d6f",
   "metadata": {},
   "source": [
    "HACKER RANK RUNNER UP PROBLEM"
   ]
  },
  {
   "cell_type": "code",
   "execution_count": 8,
   "id": "60953c17",
   "metadata": {},
   "outputs": [
    {
     "name": "stdout",
     "output_type": "stream",
     "text": [
      "[1, 2, 3, 4, 5]\n"
     ]
    }
   ],
   "source": [
    "n = int(input())\n",
    "arr  = list(map(int,input().split()))\n",
    "print(arr)"
   ]
  },
  {
   "cell_type": "code",
   "execution_count": 19,
   "id": "eb5ff162",
   "metadata": {},
   "outputs": [
    {
     "name": "stdout",
     "output_type": "stream",
     "text": [
      "5\n"
     ]
    }
   ],
   "source": [
    "ter = [2,3,6,6,5]\n",
    "ter1 = []\n",
    "p = max(ter)\n",
    "\n",
    "for i in range(len(ter)):\n",
    "    if ter[i] < p:\n",
    "        ter1.append(ter[i])\n",
    "\n",
    "s = max(ter1)\n",
    "print(s)        \n",
    "\n",
    "\n",
    "    \n",
    "\n",
    "    \n"
   ]
  },
  {
   "cell_type": "code",
   "execution_count": null,
   "id": "135fa870",
   "metadata": {},
   "outputs": [],
   "source": [
    "# programme to find the largest number in the list without using the max function"
   ]
  },
  {
   "cell_type": "code",
   "execution_count": 29,
   "id": "19b1c3d5",
   "metadata": {},
   "outputs": [
    {
     "name": "stdout",
     "output_type": "stream",
     "text": [
      "hrlo\n",
      "hrlo\n",
      "hrlo\n",
      "hrlo\n"
     ]
    }
   ],
   "source": [
    "p = [1,2,3,4,5]\n",
    "for i in range(len(p)):\n",
    "    if p[i:i+1] < p[i:i+2]:\n",
    "\n",
    "\n",
    "        \n",
    "    \n"
   ]
  },
  {
   "cell_type": "code",
   "execution_count": 4,
   "id": "8680e4f3",
   "metadata": {},
   "outputs": [
    {
     "name": "stdout",
     "output_type": "stream",
     "text": [
      "[0, 1, 2, 3, 4, 5, 6, 7, 8, 9]\n"
     ]
    }
   ],
   "source": [
    "arr = []\n",
    "for i in range(10):\n",
    "    arr.append(i)\n",
    "\n",
    "print(arr)    \n"
   ]
  },
  {
   "cell_type": "code",
   "execution_count": 83,
   "id": "fc539126",
   "metadata": {},
   "outputs": [
    {
     "name": "stdout",
     "output_type": "stream",
     "text": [
      "[['harry', 37.21], ['berry', 37.21], ['tina', 37.2], ['akriti', 41.0], ['harsh', 39.0]]\n",
      "[['harry', 37.21], ['berry', 37.21], ['tina', 37.2], ['harsh', 39.0]]\n",
      "[['harry', 37.21], ['berry', 37.21]]\n",
      "berry\n",
      "harry\n"
     ]
    }
   ],
   "source": [
    "new = []\n",
    "new1 = []\n",
    "new2 = []\n",
    "for i in range(5):\n",
    "    name = input()\n",
    "    score = float(input())\n",
    "    new.append([name,score])\n",
    "\n",
    "print(new)\n",
    "\n",
    "k = min(new)\n",
    "\n",
    "\n",
    "for  h in range(len(new)):\n",
    "    if new[h] > k:\n",
    "        new1.append(new[h])\n",
    "\n",
    "\n",
    "print(new1)\n",
    "\n",
    "for j in range(len(new1)):\n",
    "    a = j + 1\n",
    "    for v in range(a,len(new1)):\n",
    "        if new1[j][1] == new1[v][1]:\n",
    "            new2.append(new1[j])\n",
    "            new2.append(new1[v])\n",
    "\n",
    "\n",
    "\n",
    "print(new2)  \n",
    "\n",
    "sor = []\n",
    "for m in new2:\n",
    "    sor.append(m[0])\n",
    "\n",
    "\n",
    "sor.sort()\n",
    "for word in sor:\n",
    "    print(word)    \n",
    "\n",
    "    \n",
    "    \n",
    "\n",
    "\n",
    "\n",
    "\n",
    "\n",
    "\n",
    "    \n",
    "        \n",
    "    \n",
    "    \n",
    "    \n",
    "\n",
    "\n",
    "\n",
    "\n",
    "\n",
    "\n",
    "\n"
   ]
  },
  {
   "cell_type": "code",
   "execution_count": null,
   "id": "b01bf189",
   "metadata": {},
   "outputs": [],
   "source": [
    "mn = []\n",
    "for m in l:\n",
    "    mn.append(m[0])\n",
    "\n",
    "mn.sort()\n",
    "for word in mn:\n",
    "    print(word)\n"
   ]
  },
  {
   "cell_type": "code",
   "execution_count": 52,
   "id": "ee3cd360",
   "metadata": {},
   "outputs": [
    {
     "name": "stdout",
     "output_type": "stream",
     "text": [
      "[['arr', 10.0], ['arr1', 10.0]]\n"
     ]
    }
   ],
   "source": [
    "t = [['arr', 10.0], ['arr1', 10.0], ['c', 12.0], ['d', 13.0], ['e', 14.0]]\n",
    "s = []\n",
    "m = t[0]\n",
    "\n",
    "for i in range(len(t)):\n",
    "    a = i+1\n",
    "\n",
    "    for j in range(a,len(t)):\n",
    "        if t[i][1] == t[j][1]:\n",
    "            s.append(t[i])\n",
    "            s.append(t[j])\n",
    "        \n",
    "            \n",
    "print(s)\n",
    "\n",
    "\n",
    "   "
   ]
  },
  {
   "cell_type": "code",
   "execution_count": 25,
   "id": "08496f82",
   "metadata": {},
   "outputs": [
    {
     "name": "stdout",
     "output_type": "stream",
     "text": [
      "1\n",
      "2\n",
      "3\n",
      "4\n",
      "5\n"
     ]
    }
   ],
   "source": [
    "for i in range(1,6):\n",
    "    print(i)"
   ]
  },
  {
   "cell_type": "code",
   "execution_count": null,
   "id": "f1725f1b",
   "metadata": {},
   "outputs": [],
   "source": [
    "if t[i] == t[j] :\n",
    "            s.append(t[i])\n",
    "            s.append(t[j])"
   ]
  },
  {
   "cell_type": "code",
   "execution_count": 41,
   "id": "5a43e74f",
   "metadata": {},
   "outputs": [
    {
     "data": {
      "text/plain": [
       "10"
      ]
     },
     "execution_count": 41,
     "metadata": {},
     "output_type": "execute_result"
    }
   ],
   "source": [
    "d = [[\"h\",10],[\"p\",20]]\n",
    "d[0][1]\n",
    "            \n"
   ]
  },
  {
   "cell_type": "code",
   "execution_count": 60,
   "id": "5a2a5346",
   "metadata": {},
   "outputs": [
    {
     "data": {
      "text/plain": [
       "10"
      ]
     },
     "execution_count": 60,
     "metadata": {},
     "output_type": "execute_result"
    }
   ],
   "source": [
    "j = [\"h\",10]\n",
    "j[1]"
   ]
  },
  {
   "cell_type": "code",
   "execution_count": 82,
   "id": "c647e7bf",
   "metadata": {},
   "outputs": [
    {
     "name": "stdout",
     "output_type": "stream",
     "text": [
      "berry\n",
      "harry\n"
     ]
    }
   ],
   "source": [
    "l = [['harry', 37.21], ['berry', 37.21]]\n",
    "mn = []\n",
    "for m in l:\n",
    "    mn.append(m[0])\n",
    "\n",
    "mn.sort()\n",
    "for word in mn:\n",
    "    print(word)\n",
    "\n",
    "\n",
    "\n",
    "    \n",
    "    \n"
   ]
  },
  {
   "cell_type": "code",
   "execution_count": 86,
   "id": "7625d550",
   "metadata": {},
   "outputs": [
    {
     "ename": "ValueError",
     "evalue": "invalid literal for int() with base 10: ' '",
     "output_type": "error",
     "traceback": [
      "\u001b[1;31m---------------------------------------------------------------------------\u001b[0m",
      "\u001b[1;31mValueError\u001b[0m                                Traceback (most recent call last)",
      "\u001b[1;32m<ipython-input-86-7de784221cfa>\u001b[0m in \u001b[0;36m<module>\u001b[1;34m\u001b[0m\n\u001b[0;32m      2\u001b[0m \u001b[1;32mfor\u001b[0m \u001b[0mi\u001b[0m \u001b[1;32min\u001b[0m \u001b[0mrange\u001b[0m\u001b[1;33m(\u001b[0m\u001b[1;36m2\u001b[0m\u001b[1;33m)\u001b[0m\u001b[1;33m:\u001b[0m\u001b[1;33m\u001b[0m\u001b[1;33m\u001b[0m\u001b[0m\n\u001b[0;32m      3\u001b[0m     \u001b[0mname\u001b[0m \u001b[1;33m=\u001b[0m \u001b[0minput\u001b[0m\u001b[1;33m(\u001b[0m\u001b[1;33m)\u001b[0m\u001b[1;33m.\u001b[0m\u001b[0msplit\u001b[0m\u001b[1;33m(\u001b[0m\u001b[1;33m)\u001b[0m\u001b[1;33m\u001b[0m\u001b[1;33m\u001b[0m\u001b[0m\n\u001b[1;32m----> 4\u001b[1;33m     \u001b[0mmarks\u001b[0m \u001b[1;33m=\u001b[0m \u001b[0mlist\u001b[0m\u001b[1;33m(\u001b[0m\u001b[0mmap\u001b[0m\u001b[1;33m(\u001b[0m\u001b[0mint\u001b[0m\u001b[1;33m,\u001b[0m\u001b[0minput\u001b[0m\u001b[1;33m(\u001b[0m\u001b[1;33m)\u001b[0m\u001b[1;33m)\u001b[0m\u001b[1;33m)\u001b[0m\u001b[1;33m\u001b[0m\u001b[1;33m\u001b[0m\u001b[0m\n\u001b[0m\u001b[0;32m      5\u001b[0m     \u001b[0mdic\u001b[0m\u001b[1;33m[\u001b[0m\u001b[0mname\u001b[0m\u001b[1;33m]\u001b[0m \u001b[1;33m=\u001b[0m \u001b[0mmarks\u001b[0m\u001b[1;33m\u001b[0m\u001b[1;33m\u001b[0m\u001b[0m\n\u001b[0;32m      6\u001b[0m \u001b[1;33m\u001b[0m\u001b[0m\n",
      "\u001b[1;31mValueError\u001b[0m: invalid literal for int() with base 10: ' '"
     ]
    }
   ],
   "source": [
    "dic = {}\n",
    "for i in range(2):\n",
    "    name = input().split()\n",
    "    marks = list(map(int,input()))\n",
    "    dic[name] = marks\n",
    "\n",
    "\n",
    "print(dic)    \n",
    "\n",
    "  \n",
    "    \n",
    "    "
   ]
  },
  {
   "cell_type": "code",
   "execution_count": 94,
   "id": "a2aefd70",
   "metadata": {},
   "outputs": [
    {
     "name": "stdout",
     "output_type": "stream",
     "text": [
      "[10, 20]\n",
      "15.0\n"
     ]
    }
   ],
   "source": [
    "dic = {\"neeraj\":10,\"hello\":20}\n",
    "values = []\n",
    "for i in dic.values():\n",
    "    values.append(i)\n",
    "\n",
    "print(values)    \n",
    "\n",
    "sum = 0\n",
    "for j  in range(len(values)):\n",
    "    sum = sum + values[j]\n",
    "    average = sum/len(values)\n",
    "\n",
    "print(average)    \n",
    "\n",
    "\n",
    "    "
   ]
  },
  {
   "cell_type": "markdown",
   "id": "ebc4743f",
   "metadata": {},
   "source": [
    "IMPORTANT FOR THE ASSIGN THE DICTIONARIES"
   ]
  },
  {
   "cell_type": "code",
   "execution_count": 101,
   "id": "de0b787c",
   "metadata": {},
   "outputs": [],
   "source": [
    "n = int(input())\n",
    "student_marks = {}\n",
    "for _ in range(n):\n",
    "    name, *line = input().split()\n",
    "    scores = list(map(float, line))\n",
    "    student_marks[name] = scores\n",
    "\n",
    "\n",
    "    \n",
    "        \n",
    "        \n",
    "        "
   ]
  },
  {
   "cell_type": "code",
   "execution_count": 102,
   "id": "aeaabeb8",
   "metadata": {},
   "outputs": [
    {
     "data": {
      "text/plain": [
       "{'neeraj': [1.0, 2.0, 3.0, 4.0, 5.0], 'hello': [1.0, 2.0, 3.0, 4.0, 5.0]}"
      ]
     },
     "execution_count": 102,
     "metadata": {},
     "output_type": "execute_result"
    }
   ],
   "source": [
    "student_marks"
   ]
  },
  {
   "cell_type": "code",
   "execution_count": null,
   "id": "b678b65d",
   "metadata": {},
   "outputs": [],
   "source": [
    "r = input(\"enter the letter:\")\n",
    "dic = {}\n",
    "\n",
    "for char in r:\n",
    "    if char in dic:\n",
    "        dic[char] = dic[char] + 1\n",
    "    else:\n",
    "        dic[char] = 1\n",
    "print(dic) "
   ]
  },
  {
   "cell_type": "code",
   "execution_count": null,
   "id": "a99bbe5d",
   "metadata": {},
   "outputs": [],
   "source": [
    "n = int(input())\n",
    "student_marks = {}\n",
    "value = []\n",
    "for _ in range(n):\n",
    "    name, *line = input().split()\n",
    "    scores = list(map(float, line))\n",
    "    student_marks[name] = scores\n",
    "query_name = input()\n",
    "\n",
    "for i in student_marks.keys():\n",
    "    if i == query_name:\n",
    "        for j in student_marks.value():\n",
    "            value.append(j)\n",
    "\n",
    "sum = 0\n",
    "\n",
    "for k in range(len(value)):\n",
    "    sum = sum + value[k]\n",
    "    average = sum/len(value)\n",
    "\n",
    "print(average)    \n",
    "        \n",
    "        \n",
    "\n",
    "        \n",
    "            \n",
    "                \n",
    "        \n",
    "        \n",
    "        \n",
    "    \n",
    "    \n",
    "    \n",
    "    \n",
    "    \n",
    "                \n",
    "    \n",
    "    \n",
    "    \n",
    "        \n",
    "    "
   ]
  },
  {
   "cell_type": "code",
   "execution_count": 5,
   "id": "7dbac0ba",
   "metadata": {},
   "outputs": [
    {
     "name": "stdout",
     "output_type": "stream",
     "text": [
      "12.00\n"
     ]
    }
   ],
   "source": [
    "dic = {}\n",
    "sco = []\n",
    "n = int(input())\n",
    "for i in range(n):\n",
    "    name,*line = input().split()\n",
    "    scores = list(map(float,line))\n",
    "    dic[name] = scores\n",
    "\n",
    "query_name = input() \n",
    "\n",
    "for j in dic.keys():\n",
    "    if j == query_name:\n",
    "        sco.extend(dic[j])\n",
    "\n",
    "\n",
    "k = sum(sco)\n",
    "average = k/len(sco)\n",
    "print(format(average,\".2f\"))\n",
    "        \n",
    "        \n",
    "\n",
    "\n",
    "\n",
    "\n",
    "\n",
    "    \n",
    "    "
   ]
  },
  {
   "cell_type": "code",
   "execution_count": 14,
   "id": "3f18eb15",
   "metadata": {},
   "outputs": [
    {
     "name": "stdout",
     "output_type": "stream",
     "text": [
      "neeraj\n",
      "sas\n",
      "[1.0, 2.0, 3.0, 4.0]\n",
      "[5.0, 6.0, 7.0, 8.0]\n"
     ]
    }
   ],
   "source": [
    "d = {'neeraj': [1.0, 2.0, 3.0, 4.0], 'sas': [5.0, 6.0, 7.0, 8.0]}\n",
    "p= []\n",
    "d.keys()\n",
    "d.values()\n",
    "\n",
    "for i in d.keys():\n",
    "    print(i)\n",
    "\n",
    "for j in d.values():\n",
    "    print(j)\n",
    "\n",
    "\n",
    "p.extend(d[\"neeraj\"])\n"
   ]
  },
  {
   "cell_type": "code",
   "execution_count": 27,
   "id": "7df669b7",
   "metadata": {},
   "outputs": [
    {
     "name": "stdout",
     "output_type": "stream",
     "text": [
      "2.50\n"
     ]
    }
   ],
   "source": [
    "f = sum(p)/len(p)\n",
    "print(format(f,\".2f\"))"
   ]
  },
  {
   "cell_type": "markdown",
   "id": "59659251",
   "metadata": {},
   "source": [
    "next code in hacker rank\n"
   ]
  },
  {
   "cell_type": "code",
   "execution_count": 33,
   "id": "711974eb",
   "metadata": {},
   "outputs": [
    {
     "name": "stdout",
     "output_type": "stream",
     "text": [
      "[(1, 1), (1, 2), (1, 3), (2, 1), (2, 2), (2, 3), (3, 1), (3, 2), (3, 3)]\n"
     ]
    }
   ],
   "source": [
    "from itertools import product\n",
    "\n",
    "print (list(product([1,2,3],repeat=2)))\n",
    "\n",
    "\n",
    "\n"
   ]
  },
  {
   "cell_type": "code",
   "execution_count": 51,
   "id": "6f7c5f55",
   "metadata": {},
   "outputs": [
    {
     "name": "stdout",
     "output_type": "stream",
     "text": [
      "[3, 4]\n",
      "[1, 2]\n",
      "(1, 3) (1, 4) (2, 3) (2, 4)\n"
     ]
    }
   ],
   "source": [
    "from itertools import product\n",
    "\n",
    "k = list(map(int,input().split()))\n",
    "p = list(map(int,input().split()))\n",
    "print(p)\n",
    "print(k)\n",
    "\n",
    "c =  list(product(k,p))\n",
    "print(*c)"
   ]
  },
  {
   "cell_type": "code",
   "execution_count": 49,
   "id": "b57f8bab",
   "metadata": {},
   "outputs": [
    {
     "name": "stdout",
     "output_type": "stream",
     "text": [
      "1 2 3\n"
     ]
    }
   ],
   "source": [
    "d = [1,2,3]\n",
    "print(*d)"
   ]
  },
  {
   "cell_type": "code",
   "execution_count": 48,
   "id": "0a34bde7",
   "metadata": {},
   "outputs": [
    {
     "name": "stdout",
     "output_type": "stream",
     "text": [
      "1 2 3\n"
     ]
    }
   ],
   "source": [
    "f = [1,2,3]\n",
    "print(*f)"
   ]
  },
  {
   "cell_type": "code",
   "execution_count": 53,
   "id": "e898b5dd",
   "metadata": {},
   "outputs": [
    {
     "name": "stdout",
     "output_type": "stream",
     "text": [
      "[3, 4]\n",
      "[1, 2]\n",
      "(1, 3) (1, 4) (2, 3) (2, 4)\n"
     ]
    }
   ],
   "source": [
    "# the new version of the code is here\n",
    "from itertools import product\n",
    "\n",
    "k = list(map(int,input().split()))\n",
    "p = list(map(int,input().split()))\n",
    "print(p)\n",
    "print(k)\n",
    "\n",
    "print  (*list(product(k,p)))\n"
   ]
  },
  {
   "cell_type": "code",
   "execution_count": 4,
   "id": "611fbd6f",
   "metadata": {},
   "outputs": [],
   "source": [
    "movies = {}\n",
    "name,*line  = input(\"please enter the name of the movie and the title:\").split()\n",
    "title = list(map(str,line))\n",
    "movies[name] = title\n",
    "\n",
    "\n",
    "\n",
    "k  = input(\"please enter the movie name that you want to search:\")\n",
    "f = input(\"please enter the title name that you want to search:\")\n",
    "\n",
    "for i in movies.keys():\n",
    "    for j in movies.values():\n",
    "        if i == k and j == g:\n",
    "            print(\"yes you have found the coorect value in that\")\n",
    "        \n",
    "\n",
    "        \n",
    "\n",
    "\n",
    "\n",
    "\n"
   ]
  },
  {
   "cell_type": "code",
   "execution_count": 5,
   "id": "564aba0b",
   "metadata": {},
   "outputs": [
    {
     "name": "stdout",
     "output_type": "stream",
     "text": [
      "{'hello': []}\n"
     ]
    }
   ],
   "source": [
    "print(movies)"
   ]
  },
  {
   "cell_type": "code",
   "execution_count": 2,
   "id": "25925285",
   "metadata": {},
   "outputs": [
    {
     "name": "stdout",
     "output_type": "stream",
     "text": [
      "['1']\n",
      "['1', '2']\n"
     ]
    }
   ],
   "source": [
    "list = []\n",
    "N = int(input(\"Enter the number of lines: \"))\n",
    "for  i in range(N):\n",
    "    p, line = input().split()\n",
    "    list.insert(int(p),line)\n",
    "    print(list)\n",
    "    \n",
    "    "
   ]
  },
  {
   "cell_type": "code",
   "execution_count": 30,
   "id": "a97c6495",
   "metadata": {},
   "outputs": [
    {
     "name": "stdout",
     "output_type": "stream",
     "text": [
      "0\n",
      "[1.0]\n",
      "1\n"
     ]
    }
   ],
   "source": [
    "first, *rest = input().split()\n",
    "score = list(map(float,rest))\n",
    "print(first)\n",
    "print(score)\n",
    "print(*rest)\n"
   ]
  },
  {
   "cell_type": "code",
   "execution_count": 21,
   "id": "a5bf393d",
   "metadata": {},
   "outputs": [
    {
     "name": "stdout",
     "output_type": "stream",
     "text": [
      "[1]\n"
     ]
    }
   ],
   "source": [
    "k = []\n",
    "k.insert(1,1)\n",
    "print(k)\n",
    "\n"
   ]
  },
  {
   "cell_type": "code",
   "execution_count": 26,
   "id": "62048c25",
   "metadata": {},
   "outputs": [],
   "source": [
    "k.insert(int(input()),int(input()))\n"
   ]
  },
  {
   "cell_type": "code",
   "execution_count": 36,
   "id": "cf632ce0",
   "metadata": {},
   "outputs": [],
   "source": [
    "p, line = input().split()\n",
    "k.insert(int(p),line)\n"
   ]
  },
  {
   "cell_type": "code",
   "execution_count": 38,
   "id": "82a76823",
   "metadata": {},
   "outputs": [
    {
     "data": {
      "text/plain": [
       "[['1'], '2', ['23'], 1, 2]"
      ]
     },
     "execution_count": 38,
     "metadata": {},
     "output_type": "execute_result"
    }
   ],
   "source": [
    "k"
   ]
  },
  {
   "cell_type": "markdown",
   "id": "9ad2cf35",
   "metadata": {},
   "source": [
    "# THE ORGINAL CODE FOR THE HACKER RANK LIST PROBLEM"
   ]
  },
  {
   "cell_type": "code",
   "execution_count": 25,
   "id": "2268426d",
   "metadata": {},
   "outputs": [
    {
     "name": "stdout",
     "output_type": "stream",
     "text": [
      "[6, 5, 10]\n",
      "[6, 5, 10]\n",
      "[6, 5, 10]\n"
     ]
    }
   ],
   "source": [
    "N = int(input(\"Enter the number of lines of code: \"))\n",
    "empty = []\n",
    "conv = []\n",
    "for i in range(N):\n",
    "    x  = input().split()\n",
    "    empty.append(x)\n",
    "for j in range(len(empty)):\n",
    "    if empty[j][0] == \"insert\":\n",
    "        x = int(empty[j][1])\n",
    "        y = int(empty[j][2])\n",
    "        conv.insert(n,m)\n",
    "\n",
    "    elif empty[j][0] == \"print\" :\n",
    "        print(conv)    \n",
    "\n",
    "    elif empty[i][0] == 'remove':\n",
    "        conv.remove(int(empty[i][1]))\n",
    "            \n",
    "    elif empty[i][0] == 'append':\n",
    "        conv.append(int(empty[i][1]))\n",
    "            \n",
    "    elif empty[i][0] == 'sort':\n",
    "         conv.sort()\n",
    "           \n",
    "    elif empty[i][0] == 'pop':\n",
    "        conv.pop()\n",
    "            \n",
    "    elif empty[i][0] == 'reverse':\n",
    "        conv.reverse()\n",
    "                \n",
    "\n",
    "\n",
    "\n",
    "    \n",
    "\n",
    "\n",
    "\n",
    "\n"
   ]
  },
  {
   "cell_type": "code",
   "execution_count": null,
   "id": "81fa8004",
   "metadata": {},
   "outputs": [],
   "source": []
  },
  {
   "cell_type": "code",
   "execution_count": 4,
   "id": "641f2842",
   "metadata": {},
   "outputs": [
    {
     "data": {
      "text/plain": [
       "[['neeraj'], ['spp']]"
      ]
     },
     "execution_count": 4,
     "metadata": {},
     "output_type": "execute_result"
    }
   ],
   "source": []
  },
  {
   "cell_type": "code",
   "execution_count": 5,
   "id": "b037b084",
   "metadata": {},
   "outputs": [],
   "source": [
    "v = input().split()"
   ]
  },
  {
   "cell_type": "code",
   "execution_count": 6,
   "id": "53838575",
   "metadata": {},
   "outputs": [
    {
     "name": "stdout",
     "output_type": "stream",
     "text": [
      "['hello']\n"
     ]
    }
   ],
   "source": [
    "print(v)"
   ]
  },
  {
   "cell_type": "code",
   "execution_count": 33,
   "id": "382990c2",
   "metadata": {},
   "outputs": [],
   "source": [
    "x = []\n",
    "y = []\n",
    "for  i in range(2):\n",
    "    f  = input().split()\n",
    "    x.append(f)\n",
    "for j in range(len(x)):\n",
    "    if x[j][0] == \"insert\":\n",
    "        m = int(x[j][1])\n",
    "        n = int(x[j][2])\n",
    "        y.insert(m,n)\n",
    "\n",
    "    elif x[j][0] == \"print\":\n",
    "        print(y)\n",
    "\n",
    "    elif x[j][0] == \"remove\":\n",
    "        conv.remove()\n",
    "            \n",
    "\n",
    "        \n",
    "\n",
    "\n"
   ]
  },
  {
   "cell_type": "code",
   "execution_count": 34,
   "id": "81795b09",
   "metadata": {},
   "outputs": [
    {
     "data": {
      "text/plain": [
       "[['print'], ['print']]"
      ]
     },
     "execution_count": 34,
     "metadata": {},
     "output_type": "execute_result"
    }
   ],
   "source": [
    "x"
   ]
  },
  {
   "cell_type": "code",
   "execution_count": 35,
   "id": "349e4133",
   "metadata": {},
   "outputs": [
    {
     "data": {
      "text/plain": [
       "[]"
      ]
     },
     "execution_count": 35,
     "metadata": {},
     "output_type": "execute_result"
    }
   ],
   "source": [
    "y"
   ]
  },
  {
   "cell_type": "code",
   "execution_count": 39,
   "id": "fb1e0f42",
   "metadata": {},
   "outputs": [],
   "source": [
    "v = [1,2,3,4,5]\n",
    "v.remove(1)"
   ]
  },
  {
   "cell_type": "code",
   "execution_count": 37,
   "id": "41e20e49",
   "metadata": {},
   "outputs": [
    {
     "data": {
      "text/plain": [
       "[2, 3, 4, 5]"
      ]
     },
     "execution_count": 37,
     "metadata": {},
     "output_type": "execute_result"
    }
   ],
   "source": [
    "v"
   ]
  },
  {
   "cell_type": "code",
   "execution_count": 34,
   "id": "85cd2e73",
   "metadata": {},
   "outputs": [
    {
     "name": "stdout",
     "output_type": "stream",
     "text": [
      "-3550055125485641917\n"
     ]
    }
   ],
   "source": [
    "n = int(input(\"enter the number of values:\"))\n",
    "integer_list = tuple(map(int,input().split()))\n",
    "print(hash(integer_list))"
   ]
  },
  {
   "cell_type": "code",
   "execution_count": 1,
   "id": "dad656d2",
   "metadata": {},
   "outputs": [
    {
     "name": "stdout",
     "output_type": "stream",
     "text": [
      "0\n",
      "1\n",
      "2\n",
      "3\n",
      "4\n",
      "5\n",
      "6\n",
      "7\n",
      "8\n",
      "9\n"
     ]
    }
   ],
   "source": [
    "for i in range(10):\n",
    "    print(i)"
   ]
  },
  {
   "cell_type": "code",
   "execution_count": 2,
   "id": "5438e1fc",
   "metadata": {},
   "outputs": [],
   "source": [
    "l = []\n",
    "for i in range(3):\n",
    "    for j in range(3):\n",
    "        l.append([i,j])"
   ]
  },
  {
   "cell_type": "code",
   "execution_count": 3,
   "id": "32756eb3",
   "metadata": {},
   "outputs": [
    {
     "data": {
      "text/plain": [
       "[[0, 0], [0, 1], [0, 2], [1, 0], [1, 1], [1, 2], [2, 0], [2, 1], [2, 2]]"
      ]
     },
     "execution_count": 3,
     "metadata": {},
     "output_type": "execute_result"
    }
   ],
   "source": [
    "l"
   ]
  },
  {
   "cell_type": "code",
   "execution_count": null,
   "id": "1b86daa6",
   "metadata": {},
   "outputs": [],
   "source": [
    "def swap(s):\n",
    "    for i in range(s):\n",
    "        if s[i] == s[i].upper():\n",
    "            return s[i].lower()\n",
    "\n",
    "        \n",
    "\n",
    "\n",
    "    \n",
    "    \n",
    "    \n",
    "    "
   ]
  },
  {
   "cell_type": "code",
   "execution_count": 6,
   "id": "55d4821e",
   "metadata": {},
   "outputs": [
    {
     "name": "stdout",
     "output_type": "stream",
     "text": [
      "False\n",
      "False\n",
      "False\n",
      "False\n",
      "False\n",
      "False\n"
     ]
    }
   ],
   "source": [
    "s = \"neeraj\"\n",
    "for  i in s:\n",
    "    if i == i.upper():\n",
    "        print(\"true\")\n",
    "    else:\n",
    "        print(\"False\")\n",
    "\n",
    "    \n"
   ]
  },
  {
   "cell_type": "code",
   "execution_count": 8,
   "id": "6683f870",
   "metadata": {},
   "outputs": [
    {
     "data": {
      "text/plain": [
       "'Hello'"
      ]
     },
     "execution_count": 8,
     "metadata": {},
     "output_type": "execute_result"
    }
   ],
   "source": [
    "s = \"hello\"\n",
    "s.capitalize()"
   ]
  },
  {
   "cell_type": "code",
   "execution_count": 11,
   "id": "8e0b559d",
   "metadata": {},
   "outputs": [
    {
     "ename": "TypeError",
     "evalue": "string indices must be integers",
     "output_type": "error",
     "traceback": [
      "\u001b[1;31m---------------------------------------------------------------------------\u001b[0m",
      "\u001b[1;31mTypeError\u001b[0m                                 Traceback (most recent call last)",
      "\u001b[1;32m<ipython-input-11-700509047720>\u001b[0m in \u001b[0;36m<module>\u001b[1;34m\u001b[0m\n\u001b[0;32m      1\u001b[0m \u001b[0mk\u001b[0m \u001b[1;33m=\u001b[0m \u001b[1;34m\"hello\"\u001b[0m\u001b[1;33m\u001b[0m\u001b[1;33m\u001b[0m\u001b[0m\n\u001b[0;32m      2\u001b[0m \u001b[0mk\u001b[0m\u001b[1;33m[\u001b[0m\u001b[1;36m0\u001b[0m\u001b[1;33m]\u001b[0m\u001b[1;33m.\u001b[0m\u001b[0mupper\u001b[0m\u001b[1;33m(\u001b[0m\u001b[1;33m)\u001b[0m\u001b[1;33m\u001b[0m\u001b[1;33m\u001b[0m\u001b[0m\n\u001b[1;32m----> 3\u001b[1;33m \u001b[0mk\u001b[0m\u001b[1;33m[\u001b[0m\u001b[1;34m\"h\"\u001b[0m\u001b[1;33m]\u001b[0m\u001b[1;33m\u001b[0m\u001b[1;33m\u001b[0m\u001b[0m\n\u001b[0m",
      "\u001b[1;31mTypeError\u001b[0m: string indices must be integers"
     ]
    }
   ],
   "source": [
    "k = \"hello\"\n",
    "k[0].upper()\n",
    "k[\"h\"]"
   ]
  },
  {
   "cell_type": "code",
   "execution_count": 13,
   "id": "5bef9296",
   "metadata": {},
   "outputs": [
    {
     "data": {
      "text/plain": [
       "'hellofe'"
      ]
     },
     "execution_count": 13,
     "metadata": {},
     "output_type": "execute_result"
    }
   ],
   "source": [
    "s = \"hello\"\n",
    "t = \"fe\"\n",
    "k = s + t\n",
    "k"
   ]
  },
  {
   "cell_type": "code",
   "execution_count": 14,
   "id": "76e3eb8f",
   "metadata": {},
   "outputs": [
    {
     "name": "stdout",
     "output_type": "stream",
     "text": [
      " \n",
      "H\n",
      "E\n",
      "L\n",
      "L\n",
      "O\n"
     ]
    }
   ],
   "source": [
    "f = \"hello\"\n",
    "for i in s:\n",
    "    print(i.capitalize())\n",
    "    \n",
    "    "
   ]
  },
  {
   "cell_type": "markdown",
   "id": "8ff1ae7c",
   "metadata": {},
   "source": [
    "# swap case programme"
   ]
  },
  {
   "cell_type": "code",
   "execution_count": 54,
   "id": "4a70fd71",
   "metadata": {},
   "outputs": [],
   "source": [
    "def swap(s):\n",
    "    output = []\n",
    "    for i in range(len(s)):\n",
    "        if s[i] == s[i].upper():\n",
    "            output.append(s[i].lower())\n",
    "        elif s[i] == s[i].lower():\n",
    "            output.append(s[i].upper())\n",
    "    print(\"\".join(output))        \n",
    "            \n",
    "           "
   ]
  },
  {
   "cell_type": "code",
   "execution_count": 55,
   "id": "809a3647",
   "metadata": {},
   "outputs": [
    {
     "name": "stdout",
     "output_type": "stream",
     "text": [
      "hELLO\n"
     ]
    }
   ],
   "source": [
    "swap(\"Hello\")"
   ]
  },
  {
   "cell_type": "code",
   "execution_count": 57,
   "id": "dd439a13",
   "metadata": {},
   "outputs": [],
   "source": [
    "def swap(s):\n",
    "    output = []\n",
    "    for i in range(len(s)):\n",
    "        if s[i] == s[i].upper():\n",
    "            output.append(s[i].lower())\n",
    "        elif s[i] == s[i].lower():\n",
    "            output.append(s[i].upper())\n",
    "    print(\"\".join(output))"
   ]
  },
  {
   "cell_type": "code",
   "execution_count": 58,
   "id": "496171d3",
   "metadata": {},
   "outputs": [
    {
     "name": "stdout",
     "output_type": "stream",
     "text": [
      "hACKERrANK.COM PRESENTS \"pYTHONIST 2\"\n"
     ]
    }
   ],
   "source": [
    "swap('HackerRank.com presents \"Pythonist 2\"')"
   ]
  },
  {
   "cell_type": "markdown",
   "id": "2d0ae193",
   "metadata": {},
   "source": [
    "# split and join the string"
   ]
  },
  {
   "cell_type": "code",
   "execution_count": null,
   "id": "442c1342",
   "metadata": {},
   "outputs": [],
   "source": [
    "def split_join(s):\n",
    "    "
   ]
  },
  {
   "cell_type": "code",
   "execution_count": 12,
   "id": "4da55230",
   "metadata": {},
   "outputs": [
    {
     "data": {
      "text/plain": [
       "'h-e-l-l-o- -h-o-w- -a-r-e- -y-o-u'"
      ]
     },
     "execution_count": 12,
     "metadata": {},
     "output_type": "execute_result"
    }
   ],
   "source": [
    "h = \"hello how are you\"\n",
    "h.split(\"#\")\n",
    "\"-\".join(h)"
   ]
  },
  {
   "cell_type": "code",
   "execution_count": 21,
   "id": "66bd2950",
   "metadata": {},
   "outputs": [
    {
     "data": {
      "text/plain": [
       "['hello', 'there']"
      ]
     },
     "execution_count": 21,
     "metadata": {},
     "output_type": "execute_result"
    }
   ],
   "source": [
    "l = \"hello there\"\n",
    "k = l.split(\" \")\n",
    "k\n",
    "\n",
    "#for i in l.split(\" \"):\n",
    "    #print(\"-\".join(i))\n"
   ]
  },
  {
   "cell_type": "code",
   "execution_count": 25,
   "id": "85dc7c15",
   "metadata": {},
   "outputs": [
    {
     "name": "stdout",
     "output_type": "stream",
     "text": [
      "h-e-l-l-o\n",
      "t-h-e-r-e\n"
     ]
    }
   ],
   "source": [
    "for i in k:\n",
    "    print(\"-\".join(i))\n",
    "    "
   ]
  },
  {
   "cell_type": "code",
   "execution_count": 27,
   "id": "ce97953c",
   "metadata": {},
   "outputs": [
    {
     "data": {
      "text/plain": [
       "'h-e-l-l-o- -h-o-w- -a-r-e- -y-o-u'"
      ]
     },
     "execution_count": 27,
     "metadata": {},
     "output_type": "execute_result"
    }
   ],
   "source": [
    "s = \"hello how are you\"\n",
    "l = \"-\".join(s)\n",
    "l"
   ]
  },
  {
   "cell_type": "code",
   "execution_count": 32,
   "id": "d56fbf5c",
   "metadata": {},
   "outputs": [],
   "source": [
    "m = []\n",
    "for i in l:\n",
    "    m.append(i.split(\" \"))\n",
    " \n",
    "    \n"
   ]
  },
  {
   "cell_type": "code",
   "execution_count": 36,
   "id": "d27440eb",
   "metadata": {},
   "outputs": [],
   "source": [
    "b = []\n",
    "for i in m:\n",
    "    b.append(\"\".join(i))"
   ]
  },
  {
   "cell_type": "code",
   "execution_count": 39,
   "id": "1affc303",
   "metadata": {},
   "outputs": [
    {
     "data": {
      "text/plain": [
       "'h - e - l - l - o -  - h - o - w -  - a - r - e -  - y - o - u'"
      ]
     },
     "execution_count": 39,
     "metadata": {},
     "output_type": "execute_result"
    }
   ],
   "source": [
    " \" \".join(b)"
   ]
  },
  {
   "cell_type": "code",
   "execution_count": 5,
   "id": "11cd5183",
   "metadata": {},
   "outputs": [
    {
     "data": {
      "text/plain": [
       "3.17514659"
      ]
     },
     "execution_count": 5,
     "metadata": {},
     "output_type": "execute_result"
    }
   ],
   "source": [
    "class poundtokilogram():\n",
    "\n",
    "    def __init__(self,pounds) -> None:\n",
    "\n",
    "        self.pounds = pounds\n",
    "\n",
    "    def kilogram(self):\n",
    "\n",
    "        output = 0.45359237 * self.pounds \n",
    "\n",
    "        return output\n",
    "\n",
    "\n",
    "a = int(input(\"Enter the number of pounds that need to br converted to kilogram: \"))        \n",
    "pound = poundtokilogram(a)\n",
    "pound.kilogram()\n",
    "\n",
    "\n",
    "\n",
    "\n",
    "\n",
    "\n",
    "           \n",
    "        \n",
    "    \n",
    "        \n",
    "\n",
    "\n"
   ]
  },
  {
   "cell_type": "code",
   "execution_count": 1,
   "id": "70a499c9",
   "metadata": {},
   "outputs": [
    {
     "name": "stdout",
     "output_type": "stream",
     "text": [
      "0\n",
      "1\n",
      "2\n",
      "3\n",
      "4\n",
      "5\n",
      "6\n",
      "7\n",
      "8\n",
      "9\n"
     ]
    }
   ],
   "source": [
    "for i in range(10):\n",
    "    print(i)"
   ]
  },
  {
   "cell_type": "code",
   "execution_count": null,
   "id": "41097adb",
   "metadata": {},
   "outputs": [],
   "source": [
    "# palindrome problems"
   ]
  },
  {
   "cell_type": "code",
   "execution_count": 11,
   "id": "dff69381",
   "metadata": {},
   "outputs": [
    {
     "data": {
      "text/plain": [
       "'olleh'"
      ]
     },
     "execution_count": 11,
     "metadata": {},
     "output_type": "execute_result"
    }
   ],
   "source": [
    "s = \"hello\"\n",
    "char = \"\"\n",
    "for i in s:\n",
    "    char = i + char\n",
    "    \n",
    "char    \n",
    "    \n",
    "    \n",
    "   \n",
    "    \n",
    "    "
   ]
  },
  {
   "cell_type": "code",
   "execution_count": 14,
   "id": "ddd9b64d",
   "metadata": {},
   "outputs": [
    {
     "name": "stdout",
     "output_type": "stream",
     "text": [
      "Enter the palindrome to check:malayalam\n",
      "it is a palindrome\n"
     ]
    }
   ],
   "source": [
    "def checkpalindrome(s):\n",
    "    char  = \"\"\n",
    "    \n",
    "    for i in s:\n",
    "        char = i + char\n",
    "        \n",
    "        \n",
    "    if char == s:\n",
    "        print(\"it is a palindrome\")\n",
    "    else:\n",
    "        print(\"it is not a palindrome\")\n",
    "        \n",
    "        \n",
    "k  = input(\"Enter the palindrome to check:\")    \n",
    "checkpalindrome(k)\n",
    "        \n",
    "        \n",
    "        \n",
    "    \n",
    "    "
   ]
  },
  {
   "cell_type": "code",
   "execution_count": null,
   "id": "ba3cc475",
   "metadata": {},
   "outputs": [],
   "source": []
  },
  {
   "cell_type": "code",
   "execution_count": null,
   "id": "575de81e",
   "metadata": {},
   "outputs": [],
   "source": []
  },
  {
   "cell_type": "code",
   "execution_count": null,
   "id": "f0470f65",
   "metadata": {},
   "outputs": [],
   "source": []
  },
  {
   "cell_type": "code",
   "execution_count": null,
   "id": "dfadc336",
   "metadata": {},
   "outputs": [],
   "source": []
  },
  {
   "cell_type": "code",
   "execution_count": null,
   "id": "e6355d41",
   "metadata": {},
   "outputs": [],
   "source": []
  },
  {
   "cell_type": "code",
   "execution_count": null,
   "id": "77915f59",
   "metadata": {},
   "outputs": [],
   "source": []
  },
  {
   "cell_type": "code",
   "execution_count": null,
   "id": "ef32e6f7",
   "metadata": {},
   "outputs": [],
   "source": []
  },
  {
   "cell_type": "code",
   "execution_count": null,
   "id": "21b80f28",
   "metadata": {},
   "outputs": [],
   "source": []
  },
  {
   "cell_type": "code",
   "execution_count": null,
   "id": "67c829c4",
   "metadata": {},
   "outputs": [],
   "source": []
  },
  {
   "cell_type": "code",
   "execution_count": null,
   "id": "79f9ca37",
   "metadata": {},
   "outputs": [],
   "source": []
  },
  {
   "cell_type": "code",
   "execution_count": null,
   "id": "ad5b1345",
   "metadata": {},
   "outputs": [],
   "source": []
  },
  {
   "cell_type": "code",
   "execution_count": null,
   "id": "497e604d",
   "metadata": {},
   "outputs": [],
   "source": []
  },
  {
   "cell_type": "code",
   "execution_count": null,
   "id": "e1054f30",
   "metadata": {},
   "outputs": [],
   "source": []
  },
  {
   "cell_type": "code",
   "execution_count": null,
   "id": "a2795804",
   "metadata": {},
   "outputs": [],
   "source": []
  },
  {
   "cell_type": "code",
   "execution_count": null,
   "id": "df8cfb2d",
   "metadata": {},
   "outputs": [],
   "source": []
  },
  {
   "cell_type": "code",
   "execution_count": null,
   "id": "753e8503",
   "metadata": {},
   "outputs": [],
   "source": []
  },
  {
   "cell_type": "code",
   "execution_count": null,
   "id": "bbd40168",
   "metadata": {},
   "outputs": [],
   "source": []
  },
  {
   "cell_type": "code",
   "execution_count": null,
   "id": "b903e1bb",
   "metadata": {},
   "outputs": [],
   "source": []
  },
  {
   "cell_type": "code",
   "execution_count": null,
   "id": "952adc66",
   "metadata": {},
   "outputs": [],
   "source": []
  },
  {
   "cell_type": "code",
   "execution_count": null,
   "id": "21adee29",
   "metadata": {},
   "outputs": [],
   "source": []
  },
  {
   "cell_type": "code",
   "execution_count": null,
   "id": "b3567935",
   "metadata": {},
   "outputs": [],
   "source": []
  },
  {
   "cell_type": "code",
   "execution_count": null,
   "id": "d6deaa2b",
   "metadata": {},
   "outputs": [],
   "source": []
  },
  {
   "cell_type": "code",
   "execution_count": null,
   "id": "fed8eea0",
   "metadata": {},
   "outputs": [],
   "source": []
  },
  {
   "cell_type": "code",
   "execution_count": null,
   "id": "446a4828",
   "metadata": {},
   "outputs": [],
   "source": []
  },
  {
   "cell_type": "code",
   "execution_count": null,
   "id": "14743dba",
   "metadata": {},
   "outputs": [],
   "source": []
  },
  {
   "cell_type": "code",
   "execution_count": null,
   "id": "3a7bf59c",
   "metadata": {},
   "outputs": [],
   "source": []
  },
  {
   "cell_type": "code",
   "execution_count": null,
   "id": "ed3fae71",
   "metadata": {},
   "outputs": [],
   "source": []
  },
  {
   "cell_type": "code",
   "execution_count": null,
   "id": "bb4a46ad",
   "metadata": {},
   "outputs": [],
   "source": []
  },
  {
   "cell_type": "code",
   "execution_count": null,
   "id": "9c0032c4",
   "metadata": {},
   "outputs": [],
   "source": []
  },
  {
   "cell_type": "code",
   "execution_count": null,
   "id": "57dd03f8",
   "metadata": {},
   "outputs": [],
   "source": []
  },
  {
   "cell_type": "code",
   "execution_count": null,
   "id": "1963eb5a",
   "metadata": {},
   "outputs": [],
   "source": []
  },
  {
   "cell_type": "code",
   "execution_count": null,
   "id": "55536b97",
   "metadata": {},
   "outputs": [],
   "source": []
  },
  {
   "cell_type": "code",
   "execution_count": null,
   "id": "e4a002c6",
   "metadata": {},
   "outputs": [],
   "source": []
  },
  {
   "cell_type": "code",
   "execution_count": null,
   "id": "cfa5bb82",
   "metadata": {},
   "outputs": [],
   "source": []
  },
  {
   "cell_type": "code",
   "execution_count": null,
   "id": "057946f2",
   "metadata": {},
   "outputs": [],
   "source": []
  },
  {
   "cell_type": "code",
   "execution_count": null,
   "id": "45750817",
   "metadata": {},
   "outputs": [],
   "source": []
  },
  {
   "cell_type": "code",
   "execution_count": null,
   "id": "b68ac6fa",
   "metadata": {},
   "outputs": [],
   "source": []
  },
  {
   "cell_type": "code",
   "execution_count": null,
   "id": "42553c3f",
   "metadata": {},
   "outputs": [],
   "source": []
  },
  {
   "cell_type": "code",
   "execution_count": null,
   "id": "1e4dfa27",
   "metadata": {},
   "outputs": [],
   "source": []
  },
  {
   "cell_type": "code",
   "execution_count": null,
   "id": "c96e408f",
   "metadata": {},
   "outputs": [],
   "source": []
  },
  {
   "cell_type": "code",
   "execution_count": null,
   "id": "b2ff5b29",
   "metadata": {},
   "outputs": [],
   "source": []
  },
  {
   "cell_type": "code",
   "execution_count": null,
   "id": "67d814d8",
   "metadata": {},
   "outputs": [],
   "source": []
  },
  {
   "cell_type": "code",
   "execution_count": null,
   "id": "683c6036",
   "metadata": {},
   "outputs": [],
   "source": []
  },
  {
   "cell_type": "code",
   "execution_count": null,
   "id": "c9f80d8a",
   "metadata": {},
   "outputs": [],
   "source": []
  },
  {
   "cell_type": "code",
   "execution_count": null,
   "id": "3e324ada",
   "metadata": {},
   "outputs": [],
   "source": []
  },
  {
   "cell_type": "code",
   "execution_count": null,
   "id": "758ff6f9",
   "metadata": {},
   "outputs": [],
   "source": []
  },
  {
   "cell_type": "code",
   "execution_count": null,
   "id": "927958bb",
   "metadata": {},
   "outputs": [],
   "source": []
  },
  {
   "cell_type": "code",
   "execution_count": null,
   "id": "153eadc1",
   "metadata": {},
   "outputs": [],
   "source": []
  },
  {
   "cell_type": "code",
   "execution_count": null,
   "id": "cd2e479e",
   "metadata": {},
   "outputs": [],
   "source": []
  },
  {
   "cell_type": "code",
   "execution_count": null,
   "id": "18889175",
   "metadata": {},
   "outputs": [],
   "source": []
  },
  {
   "cell_type": "code",
   "execution_count": null,
   "id": "8b2c4953",
   "metadata": {},
   "outputs": [],
   "source": []
  },
  {
   "cell_type": "code",
   "execution_count": null,
   "id": "9a19a93a",
   "metadata": {},
   "outputs": [],
   "source": []
  },
  {
   "cell_type": "code",
   "execution_count": null,
   "id": "80d9d41e",
   "metadata": {},
   "outputs": [],
   "source": []
  },
  {
   "cell_type": "code",
   "execution_count": null,
   "id": "6a05a8e9",
   "metadata": {},
   "outputs": [],
   "source": []
  }
 ],
 "metadata": {
  "interpreter": {
   "hash": "42588fd11209419b7c81abe23e31a1d2101f60811b02170c268e57ebb57d5d9a"
  },
  "kernelspec": {
   "display_name": "Python 3.8.8 64-bit ('base': conda)",
   "name": "python3"
  },
  "language_info": {
   "codemirror_mode": {
    "name": "ipython",
    "version": 3
   },
   "file_extension": ".py",
   "mimetype": "text/x-python",
   "name": "python",
   "nbconvert_exporter": "python",
   "pygments_lexer": "ipython3",
   "version": "3.8.8"
  }
 },
 "nbformat": 4,
 "nbformat_minor": 5
}
