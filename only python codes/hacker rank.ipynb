{
 "cells": [
  {
   "cell_type": "code",
   "execution_count": 3,
   "source": [
    "from string import ascii_uppercase\r\n",
    "    \r\n",
    "    \r\n",
    "lister= []\r\n",
    "lister.append(ascii_uppercase)\r\n",
    "\r\n",
    "print(lister)\r\n",
    "    \r\n",
    "    \r\n",
    "    \r\n",
    "    "
   ],
   "outputs": [
    {
     "output_type": "stream",
     "name": "stdout",
     "text": [
      "['ABCDEFGHIJKLMNOPQRSTUVWXYZ']\n"
     ]
    }
   ],
   "metadata": {}
  },
  {
   "cell_type": "code",
   "execution_count": 39,
   "source": [
    "from collections import Counter\r\n",
    "\r\n",
    "\r\n",
    "lister = []\r\n",
    "collecter = []\r\n",
    "\r\n",
    "given = \"BANANA\"\r\n",
    "\r\n",
    "for i in given:\r\n",
    "    collecter.append(i)\r\n",
    "    \r\n",
    "    \r\n",
    "if  j in collecter is [\"A\",\"E\",\"I\",\"O\",\"U\"]:\r\n",
    "    p = collecter.index()\r\n",
    "    lister.append(collecter[p:])\r\n",
    "        \r\n",
    "        \r\n",
    "        \r\n",
    "        \r\n",
    "        \r\n",
    "        \r\n",
    "print(lister)  \r\n",
    "print(collecter)\r\n",
    "\r\n",
    "        \r\n",
    "        \r\n",
    "        \r\n",
    "        \r\n",
    "        \r\n",
    "        \r\n",
    "\r\n",
    "        \r\n",
    "    "
   ],
   "outputs": [
    {
     "output_type": "stream",
     "name": "stdout",
     "text": [
      "[]\n",
      "['B', 'A', 'N', 'A', 'N', 'A']\n"
     ]
    }
   ],
   "metadata": {}
  },
  {
   "cell_type": "code",
   "execution_count": 9,
   "source": [
    "dictr = {\"p\":1}\r\n",
    "\r\n",
    "dictr[\"p\"] = dictr[\"p\"] + 1\r\n",
    "\r\n",
    "dictr"
   ],
   "outputs": [
    {
     "output_type": "execute_result",
     "data": {
      "text/plain": [
       "{'p': 2}"
      ]
     },
     "metadata": {},
     "execution_count": 9
    }
   ],
   "metadata": {}
  },
  {
   "cell_type": "code",
   "execution_count": 24,
   "source": [
    "S = [] \r\n",
    "k = \"BANANA\"\r\n",
    "\r\n",
    "for i in k:\r\n",
    "    if i in [\"A\",\"E\",\"I\",\"O\",\"U\"]:\r\n",
    "        p = index\r\n",
    "      \r\n"
   ],
   "outputs": [
    {
     "output_type": "error",
     "ename": "NameError",
     "evalue": "name 's' is not defined",
     "traceback": [
      "\u001b[1;31m---------------------------------------------------------------------------\u001b[0m",
      "\u001b[1;31mNameError\u001b[0m                                 Traceback (most recent call last)",
      "\u001b[1;32m<ipython-input-24-b0e0ba9de7bf>\u001b[0m in \u001b[0;36m<module>\u001b[1;34m\u001b[0m\n\u001b[0;32m      4\u001b[0m \u001b[1;32mfor\u001b[0m \u001b[0mi\u001b[0m \u001b[1;32min\u001b[0m \u001b[0mk\u001b[0m\u001b[1;33m:\u001b[0m\u001b[1;33m\u001b[0m\u001b[1;33m\u001b[0m\u001b[0m\n\u001b[0;32m      5\u001b[0m     \u001b[1;32mif\u001b[0m \u001b[0mi\u001b[0m \u001b[1;32min\u001b[0m \u001b[1;33m[\u001b[0m\u001b[1;34m\"A\"\u001b[0m\u001b[1;33m,\u001b[0m\u001b[1;34m\"E\"\u001b[0m\u001b[1;33m,\u001b[0m\u001b[1;34m\"I\"\u001b[0m\u001b[1;33m,\u001b[0m\u001b[1;34m\"O\"\u001b[0m\u001b[1;33m,\u001b[0m\u001b[1;34m\"U\"\u001b[0m\u001b[1;33m]\u001b[0m\u001b[1;33m:\u001b[0m\u001b[1;33m\u001b[0m\u001b[1;33m\u001b[0m\u001b[0m\n\u001b[1;32m----> 6\u001b[1;33m         \u001b[0ms\u001b[0m\u001b[1;33m.\u001b[0m\u001b[0mappend\u001b[0m\u001b[1;33m(\u001b[0m\u001b[1;33m)\u001b[0m\u001b[1;33m\u001b[0m\u001b[1;33m\u001b[0m\u001b[0m\n\u001b[0m\u001b[0;32m      7\u001b[0m \u001b[0mk\u001b[0m\u001b[1;33m.\u001b[0m\u001b[0mindex\u001b[0m\u001b[1;33m(\u001b[0m\u001b[1;34m\"B\"\u001b[0m\u001b[1;33m)\u001b[0m\u001b[1;33m\u001b[0m\u001b[1;33m\u001b[0m\u001b[0m\n",
      "\u001b[1;31mNameError\u001b[0m: name 's' is not defined"
     ]
    }
   ],
   "metadata": {}
  },
  {
   "cell_type": "code",
   "execution_count": 27,
   "source": [
    "k = \"BANANA\"\r\n",
    "k[0:3]"
   ],
   "outputs": [
    {
     "output_type": "execute_result",
     "data": {
      "text/plain": [
       "'BAN'"
      ]
     },
     "metadata": {},
     "execution_count": 27
    }
   ],
   "metadata": {}
  },
  {
   "cell_type": "code",
   "execution_count": 25,
   "source": [
    "k.index(\"B\")"
   ],
   "outputs": [
    {
     "output_type": "execute_result",
     "data": {
      "text/plain": [
       "0"
      ]
     },
     "metadata": {},
     "execution_count": 25
    }
   ],
   "metadata": {}
  },
  {
   "cell_type": "code",
   "execution_count": 29,
   "source": [
    "k = \"BANANA\"\r\n",
    "p = k.index(\"B\")\r\n",
    "print(p)"
   ],
   "outputs": [
    {
     "output_type": "stream",
     "name": "stdout",
     "text": [
      "0\n"
     ]
    }
   ],
   "metadata": {}
  },
  {
   "cell_type": "code",
   "execution_count": 45,
   "source": [
    "message = \"    hello world       \"\r\n",
    "print(\"message:\",message.strip())"
   ],
   "outputs": [
    {
     "output_type": "stream",
     "name": "stdout",
     "text": [
      "message: hello world\n"
     ]
    }
   ],
   "metadata": {}
  },
  {
   "cell_type": "code",
   "execution_count": 52,
   "source": [
    "n = 9\r\n",
    "\r\n",
    "if n%3 == 0:\r\n",
    "    print(True)\r\n",
    "else:\r\n",
    "    print(False)"
   ],
   "outputs": [
    {
     "output_type": "stream",
     "name": "stdout",
     "text": [
      "True\n"
     ]
    }
   ],
   "metadata": {}
  },
  {
   "cell_type": "code",
   "execution_count": 55,
   "source": [
    "n = 6\r\n",
    "if n in range(2,6):\r\n",
    "    print(\"true\")\r\n",
    "else:\r\n",
    "    print(False)"
   ],
   "outputs": [
    {
     "output_type": "stream",
     "name": "stdout",
     "text": [
      "False\n"
     ]
    }
   ],
   "metadata": {}
  },
  {
   "cell_type": "code",
   "execution_count": 10,
   "source": [
    "from collections import Counter\r\n",
    "\r\n",
    "l = [1,2,2,2,3,4,5,5]\r\n",
    "p = Counter(l)\r\n",
    "p\r\n",
    "\r\n"
   ],
   "outputs": [
    {
     "output_type": "execute_result",
     "data": {
      "text/plain": [
       "Counter({1: 1, 2: 3, 3: 1, 4: 1, 5: 2})"
      ]
     },
     "metadata": {},
     "execution_count": 10
    }
   ],
   "metadata": {}
  },
  {
   "cell_type": "code",
   "execution_count": 7,
   "source": [
    "print(p.keys())"
   ],
   "outputs": [
    {
     "output_type": "stream",
     "name": "stdout",
     "text": [
      "dict_keys([1, 2, 3, 4, 5])\n"
     ]
    }
   ],
   "metadata": {}
  },
  {
   "cell_type": "code",
   "execution_count": 8,
   "source": [
    "print(p.values())"
   ],
   "outputs": [
    {
     "output_type": "stream",
     "name": "stdout",
     "text": [
      "dict_values([1, 3, 1, 1, 2])\n"
     ]
    }
   ],
   "metadata": {}
  },
  {
   "cell_type": "code",
   "execution_count": 11,
   "source": [
    "print(p.items()) # it returns a tuple"
   ],
   "outputs": [
    {
     "output_type": "stream",
     "name": "stdout",
     "text": [
      "dict_items([(1, 1), (2, 3), (3, 1), (4, 1), (5, 2)])\n"
     ]
    }
   ],
   "metadata": {}
  },
  {
   "cell_type": "code",
   "execution_count": 17,
   "source": [
    "dicter = {6:4,5:6}\r\n",
    "s = dicter.keys()\r\n",
    "s"
   ],
   "outputs": [
    {
     "output_type": "execute_result",
     "data": {
      "text/plain": [
       "dict_keys([6, 5])"
      ]
     },
     "metadata": {},
     "execution_count": 17
    }
   ],
   "metadata": {}
  },
  {
   "cell_type": "code",
   "execution_count": 20,
   "source": [
    "sum = 0\r\n",
    "for i in s:\r\n",
    "    \r\n",
    "    sum = sum + i\r\n",
    "print(sum)    \r\n",
    "    \r\n",
    "    "
   ],
   "outputs": [
    {
     "output_type": "stream",
     "name": "stdout",
     "text": [
      "11\n"
     ]
    }
   ],
   "metadata": {}
  },
  {
   "cell_type": "code",
   "execution_count": 29,
   "source": [
    "shoes = 10\r\n",
    "size = [2,3,4,5,6,8,7,6,5,18]\r\n",
    "customers = 6\r\n",
    "prizes = {6:55,6:45,6:55,4:40,18:60,10:45}\r\n",
    "p = prizes.values()\r\n",
    "sum = 0\r\n",
    "for i in p:\r\n",
    "    sum = sum + i\r\n",
    "print(sum)    "
   ],
   "outputs": [
    {
     "output_type": "stream",
     "name": "stdout",
     "text": [
      "200\n"
     ]
    }
   ],
   "metadata": {}
  },
  {
   "cell_type": "code",
   "execution_count": 27,
   "source": [
    "prizes = {6:55,6:45,6:55,4:40,18:60,10:50}\r\n",
    "r = prizes.values()\r\n",
    "print(r)\r\n",
    "    "
   ],
   "outputs": [
    {
     "output_type": "stream",
     "name": "stdout",
     "text": [
      "dict_values([55, 40, 60, 50])\n"
     ]
    }
   ],
   "metadata": {}
  },
  {
   "cell_type": "code",
   "execution_count": 35,
   "source": [
    "int(input())\r\n",
    "sizes = list(map(int,input().split()))"
   ],
   "outputs": [
    {
     "output_type": "stream",
     "name": "stdout",
     "text": [
      "4\n",
      "4\n"
     ]
    }
   ],
   "metadata": {}
  },
  {
   "cell_type": "code",
   "execution_count": 41,
   "source": [
    "from collections import Counter\r\n",
    "\r\n",
    "int(input())\r\n",
    "sizes = list(map(int,input().split()))\r\n",
    "money = 0\r\n",
    "stock = Counter(sizes)\r\n",
    "print(stock)\r\n"
   ],
   "outputs": [
    {
     "output_type": "stream",
     "name": "stdout",
     "text": [
      "5\n",
      "10\n",
      "Counter({10: 1})\n"
     ]
    }
   ],
   "metadata": {}
  },
  {
   "cell_type": "code",
   "execution_count": 49,
   "source": [
    "l = \"hell0 how are you there\"\r\n",
    "p = l.split()\r\n",
    "Counter(p)"
   ],
   "outputs": [
    {
     "output_type": "execute_result",
     "data": {
      "text/plain": [
       "Counter({'hell0': 1, 'how': 1, 'are': 1, 'you': 1, 'there': 1})"
      ]
     },
     "metadata": {},
     "execution_count": 49
    }
   ],
   "metadata": {}
  },
  {
   "cell_type": "code",
   "execution_count": 104,
   "source": [
    "from collections import Counter\r\n",
    "numShoes = int(input())\r\n",
    "shoes = Counter(map(int, input().split()))\r\n",
    "numCust = int(input())\r\n",
    "\r\n",
    "print(shoes)\r\n",
    "\r\n",
    "\r\n"
   ],
   "outputs": [
    {
     "output_type": "stream",
     "name": "stdout",
     "text": [
      "10\n",
      "2 3 4 5 6 8 7 6 5 18\n",
      "6\n",
      "Counter({5: 2, 6: 2, 2: 1, 3: 1, 4: 1, 8: 1, 7: 1, 18: 1})\n"
     ]
    }
   ],
   "metadata": {}
  },
  {
   "cell_type": "code",
   "execution_count": 81,
   "source": [
    "p = \"hello how are you\"\r\n",
    "h = p.split()\r\n",
    "h"
   ],
   "outputs": [
    {
     "output_type": "execute_result",
     "data": {
      "text/plain": [
       "['hello', 'how', 'are', 'you']"
      ]
     },
     "metadata": {},
     "execution_count": 81
    }
   ],
   "metadata": {}
  },
  {
   "cell_type": "code",
   "execution_count": 84,
   "source": [
    "d = \" hello \"\r\n",
    "Counter(d)"
   ],
   "outputs": [
    {
     "output_type": "execute_result",
     "data": {
      "text/plain": [
       "Counter({' ': 2, 'h': 1, 'e': 1, 'l': 2, 'o': 1})"
      ]
     },
     "metadata": {},
     "execution_count": 84
    }
   ],
   "metadata": {}
  },
  {
   "cell_type": "code",
   "execution_count": 103,
   "source": [
    "s,r  = map(int,input().split())\r\n",
    "print(s)\r\n",
    "print(r)\r\n",
    "\r\n"
   ],
   "outputs": [
    {
     "output_type": "stream",
     "name": "stdout",
     "text": [
      "2 3\n",
      "2\n",
      "3\n"
     ]
    }
   ],
   "metadata": {}
  },
  {
   "cell_type": "code",
   "execution_count": 95,
   "source": [
    "for i in s:\r\n",
    "    print(i)"
   ],
   "outputs": [
    {
     "output_type": "stream",
     "name": "stdout",
     "text": [
      "1\n",
      "2\n",
      "3\n",
      "4\n",
      "5\n"
     ]
    }
   ],
   "metadata": {}
  },
  {
   "cell_type": "markdown",
   "source": [
    "# The shoes shopper code"
   ],
   "metadata": {}
  },
  {
   "cell_type": "code",
   "execution_count": null,
   "source": [],
   "outputs": [],
   "metadata": {}
  },
  {
   "cell_type": "code",
   "execution_count": 110,
   "source": [
    "s = \"hello\"\r\n",
    "t = s[:3] + \"t\" + s[3+1:]\r\n",
    "t"
   ],
   "outputs": [
    {
     "output_type": "execute_result",
     "data": {
      "text/plain": [
       "'helto'"
      ]
     },
     "metadata": {},
     "execution_count": 110
    }
   ],
   "metadata": {}
  },
  {
   "cell_type": "code",
   "execution_count": 113,
   "source": [
    "def mutate_string(string, position, character):\r\n",
    "    \r\n",
    "    s = string\r\n",
    "    t = s[:position] + character + s[position+1:]\r\n",
    "    print(t)"
   ],
   "outputs": [],
   "metadata": {}
  },
  {
   "cell_type": "code",
   "execution_count": 114,
   "source": [
    "mutate_string(\"hello\",3,\"t\")"
   ],
   "outputs": [
    {
     "output_type": "stream",
     "name": "stdout",
     "text": [
      "helto\n"
     ]
    }
   ],
   "metadata": {}
  },
  {
   "cell_type": "code",
   "execution_count": 118,
   "source": [
    "s = input(\"please enter the string:\")\r\n",
    "p = input(\"please enter the sub string:\")\r\n",
    "lister  = []\r\n",
    "\r\n",
    "for i in s:\r\n",
    "    if i in p:\r\n",
    "        lister.append(i)\r\n",
    "        \r\n",
    "print(lister)        \r\n",
    "        \r\n",
    "\r\n",
    "\r\n",
    "\r\n",
    "\r\n"
   ],
   "outputs": [
    {
     "output_type": "stream",
     "name": "stdout",
     "text": [
      "please enter the string:ABCDCDC\n",
      "please enter the sub string:CDC\n",
      "['C', 'D', 'C', 'D', 'C']\n"
     ]
    }
   ],
   "metadata": {}
  },
  {
   "cell_type": "code",
   "execution_count": 124,
   "source": [
    "p = Counter(map(str,input().split()))\r\n",
    "print(p)\r\n",
    "S = Counter(map(str,input().split()))\r\n",
    "\r\n",
    "for i in range(len(P)):\r\n",
    "    if p[i] == s:\r\n",
    "        p[i] += 1"
   ],
   "outputs": [
    {
     "output_type": "stream",
     "name": "stdout",
     "text": [
      "ABCDCDC\n",
      "Counter({'ABCDCDC': 1})\n",
      "CDC\n"
     ]
    },
    {
     "output_type": "error",
     "ename": "NameError",
     "evalue": "name 'P' is not defined",
     "traceback": [
      "\u001b[1;31m---------------------------------------------------------------------------\u001b[0m",
      "\u001b[1;31mNameError\u001b[0m                                 Traceback (most recent call last)",
      "\u001b[1;32m<ipython-input-124-10eec933458f>\u001b[0m in \u001b[0;36m<module>\u001b[1;34m\u001b[0m\n\u001b[0;32m      3\u001b[0m \u001b[0mS\u001b[0m \u001b[1;33m=\u001b[0m \u001b[0mCounter\u001b[0m\u001b[1;33m(\u001b[0m\u001b[0mmap\u001b[0m\u001b[1;33m(\u001b[0m\u001b[0mstr\u001b[0m\u001b[1;33m,\u001b[0m\u001b[0minput\u001b[0m\u001b[1;33m(\u001b[0m\u001b[1;33m)\u001b[0m\u001b[1;33m.\u001b[0m\u001b[0msplit\u001b[0m\u001b[1;33m(\u001b[0m\u001b[1;33m)\u001b[0m\u001b[1;33m)\u001b[0m\u001b[1;33m)\u001b[0m\u001b[1;33m\u001b[0m\u001b[1;33m\u001b[0m\u001b[0m\n\u001b[0;32m      4\u001b[0m \u001b[1;33m\u001b[0m\u001b[0m\n\u001b[1;32m----> 5\u001b[1;33m \u001b[1;32mfor\u001b[0m \u001b[0mi\u001b[0m \u001b[1;32min\u001b[0m \u001b[0mrange\u001b[0m\u001b[1;33m(\u001b[0m\u001b[0mlen\u001b[0m\u001b[1;33m(\u001b[0m\u001b[0mP\u001b[0m\u001b[1;33m)\u001b[0m\u001b[1;33m)\u001b[0m\u001b[1;33m:\u001b[0m\u001b[1;33m\u001b[0m\u001b[1;33m\u001b[0m\u001b[0m\n\u001b[0m\u001b[0;32m      6\u001b[0m     \u001b[1;32mif\u001b[0m \u001b[0mp\u001b[0m\u001b[1;33m[\u001b[0m\u001b[0mi\u001b[0m\u001b[1;33m]\u001b[0m \u001b[1;33m==\u001b[0m \u001b[0ms\u001b[0m\u001b[1;33m:\u001b[0m\u001b[1;33m\u001b[0m\u001b[1;33m\u001b[0m\u001b[0m\n\u001b[0;32m      7\u001b[0m         \u001b[0mp\u001b[0m\u001b[1;33m[\u001b[0m\u001b[0mi\u001b[0m\u001b[1;33m]\u001b[0m \u001b[1;33m+=\u001b[0m \u001b[1;36m1\u001b[0m\u001b[1;33m\u001b[0m\u001b[1;33m\u001b[0m\u001b[0m\n",
      "\u001b[1;31mNameError\u001b[0m: name 'P' is not defined"
     ]
    }
   ],
   "metadata": {}
  },
  {
   "cell_type": "code",
   "execution_count": 67,
   "source": [
    " \r\n",
    "x = \"ABCDCDC\"\r\n",
    "z = \"CDC\"\r\n",
    "listerss = []\r\n",
    "\r\n",
    "for i in range(len(x)):\r\n",
    "    if x[i:len(z)+i] == z[0:] :\r\n",
    "        listerss.append(z[0:])\r\n",
    "        \r\n",
    "        \r\n",
    "        \r\n",
    "    \r\n",
    "    \r\n",
    "print(listerss)    \r\n",
    "    \r\n",
    "    \r\n",
    "    \r\n",
    "    \r\n"
   ],
   "outputs": [
    {
     "output_type": "stream",
     "name": "stdout",
     "text": [
      "['CDC', 'CDC']\n"
     ]
    }
   ],
   "metadata": {}
  },
  {
   "cell_type": "code",
   "execution_count": 60,
   "source": [
    "p = \"ABCDCDC\"\r\n",
    "print(len(p))\r\n",
    "\r\n",
    "s = \"CDC\"\r\n",
    "print(len(s))\r\n",
    "\r\n",
    "for i in range(len(p)):\r\n",
    "    if p[i:len(s)+i] == s[0:]:\r\n",
    "        print(\"True\")\r\n",
    "    else:\r\n",
    "        print(\"false\")\r\n",
    "        \r\n",
    "        \r\n",
    "\r\n",
    "    "
   ],
   "outputs": [
    {
     "output_type": "stream",
     "name": "stdout",
     "text": [
      "7\n",
      "3\n",
      "false\n",
      "false\n",
      "True\n",
      "false\n",
      "True\n",
      "false\n",
      "false\n"
     ]
    }
   ],
   "metadata": {}
  },
  {
   "cell_type": "code",
   "execution_count": 130,
   "source": [
    "s = \"CDC\"\r\n",
    "s[0:]"
   ],
   "outputs": [
    {
     "output_type": "execute_result",
     "data": {
      "text/plain": [
       "'CDC'"
      ]
     },
     "metadata": {},
     "execution_count": 130
    }
   ],
   "metadata": {}
  },
  {
   "cell_type": "code",
   "execution_count": 59,
   "source": [
    "p = \"ABCDCDC\"\r\n",
    "p[0:4]"
   ],
   "outputs": [
    {
     "output_type": "execute_result",
     "data": {
      "text/plain": [
       "'ABCD'"
      ]
     },
     "metadata": {},
     "execution_count": 59
    }
   ],
   "metadata": {}
  },
  {
   "cell_type": "markdown",
   "source": [
    "# the true code of neeraj ashish thalarv"
   ],
   "metadata": {}
  },
  {
   "cell_type": "code",
   "execution_count": 76,
   "source": [
    "from collections import Counter\r\n",
    "x = \"ABCDCDC\"\r\n",
    "z = \"CDC\"\r\n",
    "listerss = []\r\n",
    "\r\n",
    "\r\n",
    "for i in range(len(x)):\r\n",
    "    if x[i:len(z)+i] == z[0:] :\r\n",
    "        listerss.append(z[0:])\r\n",
    "        \r\n",
    "        \r\n",
    "print(len(listerss))        \r\n",
    "        \r\n",
    "        \r\n",
    "        \r\n",
    "        \r\n",
    "        \r\n",
    "    \r\n",
    "    \r\n",
    " "
   ],
   "outputs": [
    {
     "output_type": "stream",
     "name": "stdout",
     "text": [
      "2\n"
     ]
    }
   ],
   "metadata": {}
  },
  {
   "cell_type": "code",
   "execution_count": 74,
   "source": [
    "k = ['CDC', 'CDC']\r\n",
    "len(k)"
   ],
   "outputs": [
    {
     "output_type": "execute_result",
     "data": {
      "text/plain": [
       "2"
      ]
     },
     "metadata": {},
     "execution_count": 74
    }
   ],
   "metadata": {}
  },
  {
   "cell_type": "markdown",
   "source": [
    "# hacker rank problem"
   ],
   "metadata": {}
  },
  {
   "cell_type": "code",
   "execution_count": 117,
   "source": [
    "import random\r\n",
    "prot = []\r\n",
    "final = []\r\n",
    "for i in range(3):\r\n",
    "    k = random.randint(0,2)\r\n",
    "    prot.append(k)\r\n",
    "    final.append(prot)\r\n",
    "\r\n",
    "\r\n",
    "print(prot)  \r\n",
    "print(final)  \r\n",
    "\r\n",
    "\r\n",
    "\r\n"
   ],
   "outputs": [
    {
     "output_type": "stream",
     "name": "stdout",
     "text": [
      "[0, 1, 2]\n",
      "[[0, 1, 2], [0, 1, 2], [0, 1, 2]]\n"
     ]
    }
   ],
   "metadata": {}
  },
  {
   "cell_type": "code",
   "execution_count": null,
   "source": [
    "usa = []\r\n",
    "for  i in range(10):\r\n",
    "    "
   ],
   "outputs": [],
   "metadata": {}
  },
  {
   "cell_type": "code",
   "execution_count": 85,
   "source": [
    "f = [1,2,3,4]\r\n",
    "l = [6,6,7,8]\r\n",
    "f.append(l)\r\n",
    "print(f)"
   ],
   "outputs": [
    {
     "output_type": "stream",
     "name": "stdout",
     "text": [
      "[1, 2, 3, 4, [6, 6, 7, 8]]\n"
     ]
    }
   ],
   "metadata": {}
  },
  {
   "cell_type": "code",
   "execution_count": null,
   "source": [],
   "outputs": [],
   "metadata": {}
  },
  {
   "cell_type": "markdown",
   "source": [
    "# my own code for hacker rank problem"
   ],
   "metadata": {}
  },
  {
   "cell_type": "code",
   "execution_count": 23,
   "source": [
    "x = int(input())\r\n",
    "y = int(input())\r\n",
    "z = int(input())\r\n",
    "n = int(input())\r\n",
    "\r\n",
    "cor  = []\r\n",
    "lev = []\r\n",
    "for i in range(x+1):\r\n",
    "    for j in range(y+1):\r\n",
    "        for k in range(z+1):\r\n",
    "            if i <= x or j <= y or k <= x :\r\n",
    "                cor.append([i,j,k])\r\n",
    "\r\n",
    "for b in cor:\r\n",
    "    if sum(b) > n or sum(b) < n:\r\n",
    "        lev.append(b)\r\n",
    "\r\n",
    "\r\n",
    "print(cor)   \r\n",
    "print(lev)     \r\n",
    "\r\n",
    "\r\n",
    "\r\n",
    "\r\n",
    "\r\n",
    "               \r\n",
    "\r\n",
    "\r\n",
    "        \r\n",
    "                    \r\n",
    "                        \r\n",
    "                                "
   ],
   "outputs": [
    {
     "output_type": "stream",
     "name": "stdout",
     "text": [
      "[[0, 0, 0], [0, 0, 1], [0, 0, 2], [0, 1, 0], [0, 1, 1], [0, 1, 2], [0, 2, 0], [0, 2, 1], [0, 2, 2], [1, 0, 0], [1, 0, 1], [1, 0, 2], [1, 1, 0], [1, 1, 1], [1, 1, 2], [1, 2, 0], [1, 2, 1], [1, 2, 2], [2, 0, 0], [2, 0, 1], [2, 0, 2], [2, 1, 0], [2, 1, 1], [2, 1, 2], [2, 2, 0], [2, 2, 1], [2, 2, 2]]\n",
      "[[0, 0, 0], [0, 0, 1], [0, 1, 0], [0, 1, 2], [0, 2, 1], [0, 2, 2], [1, 0, 0], [1, 0, 2], [1, 1, 1], [1, 1, 2], [1, 2, 0], [1, 2, 1], [1, 2, 2], [2, 0, 1], [2, 0, 2], [2, 1, 0], [2, 1, 1], [2, 1, 2], [2, 2, 0], [2, 2, 1], [2, 2, 2]]\n"
     ]
    }
   ],
   "metadata": {}
  },
  {
   "cell_type": "code",
   "execution_count": 10,
   "source": [
    "print(cor)"
   ],
   "outputs": [
    {
     "output_type": "stream",
     "name": "stdout",
     "text": [
      "[[0, 0, 0], [0, 0, 1], [0, 0, 2], [0, 1, 0], [0, 1, 1], [0, 1, 2], [0, 2, 0], [0, 2, 1], [0, 2, 2], [1, 0, 0], [1, 0, 1], [1, 0, 2], [1, 1, 0], [1, 1, 1], [1, 1, 2], [1, 2, 0], [1, 2, 1], [1, 2, 2], [2, 0, 0], [2, 0, 1], [2, 0, 2], [2, 1, 0], [2, 1, 1], [2, 1, 2], [2, 2, 0], [2, 2, 1]]\n"
     ]
    }
   ],
   "metadata": {}
  },
  {
   "cell_type": "code",
   "execution_count": 17,
   "source": [
    "h = [[1,2,3],[4,5,6],[7,8,9],[10,11,12]]\r\n",
    "lsi = []\r\n",
    "for i in h :\r\n",
    "    if sum(i) > 120 or sum(i) < 10:\r\n",
    "        lsi.append(i)\r\n",
    "\r\n",
    "print(lsi)       \r\n",
    "\r\n"
   ],
   "outputs": [
    {
     "output_type": "stream",
     "name": "stdout",
     "text": [
      "[[1, 2, 3]]\n"
     ]
    }
   ],
   "metadata": {}
  },
  {
   "cell_type": "code",
   "execution_count": null,
   "source": [
    "N = int(input())\r\n",
    "lister = []\r\n",
    "#for i in range(n):\r\n",
    "p = int(input(\"enter the positon that you want to select in the list:\"))\r\n",
    "s = int(input(\"enter the number that you want to replace: \"))\r\n",
    "lister[p] = s\r\n"
   ],
   "outputs": [],
   "metadata": {}
  },
  {
   "cell_type": "code",
   "execution_count": 7,
   "source": [
    "ret = [0,0,0]\r\n",
    "p = int(input(\"enter the positon that you want to select in the list:\"))\r\n",
    "s = int(input(\"enter the number that you want to replace: \"))\r\n",
    "ret.append(10)\r\n",
    "print(ret)\r\n"
   ],
   "outputs": [
    {
     "output_type": "stream",
     "name": "stdout",
     "text": [
      "[0, 0, 0, 10]\n"
     ]
    }
   ],
   "metadata": {}
  },
  {
   "cell_type": "markdown",
   "source": [
    "HACKER RANK RUNNER UP PROBLEM"
   ],
   "metadata": {}
  },
  {
   "cell_type": "code",
   "execution_count": 8,
   "source": [
    "n = int(input())\r\n",
    "arr  = list(map(int,input().split()))\r\n",
    "print(arr)"
   ],
   "outputs": [
    {
     "output_type": "stream",
     "name": "stdout",
     "text": [
      "[1, 2, 3, 4, 5]\n"
     ]
    }
   ],
   "metadata": {}
  },
  {
   "cell_type": "code",
   "execution_count": 19,
   "source": [
    "ter = [2,3,6,6,5]\r\n",
    "ter1 = []\r\n",
    "p = max(ter)\r\n",
    "\r\n",
    "for i in range(len(ter)):\r\n",
    "    if ter[i] < p:\r\n",
    "        ter1.append(ter[i])\r\n",
    "\r\n",
    "s = max(ter1)\r\n",
    "print(s)        \r\n",
    "\r\n",
    "\r\n",
    "    \r\n",
    "\r\n",
    "    \r\n"
   ],
   "outputs": [
    {
     "output_type": "stream",
     "name": "stdout",
     "text": [
      "5\n"
     ]
    }
   ],
   "metadata": {}
  },
  {
   "cell_type": "code",
   "execution_count": null,
   "source": [
    "# programme to find the largest number in the list without using the max function"
   ],
   "outputs": [],
   "metadata": {}
  },
  {
   "cell_type": "code",
   "execution_count": 29,
   "source": [
    "p = [1,2,3,4,5]\r\n",
    "for i in range(len(p)):\r\n",
    "    if p[i:i+1] < p[i:i+2]:\r\n",
    "\r\n",
    "\r\n",
    "        \r\n",
    "    \r\n"
   ],
   "outputs": [
    {
     "output_type": "stream",
     "name": "stdout",
     "text": [
      "hrlo\n",
      "hrlo\n",
      "hrlo\n",
      "hrlo\n"
     ]
    }
   ],
   "metadata": {}
  },
  {
   "cell_type": "code",
   "execution_count": 4,
   "source": [
    "arr = []\r\n",
    "for i in range(10):\r\n",
    "    arr.append(i)\r\n",
    "\r\n",
    "print(arr)    \r\n"
   ],
   "outputs": [
    {
     "output_type": "stream",
     "name": "stdout",
     "text": [
      "[0, 1, 2, 3, 4, 5, 6, 7, 8, 9]\n"
     ]
    }
   ],
   "metadata": {}
  },
  {
   "cell_type": "code",
   "execution_count": 83,
   "source": [
    "new = []\r\n",
    "new1 = []\r\n",
    "new2 = []\r\n",
    "for i in range(5):\r\n",
    "    name = input()\r\n",
    "    score = float(input())\r\n",
    "    new.append([name,score])\r\n",
    "\r\n",
    "print(new)\r\n",
    "\r\n",
    "k = min(new)\r\n",
    "\r\n",
    "\r\n",
    "for  h in range(len(new)):\r\n",
    "    if new[h] > k:\r\n",
    "        new1.append(new[h])\r\n",
    "\r\n",
    "\r\n",
    "print(new1)\r\n",
    "\r\n",
    "for j in range(len(new1)):\r\n",
    "    a = j + 1\r\n",
    "    for v in range(a,len(new1)):\r\n",
    "        if new1[j][1] == new1[v][1]:\r\n",
    "            new2.append(new1[j])\r\n",
    "            new2.append(new1[v])\r\n",
    "\r\n",
    "\r\n",
    "\r\n",
    "print(new2)  \r\n",
    "\r\n",
    "sor = []\r\n",
    "for m in new2:\r\n",
    "    sor.append(m[0])\r\n",
    "\r\n",
    "\r\n",
    "sor.sort()\r\n",
    "for word in sor:\r\n",
    "    print(word)    \r\n",
    "\r\n",
    "    \r\n",
    "    \r\n",
    "\r\n",
    "\r\n",
    "\r\n",
    "\r\n",
    "\r\n",
    "\r\n",
    "    \r\n",
    "        \r\n",
    "    \r\n",
    "    \r\n",
    "    \r\n",
    "\r\n",
    "\r\n",
    "\r\n",
    "\r\n",
    "\r\n",
    "\r\n",
    "\r\n"
   ],
   "outputs": [
    {
     "output_type": "stream",
     "name": "stdout",
     "text": [
      "[['harry', 37.21], ['berry', 37.21], ['tina', 37.2], ['akriti', 41.0], ['harsh', 39.0]]\n",
      "[['harry', 37.21], ['berry', 37.21], ['tina', 37.2], ['harsh', 39.0]]\n",
      "[['harry', 37.21], ['berry', 37.21]]\n",
      "berry\n",
      "harry\n"
     ]
    }
   ],
   "metadata": {}
  },
  {
   "cell_type": "code",
   "execution_count": null,
   "source": [
    "mn = []\r\n",
    "for m in l:\r\n",
    "    mn.append(m[0])\r\n",
    "\r\n",
    "mn.sort()\r\n",
    "for word in mn:\r\n",
    "    print(word)\r\n"
   ],
   "outputs": [],
   "metadata": {}
  },
  {
   "cell_type": "code",
   "execution_count": 52,
   "source": [
    "t = [['arr', 10.0], ['arr1', 10.0], ['c', 12.0], ['d', 13.0], ['e', 14.0]]\r\n",
    "s = []\r\n",
    "m = t[0]\r\n",
    "\r\n",
    "for i in range(len(t)):\r\n",
    "    a = i+1\r\n",
    "\r\n",
    "    for j in range(a,len(t)):\r\n",
    "        if t[i][1] == t[j][1]:\r\n",
    "            s.append(t[i])\r\n",
    "            s.append(t[j])\r\n",
    "        \r\n",
    "            \r\n",
    "print(s)\r\n",
    "\r\n",
    "\r\n",
    "   "
   ],
   "outputs": [
    {
     "output_type": "stream",
     "name": "stdout",
     "text": [
      "[['arr', 10.0], ['arr1', 10.0]]\n"
     ]
    }
   ],
   "metadata": {}
  },
  {
   "cell_type": "code",
   "execution_count": 25,
   "source": [
    "for i in range(1,6):\r\n",
    "    print(i)"
   ],
   "outputs": [
    {
     "output_type": "stream",
     "name": "stdout",
     "text": [
      "1\n",
      "2\n",
      "3\n",
      "4\n",
      "5\n"
     ]
    }
   ],
   "metadata": {}
  },
  {
   "cell_type": "code",
   "execution_count": null,
   "source": [
    "if t[i] == t[j] :\r\n",
    "            s.append(t[i])\r\n",
    "            s.append(t[j])"
   ],
   "outputs": [],
   "metadata": {}
  },
  {
   "cell_type": "code",
   "execution_count": 41,
   "source": [
    "d = [[\"h\",10],[\"p\",20]]\r\n",
    "d[0][1]\r\n",
    "            \r\n"
   ],
   "outputs": [
    {
     "output_type": "execute_result",
     "data": {
      "text/plain": [
       "10"
      ]
     },
     "metadata": {},
     "execution_count": 41
    }
   ],
   "metadata": {}
  },
  {
   "cell_type": "code",
   "execution_count": 60,
   "source": [
    "j = [\"h\",10]\r\n",
    "j[1]"
   ],
   "outputs": [
    {
     "output_type": "execute_result",
     "data": {
      "text/plain": [
       "10"
      ]
     },
     "metadata": {},
     "execution_count": 60
    }
   ],
   "metadata": {}
  },
  {
   "cell_type": "code",
   "execution_count": 82,
   "source": [
    "l = [['harry', 37.21], ['berry', 37.21]]\r\n",
    "mn = []\r\n",
    "for m in l:\r\n",
    "    mn.append(m[0])\r\n",
    "\r\n",
    "mn.sort()\r\n",
    "for word in mn:\r\n",
    "    print(word)\r\n",
    "\r\n",
    "\r\n",
    "\r\n",
    "    \r\n",
    "    \r\n"
   ],
   "outputs": [
    {
     "output_type": "stream",
     "name": "stdout",
     "text": [
      "berry\n",
      "harry\n"
     ]
    }
   ],
   "metadata": {}
  },
  {
   "cell_type": "code",
   "execution_count": 86,
   "source": [
    "dic = {}\r\n",
    "for i in range(2):\r\n",
    "    name = input().split()\r\n",
    "    marks = list(map(int,input()))\r\n",
    "    dic[name] = marks\r\n",
    "\r\n",
    "\r\n",
    "print(dic)    \r\n",
    "\r\n",
    "  \r\n",
    "    \r\n",
    "    "
   ],
   "outputs": [
    {
     "output_type": "error",
     "ename": "ValueError",
     "evalue": "invalid literal for int() with base 10: ' '",
     "traceback": [
      "\u001b[1;31m---------------------------------------------------------------------------\u001b[0m",
      "\u001b[1;31mValueError\u001b[0m                                Traceback (most recent call last)",
      "\u001b[1;32m<ipython-input-86-7de784221cfa>\u001b[0m in \u001b[0;36m<module>\u001b[1;34m\u001b[0m\n\u001b[0;32m      2\u001b[0m \u001b[1;32mfor\u001b[0m \u001b[0mi\u001b[0m \u001b[1;32min\u001b[0m \u001b[0mrange\u001b[0m\u001b[1;33m(\u001b[0m\u001b[1;36m2\u001b[0m\u001b[1;33m)\u001b[0m\u001b[1;33m:\u001b[0m\u001b[1;33m\u001b[0m\u001b[1;33m\u001b[0m\u001b[0m\n\u001b[0;32m      3\u001b[0m     \u001b[0mname\u001b[0m \u001b[1;33m=\u001b[0m \u001b[0minput\u001b[0m\u001b[1;33m(\u001b[0m\u001b[1;33m)\u001b[0m\u001b[1;33m.\u001b[0m\u001b[0msplit\u001b[0m\u001b[1;33m(\u001b[0m\u001b[1;33m)\u001b[0m\u001b[1;33m\u001b[0m\u001b[1;33m\u001b[0m\u001b[0m\n\u001b[1;32m----> 4\u001b[1;33m     \u001b[0mmarks\u001b[0m \u001b[1;33m=\u001b[0m \u001b[0mlist\u001b[0m\u001b[1;33m(\u001b[0m\u001b[0mmap\u001b[0m\u001b[1;33m(\u001b[0m\u001b[0mint\u001b[0m\u001b[1;33m,\u001b[0m\u001b[0minput\u001b[0m\u001b[1;33m(\u001b[0m\u001b[1;33m)\u001b[0m\u001b[1;33m)\u001b[0m\u001b[1;33m)\u001b[0m\u001b[1;33m\u001b[0m\u001b[1;33m\u001b[0m\u001b[0m\n\u001b[0m\u001b[0;32m      5\u001b[0m     \u001b[0mdic\u001b[0m\u001b[1;33m[\u001b[0m\u001b[0mname\u001b[0m\u001b[1;33m]\u001b[0m \u001b[1;33m=\u001b[0m \u001b[0mmarks\u001b[0m\u001b[1;33m\u001b[0m\u001b[1;33m\u001b[0m\u001b[0m\n\u001b[0;32m      6\u001b[0m \u001b[1;33m\u001b[0m\u001b[0m\n",
      "\u001b[1;31mValueError\u001b[0m: invalid literal for int() with base 10: ' '"
     ]
    }
   ],
   "metadata": {}
  },
  {
   "cell_type": "code",
   "execution_count": 94,
   "source": [
    "dic = {\"neeraj\":10,\"hello\":20}\r\n",
    "values = []\r\n",
    "for i in dic.values():\r\n",
    "    values.append(i)\r\n",
    "\r\n",
    "print(values)    \r\n",
    "\r\n",
    "sum = 0\r\n",
    "for j  in range(len(values)):\r\n",
    "    sum = sum + values[j]\r\n",
    "    average = sum/len(values)\r\n",
    "\r\n",
    "print(average)    \r\n",
    "\r\n",
    "\r\n",
    "    "
   ],
   "outputs": [
    {
     "output_type": "stream",
     "name": "stdout",
     "text": [
      "[10, 20]\n",
      "15.0\n"
     ]
    }
   ],
   "metadata": {}
  },
  {
   "cell_type": "markdown",
   "source": [
    "IMPORTANT FOR THE ASSIGN THE DICTIONARIES"
   ],
   "metadata": {}
  },
  {
   "cell_type": "code",
   "execution_count": 101,
   "source": [
    "n = int(input())\r\n",
    "student_marks = {}\r\n",
    "for _ in range(n):\r\n",
    "    name, *line = input().split()\r\n",
    "    scores = list(map(float, line))\r\n",
    "    student_marks[name] = scores\r\n",
    "\r\n",
    "\r\n",
    "    \r\n",
    "        \r\n",
    "        \r\n",
    "        "
   ],
   "outputs": [],
   "metadata": {}
  },
  {
   "cell_type": "code",
   "execution_count": 102,
   "source": [
    "student_marks"
   ],
   "outputs": [
    {
     "output_type": "execute_result",
     "data": {
      "text/plain": [
       "{'neeraj': [1.0, 2.0, 3.0, 4.0, 5.0], 'hello': [1.0, 2.0, 3.0, 4.0, 5.0]}"
      ]
     },
     "metadata": {},
     "execution_count": 102
    }
   ],
   "metadata": {}
  },
  {
   "cell_type": "code",
   "execution_count": null,
   "source": [
    "r = input(\"enter the letter:\")\r\n",
    "dic = {}\r\n",
    "\r\n",
    "for char in r:\r\n",
    "    if char in dic:\r\n",
    "        dic[char] = dic[char] + 1\r\n",
    "    else:\r\n",
    "        dic[char] = 1\r\n",
    "print(dic) "
   ],
   "outputs": [],
   "metadata": {}
  },
  {
   "cell_type": "code",
   "execution_count": null,
   "source": [
    "n = int(input())\r\n",
    "student_marks = {}\r\n",
    "value = []\r\n",
    "for _ in range(n):\r\n",
    "    name, *line = input().split()\r\n",
    "    scores = list(map(float, line))\r\n",
    "    student_marks[name] = scores\r\n",
    "query_name = input()\r\n",
    "\r\n",
    "for i in student_marks.keys():\r\n",
    "    if i == query_name:\r\n",
    "        for j in student_marks.value():\r\n",
    "            value.append(j)\r\n",
    "\r\n",
    "sum = 0\r\n",
    "\r\n",
    "for k in range(len(value)):\r\n",
    "    sum = sum + value[k]\r\n",
    "    average = sum/len(value)\r\n",
    "\r\n",
    "print(average)    \r\n",
    "        \r\n",
    "        \r\n",
    "\r\n",
    "        \r\n",
    "            \r\n",
    "                \r\n",
    "        \r\n",
    "        \r\n",
    "        \r\n",
    "    \r\n",
    "    \r\n",
    "    \r\n",
    "    \r\n",
    "    \r\n",
    "                \r\n",
    "    \r\n",
    "    \r\n",
    "    \r\n",
    "        \r\n",
    "    "
   ],
   "outputs": [],
   "metadata": {}
  },
  {
   "cell_type": "code",
   "execution_count": 21,
   "source": [
    "dic = {}\r\n",
    "sco = []\r\n",
    "n = int(input())\r\n",
    "for i in range(n):\r\n",
    "    name,*line = input().split()\r\n",
    "    scores = list(map(float,line))\r\n",
    "    dic[name] = scores\r\n",
    "\r\n",
    "query_name = input() \r\n",
    "\r\n",
    "for j in dic.keys():\r\n",
    "    if j == query_name:\r\n",
    "        sco.extend(dic[j])\r\n",
    "\r\n",
    "\r\n",
    "k = sum(sco)\r\n",
    "average = k/len(sco)\r\n",
    "print(format(average,\".2f\"))\r\n",
    "        \r\n",
    "        \r\n",
    "\r\n",
    "\r\n",
    "\r\n",
    "\r\n",
    "\r\n",
    "    \r\n",
    "    "
   ],
   "outputs": [
    {
     "output_type": "stream",
     "name": "stdout",
     "text": [
      "50.0\n"
     ]
    }
   ],
   "metadata": {}
  },
  {
   "cell_type": "code",
   "execution_count": 14,
   "source": [
    "d = {'neeraj': [1.0, 2.0, 3.0, 4.0], 'sas': [5.0, 6.0, 7.0, 8.0]}\r\n",
    "p= []\r\n",
    "d.keys()\r\n",
    "d.values()\r\n",
    "\r\n",
    "for i in d.keys():\r\n",
    "    print(i)\r\n",
    "\r\n",
    "for j in d.values():\r\n",
    "    print(j)\r\n",
    "\r\n",
    "\r\n",
    "p.extend(d[\"neeraj\"])\r\n"
   ],
   "outputs": [
    {
     "output_type": "stream",
     "name": "stdout",
     "text": [
      "neeraj\n",
      "sas\n",
      "[1.0, 2.0, 3.0, 4.0]\n",
      "[5.0, 6.0, 7.0, 8.0]\n"
     ]
    }
   ],
   "metadata": {}
  },
  {
   "cell_type": "code",
   "execution_count": 27,
   "source": [
    "f = sum(p)/len(p)\r\n",
    "print(format(f,\".2f\"))"
   ],
   "outputs": [
    {
     "output_type": "stream",
     "name": "stdout",
     "text": [
      "2.50\n"
     ]
    }
   ],
   "metadata": {}
  },
  {
   "cell_type": "code",
   "execution_count": null,
   "source": [],
   "outputs": [],
   "metadata": {}
  },
  {
   "cell_type": "code",
   "execution_count": null,
   "source": [],
   "outputs": [],
   "metadata": {}
  },
  {
   "cell_type": "code",
   "execution_count": null,
   "source": [],
   "outputs": [],
   "metadata": {}
  },
  {
   "cell_type": "code",
   "execution_count": null,
   "source": [],
   "outputs": [],
   "metadata": {}
  },
  {
   "cell_type": "code",
   "execution_count": null,
   "source": [],
   "outputs": [],
   "metadata": {}
  },
  {
   "cell_type": "code",
   "execution_count": null,
   "source": [],
   "outputs": [],
   "metadata": {}
  },
  {
   "cell_type": "code",
   "execution_count": null,
   "source": [],
   "outputs": [],
   "metadata": {}
  },
  {
   "cell_type": "code",
   "execution_count": null,
   "source": [],
   "outputs": [],
   "metadata": {}
  },
  {
   "cell_type": "code",
   "execution_count": null,
   "source": [],
   "outputs": [],
   "metadata": {}
  },
  {
   "cell_type": "code",
   "execution_count": null,
   "source": [],
   "outputs": [],
   "metadata": {}
  },
  {
   "cell_type": "code",
   "execution_count": null,
   "source": [],
   "outputs": [],
   "metadata": {}
  }
 ],
 "metadata": {
  "kernelspec": {
   "name": "python3",
   "display_name": "Python 3.8.8 64-bit ('base': conda)"
  },
  "language_info": {
   "codemirror_mode": {
    "name": "ipython",
    "version": 3
   },
   "file_extension": ".py",
   "mimetype": "text/x-python",
   "name": "python",
   "nbconvert_exporter": "python",
   "pygments_lexer": "ipython3",
   "version": "3.8.8"
  },
  "interpreter": {
   "hash": "42588fd11209419b7c81abe23e31a1d2101f60811b02170c268e57ebb57d5d9a"
  }
 },
 "nbformat": 4,
 "nbformat_minor": 5
}