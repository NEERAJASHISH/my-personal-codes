{
 "cells": [
  {
   "cell_type": "code",
   "execution_count": 3,
   "metadata": {},
   "outputs": [
    {
     "name": "stdout",
     "output_type": "stream",
     "text": [
      "['ABCDEFGHIJKLMNOPQRSTUVWXYZ']\n"
     ]
    }
   ],
   "source": [
    "from string import ascii_uppercase\n",
    "    \n",
    "    \n",
    "lister= []\n",
    "lister.append(ascii_uppercase)\n",
    "\n",
    "print(lister)\n",
    "    \n",
    "    \n",
    "    \n",
    "    "
   ]
  },
  {
   "cell_type": "code",
   "execution_count": 39,
   "metadata": {},
   "outputs": [
    {
     "name": "stdout",
     "output_type": "stream",
     "text": [
      "[]\n",
      "['B', 'A', 'N', 'A', 'N', 'A']\n"
     ]
    }
   ],
   "source": [
    "from collections import Counter\n",
    "\n",
    "\n",
    "lister = []\n",
    "collecter = []\n",
    "\n",
    "given = \"BANANA\"\n",
    "\n",
    "for i in given:\n",
    "    collecter.append(i)\n",
    "    \n",
    "    \n",
    "if  j in collecter is [\"A\",\"E\",\"I\",\"O\",\"U\"]:\n",
    "    p = collecter.index()\n",
    "    lister.append(collecter[p:])\n",
    "        \n",
    "        \n",
    "        \n",
    "        \n",
    "        \n",
    "        \n",
    "print(lister)  \n",
    "print(collecter)\n",
    "\n",
    "        \n",
    "        \n",
    "        \n",
    "        \n",
    "        \n",
    "        \n",
    "\n",
    "        \n",
    "    "
   ]
  },
  {
   "cell_type": "code",
   "execution_count": 9,
   "metadata": {},
   "outputs": [
    {
     "data": {
      "text/plain": [
       "{'p': 2}"
      ]
     },
     "execution_count": 9,
     "metadata": {},
     "output_type": "execute_result"
    }
   ],
   "source": [
    "dictr = {\"p\":1}\n",
    "\n",
    "dictr[\"p\"] = dictr[\"p\"] + 1\n",
    "\n",
    "dictr"
   ]
  },
  {
   "cell_type": "code",
   "execution_count": 24,
   "metadata": {},
   "outputs": [
    {
     "ename": "NameError",
     "evalue": "name 's' is not defined",
     "output_type": "error",
     "traceback": [
      "\u001b[1;31m---------------------------------------------------------------------------\u001b[0m",
      "\u001b[1;31mNameError\u001b[0m                                 Traceback (most recent call last)",
      "\u001b[1;32m<ipython-input-24-b0e0ba9de7bf>\u001b[0m in \u001b[0;36m<module>\u001b[1;34m\u001b[0m\n\u001b[0;32m      4\u001b[0m \u001b[1;32mfor\u001b[0m \u001b[0mi\u001b[0m \u001b[1;32min\u001b[0m \u001b[0mk\u001b[0m\u001b[1;33m:\u001b[0m\u001b[1;33m\u001b[0m\u001b[1;33m\u001b[0m\u001b[0m\n\u001b[0;32m      5\u001b[0m     \u001b[1;32mif\u001b[0m \u001b[0mi\u001b[0m \u001b[1;32min\u001b[0m \u001b[1;33m[\u001b[0m\u001b[1;34m\"A\"\u001b[0m\u001b[1;33m,\u001b[0m\u001b[1;34m\"E\"\u001b[0m\u001b[1;33m,\u001b[0m\u001b[1;34m\"I\"\u001b[0m\u001b[1;33m,\u001b[0m\u001b[1;34m\"O\"\u001b[0m\u001b[1;33m,\u001b[0m\u001b[1;34m\"U\"\u001b[0m\u001b[1;33m]\u001b[0m\u001b[1;33m:\u001b[0m\u001b[1;33m\u001b[0m\u001b[1;33m\u001b[0m\u001b[0m\n\u001b[1;32m----> 6\u001b[1;33m         \u001b[0ms\u001b[0m\u001b[1;33m.\u001b[0m\u001b[0mappend\u001b[0m\u001b[1;33m(\u001b[0m\u001b[1;33m)\u001b[0m\u001b[1;33m\u001b[0m\u001b[1;33m\u001b[0m\u001b[0m\n\u001b[0m\u001b[0;32m      7\u001b[0m \u001b[0mk\u001b[0m\u001b[1;33m.\u001b[0m\u001b[0mindex\u001b[0m\u001b[1;33m(\u001b[0m\u001b[1;34m\"B\"\u001b[0m\u001b[1;33m)\u001b[0m\u001b[1;33m\u001b[0m\u001b[1;33m\u001b[0m\u001b[0m\n",
      "\u001b[1;31mNameError\u001b[0m: name 's' is not defined"
     ]
    }
   ],
   "source": [
    "S = [] \n",
    "k = \"BANANA\"\n",
    "\n",
    "for i in k:\n",
    "    if i in [\"A\",\"E\",\"I\",\"O\",\"U\"]:\n",
    "        p = index\n",
    "      \n"
   ]
  },
  {
   "cell_type": "code",
   "execution_count": 27,
   "metadata": {},
   "outputs": [
    {
     "data": {
      "text/plain": [
       "'BAN'"
      ]
     },
     "execution_count": 27,
     "metadata": {},
     "output_type": "execute_result"
    }
   ],
   "source": [
    "k = \"BANANA\"\n",
    "k[0:3]"
   ]
  },
  {
   "cell_type": "code",
   "execution_count": 25,
   "metadata": {},
   "outputs": [
    {
     "data": {
      "text/plain": [
       "0"
      ]
     },
     "execution_count": 25,
     "metadata": {},
     "output_type": "execute_result"
    }
   ],
   "source": [
    "k.index(\"B\")"
   ]
  },
  {
   "cell_type": "code",
   "execution_count": 29,
   "metadata": {},
   "outputs": [
    {
     "name": "stdout",
     "output_type": "stream",
     "text": [
      "0\n"
     ]
    }
   ],
   "source": [
    "k = \"BANANA\"\n",
    "p = k.index(\"B\")\n",
    "print(p)"
   ]
  },
  {
   "cell_type": "code",
   "execution_count": 45,
   "metadata": {},
   "outputs": [
    {
     "name": "stdout",
     "output_type": "stream",
     "text": [
      "message: hello world\n"
     ]
    }
   ],
   "source": [
    "message = \"    hello world       \"\n",
    "print(\"message:\",message.strip())"
   ]
  },
  {
   "cell_type": "code",
   "execution_count": 52,
   "metadata": {},
   "outputs": [
    {
     "name": "stdout",
     "output_type": "stream",
     "text": [
      "True\n"
     ]
    }
   ],
   "source": [
    "n = 9\n",
    "\n",
    "if n%3 == 0:\n",
    "    print(True)\n",
    "else:\n",
    "    print(False)"
   ]
  },
  {
   "cell_type": "code",
   "execution_count": 55,
   "metadata": {},
   "outputs": [
    {
     "name": "stdout",
     "output_type": "stream",
     "text": [
      "False\n"
     ]
    }
   ],
   "source": [
    "n = 6\n",
    "if n in range(2,6):\n",
    "    print(\"true\")\n",
    "else:\n",
    "    print(False)"
   ]
  },
  {
   "cell_type": "code",
   "execution_count": 10,
   "metadata": {},
   "outputs": [
    {
     "data": {
      "text/plain": [
       "Counter({1: 1, 2: 3, 3: 1, 4: 1, 5: 2})"
      ]
     },
     "execution_count": 10,
     "metadata": {},
     "output_type": "execute_result"
    }
   ],
   "source": [
    "from collections import Counter\n",
    "\n",
    "l = [1,2,2,2,3,4,5,5]\n",
    "p = Counter(l)\n",
    "p\n",
    "\n"
   ]
  },
  {
   "cell_type": "code",
   "execution_count": 7,
   "metadata": {},
   "outputs": [
    {
     "name": "stdout",
     "output_type": "stream",
     "text": [
      "dict_keys([1, 2, 3, 4, 5])\n"
     ]
    }
   ],
   "source": [
    "print(p.keys())"
   ]
  },
  {
   "cell_type": "code",
   "execution_count": 8,
   "metadata": {},
   "outputs": [
    {
     "name": "stdout",
     "output_type": "stream",
     "text": [
      "dict_values([1, 3, 1, 1, 2])\n"
     ]
    }
   ],
   "source": [
    "print(p.values())"
   ]
  },
  {
   "cell_type": "code",
   "execution_count": 11,
   "metadata": {},
   "outputs": [
    {
     "name": "stdout",
     "output_type": "stream",
     "text": [
      "dict_items([(1, 1), (2, 3), (3, 1), (4, 1), (5, 2)])\n"
     ]
    }
   ],
   "source": [
    "print(p.items()) # it returns a tuple"
   ]
  },
  {
   "cell_type": "code",
   "execution_count": 17,
   "metadata": {},
   "outputs": [
    {
     "data": {
      "text/plain": [
       "dict_keys([6, 5])"
      ]
     },
     "execution_count": 17,
     "metadata": {},
     "output_type": "execute_result"
    }
   ],
   "source": [
    "dicter = {6:4,5:6}\n",
    "s = dicter.keys()\n",
    "s"
   ]
  },
  {
   "cell_type": "code",
   "execution_count": 20,
   "metadata": {},
   "outputs": [
    {
     "name": "stdout",
     "output_type": "stream",
     "text": [
      "11\n"
     ]
    }
   ],
   "source": [
    "sum = 0\n",
    "for i in s:\n",
    "    \n",
    "    sum = sum + i\n",
    "print(sum)    \n",
    "    \n",
    "    "
   ]
  },
  {
   "cell_type": "code",
   "execution_count": 29,
   "metadata": {},
   "outputs": [
    {
     "name": "stdout",
     "output_type": "stream",
     "text": [
      "200\n"
     ]
    }
   ],
   "source": [
    "shoes = 10\n",
    "size = [2,3,4,5,6,8,7,6,5,18]\n",
    "customers = 6\n",
    "prizes = {6:55,6:45,6:55,4:40,18:60,10:45}\n",
    "p = prizes.values()\n",
    "sum = 0\n",
    "for i in p:\n",
    "    sum = sum + i\n",
    "print(sum)    "
   ]
  },
  {
   "cell_type": "code",
   "execution_count": 27,
   "metadata": {},
   "outputs": [
    {
     "name": "stdout",
     "output_type": "stream",
     "text": [
      "dict_values([55, 40, 60, 50])\n"
     ]
    }
   ],
   "source": [
    "prizes = {6:55,6:45,6:55,4:40,18:60,10:50}\n",
    "r = prizes.values()\n",
    "print(r)\n",
    "    "
   ]
  },
  {
   "cell_type": "code",
   "execution_count": 35,
   "metadata": {},
   "outputs": [
    {
     "name": "stdout",
     "output_type": "stream",
     "text": [
      "4\n",
      "4\n"
     ]
    }
   ],
   "source": [
    "int(input())\n",
    "sizes = list(map(int,input().split()))"
   ]
  },
  {
   "cell_type": "code",
   "execution_count": 41,
   "metadata": {},
   "outputs": [
    {
     "name": "stdout",
     "output_type": "stream",
     "text": [
      "5\n",
      "10\n",
      "Counter({10: 1})\n"
     ]
    }
   ],
   "source": [
    "from collections import Counter\n",
    "\n",
    "int(input())\n",
    "sizes = list(map(int,input().split()))\n",
    "money = 0\n",
    "stock = Counter(sizes)\n",
    "print(stock)\n"
   ]
  },
  {
   "cell_type": "code",
   "execution_count": 49,
   "metadata": {},
   "outputs": [
    {
     "data": {
      "text/plain": [
       "Counter({'hell0': 1, 'how': 1, 'are': 1, 'you': 1, 'there': 1})"
      ]
     },
     "execution_count": 49,
     "metadata": {},
     "output_type": "execute_result"
    }
   ],
   "source": [
    "l = \"hell0 how are you there\"\n",
    "p = l.split()\n",
    "Counter(p)"
   ]
  },
  {
   "cell_type": "code",
   "execution_count": 104,
   "metadata": {},
   "outputs": [
    {
     "name": "stdout",
     "output_type": "stream",
     "text": [
      "10\n",
      "2 3 4 5 6 8 7 6 5 18\n",
      "6\n",
      "Counter({5: 2, 6: 2, 2: 1, 3: 1, 4: 1, 8: 1, 7: 1, 18: 1})\n"
     ]
    }
   ],
   "source": [
    "from collections import Counter\n",
    "numShoes = int(input())\n",
    "shoes = Counter(map(int, input().split()))\n",
    "numCust = int(input())\n",
    "\n",
    "print(shoes)\n",
    "\n",
    "\n"
   ]
  },
  {
   "cell_type": "code",
   "execution_count": 81,
   "metadata": {},
   "outputs": [
    {
     "data": {
      "text/plain": [
       "['hello', 'how', 'are', 'you']"
      ]
     },
     "execution_count": 81,
     "metadata": {},
     "output_type": "execute_result"
    }
   ],
   "source": [
    "p = \"hello how are you\"\n",
    "h = p.split()\n",
    "h"
   ]
  },
  {
   "cell_type": "code",
   "execution_count": 84,
   "metadata": {},
   "outputs": [
    {
     "data": {
      "text/plain": [
       "Counter({' ': 2, 'h': 1, 'e': 1, 'l': 2, 'o': 1})"
      ]
     },
     "execution_count": 84,
     "metadata": {},
     "output_type": "execute_result"
    }
   ],
   "source": [
    "d = \" hello \"\n",
    "Counter(d)"
   ]
  },
  {
   "cell_type": "code",
   "execution_count": 103,
   "metadata": {},
   "outputs": [
    {
     "name": "stdout",
     "output_type": "stream",
     "text": [
      "2 3\n",
      "2\n",
      "3\n"
     ]
    }
   ],
   "source": [
    "s,r  = map(int,input().split())\n",
    "print(s)\n",
    "print(r)\n",
    "\n"
   ]
  },
  {
   "cell_type": "code",
   "execution_count": 95,
   "metadata": {},
   "outputs": [
    {
     "name": "stdout",
     "output_type": "stream",
     "text": [
      "1\n",
      "2\n",
      "3\n",
      "4\n",
      "5\n"
     ]
    }
   ],
   "source": [
    "for i in s:\n",
    "    print(i)"
   ]
  },
  {
   "cell_type": "markdown",
   "metadata": {},
   "source": [
    "# The shoes shopper code"
   ]
  },
  {
   "cell_type": "code",
   "execution_count": null,
   "metadata": {},
   "outputs": [],
   "source": []
  },
  {
   "cell_type": "code",
   "execution_count": 110,
   "metadata": {},
   "outputs": [
    {
     "data": {
      "text/plain": [
       "'helto'"
      ]
     },
     "execution_count": 110,
     "metadata": {},
     "output_type": "execute_result"
    }
   ],
   "source": [
    "s = \"hello\"\n",
    "t = s[:3] + \"t\" + s[3+1:]\n",
    "t"
   ]
  },
  {
   "cell_type": "code",
   "execution_count": 113,
   "metadata": {},
   "outputs": [],
   "source": [
    "def mutate_string(string, position, character):\n",
    "    \n",
    "    s = string\n",
    "    t = s[:position] + character + s[position+1:]\n",
    "    print(t)"
   ]
  },
  {
   "cell_type": "code",
   "execution_count": 114,
   "metadata": {},
   "outputs": [
    {
     "name": "stdout",
     "output_type": "stream",
     "text": [
      "helto\n"
     ]
    }
   ],
   "source": [
    "mutate_string(\"hello\",3,\"t\")"
   ]
  },
  {
   "cell_type": "code",
   "execution_count": 118,
   "metadata": {},
   "outputs": [
    {
     "name": "stdout",
     "output_type": "stream",
     "text": [
      "please enter the string:ABCDCDC\n",
      "please enter the sub string:CDC\n",
      "['C', 'D', 'C', 'D', 'C']\n"
     ]
    }
   ],
   "source": [
    "s = input(\"please enter the string:\")\n",
    "p = input(\"please enter the sub string:\")\n",
    "lister  = []\n",
    "\n",
    "for i in s:\n",
    "    if i in p:\n",
    "        lister.append(i)\n",
    "        \n",
    "print(lister)        \n",
    "        \n",
    "\n",
    "\n",
    "\n",
    "\n"
   ]
  },
  {
   "cell_type": "code",
   "execution_count": 124,
   "metadata": {},
   "outputs": [
    {
     "name": "stdout",
     "output_type": "stream",
     "text": [
      "ABCDCDC\n",
      "Counter({'ABCDCDC': 1})\n",
      "CDC\n"
     ]
    },
    {
     "ename": "NameError",
     "evalue": "name 'P' is not defined",
     "output_type": "error",
     "traceback": [
      "\u001b[1;31m---------------------------------------------------------------------------\u001b[0m",
      "\u001b[1;31mNameError\u001b[0m                                 Traceback (most recent call last)",
      "\u001b[1;32m<ipython-input-124-10eec933458f>\u001b[0m in \u001b[0;36m<module>\u001b[1;34m\u001b[0m\n\u001b[0;32m      3\u001b[0m \u001b[0mS\u001b[0m \u001b[1;33m=\u001b[0m \u001b[0mCounter\u001b[0m\u001b[1;33m(\u001b[0m\u001b[0mmap\u001b[0m\u001b[1;33m(\u001b[0m\u001b[0mstr\u001b[0m\u001b[1;33m,\u001b[0m\u001b[0minput\u001b[0m\u001b[1;33m(\u001b[0m\u001b[1;33m)\u001b[0m\u001b[1;33m.\u001b[0m\u001b[0msplit\u001b[0m\u001b[1;33m(\u001b[0m\u001b[1;33m)\u001b[0m\u001b[1;33m)\u001b[0m\u001b[1;33m)\u001b[0m\u001b[1;33m\u001b[0m\u001b[1;33m\u001b[0m\u001b[0m\n\u001b[0;32m      4\u001b[0m \u001b[1;33m\u001b[0m\u001b[0m\n\u001b[1;32m----> 5\u001b[1;33m \u001b[1;32mfor\u001b[0m \u001b[0mi\u001b[0m \u001b[1;32min\u001b[0m \u001b[0mrange\u001b[0m\u001b[1;33m(\u001b[0m\u001b[0mlen\u001b[0m\u001b[1;33m(\u001b[0m\u001b[0mP\u001b[0m\u001b[1;33m)\u001b[0m\u001b[1;33m)\u001b[0m\u001b[1;33m:\u001b[0m\u001b[1;33m\u001b[0m\u001b[1;33m\u001b[0m\u001b[0m\n\u001b[0m\u001b[0;32m      6\u001b[0m     \u001b[1;32mif\u001b[0m \u001b[0mp\u001b[0m\u001b[1;33m[\u001b[0m\u001b[0mi\u001b[0m\u001b[1;33m]\u001b[0m \u001b[1;33m==\u001b[0m \u001b[0ms\u001b[0m\u001b[1;33m:\u001b[0m\u001b[1;33m\u001b[0m\u001b[1;33m\u001b[0m\u001b[0m\n\u001b[0;32m      7\u001b[0m         \u001b[0mp\u001b[0m\u001b[1;33m[\u001b[0m\u001b[0mi\u001b[0m\u001b[1;33m]\u001b[0m \u001b[1;33m+=\u001b[0m \u001b[1;36m1\u001b[0m\u001b[1;33m\u001b[0m\u001b[1;33m\u001b[0m\u001b[0m\n",
      "\u001b[1;31mNameError\u001b[0m: name 'P' is not defined"
     ]
    }
   ],
   "source": [
    "p = Counter(map(str,input().split()))\n",
    "print(p)\n",
    "S = Counter(map(str,input().split()))\n",
    "\n",
    "for i in range(len(P)):\n",
    "    if p[i] == s:\n",
    "        p[i] += 1"
   ]
  },
  {
   "cell_type": "code",
   "execution_count": 67,
   "metadata": {},
   "outputs": [
    {
     "name": "stdout",
     "output_type": "stream",
     "text": [
      "['CDC', 'CDC']\n"
     ]
    }
   ],
   "source": [
    " \n",
    "x = \"ABCDCDC\"\n",
    "z = \"CDC\"\n",
    "listerss = []\n",
    "\n",
    "for i in range(len(x)):\n",
    "    if x[i:len(z)+i] == z[0:] :\n",
    "        listerss.append(z[0:])\n",
    "        \n",
    "        \n",
    "        \n",
    "    \n",
    "    \n",
    "print(listerss)    \n",
    "    \n",
    "    \n",
    "    \n",
    "    \n"
   ]
  },
  {
   "cell_type": "code",
   "execution_count": 60,
   "metadata": {},
   "outputs": [
    {
     "name": "stdout",
     "output_type": "stream",
     "text": [
      "7\n",
      "3\n",
      "false\n",
      "false\n",
      "True\n",
      "false\n",
      "True\n",
      "false\n",
      "false\n"
     ]
    }
   ],
   "source": [
    "p = \"ABCDCDC\"\n",
    "print(len(p))\n",
    "\n",
    "s = \"CDC\"\n",
    "print(len(s))\n",
    "\n",
    "for i in range(len(p)):\n",
    "    if p[i:len(s)+i] == s[0:]:\n",
    "        print(\"True\")\n",
    "    else:\n",
    "        print(\"false\")\n",
    "        \n",
    "        \n",
    "\n",
    "    "
   ]
  },
  {
   "cell_type": "code",
   "execution_count": 130,
   "metadata": {},
   "outputs": [
    {
     "data": {
      "text/plain": [
       "'CDC'"
      ]
     },
     "execution_count": 130,
     "metadata": {},
     "output_type": "execute_result"
    }
   ],
   "source": [
    "s = \"CDC\"\n",
    "s[0:]"
   ]
  },
  {
   "cell_type": "code",
   "execution_count": 59,
   "metadata": {},
   "outputs": [
    {
     "data": {
      "text/plain": [
       "'ABCD'"
      ]
     },
     "execution_count": 59,
     "metadata": {},
     "output_type": "execute_result"
    }
   ],
   "source": [
    "p = \"ABCDCDC\"\n",
    "p[0:4]"
   ]
  },
  {
   "cell_type": "markdown",
   "metadata": {},
   "source": [
    "# the true code of neeraj ashish thalarv"
   ]
  },
  {
   "cell_type": "code",
   "execution_count": 76,
   "metadata": {},
   "outputs": [
    {
     "name": "stdout",
     "output_type": "stream",
     "text": [
      "2\n"
     ]
    }
   ],
   "source": [
    "from collections import Counter\n",
    "x = \"ABCDCDC\"\n",
    "z = \"CDC\"\n",
    "listerss = []\n",
    "\n",
    "\n",
    "for i in range(len(x)):\n",
    "    if x[i:len(z)+i] == z[0:] :\n",
    "        listerss.append(z[0:])\n",
    "        \n",
    "        \n",
    "print(len(listerss))        \n",
    "        \n",
    "        \n",
    "        \n",
    "        \n",
    "        \n",
    "    \n",
    "    \n",
    " "
   ]
  },
  {
   "cell_type": "code",
   "execution_count": 74,
   "metadata": {},
   "outputs": [
    {
     "data": {
      "text/plain": [
       "2"
      ]
     },
     "execution_count": 74,
     "metadata": {},
     "output_type": "execute_result"
    }
   ],
   "source": [
    "k = ['CDC', 'CDC']\n",
    "len(k)"
   ]
  },
  {
   "cell_type": "markdown",
   "metadata": {},
   "source": [
    "# hacker rank problem"
   ]
  },
  {
   "cell_type": "code",
   "execution_count": 117,
   "metadata": {},
   "outputs": [
    {
     "name": "stdout",
     "output_type": "stream",
     "text": [
      "[0, 1, 2]\n",
      "[[0, 1, 2], [0, 1, 2], [0, 1, 2]]\n"
     ]
    }
   ],
   "source": [
    "import random\n",
    "prot = []\n",
    "final = []\n",
    "for i in range(3):\n",
    "    k = random.randint(0,2)\n",
    "    prot.append(k)\n",
    "    final.append(prot)\n",
    "\n",
    "\n",
    "print(prot)  \n",
    "print(final)  \n",
    "\n",
    "\n",
    "\n"
   ]
  },
  {
   "cell_type": "code",
   "execution_count": null,
   "metadata": {},
   "outputs": [],
   "source": [
    "usa = []\n",
    "for  i in range(10):\n",
    "    "
   ]
  },
  {
   "cell_type": "code",
   "execution_count": 85,
   "metadata": {},
   "outputs": [
    {
     "name": "stdout",
     "output_type": "stream",
     "text": [
      "[1, 2, 3, 4, [6, 6, 7, 8]]\n"
     ]
    }
   ],
   "source": [
    "f = [1,2,3,4]\n",
    "l = [6,6,7,8]\n",
    "f.append(l)\n",
    "print(f)"
   ]
  },
  {
   "cell_type": "code",
   "execution_count": null,
   "metadata": {},
   "outputs": [],
   "source": []
  },
  {
   "cell_type": "markdown",
   "metadata": {},
   "source": [
    "# my own code for hacker rank problem"
   ]
  },
  {
   "cell_type": "code",
   "execution_count": 23,
   "metadata": {},
   "outputs": [
    {
     "name": "stdout",
     "output_type": "stream",
     "text": [
      "[[0, 0, 0], [0, 0, 1], [0, 0, 2], [0, 1, 0], [0, 1, 1], [0, 1, 2], [0, 2, 0], [0, 2, 1], [0, 2, 2], [1, 0, 0], [1, 0, 1], [1, 0, 2], [1, 1, 0], [1, 1, 1], [1, 1, 2], [1, 2, 0], [1, 2, 1], [1, 2, 2], [2, 0, 0], [2, 0, 1], [2, 0, 2], [2, 1, 0], [2, 1, 1], [2, 1, 2], [2, 2, 0], [2, 2, 1], [2, 2, 2]]\n",
      "[[0, 0, 0], [0, 0, 1], [0, 1, 0], [0, 1, 2], [0, 2, 1], [0, 2, 2], [1, 0, 0], [1, 0, 2], [1, 1, 1], [1, 1, 2], [1, 2, 0], [1, 2, 1], [1, 2, 2], [2, 0, 1], [2, 0, 2], [2, 1, 0], [2, 1, 1], [2, 1, 2], [2, 2, 0], [2, 2, 1], [2, 2, 2]]\n"
     ]
    }
   ],
   "source": [
    "x = int(input())\n",
    "y = int(input())\n",
    "z = int(input())\n",
    "n = int(input())\n",
    "\n",
    "cor  = []\n",
    "lev = []\n",
    "for i in range(x+1):\n",
    "    for j in range(y+1):\n",
    "        for k in range(z+1):\n",
    "            if i <= x or j <= y or k <= x :\n",
    "                cor.append([i,j,k])\n",
    "\n",
    "for b in cor:\n",
    "    if sum(b) > n or sum(b) < n:\n",
    "        lev.append(b)\n",
    "\n",
    "\n",
    "print(cor)   \n",
    "print(lev)     \n",
    "\n",
    "\n",
    "\n",
    "\n",
    "\n",
    "               \n",
    "\n",
    "\n",
    "        \n",
    "                    \n",
    "                        \n",
    "                                "
   ]
  },
  {
   "cell_type": "code",
   "execution_count": 10,
   "metadata": {},
   "outputs": [
    {
     "name": "stdout",
     "output_type": "stream",
     "text": [
      "[[0, 0, 0], [0, 0, 1], [0, 0, 2], [0, 1, 0], [0, 1, 1], [0, 1, 2], [0, 2, 0], [0, 2, 1], [0, 2, 2], [1, 0, 0], [1, 0, 1], [1, 0, 2], [1, 1, 0], [1, 1, 1], [1, 1, 2], [1, 2, 0], [1, 2, 1], [1, 2, 2], [2, 0, 0], [2, 0, 1], [2, 0, 2], [2, 1, 0], [2, 1, 1], [2, 1, 2], [2, 2, 0], [2, 2, 1]]\n"
     ]
    }
   ],
   "source": [
    "print(cor)"
   ]
  },
  {
   "cell_type": "code",
   "execution_count": 17,
   "metadata": {},
   "outputs": [
    {
     "name": "stdout",
     "output_type": "stream",
     "text": [
      "[[1, 2, 3]]\n"
     ]
    }
   ],
   "source": [
    "h = [[1,2,3],[4,5,6],[7,8,9],[10,11,12]]\n",
    "lsi = []\n",
    "for i in h :\n",
    "    if sum(i) > 120 or sum(i) < 10:\n",
    "        lsi.append(i)\n",
    "\n",
    "print(lsi)       \n",
    "\n"
   ]
  },
  {
   "cell_type": "code",
   "execution_count": null,
   "metadata": {},
   "outputs": [],
   "source": [
    "N = int(input())\n",
    "lister = []\n",
    "#for i in range(n):\n",
    "p = int(input(\"enter the positon that you want to select in the list:\"))\n",
    "s = int(input(\"enter the number that you want to replace: \"))\n",
    "lister[p] = s\n"
   ]
  },
  {
   "cell_type": "code",
   "execution_count": 7,
   "metadata": {},
   "outputs": [
    {
     "name": "stdout",
     "output_type": "stream",
     "text": [
      "[0, 0, 0, 10]\n"
     ]
    }
   ],
   "source": [
    "ret = [0,0,0]\n",
    "p = int(input(\"enter the positon that you want to select in the list:\"))\n",
    "s = int(input(\"enter the number that you want to replace: \"))\n",
    "ret.append(10)\n",
    "print(ret)\n"
   ]
  },
  {
   "cell_type": "markdown",
   "metadata": {},
   "source": [
    "HACKER RANK RUNNER UP PROBLEM"
   ]
  },
  {
   "cell_type": "code",
   "execution_count": 8,
   "metadata": {},
   "outputs": [
    {
     "name": "stdout",
     "output_type": "stream",
     "text": [
      "[1, 2, 3, 4, 5]\n"
     ]
    }
   ],
   "source": [
    "n = int(input())\n",
    "arr  = list(map(int,input().split()))\n",
    "print(arr)"
   ]
  },
  {
   "cell_type": "code",
   "execution_count": 19,
   "metadata": {},
   "outputs": [
    {
     "name": "stdout",
     "output_type": "stream",
     "text": [
      "5\n"
     ]
    }
   ],
   "source": [
    "ter = [2,3,6,6,5]\n",
    "ter1 = []\n",
    "p = max(ter)\n",
    "\n",
    "for i in range(len(ter)):\n",
    "    if ter[i] < p:\n",
    "        ter1.append(ter[i])\n",
    "\n",
    "s = max(ter1)\n",
    "print(s)        \n",
    "\n",
    "\n",
    "    \n",
    "\n",
    "    \n"
   ]
  },
  {
   "cell_type": "code",
   "execution_count": null,
   "metadata": {},
   "outputs": [],
   "source": [
    "# programme to find the largest number in the list without using the max function"
   ]
  },
  {
   "cell_type": "code",
   "execution_count": 29,
   "metadata": {},
   "outputs": [
    {
     "name": "stdout",
     "output_type": "stream",
     "text": [
      "hrlo\n",
      "hrlo\n",
      "hrlo\n",
      "hrlo\n"
     ]
    }
   ],
   "source": [
    "p = [1,2,3,4,5]\n",
    "for i in range(len(p)):\n",
    "    if p[i:i+1] < p[i:i+2]:\n",
    "\n",
    "\n",
    "        \n",
    "    \n"
   ]
  },
  {
   "cell_type": "code",
   "execution_count": 4,
   "metadata": {},
   "outputs": [
    {
     "name": "stdout",
     "output_type": "stream",
     "text": [
      "[0, 1, 2, 3, 4, 5, 6, 7, 8, 9]\n"
     ]
    }
   ],
   "source": [
    "arr = []\n",
    "for i in range(10):\n",
    "    arr.append(i)\n",
    "\n",
    "print(arr)    \n"
   ]
  },
  {
   "cell_type": "code",
   "execution_count": 83,
   "metadata": {},
   "outputs": [
    {
     "name": "stdout",
     "output_type": "stream",
     "text": [
      "[['harry', 37.21], ['berry', 37.21], ['tina', 37.2], ['akriti', 41.0], ['harsh', 39.0]]\n",
      "[['harry', 37.21], ['berry', 37.21], ['tina', 37.2], ['harsh', 39.0]]\n",
      "[['harry', 37.21], ['berry', 37.21]]\n",
      "berry\n",
      "harry\n"
     ]
    }
   ],
   "source": [
    "new = []\n",
    "new1 = []\n",
    "new2 = []\n",
    "for i in range(5):\n",
    "    name = input()\n",
    "    score = float(input())\n",
    "    new.append([name,score])\n",
    "\n",
    "print(new)\n",
    "\n",
    "k = min(new)\n",
    "\n",
    "\n",
    "for  h in range(len(new)):\n",
    "    if new[h] > k:\n",
    "        new1.append(new[h])\n",
    "\n",
    "\n",
    "print(new1)\n",
    "\n",
    "for j in range(len(new1)):\n",
    "    a = j + 1\n",
    "    for v in range(a,len(new1)):\n",
    "        if new1[j][1] == new1[v][1]:\n",
    "            new2.append(new1[j])\n",
    "            new2.append(new1[v])\n",
    "\n",
    "\n",
    "\n",
    "print(new2)  \n",
    "\n",
    "sor = []\n",
    "for m in new2:\n",
    "    sor.append(m[0])\n",
    "\n",
    "\n",
    "sor.sort()\n",
    "for word in sor:\n",
    "    print(word)    \n",
    "\n",
    "    \n",
    "    \n",
    "\n",
    "\n",
    "\n",
    "\n",
    "\n",
    "\n",
    "    \n",
    "        \n",
    "    \n",
    "    \n",
    "    \n",
    "\n",
    "\n",
    "\n",
    "\n",
    "\n",
    "\n",
    "\n"
   ]
  },
  {
   "cell_type": "code",
   "execution_count": null,
   "metadata": {},
   "outputs": [],
   "source": [
    "mn = []\n",
    "for m in l:\n",
    "    mn.append(m[0])\n",
    "\n",
    "mn.sort()\n",
    "for word in mn:\n",
    "    print(word)\n"
   ]
  },
  {
   "cell_type": "code",
   "execution_count": 52,
   "metadata": {},
   "outputs": [
    {
     "name": "stdout",
     "output_type": "stream",
     "text": [
      "[['arr', 10.0], ['arr1', 10.0]]\n"
     ]
    }
   ],
   "source": [
    "t = [['arr', 10.0], ['arr1', 10.0], ['c', 12.0], ['d', 13.0], ['e', 14.0]]\n",
    "s = []\n",
    "m = t[0]\n",
    "\n",
    "for i in range(len(t)):\n",
    "    a = i+1\n",
    "\n",
    "    for j in range(a,len(t)):\n",
    "        if t[i][1] == t[j][1]:\n",
    "            s.append(t[i])\n",
    "            s.append(t[j])\n",
    "        \n",
    "            \n",
    "print(s)\n",
    "\n",
    "\n",
    "   "
   ]
  },
  {
   "cell_type": "code",
   "execution_count": 25,
   "metadata": {},
   "outputs": [
    {
     "name": "stdout",
     "output_type": "stream",
     "text": [
      "1\n",
      "2\n",
      "3\n",
      "4\n",
      "5\n"
     ]
    }
   ],
   "source": [
    "for i in range(1,6):\n",
    "    print(i)"
   ]
  },
  {
   "cell_type": "code",
   "execution_count": null,
   "metadata": {},
   "outputs": [],
   "source": [
    "if t[i] == t[j] :\n",
    "            s.append(t[i])\n",
    "            s.append(t[j])"
   ]
  },
  {
   "cell_type": "code",
   "execution_count": 41,
   "metadata": {},
   "outputs": [
    {
     "data": {
      "text/plain": [
       "10"
      ]
     },
     "execution_count": 41,
     "metadata": {},
     "output_type": "execute_result"
    }
   ],
   "source": [
    "d = [[\"h\",10],[\"p\",20]]\n",
    "d[0][1]\n",
    "            \n"
   ]
  },
  {
   "cell_type": "code",
   "execution_count": 60,
   "metadata": {},
   "outputs": [
    {
     "data": {
      "text/plain": [
       "10"
      ]
     },
     "execution_count": 60,
     "metadata": {},
     "output_type": "execute_result"
    }
   ],
   "source": [
    "j = [\"h\",10]\n",
    "j[1]"
   ]
  },
  {
   "cell_type": "code",
   "execution_count": 82,
   "metadata": {},
   "outputs": [
    {
     "name": "stdout",
     "output_type": "stream",
     "text": [
      "berry\n",
      "harry\n"
     ]
    }
   ],
   "source": [
    "l = [['harry', 37.21], ['berry', 37.21]]\n",
    "mn = []\n",
    "for m in l:\n",
    "    mn.append(m[0])\n",
    "\n",
    "mn.sort()\n",
    "for word in mn:\n",
    "    print(word)\n",
    "\n",
    "\n",
    "\n",
    "    \n",
    "    \n"
   ]
  },
  {
   "cell_type": "code",
   "execution_count": 86,
   "metadata": {},
   "outputs": [
    {
     "ename": "ValueError",
     "evalue": "invalid literal for int() with base 10: ' '",
     "output_type": "error",
     "traceback": [
      "\u001b[1;31m---------------------------------------------------------------------------\u001b[0m",
      "\u001b[1;31mValueError\u001b[0m                                Traceback (most recent call last)",
      "\u001b[1;32m<ipython-input-86-7de784221cfa>\u001b[0m in \u001b[0;36m<module>\u001b[1;34m\u001b[0m\n\u001b[0;32m      2\u001b[0m \u001b[1;32mfor\u001b[0m \u001b[0mi\u001b[0m \u001b[1;32min\u001b[0m \u001b[0mrange\u001b[0m\u001b[1;33m(\u001b[0m\u001b[1;36m2\u001b[0m\u001b[1;33m)\u001b[0m\u001b[1;33m:\u001b[0m\u001b[1;33m\u001b[0m\u001b[1;33m\u001b[0m\u001b[0m\n\u001b[0;32m      3\u001b[0m     \u001b[0mname\u001b[0m \u001b[1;33m=\u001b[0m \u001b[0minput\u001b[0m\u001b[1;33m(\u001b[0m\u001b[1;33m)\u001b[0m\u001b[1;33m.\u001b[0m\u001b[0msplit\u001b[0m\u001b[1;33m(\u001b[0m\u001b[1;33m)\u001b[0m\u001b[1;33m\u001b[0m\u001b[1;33m\u001b[0m\u001b[0m\n\u001b[1;32m----> 4\u001b[1;33m     \u001b[0mmarks\u001b[0m \u001b[1;33m=\u001b[0m \u001b[0mlist\u001b[0m\u001b[1;33m(\u001b[0m\u001b[0mmap\u001b[0m\u001b[1;33m(\u001b[0m\u001b[0mint\u001b[0m\u001b[1;33m,\u001b[0m\u001b[0minput\u001b[0m\u001b[1;33m(\u001b[0m\u001b[1;33m)\u001b[0m\u001b[1;33m)\u001b[0m\u001b[1;33m)\u001b[0m\u001b[1;33m\u001b[0m\u001b[1;33m\u001b[0m\u001b[0m\n\u001b[0m\u001b[0;32m      5\u001b[0m     \u001b[0mdic\u001b[0m\u001b[1;33m[\u001b[0m\u001b[0mname\u001b[0m\u001b[1;33m]\u001b[0m \u001b[1;33m=\u001b[0m \u001b[0mmarks\u001b[0m\u001b[1;33m\u001b[0m\u001b[1;33m\u001b[0m\u001b[0m\n\u001b[0;32m      6\u001b[0m \u001b[1;33m\u001b[0m\u001b[0m\n",
      "\u001b[1;31mValueError\u001b[0m: invalid literal for int() with base 10: ' '"
     ]
    }
   ],
   "source": [
    "dic = {}\n",
    "for i in range(2):\n",
    "    name = input().split()\n",
    "    marks = list(map(int,input()))\n",
    "    dic[name] = marks\n",
    "\n",
    "\n",
    "print(dic)    \n",
    "\n",
    "  \n",
    "    \n",
    "    "
   ]
  },
  {
   "cell_type": "code",
   "execution_count": 94,
   "metadata": {},
   "outputs": [
    {
     "name": "stdout",
     "output_type": "stream",
     "text": [
      "[10, 20]\n",
      "15.0\n"
     ]
    }
   ],
   "source": [
    "dic = {\"neeraj\":10,\"hello\":20}\n",
    "values = []\n",
    "for i in dic.values():\n",
    "    values.append(i)\n",
    "\n",
    "print(values)    \n",
    "\n",
    "sum = 0\n",
    "for j  in range(len(values)):\n",
    "    sum = sum + values[j]\n",
    "    average = sum/len(values)\n",
    "\n",
    "print(average)    \n",
    "\n",
    "\n",
    "    "
   ]
  },
  {
   "cell_type": "markdown",
   "metadata": {},
   "source": [
    "IMPORTANT FOR THE ASSIGN THE DICTIONARIES"
   ]
  },
  {
   "cell_type": "code",
   "execution_count": 101,
   "metadata": {},
   "outputs": [],
   "source": [
    "n = int(input())\n",
    "student_marks = {}\n",
    "for _ in range(n):\n",
    "    name, *line = input().split()\n",
    "    scores = list(map(float, line))\n",
    "    student_marks[name] = scores\n",
    "\n",
    "\n",
    "    \n",
    "        \n",
    "        \n",
    "        "
   ]
  },
  {
   "cell_type": "code",
   "execution_count": 102,
   "metadata": {},
   "outputs": [
    {
     "data": {
      "text/plain": [
       "{'neeraj': [1.0, 2.0, 3.0, 4.0, 5.0], 'hello': [1.0, 2.0, 3.0, 4.0, 5.0]}"
      ]
     },
     "execution_count": 102,
     "metadata": {},
     "output_type": "execute_result"
    }
   ],
   "source": [
    "student_marks"
   ]
  },
  {
   "cell_type": "code",
   "execution_count": null,
   "metadata": {},
   "outputs": [],
   "source": [
    "r = input(\"enter the letter:\")\n",
    "dic = {}\n",
    "\n",
    "for char in r:\n",
    "    if char in dic:\n",
    "        dic[char] = dic[char] + 1\n",
    "    else:\n",
    "        dic[char] = 1\n",
    "print(dic) "
   ]
  },
  {
   "cell_type": "code",
   "execution_count": null,
   "metadata": {},
   "outputs": [],
   "source": [
    "n = int(input())\n",
    "student_marks = {}\n",
    "value = []\n",
    "for _ in range(n):\n",
    "    name, *line = input().split()\n",
    "    scores = list(map(float, line))\n",
    "    student_marks[name] = scores\n",
    "query_name = input()\n",
    "\n",
    "for i in student_marks.keys():\n",
    "    if i == query_name:\n",
    "        for j in student_marks.value():\n",
    "            value.append(j)\n",
    "\n",
    "sum = 0\n",
    "\n",
    "for k in range(len(value)):\n",
    "    sum = sum + value[k]\n",
    "    average = sum/len(value)\n",
    "\n",
    "print(average)    \n",
    "        \n",
    "        \n",
    "\n",
    "        \n",
    "            \n",
    "                \n",
    "        \n",
    "        \n",
    "        \n",
    "    \n",
    "    \n",
    "    \n",
    "    \n",
    "    \n",
    "                \n",
    "    \n",
    "    \n",
    "    \n",
    "        \n",
    "    "
   ]
  },
  {
   "cell_type": "code",
   "execution_count": 5,
   "metadata": {},
   "outputs": [
    {
     "name": "stdout",
     "output_type": "stream",
     "text": [
      "12.00\n"
     ]
    }
   ],
   "source": [
    "dic = {}\n",
    "sco = []\n",
    "n = int(input())\n",
    "for i in range(n):\n",
    "    name,*line = input().split()\n",
    "    scores = list(map(float,line))\n",
    "    dic[name] = scores\n",
    "\n",
    "query_name = input() \n",
    "\n",
    "for j in dic.keys():\n",
    "    if j == query_name:\n",
    "        sco.extend(dic[j])\n",
    "\n",
    "\n",
    "k = sum(sco)\n",
    "average = k/len(sco)\n",
    "print(format(average,\".2f\"))\n",
    "        \n",
    "        \n",
    "\n",
    "\n",
    "\n",
    "\n",
    "\n",
    "    \n",
    "    "
   ]
  },
  {
   "cell_type": "code",
   "execution_count": 14,
   "metadata": {},
   "outputs": [
    {
     "name": "stdout",
     "output_type": "stream",
     "text": [
      "neeraj\n",
      "sas\n",
      "[1.0, 2.0, 3.0, 4.0]\n",
      "[5.0, 6.0, 7.0, 8.0]\n"
     ]
    }
   ],
   "source": [
    "d = {'neeraj': [1.0, 2.0, 3.0, 4.0], 'sas': [5.0, 6.0, 7.0, 8.0]}\n",
    "p= []\n",
    "d.keys()\n",
    "d.values()\n",
    "\n",
    "for i in d.keys():\n",
    "    print(i)\n",
    "\n",
    "for j in d.values():\n",
    "    print(j)\n",
    "\n",
    "\n",
    "p.extend(d[\"neeraj\"])\n"
   ]
  },
  {
   "cell_type": "code",
   "execution_count": 27,
   "metadata": {},
   "outputs": [
    {
     "name": "stdout",
     "output_type": "stream",
     "text": [
      "2.50\n"
     ]
    }
   ],
   "source": [
    "f = sum(p)/len(p)\n",
    "print(format(f,\".2f\"))"
   ]
  },
  {
   "cell_type": "markdown",
   "metadata": {},
   "source": [
    "next code in hacker rank\n"
   ]
  },
  {
   "cell_type": "code",
   "execution_count": 33,
   "metadata": {},
   "outputs": [
    {
     "name": "stdout",
     "output_type": "stream",
     "text": [
      "[(1, 1), (1, 2), (1, 3), (2, 1), (2, 2), (2, 3), (3, 1), (3, 2), (3, 3)]\n"
     ]
    }
   ],
   "source": [
    "from itertools import product\n",
    "\n",
    "print (list(product([1,2,3],repeat=2)))\n",
    "\n",
    "\n",
    "\n"
   ]
  },
  {
   "cell_type": "code",
   "execution_count": 51,
   "metadata": {},
   "outputs": [
    {
     "name": "stdout",
     "output_type": "stream",
     "text": [
      "[3, 4]\n",
      "[1, 2]\n",
      "(1, 3) (1, 4) (2, 3) (2, 4)\n"
     ]
    }
   ],
   "source": [
    "from itertools import product\n",
    "\n",
    "k = list(map(int,input().split()))\n",
    "p = list(map(int,input().split()))\n",
    "print(p)\n",
    "print(k)\n",
    "\n",
    "c =  list(product(k,p))\n",
    "print(*c)"
   ]
  },
  {
   "cell_type": "code",
   "execution_count": 49,
   "metadata": {},
   "outputs": [
    {
     "name": "stdout",
     "output_type": "stream",
     "text": [
      "1 2 3\n"
     ]
    }
   ],
   "source": [
    "d = [1,2,3]\n",
    "print(*d)"
   ]
  },
  {
   "cell_type": "code",
   "execution_count": 48,
   "metadata": {},
   "outputs": [
    {
     "name": "stdout",
     "output_type": "stream",
     "text": [
      "1 2 3\n"
     ]
    }
   ],
   "source": [
    "f = [1,2,3]\n",
    "print(*f)"
   ]
  },
  {
   "cell_type": "code",
   "execution_count": 53,
   "metadata": {},
   "outputs": [
    {
     "name": "stdout",
     "output_type": "stream",
     "text": [
      "[3, 4]\n",
      "[1, 2]\n",
      "(1, 3) (1, 4) (2, 3) (2, 4)\n"
     ]
    }
   ],
   "source": [
    "# the new version of the code is here\n",
    "from itertools import product\n",
    "\n",
    "k = list(map(int,input().split()))\n",
    "p = list(map(int,input().split()))\n",
    "print(p)\n",
    "print(k)\n",
    "\n",
    "print  (*list(product(k,p)))\n"
   ]
  },
  {
   "cell_type": "code",
   "execution_count": 4,
   "metadata": {},
   "outputs": [],
   "source": [
    "movies = {}\n",
    "name,*line  = input(\"please enter the name of the movie and the title:\").split()\n",
    "title = list(map(str,line))\n",
    "movies[name] = title\n",
    "\n",
    "\n",
    "\n",
    "k  = input(\"please enter the movie name that you want to search:\")\n",
    "f = input(\"please enter the title name that you want to search:\")\n",
    "\n",
    "for i in movies.keys():\n",
    "    for j in movies.values():\n",
    "        if i == k and j == g:\n",
    "            print(\"yes you have found the coorect value in that\")\n",
    "        \n",
    "\n",
    "        \n",
    "\n",
    "\n",
    "\n",
    "\n"
   ]
  },
  {
   "cell_type": "code",
   "execution_count": 5,
   "metadata": {},
   "outputs": [
    {
     "name": "stdout",
     "output_type": "stream",
     "text": [
      "{'hello': []}\n"
     ]
    }
   ],
   "source": [
    "print(movies)"
   ]
  },
  {
   "cell_type": "code",
   "execution_count": 2,
   "metadata": {},
   "outputs": [
    {
     "name": "stdout",
     "output_type": "stream",
     "text": [
      "['1']\n",
      "['1', '2']\n"
     ]
    }
   ],
   "source": [
    "list = []\n",
    "N = int(input(\"Enter the number of lines: \"))\n",
    "for  i in range(N):\n",
    "    p, line = input().split()\n",
    "    list.insert(int(p),line)\n",
    "    print(list)\n",
    "    \n",
    "    "
   ]
  },
  {
   "cell_type": "code",
   "execution_count": 30,
   "metadata": {},
   "outputs": [
    {
     "name": "stdout",
     "output_type": "stream",
     "text": [
      "0\n",
      "[1.0]\n",
      "1\n"
     ]
    }
   ],
   "source": [
    "first, *rest = input().split()\n",
    "score = list(map(float,rest))\n",
    "print(first)\n",
    "print(score)\n",
    "print(*rest)\n"
   ]
  },
  {
   "cell_type": "code",
   "execution_count": 21,
   "metadata": {},
   "outputs": [
    {
     "name": "stdout",
     "output_type": "stream",
     "text": [
      "[1]\n"
     ]
    }
   ],
   "source": [
    "k = []\n",
    "k.insert(1,1)\n",
    "print(k)\n",
    "\n"
   ]
  },
  {
   "cell_type": "code",
   "execution_count": 26,
   "metadata": {},
   "outputs": [],
   "source": [
    "k.insert(int(input()),int(input()))\n"
   ]
  },
  {
   "cell_type": "code",
   "execution_count": 36,
   "metadata": {},
   "outputs": [],
   "source": [
    "p, line = input().split()\n",
    "k.insert(int(p),line)\n"
   ]
  },
  {
   "cell_type": "code",
   "execution_count": 38,
   "metadata": {},
   "outputs": [
    {
     "data": {
      "text/plain": [
       "[['1'], '2', ['23'], 1, 2]"
      ]
     },
     "execution_count": 38,
     "metadata": {},
     "output_type": "execute_result"
    }
   ],
   "source": [
    "k"
   ]
  },
  {
   "cell_type": "markdown",
   "metadata": {},
   "source": [
    "# THE ORGINAL CODE FOR THE HACKER RANK LIST PROBLEM"
   ]
  },
  {
   "cell_type": "code",
   "execution_count": 25,
   "metadata": {},
   "outputs": [
    {
     "name": "stdout",
     "output_type": "stream",
     "text": [
      "[6, 5, 10]\n",
      "[6, 5, 10]\n",
      "[6, 5, 10]\n"
     ]
    }
   ],
   "source": [
    "N = int(input(\"Enter the number of lines of code: \"))\n",
    "empty = []\n",
    "conv = []\n",
    "for i in range(N):\n",
    "    x  = input().split()\n",
    "    empty.append(x)\n",
    "for j in range(len(empty)):\n",
    "    if empty[j][0] == \"insert\":\n",
    "        x = int(empty[j][1])\n",
    "        y = int(empty[j][2])\n",
    "        conv.insert(n,m)\n",
    "\n",
    "    elif empty[j][0] == \"print\" :\n",
    "        print(conv)    \n",
    "\n",
    "    elif empty[i][0] == 'remove':\n",
    "        conv.remove(int(empty[i][1]))\n",
    "            \n",
    "    elif empty[i][0] == 'append':\n",
    "        conv.append(int(empty[i][1]))\n",
    "            \n",
    "    elif empty[i][0] == 'sort':\n",
    "         conv.sort()\n",
    "           \n",
    "    elif empty[i][0] == 'pop':\n",
    "        conv.pop()\n",
    "            \n",
    "    elif empty[i][0] == 'reverse':\n",
    "        conv.reverse()\n",
    "                \n",
    "\n",
    "\n",
    "\n",
    "    \n",
    "\n",
    "\n",
    "\n",
    "\n"
   ]
  },
  {
   "cell_type": "code",
   "execution_count": null,
   "metadata": {},
   "outputs": [],
   "source": []
  },
  {
   "cell_type": "code",
   "execution_count": 4,
   "metadata": {},
   "outputs": [
    {
     "data": {
      "text/plain": [
       "[['neeraj'], ['spp']]"
      ]
     },
     "execution_count": 4,
     "metadata": {},
     "output_type": "execute_result"
    }
   ],
   "source": []
  },
  {
   "cell_type": "code",
   "execution_count": 5,
   "metadata": {},
   "outputs": [],
   "source": [
    "v = input().split()"
   ]
  },
  {
   "cell_type": "code",
   "execution_count": 6,
   "metadata": {},
   "outputs": [
    {
     "name": "stdout",
     "output_type": "stream",
     "text": [
      "['hello']\n"
     ]
    }
   ],
   "source": [
    "print(v)"
   ]
  },
  {
   "cell_type": "code",
   "execution_count": 33,
   "metadata": {},
   "outputs": [],
   "source": [
    "x = []\n",
    "y = []\n",
    "for  i in range(2):\n",
    "    f  = input().split()\n",
    "    x.append(f)\n",
    "for j in range(len(x)):\n",
    "    if x[j][0] == \"insert\":\n",
    "        m = int(x[j][1])\n",
    "        n = int(x[j][2])\n",
    "        y.insert(m,n)\n",
    "\n",
    "    elif x[j][0] == \"print\":\n",
    "        print(y)\n",
    "\n",
    "    elif x[j][0] == \"remove\":\n",
    "        conv.remove()\n",
    "            \n",
    "\n",
    "        \n",
    "\n",
    "\n"
   ]
  },
  {
   "cell_type": "code",
   "execution_count": 34,
   "metadata": {},
   "outputs": [
    {
     "data": {
      "text/plain": [
       "[['print'], ['print']]"
      ]
     },
     "execution_count": 34,
     "metadata": {},
     "output_type": "execute_result"
    }
   ],
   "source": [
    "x"
   ]
  },
  {
   "cell_type": "code",
   "execution_count": 35,
   "metadata": {},
   "outputs": [
    {
     "data": {
      "text/plain": [
       "[]"
      ]
     },
     "execution_count": 35,
     "metadata": {},
     "output_type": "execute_result"
    }
   ],
   "source": [
    "y"
   ]
  },
  {
   "cell_type": "code",
   "execution_count": 39,
   "metadata": {},
   "outputs": [],
   "source": [
    "v = [1,2,3,4,5]\n",
    "v.remove(1)"
   ]
  },
  {
   "cell_type": "code",
   "execution_count": 37,
   "metadata": {},
   "outputs": [
    {
     "data": {
      "text/plain": [
       "[2, 3, 4, 5]"
      ]
     },
     "execution_count": 37,
     "metadata": {},
     "output_type": "execute_result"
    }
   ],
   "source": [
    "v"
   ]
  },
  {
   "cell_type": "code",
   "execution_count": null,
   "metadata": {},
   "outputs": [],
   "source": []
  },
  {
   "cell_type": "code",
   "execution_count": null,
   "metadata": {},
   "outputs": [],
   "source": []
  },
  {
   "cell_type": "code",
   "execution_count": null,
   "metadata": {},
   "outputs": [],
   "source": []
  },
  {
   "cell_type": "code",
   "execution_count": null,
   "metadata": {},
   "outputs": [],
   "source": []
  },
  {
   "cell_type": "code",
   "execution_count": null,
   "metadata": {},
   "outputs": [],
   "source": []
  },
  {
   "cell_type": "code",
   "execution_count": null,
   "metadata": {},
   "outputs": [],
   "source": []
  },
  {
   "cell_type": "code",
   "execution_count": null,
   "metadata": {},
   "outputs": [],
   "source": []
  },
  {
   "cell_type": "code",
   "execution_count": null,
   "metadata": {},
   "outputs": [],
   "source": []
  },
  {
   "cell_type": "code",
   "execution_count": null,
   "metadata": {},
   "outputs": [],
   "source": []
  }
 ],
 "metadata": {
  "interpreter": {
   "hash": "42588fd11209419b7c81abe23e31a1d2101f60811b02170c268e57ebb57d5d9a"
  },
  "kernelspec": {
   "display_name": "Python 3.8.8 64-bit ('base': conda)",
   "name": "python3"
  },
  "language_info": {
   "codemirror_mode": {
    "name": "ipython",
    "version": 3
   },
   "file_extension": ".py",
   "mimetype": "text/x-python",
   "name": "python",
   "nbconvert_exporter": "python",
   "pygments_lexer": "ipython3",
   "version": "3.8.8"
  }
 },
 "nbformat": 4,
 "nbformat_minor": 5
}
