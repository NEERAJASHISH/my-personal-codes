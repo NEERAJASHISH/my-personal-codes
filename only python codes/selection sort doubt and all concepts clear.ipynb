{
 "cells": [
  {
   "cell_type": "markdown",
   "id": "1c568b97",
   "metadata": {},
   "source": [
    "\n",
    "# here there are three cases how if works with for loop"
   ]
  },
  {
   "cell_type": "code",
   "execution_count": 1,
   "id": "0d4dc4fc",
   "metadata": {},
   "outputs": [],
   "source": [
    "#case 1 if print is with in if\n",
    "def selectionsort(v):\n",
    "    red = 0\n",
    "    \n",
    "    for h in range(0,len(v)):\n",
    "        if v[h] < v[red]: \n",
    "            red = h\n",
    "            print(red)\n",
    "            # here it wiil be holding the after each itterations of the for loop and immediately prints the value after the condition\n",
    "       "
   ]
  },
  {
   "cell_type": "code",
   "execution_count": 2,
   "id": "4bfe3240",
   "metadata": {
    "scrolled": true
   },
   "outputs": [
    {
     "name": "stdout",
     "output_type": "stream",
     "text": [
      "1\n",
      "4\n"
     ]
    }
   ],
   "source": [
    "selectionsort([74,32,89,55,21,64])"
   ]
  },
  {
   "cell_type": "code",
   "execution_count": null,
   "id": "bd81e2c7",
   "metadata": {},
   "outputs": [],
   "source": [
    "#case 2"
   ]
  },
  {
   "cell_type": "code",
   "execution_count": 3,
   "id": "a06249e4",
   "metadata": {
    "scrolled": true
   },
   "outputs": [
    {
     "name": "stdout",
     "output_type": "stream",
     "text": [
      "0\n",
      "1\n",
      "1\n",
      "1\n",
      "4\n",
      "4\n"
     ]
    }
   ],
   "source": [
    "def selectionsort(v):\n",
    "    red = 0\n",
    "    \n",
    "    for h in range(0,len(v)):  \n",
    "        if v[h] < v[red]: #here the print is after the if condition and hence it will print the value v[red] which is in the if loop as well as red inside the if loop\n",
    "            red = h\n",
    "        print(red)\n",
    "            \n",
    "selectionsort([74,32,89,55,21,64])            "
   ]
  },
  {
   "cell_type": "code",
   "execution_count": null,
   "id": "6655e400",
   "metadata": {},
   "outputs": [],
   "source": [
    "# case 3"
   ]
  },
  {
   "cell_type": "code",
   "execution_count": 4,
   "id": "838831ef",
   "metadata": {},
   "outputs": [
    {
     "name": "stdout",
     "output_type": "stream",
     "text": [
      "4\n"
     ]
    }
   ],
   "source": [
    "def selectionsort(v):\n",
    "    red = 0\n",
    "    \n",
    "    for h in range(0,len(v)):  \n",
    "        if v[h] < v[red]: # here after all the ittrations it will print red (the min value in the list)\n",
    "            red = h\n",
    "    print(red)\n",
    "            \n",
    "selectionsort([74,32,89,55,21,64])            "
   ]
  },
  {
   "cell_type": "code",
   "execution_count": null,
   "id": "1c8a5ebb",
   "metadata": {},
   "outputs": [],
   "source": []
  }
 ],
 "metadata": {
  "kernelspec": {
   "display_name": "Python 3",
   "language": "python",
   "name": "python3"
  },
  "language_info": {
   "codemirror_mode": {
    "name": "ipython",
    "version": 3
   },
   "file_extension": ".py",
   "mimetype": "text/x-python",
   "name": "python",
   "nbconvert_exporter": "python",
   "pygments_lexer": "ipython3",
   "version": "3.8.8"
  }
 },
 "nbformat": 4,
 "nbformat_minor": 5
}
