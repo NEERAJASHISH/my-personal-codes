{
 "cells": [
  {
   "cell_type": "code",
   "execution_count": 69,
   "id": "7559bebb",
   "metadata": {},
   "outputs": [
    {
     "name": "stdout",
     "output_type": "stream",
     "text": [
      "['h', 'e', 'l', 'l', 'o']\n",
      "h 1\n",
      "e 1\n",
      "l 2\n",
      "l 2\n",
      "o 1\n"
     ]
    }
   ],
   "source": [
    "s = \"hello\"\n",
    "t = list(s)\n",
    "print(t)\n",
    "for i in t:\n",
    "    print(i,t.count(i))\n",
    "   \n",
    "    \n",
    "\n",
    "    "
   ]
  },
  {
   "cell_type": "code",
   "execution_count": 8,
   "id": "680d5d05",
   "metadata": {},
   "outputs": [
    {
     "name": "stdout",
     "output_type": "stream",
     "text": [
      "['h', 'e', 'l', 'l', 'o']\n",
      "0\n",
      "0\n",
      "0\n",
      "0\n",
      "0\n"
     ]
    }
   ],
   "source": [
    "p = \"hello\"\n",
    "\n",
    "\n",
    "for i in range(len(p)):\n",
    "    if p[i] == \n",
    "   "
   ]
  },
  {
   "cell_type": "markdown",
   "id": "fae23a85",
   "metadata": {},
   "source": [
    "# dictionaries"
   ]
  },
  {
   "cell_type": "code",
   "execution_count": 2,
   "id": "7715da58",
   "metadata": {},
   "outputs": [],
   "source": [
    "score = {}\n",
    "score[\"test1\"] = {}\n",
    "score[\"test2\"] = {}\n",
    "score[\"test1\"][\"kholi\"] = 76\n",
    "score[\"test2\"][\"kholi\"] = 88\n",
    "score[\"test2\"][\"dhoni\"] = 100\n",
    " \n"
   ]
  },
  {
   "cell_type": "code",
   "execution_count": 3,
   "id": "126a37a1",
   "metadata": {},
   "outputs": [
    {
     "data": {
      "text/plain": [
       "{'test1': {'kholi': 76}, 'test2': {'kholi': 88, 'dhoni': 100}}"
      ]
     },
     "execution_count": 3,
     "metadata": {},
     "output_type": "execute_result"
    }
   ],
   "source": [
    "score\n"
   ]
  },
  {
   "cell_type": "code",
   "execution_count": 4,
   "id": "de57bda0",
   "metadata": {},
   "outputs": [
    {
     "data": {
      "text/plain": [
       "dict_keys(['test1', 'test2'])"
      ]
     },
     "execution_count": 4,
     "metadata": {},
     "output_type": "execute_result"
    }
   ],
   "source": [
    "score.keys()"
   ]
  },
  {
   "cell_type": "code",
   "execution_count": 13,
   "id": "15a8f17d",
   "metadata": {},
   "outputs": [
    {
     "data": {
      "text/plain": [
       "'a'"
      ]
     },
     "execution_count": 13,
     "metadata": {},
     "output_type": "execute_result"
    }
   ],
   "source": [
    "l = {}\n",
    "for i in \"abcdefghijk\":\n",
    "    l[i] = i\n",
    "\n",
    "l[\"a\"]    \n"
   ]
  },
  {
   "cell_type": "code",
   "execution_count": 15,
   "id": "2ea91eeb",
   "metadata": {},
   "outputs": [
    {
     "data": {
      "text/plain": [
       "'b'"
      ]
     },
     "execution_count": 15,
     "metadata": {},
     "output_type": "execute_result"
    }
   ],
   "source": [
    "l[\"b\"]"
   ]
  },
  {
   "cell_type": "code",
   "execution_count": 22,
   "id": "4504cdd1",
   "metadata": {},
   "outputs": [
    {
     "data": {
      "text/plain": [
       "dict_keys(['a', 'b', 'c', 'd', 'e', 'f', 'g', 'h', 'i', 'j', 'k'])"
      ]
     },
     "execution_count": 22,
     "metadata": {},
     "output_type": "execute_result"
    }
   ],
   "source": [
    "l.keys()"
   ]
  },
  {
   "cell_type": "code",
   "execution_count": 23,
   "id": "8545dce3",
   "metadata": {},
   "outputs": [
    {
     "data": {
      "text/plain": [
       "dict_values(['a', 'b', 'c', 'd', 'e', 'f', 'g', 'h', 'i', 'j', 'k'])"
      ]
     },
     "execution_count": 23,
     "metadata": {},
     "output_type": "execute_result"
    }
   ],
   "source": [
    "l.values()"
   ]
  },
  {
   "cell_type": "code",
   "execution_count": 25,
   "id": "b118c0f9",
   "metadata": {},
   "outputs": [
    {
     "ename": "TypeError",
     "evalue": "unsupported operand type(s) for +: 'int' and 'str'",
     "output_type": "error",
     "traceback": [
      "\u001b[1;31m---------------------------------------------------------------------------\u001b[0m",
      "\u001b[1;31mTypeError\u001b[0m                                 Traceback (most recent call last)",
      "\u001b[1;32m<ipython-input-25-5809e4237f8a>\u001b[0m in \u001b[0;36m<module>\u001b[1;34m\u001b[0m\n\u001b[0;32m      1\u001b[0m \u001b[0mtotal\u001b[0m \u001b[1;33m=\u001b[0m \u001b[1;36m0\u001b[0m\u001b[1;33m\u001b[0m\u001b[1;33m\u001b[0m\u001b[0m\n\u001b[0;32m      2\u001b[0m \u001b[1;32mfor\u001b[0m \u001b[0mi\u001b[0m \u001b[1;32min\u001b[0m \u001b[0ml\u001b[0m\u001b[1;33m.\u001b[0m\u001b[0mvalues\u001b[0m\u001b[1;33m(\u001b[0m\u001b[1;33m)\u001b[0m\u001b[1;33m:\u001b[0m\u001b[1;33m\u001b[0m\u001b[1;33m\u001b[0m\u001b[0m\n\u001b[1;32m----> 3\u001b[1;33m     \u001b[0mtotal\u001b[0m \u001b[1;33m=\u001b[0m \u001b[0mtotal\u001b[0m \u001b[1;33m+\u001b[0m \u001b[0mi\u001b[0m\u001b[1;33m\u001b[0m\u001b[1;33m\u001b[0m\u001b[0m\n\u001b[0m\u001b[0;32m      4\u001b[0m \u001b[0mprint\u001b[0m\u001b[1;33m(\u001b[0m\u001b[0mtotal\u001b[0m\u001b[1;33m)\u001b[0m\u001b[1;33m\u001b[0m\u001b[1;33m\u001b[0m\u001b[0m\n",
      "\u001b[1;31mTypeError\u001b[0m: unsupported operand type(s) for +: 'int' and 'str'"
     ]
    }
   ],
   "source": [
    "total = 0\n",
    "for i in l.values():\n",
    "    total = total + i\n",
    "print(total)    \n"
   ]
  },
  {
   "cell_type": "code",
   "execution_count": 26,
   "id": "76845392",
   "metadata": {},
   "outputs": [],
   "source": [
    "geeks = {}\n",
    "geeks[\"a\"] = \"geeks\"\n",
    "geeks[\"b\"] = \"geeks\"\n"
   ]
  },
  {
   "cell_type": "code",
   "execution_count": null,
   "id": "324548c9",
   "metadata": {},
   "outputs": [],
   "source": []
  },
  {
   "cell_type": "code",
   "execution_count": 67,
   "id": "b38c0505",
   "metadata": {},
   "outputs": [
    {
     "name": "stdout",
     "output_type": "stream",
     "text": [
      "a\n",
      "b\n"
     ]
    }
   ],
   "source": [
    "for i in geeks:\n",
    "    print(i)"
   ]
  },
  {
   "cell_type": "code",
   "execution_count": 27,
   "id": "db0f7caa",
   "metadata": {},
   "outputs": [
    {
     "data": {
      "text/plain": [
       "{'a': 'geeks', 'b': 'geeks'}"
      ]
     },
     "execution_count": 27,
     "metadata": {},
     "output_type": "execute_result"
    }
   ],
   "source": [
    "geeks"
   ]
  },
  {
   "cell_type": "code",
   "execution_count": 66,
   "id": "eef9f14a",
   "metadata": {},
   "outputs": [
    {
     "data": {
      "text/plain": [
       "'geeks'"
      ]
     },
     "execution_count": 66,
     "metadata": {},
     "output_type": "execute_result"
    }
   ],
   "source": [
    "geeks[\"a\"]"
   ]
  },
  {
   "cell_type": "code",
   "execution_count": 28,
   "id": "2c76a052",
   "metadata": {},
   "outputs": [
    {
     "data": {
      "text/plain": [
       "dict_keys(['a', 'b'])"
      ]
     },
     "execution_count": 28,
     "metadata": {},
     "output_type": "execute_result"
    }
   ],
   "source": [
    "geeks.keys()"
   ]
  },
  {
   "cell_type": "code",
   "execution_count": 2,
   "id": "ce8d86b9",
   "metadata": {},
   "outputs": [
    {
     "data": {
      "text/plain": [
       "164"
      ]
     },
     "execution_count": 2,
     "metadata": {},
     "output_type": "execute_result"
    }
   ],
   "source": [
    "score = {}\n",
    "score[\"test1\"] = {}\n",
    "score[\"test2\"] = {}\n",
    "score[\"test1\"][\"kholi\"] = 76\n",
    "score[\"test2\"][\"kholi\"] = 88\n",
    "score[\"test2\"][\"dhoni\"] = 100\n",
    "score = score[\"test1\"][\"kholi\"] + score[\"test2\"][\"kholi\"] \n",
    "score\n"
   ]
  },
  {
   "cell_type": "code",
   "execution_count": 32,
   "id": "06befc11",
   "metadata": {},
   "outputs": [
    {
     "data": {
      "text/plain": [
       "{'kholi': 164, 'dhoni': 100}"
      ]
     },
     "execution_count": 32,
     "metadata": {},
     "output_type": "execute_result"
    }
   ],
   "source": [
    "total\n"
   ]
  },
  {
   "cell_type": "code",
   "execution_count": 33,
   "id": "3af59269",
   "metadata": {},
   "outputs": [
    {
     "data": {
      "text/plain": [
       "dict_keys(['kholi'])"
      ]
     },
     "execution_count": 33,
     "metadata": {},
     "output_type": "execute_result"
    }
   ],
   "source": [
    "score[\"test1\"].keys()"
   ]
  },
  {
   "cell_type": "code",
   "execution_count": 23,
   "id": "e4dcf98d",
   "metadata": {},
   "outputs": [
    {
     "data": {
      "text/plain": [
       "30"
      ]
     },
     "execution_count": 23,
     "metadata": {},
     "output_type": "execute_result"
    }
   ],
   "source": [
    "matches = {}\n",
    "matches[\"match1\"] = {}\n",
    "matches[\"match2\"] = {}\n",
    "matches[\"match1\"][\"ronaldo\"] = 30\n",
    "matches[\"match2\"][\"messi\"] = 20\n",
    "matches[\"match2\"][\"ronaldo\"] = 30\n",
    "matches[\"match1\"][\"messi\"] = 5\n",
    "\n",
    "\n",
    "\n"
   ]
  },
  {
   "cell_type": "code",
   "execution_count": 3,
   "id": "d082d977",
   "metadata": {},
   "outputs": [
    {
     "name": "stdout",
     "output_type": "stream",
     "text": [
      "{'ronaldo': 60, 'messi': 25}\n"
     ]
    }
   ],
   "source": [
    "totalscore = {}\n",
    "for i in [\"ronaldo\",\"messi\"]:\n",
    "    totalscore[i] = 0\n",
    "    for j in matches.keys():\n",
    "        if i in matches[j].keys():\n",
    "            totalscore[i] = totalscore[i] + matches[j][i] #matches[\"match1\"][\"ronaldo\"]\n",
    "matches[\"match1\"][\"ronaldo\"]\n",
    "print(totalscore)            \n",
    "        \n",
    "        \n",
    "    \n",
    "    \n",
    "    "
   ]
  },
  {
   "cell_type": "code",
   "execution_count": 4,
   "id": "879acfae",
   "metadata": {},
   "outputs": [
    {
     "name": "stdout",
     "output_type": "stream",
     "text": [
      "ronaldo\n",
      "ronaldo\n",
      "messi\n",
      "messi\n"
     ]
    }
   ],
   "source": [
    "totalscore = {}\n",
    "for i in [\"ronaldo\",\"messi\"]:\n",
    "    totalscore[i] = 0\n",
    "    for j in matches.keys():\n",
    "        if i in matches[j].keys():\n",
    "            print(i)\n",
    "            \n"
   ]
  },
  {
   "cell_type": "code",
   "execution_count": 52,
   "id": "ca14e850",
   "metadata": {},
   "outputs": [
    {
     "name": "stdout",
     "output_type": "stream",
     "text": [
      "ronaldo -  200\n",
      "messi -  200\n"
     ]
    }
   ],
   "source": [
    "\n",
    "s = [20,30,40,50,60]\n",
    "sum = 0\n",
    "for i in s:\n",
    "    sum = sum + i\n",
    "\n",
    "print(\"ronaldo\" +\" - \",sum)  \n",
    "print(\"messi\" +\" - \",sum)"
   ]
  },
  {
   "cell_type": "markdown",
   "id": "417cc3aa",
   "metadata": {},
   "source": [
    "# code to find the number of freq of stings"
   ]
  },
  {
   "cell_type": "code",
   "execution_count": 62,
   "id": "f72eceb2",
   "metadata": {},
   "outputs": [],
   "source": [
    "# basic for the programme that we are about to execuite\n",
    "d = {}\n",
    "d[\"del\"] = {}\n",
    "d[\"del\"] = 69\n",
    "d[\"del\"] = d[\"del\"] + 1\n",
    " \n",
    "\n"
   ]
  },
  {
   "cell_type": "code",
   "execution_count": 63,
   "id": "78e2116b",
   "metadata": {},
   "outputs": [
    {
     "data": {
      "text/plain": [
       "{'del': 70}"
      ]
     },
     "execution_count": 63,
     "metadata": {},
     "output_type": "execute_result"
    }
   ],
   "source": [
    "d"
   ]
  },
  {
   "cell_type": "code",
   "execution_count": null,
   "id": "55498062",
   "metadata": {},
   "outputs": [],
   "source": [
    "# code to find the number of occurance of given charecter in the string\n"
   ]
  },
  {
   "cell_type": "code",
   "execution_count": 70,
   "id": "02ec7763",
   "metadata": {},
   "outputs": [
    {
     "name": "stdout",
     "output_type": "stream",
     "text": [
      "enter the string:neeraj\n",
      "{'n': 1, 'e': 2, 'r': 1, 'a': 1, 'j': 1}\n"
     ]
    }
   ],
   "source": [
    "str = input(\"enter the string:\")\n",
    "p = {}\n",
    "for i in str:\n",
    "    if i in p:\n",
    "        p[i] = p[i] + 1\n",
    "    else:\n",
    "        p[i] = 1\n",
    "print(p)        "
   ]
  },
  {
   "cell_type": "code",
   "execution_count": 80,
   "id": "c714ab9d",
   "metadata": {},
   "outputs": [
    {
     "ename": "TypeError",
     "evalue": "'str' object is not callable",
     "output_type": "error",
     "traceback": [
      "\u001b[1;31m---------------------------------------------------------------------------\u001b[0m",
      "\u001b[1;31mTypeError\u001b[0m                                 Traceback (most recent call last)",
      "\u001b[1;32m<ipython-input-80-062f8929f5e3>\u001b[0m in \u001b[0;36m<module>\u001b[1;34m\u001b[0m\n\u001b[0;32m      9\u001b[0m \u001b[1;33m\u001b[0m\u001b[0m\n\u001b[0;32m     10\u001b[0m \u001b[1;31m# printing result\u001b[0m\u001b[1;33m\u001b[0m\u001b[1;33m\u001b[0m\u001b[1;33m\u001b[0m\u001b[0m\n\u001b[1;32m---> 11\u001b[1;33m \u001b[0mprint\u001b[0m \u001b[1;33m(\u001b[0m\u001b[1;34m\"Occurrence of all characters in GeeksforGeeks is :\\n \"\u001b[0m\u001b[1;33m+\u001b[0m \u001b[0mstr\u001b[0m\u001b[1;33m(\u001b[0m\u001b[0moup\u001b[0m\u001b[1;33m)\u001b[0m\u001b[1;33m)\u001b[0m\u001b[1;33m\u001b[0m\u001b[1;33m\u001b[0m\u001b[0m\n\u001b[0m",
      "\u001b[1;31mTypeError\u001b[0m: 'str' object is not callable"
     ]
    }
   ],
   "source": [
    "from collections import Counter \n",
    "    \n",
    "# initializing string  \n",
    "in_str = \"GeeksforGeeks\"\n",
    "    \n",
    "# using collections.Counter() to get  \n",
    "# count of each element in string  \n",
    "oup = Counter(in_str) \n",
    "    \n",
    "# printing result  \n",
    "print (\"Occurrence of all characters in GeeksforGeeks is :\\n \"+ str(oup))"
   ]
  },
  {
   "cell_type": "code",
   "execution_count": 89,
   "id": "916c44bb",
   "metadata": {},
   "outputs": [
    {
     "name": "stdout",
     "output_type": "stream",
     "text": [
      "['n', 'e', 'e', 'r', 'a', 'j']\n",
      "n- 1\n",
      "e- 2\n",
      "e- 2\n",
      "r- 1\n",
      "a- 1\n",
      "j- 1\n"
     ]
    }
   ],
   "source": [
    "l= \"neeraj\"\n",
    "s = list(l)\n",
    "print(s)\n",
    "for i in s:\n",
    "    if i > count(i):\n",
    "        \n",
    "   \n",
    "\n"
   ]
  },
  {
   "cell_type": "code",
   "execution_count": 27,
   "id": "52299cd5",
   "metadata": {},
   "outputs": [
    {
     "name": "stdout",
     "output_type": "stream",
     "text": [
      "enter the string:sasindhur\n",
      "enter the substring:aditya\n",
      "['a', 'i', 'd']\n"
     ]
    }
   ],
   "source": [
    "# programme to find matching words in  the string\n",
    "t  = input(\"enter the string:\")\n",
    "c = input(\"enter the substring:\")\n",
    "matcher = []\n",
    "for i in t:\n",
    "    if i in c:\n",
    "        matcher.append(i)\n",
    "print(matcher)        "
   ]
  },
  {
   "cell_type": "code",
   "execution_count": 24,
   "id": "c1ff1650",
   "metadata": {},
   "outputs": [
    {
     "name": "stdout",
     "output_type": "stream",
     "text": [
      "enter the first string:sasindhur\n",
      "enter the second string:sasindhur\n",
      "{'s': 2, 'a': 1, 'i': 1, 'n': 1, 'd': 1, 'h': 1, 'u': 1, 'r': 1}\n"
     ]
    }
   ],
   "source": [
    "#programme to find the number of occurance of words in first string with the second string\n",
    "c  = input(\"enter the first string:\")\n",
    "d  = input(\"enter the second string:\")\n",
    "list = []\n",
    "dic = {}\n",
    "for i in c:\n",
    "    if i in d:\n",
    "        list.append(i)\n",
    "        \n",
    "for j in list:\n",
    "    if j in dic:\n",
    "        dic[j] = dic[j] + 1\n",
    "    else:\n",
    "        dic[j] = 1\n",
    "print(dic)        \n",
    "        \n",
    "    "
   ]
  },
  {
   "cell_type": "code",
   "execution_count": 5,
   "id": "162ead7a",
   "metadata": {},
   "outputs": [],
   "source": [
    "def div(a,b):\n",
    "    print(a/b)\n",
    "    "
   ]
  },
  {
   "cell_type": "code",
   "execution_count": 6,
   "id": "c447a8ef",
   "metadata": {},
   "outputs": [
    {
     "name": "stdout",
     "output_type": "stream",
     "text": [
      "2.0\n"
     ]
    }
   ],
   "source": [
    "div(10,5)"
   ]
  },
  {
   "cell_type": "markdown",
   "id": "cb5bb25a",
   "metadata": {},
   "source": [
    "# decorator"
   ]
  },
  {
   "cell_type": "code",
   "execution_count": 12,
   "id": "05ad0200",
   "metadata": {},
   "outputs": [
    {
     "name": "stdout",
     "output_type": "stream",
     "text": [
      "2.0\n"
     ]
    }
   ],
   "source": [
    "def div(a,b):\n",
    "    print(a/b)\n",
    "\n",
    "def mod_div(fun):\n",
    "    def inner(a,b):\n",
    "        if a < b:\n",
    "            a,b = b,a\n",
    "        fun(a,b)\n",
    "    return(inner)\n",
    "\n",
    "div = mod_div(div)\n",
    "\n",
    "div(2,4)\n",
    "\n",
    "    \n",
    "    "
   ]
  },
  {
   "cell_type": "code",
   "execution_count": 13,
   "id": "539d7958",
   "metadata": {},
   "outputs": [],
   "source": [
    "def count_char(text):\n",
    "  for i in range(len(text)):\n",
    "    if len(text) == 0:\n",
    "      break;\n",
    "    ch = text[0]\n",
    "    if ch == ' ' or ch == '\\t':\n",
    "      continue\n",
    "    print(ch + \" - \", text.count(ch))\n",
    "    text = text.replace(ch, '').strip()"
   ]
  },
  {
   "cell_type": "code",
   "execution_count": 15,
   "id": "eac93f8e",
   "metadata": {},
   "outputs": [
    {
     "name": "stdout",
     "output_type": "stream",
     "text": [
      "h -  1\n",
      "e -  1\n",
      "l -  2\n",
      "o -  1\n"
     ]
    }
   ],
   "source": [
    "count_char(\"hello\")"
   ]
  },
  {
   "cell_type": "code",
   "execution_count": 16,
   "id": "c8913a4a",
   "metadata": {},
   "outputs": [
    {
     "ename": "SyntaxError",
     "evalue": "'return' outside function (<ipython-input-16-e0a3780173c9>, line 4)",
     "output_type": "error",
     "traceback": [
      "\u001b[1;36m  File \u001b[1;32m\"<ipython-input-16-e0a3780173c9>\"\u001b[1;36m, line \u001b[1;32m4\u001b[0m\n\u001b[1;33m    return(b)\u001b[0m\n\u001b[1;37m    ^\u001b[0m\n\u001b[1;31mSyntaxError\u001b[0m\u001b[1;31m:\u001b[0m 'return' outside function\n"
     ]
    }
   ],
   "source": [
    "def add(x,y):\n",
    "    p = x + y\n",
    "    b = print(p)\n",
    "    return(b)\n",
    "\n",
    "x = int(input(\"enter the first number: \"))\n",
    "y = int(input(\"enter the second number: \"))\n",
    "num = add(x,y)\n",
    "print(num)\n"
   ]
  },
  {
   "cell_type": "code",
   "execution_count": 17,
   "id": "8c38cc64",
   "metadata": {},
   "outputs": [
    {
     "name": "stdout",
     "output_type": "stream",
     "text": [
      "assindhur\n"
     ]
    }
   ],
   "source": [
    "print(\"assindhur\")"
   ]
  },
  {
   "cell_type": "code",
   "execution_count": 19,
   "id": "aa7aa15c",
   "metadata": {},
   "outputs": [],
   "source": [
    "\n",
    "def cube(x):\n",
    "    return(x*x*x)"
   ]
  },
  {
   "cell_type": "code",
   "execution_count": 20,
   "id": "c49f6ebe",
   "metadata": {},
   "outputs": [
    {
     "data": {
      "text/plain": [
       "27"
      ]
     },
     "execution_count": 20,
     "metadata": {},
     "output_type": "execute_result"
    }
   ],
   "source": [
    "cube(3)"
   ]
  },
  {
   "cell_type": "code",
   "execution_count": 4,
   "id": "24e5cb44",
   "metadata": {},
   "outputs": [
    {
     "name": "stdout",
     "output_type": "stream",
     "text": [
      "[1, 2, 3, 4, 5, 6]\n"
     ]
    }
   ],
   "source": [
    "l = [1,2,3,4,5,6]\n",
    "l.sort()\n",
    "print(l)"
   ]
  },
  {
   "cell_type": "markdown",
   "id": "00264a38",
   "metadata": {},
   "source": [
    "# binary search\n",
    "    "
   ]
  },
  {
   "cell_type": "code",
   "execution_count": 9,
   "id": "3a5785e6",
   "metadata": {},
   "outputs": [],
   "source": [
    "def bsearch(seq,v,l,r):\n",
    "    if l-r == 0:\n",
    "        return(False)\n",
    "    mid = l+r//2\n",
    "    \n",
    "    if v == seq[mid]:\n",
    "        return(True)\n",
    "    elif v < seq[mid]:\n",
    "        return(bsearch(seq,v,l,mid))\n",
    "    else:\n",
    "        return(bsearch(seq,v,mid+1,r))\n",
    "        \n",
    "        \n",
    "        "
   ]
  },
  {
   "cell_type": "code",
   "execution_count": 16,
   "id": "acb99059",
   "metadata": {},
   "outputs": [
    {
     "data": {
      "text/plain": [
       "True"
      ]
     },
     "execution_count": 16,
     "metadata": {},
     "output_type": "execute_result"
    }
   ],
   "source": [
    "bsearch([1,2,3,4,5,6,7,8,9],3,1,7)\n"
   ]
  },
  {
   "cell_type": "code",
   "execution_count": 5,
   "id": "c03c88b9",
   "metadata": {},
   "outputs": [],
   "source": [
    "def findpos(l,v):\n",
    "\n",
    "    for i in range(len(l)):\n",
    "        if l[i] == v:\n",
    "            print(\"the element is found in the list\")\n",
    "            break\n",
    "\n",
    "            \n",
    "    \n",
    "    else:\n",
    "        print(\"the element is not found in the list\")\n"
   ]
  },
  {
   "cell_type": "code",
   "execution_count": 7,
   "id": "e5a042e7",
   "metadata": {
    "scrolled": true
   },
   "outputs": [
    {
     "name": "stdout",
     "output_type": "stream",
     "text": [
      "the element is not found in the list\n"
     ]
    }
   ],
   "source": [
    "findpos([1,2,3,4,5,6,7],10)"
   ]
  },
  {
   "cell_type": "code",
   "execution_count": 51,
   "id": "be47c1cb",
   "metadata": {},
   "outputs": [
    {
     "name": "stdout",
     "output_type": "stream",
     "text": [
      "0\n",
      "1\n",
      "2\n",
      "3\n",
      "4\n",
      "5\n"
     ]
    }
   ],
   "source": [
    "l= [ 1,2,3,4,5,6]\n",
    "for i in range(len(l)):\n",
    "    print(i)"
   ]
  },
  {
   "cell_type": "code",
   "execution_count": 47,
   "id": "67761baa",
   "metadata": {},
   "outputs": [
    {
     "name": "stdout",
     "output_type": "stream",
     "text": [
      "74\n",
      "32\n",
      "32\n",
      "32\n",
      "32\n",
      "32\n",
      "55\n",
      "21\n",
      "64\n",
      "34\n"
     ]
    }
   ],
   "source": [
    "l = [74,32,89,99,100,111,55,21,64,34]\n",
    "\n",
    "\n",
    "for i in l:\n",
    "    if i < l[2]:\n",
    "        minpos = i # here for different excecution the min pos is same hence for how many times the loop excecuted the minpos will get printed that many timess\n",
    "    print(minpos) \n",
    "       \n",
    "        \n",
    "       \n",
    "        \n",
    "  \n",
    "        \n",
    "    \n",
    "   \n",
    "    \n",
    "   \n",
    "                \n",
    "        \n",
    "\n",
    "        \n",
    "\n",
    "\n",
    "   \n",
    "    \n",
    " "
   ]
  },
  {
   "cell_type": "code",
   "execution_count": 2,
   "id": "851b67cd",
   "metadata": {},
   "outputs": [
    {
     "name": "stdout",
     "output_type": "stream",
     "text": [
      "74\n",
      "32\n",
      "55\n",
      "21\n",
      "64\n",
      "34\n",
      "38\n"
     ]
    }
   ],
   "source": [
    "l = [74,32,89,99,100,111,55,21,64,34,38]\n",
    "\n",
    "\n",
    "for i in l:\n",
    "    if i < l[2]:\n",
    "        minpos = i \n",
    "        print(minpos)        \n",
    "        \n",
    "        "
   ]
  },
  {
   "cell_type": "code",
   "execution_count": null,
   "id": "97c9830c",
   "metadata": {},
   "outputs": [],
   "source": []
  },
  {
   "cell_type": "code",
   "execution_count": 16,
   "id": "ac3b4762",
   "metadata": {
    "scrolled": true
   },
   "outputs": [
    {
     "data": {
      "text/plain": [
       "6"
      ]
     },
     "execution_count": 16,
     "metadata": {},
     "output_type": "execute_result"
    }
   ],
   "source": [
    "l = [74,32,89,55,21,64]\n",
    "len(l)"
   ]
  },
  {
   "cell_type": "code",
   "execution_count": 61,
   "id": "06608b4a",
   "metadata": {},
   "outputs": [],
   "source": [
    "def selectionsort(v):\n",
    "    red = 0\n",
    "    \n",
    "    for h in range(0,len(v)):\n",
    "        if v[h] < v[red]: \n",
    "            red = h\n",
    "        print(red)\n",
    "       \n",
    "        \n",
    "    \n",
    "        \n",
    "        \n",
    "    \n",
    "    \n",
    "    \n",
    "        \n",
    "       \n",
    "                \n",
    "                \n",
    "        \n",
    "        \n",
    "        \n",
    "    \n",
    "        \n",
    "    \n",
    "            "
   ]
  },
  {
   "cell_type": "code",
   "execution_count": 62,
   "id": "f1242674",
   "metadata": {
    "scrolled": true
   },
   "outputs": [
    {
     "name": "stdout",
     "output_type": "stream",
     "text": [
      "0\n",
      "1\n",
      "1\n",
      "1\n",
      "4\n",
      "4\n"
     ]
    }
   ],
   "source": [
    "selectionsort([74,32,89,55,21,64])"
   ]
  },
  {
   "cell_type": "code",
   "execution_count": 35,
   "id": "873655b4",
   "metadata": {
    "scrolled": false
   },
   "outputs": [
    {
     "name": "stdout",
     "output_type": "stream",
     "text": [
      "0\n",
      "1\n",
      "2\n",
      "3\n",
      "4\n",
      "5\n"
     ]
    }
   ],
   "source": [
    "for i in range(0,6):\n",
    "    print(i)"
   ]
  },
  {
   "cell_type": "code",
   "execution_count": 87,
   "id": "8a2e184e",
   "metadata": {},
   "outputs": [],
   "source": [
    "def selectionsorto(m):\n",
    "    for start in range(len(m)):\n",
    "        minpos=start\n",
    "        \n",
    "        for i in range(start,len(m)):\n",
    "            if m[i]<m[minpos]:\n",
    "                minpos = i\n",
    "                \n",
    "                \n",
    "        (m[start],m[minpos]) = (m[minpos],m[start]) \n",
    "\n",
    "\n",
    "\n",
    "                "
   ]
  },
  {
   "cell_type": "code",
   "execution_count": 88,
   "id": "d3011827",
   "metadata": {},
   "outputs": [],
   "source": [
    "m = [55,1,8,100,10000,56,34]\n",
    "selectionsorto(m)\n",
    "\n"
   ]
  }
 ],
 "metadata": {
  "kernelspec": {
   "display_name": "Python 3",
   "language": "python",
   "name": "python3"
  },
  "language_info": {
   "codemirror_mode": {
    "name": "ipython",
    "version": 3
   },
   "file_extension": ".py",
   "mimetype": "text/x-python",
   "name": "python",
   "nbconvert_exporter": "python",
   "pygments_lexer": "ipython3",
   "version": "3.8.8"
  }
 },
 "nbformat": 4,
 "nbformat_minor": 5
}
