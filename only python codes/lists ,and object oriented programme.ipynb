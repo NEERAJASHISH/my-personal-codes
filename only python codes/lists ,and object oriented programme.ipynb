{
 "cells": [
  {
   "cell_type": "code",
   "execution_count": 1,
   "id": "ce847186",
   "metadata": {},
   "outputs": [],
   "source": [
    "l1 = [1,2,3,4,5]\n",
    "l2 = l1 \n",
    "\n"
   ]
  },
  {
   "cell_type": "code",
   "execution_count": 2,
   "id": "e845efa7",
   "metadata": {},
   "outputs": [
    {
     "data": {
      "text/plain": [
       "[1, 2, 3, 4, 5]"
      ]
     },
     "execution_count": 2,
     "metadata": {},
     "output_type": "execute_result"
    }
   ],
   "source": [
    "l2\n"
   ]
  },
  {
   "cell_type": "code",
   "execution_count": 3,
   "id": "9e2b52e2",
   "metadata": {},
   "outputs": [
    {
     "data": {
      "text/plain": [
       "[1, 2, 3, 4, 5]"
      ]
     },
     "execution_count": 3,
     "metadata": {},
     "output_type": "execute_result"
    }
   ],
   "source": [
    "l1"
   ]
  },
  {
   "cell_type": "code",
   "execution_count": 4,
   "id": "dfcb8c66",
   "metadata": {},
   "outputs": [],
   "source": [
    "l1[1] = 1"
   ]
  },
  {
   "cell_type": "code",
   "execution_count": 5,
   "id": "33c76de2",
   "metadata": {},
   "outputs": [
    {
     "data": {
      "text/plain": [
       "[1, 1, 3, 4, 5]"
      ]
     },
     "execution_count": 5,
     "metadata": {},
     "output_type": "execute_result"
    }
   ],
   "source": [
    "l1"
   ]
  },
  {
   "cell_type": "code",
   "execution_count": 6,
   "id": "e4c20b97",
   "metadata": {},
   "outputs": [
    {
     "data": {
      "text/plain": [
       "[1, 1, 3, 4, 5]"
      ]
     },
     "execution_count": 6,
     "metadata": {},
     "output_type": "execute_result"
    }
   ],
   "source": [
    "l2"
   ]
  },
  {
   "cell_type": "code",
   "execution_count": 7,
   "id": "402d1c1a",
   "metadata": {},
   "outputs": [],
   "source": [
    "#slicing the list donot change the the l2 for example\n",
    "l1 = [1,2,3,4,5]\n",
    "l2 = l1[0:] \n",
    "l1[2] = 2"
   ]
  },
  {
   "cell_type": "code",
   "execution_count": 8,
   "id": "66d60edc",
   "metadata": {},
   "outputs": [
    {
     "data": {
      "text/plain": [
       "[1, 2, 2, 4, 5]"
      ]
     },
     "execution_count": 8,
     "metadata": {},
     "output_type": "execute_result"
    }
   ],
   "source": [
    "l1"
   ]
  },
  {
   "cell_type": "code",
   "execution_count": 9,
   "id": "1e1fb88c",
   "metadata": {},
   "outputs": [
    {
     "data": {
      "text/plain": [
       "[1, 2, 3, 4, 5]"
      ]
     },
     "execution_count": 9,
     "metadata": {},
     "output_type": "execute_result"
    }
   ],
   "source": [
    "l2 # here we can see that the value of the l2 is not changed"
   ]
  },
  {
   "cell_type": "code",
   "execution_count": 11,
   "id": "926ee254",
   "metadata": {},
   "outputs": [],
   "source": [
    "list1 = [1,3,5,7]\n",
    "list2 = list1\n",
    "list1 = list1 + [3]\n",
    "\n",
    "\n"
   ]
  },
  {
   "cell_type": "code",
   "execution_count": 12,
   "id": "77d7ec84",
   "metadata": {},
   "outputs": [
    {
     "data": {
      "text/plain": [
       "[1, 3, 5, 7, 3]"
      ]
     },
     "execution_count": 12,
     "metadata": {},
     "output_type": "execute_result"
    }
   ],
   "source": [
    "list1"
   ]
  },
  {
   "cell_type": "code",
   "execution_count": 13,
   "id": "221031c8",
   "metadata": {},
   "outputs": [
    {
     "data": {
      "text/plain": [
       "[1, 3, 5, 7]"
      ]
     },
     "execution_count": 13,
     "metadata": {},
     "output_type": "execute_result"
    }
   ],
   "source": [
    "list2"
   ]
  },
  {
   "cell_type": "markdown",
   "id": "f6367311",
   "metadata": {},
   "source": [
    "# to find the factor of given number\n"
   ]
  },
  {
   "cell_type": "code",
   "execution_count": 33,
   "id": "90c2257b",
   "metadata": {},
   "outputs": [
    {
     "name": "stdout",
     "output_type": "stream",
     "text": [
      "enter the number:13\n",
      "the factor of the given number is:\n",
      "[1, 13]\n"
     ]
    }
   ],
   "source": [
    "def factors(m):\n",
    "    list = []\n",
    "    for i in range (1,m+1): # remmmber to give the idendation properly\n",
    "        if m%i == 0:\n",
    "            list.append(i)\n",
    "    return(list)\n",
    "\n",
    "x = int(input(\"enter the number:\"))\n",
    "num = factors(x)\n",
    "print(\"the factor of the given number is:\")\n",
    "print(num)\n",
    "                               \n",
    "      \n",
    "        \n"
   ]
  },
  {
   "cell_type": "code",
   "execution_count": 34,
   "id": "e8afe143",
   "metadata": {},
   "outputs": [
    {
     "data": {
      "text/plain": [
       "[1, 7]"
      ]
     },
     "execution_count": 34,
     "metadata": {},
     "output_type": "execute_result"
    }
   ],
   "source": [
    "factors(7)"
   ]
  },
  {
   "cell_type": "code",
   "execution_count": 36,
   "id": "2f30ce8f",
   "metadata": {},
   "outputs": [
    {
     "name": "stdout",
     "output_type": "stream",
     "text": [
      "0\n",
      "1\n",
      "2\n"
     ]
    }
   ],
   "source": [
    "for i in range(3):\n",
    "    print(i)\n"
   ]
  },
  {
   "cell_type": "markdown",
   "id": "07fd56cc",
   "metadata": {},
   "source": [
    "# to find the power of the given number\n"
   ]
  },
  {
   "cell_type": "code",
   "execution_count": 2,
   "id": "04591d6c",
   "metadata": {},
   "outputs": [
    {
     "name": "stdout",
     "output_type": "stream",
     "text": [
      "enter the number x:5\n",
      "enter the number y:5\n",
      "3125\n"
     ]
    }
   ],
   "source": [
    "def power(m,n):\n",
    "    res = 1\n",
    "    for i in range(n):\n",
    "        res = res * m\n",
    "    return(res)\n",
    "    \n",
    "    \n",
    "\n",
    "x = int(input(\"enter the number x:\"))\n",
    "y = int(input(\"enter the number y:\"))\n",
    "num = power(x,y)\n",
    "print(int(num))\n",
    "\n",
    "\n",
    "        "
   ]
  },
  {
   "cell_type": "code",
   "execution_count": 11,
   "id": "76da507e",
   "metadata": {},
   "outputs": [
    {
     "data": {
      "text/plain": [
       "3125"
      ]
     },
     "execution_count": 11,
     "metadata": {},
     "output_type": "execute_result"
    }
   ],
   "source": [
    "power(5,5)"
   ]
  },
  {
   "cell_type": "code",
   "execution_count": 52,
   "id": "d1b04f6d",
   "metadata": {},
   "outputs": [
    {
     "name": "stdout",
     "output_type": "stream",
     "text": [
      "enter the number x:8\n",
      "enter the number y:8\n",
      "16777216\n"
     ]
    }
   ],
   "source": [
    "x = int(input(\"enter the number x:\"))\n",
    "y = int(input(\"enter the number y:\"))\n",
    "res = 1\n",
    "for i in range(y):\n",
    "    res = res*x\n",
    "    \n",
    "print(res)    \n",
    "    \n",
    "    \n",
    "    \n",
    "    \n",
    "    "
   ]
  },
  {
   "cell_type": "code",
   "execution_count": 42,
   "id": "1ccbd4fd",
   "metadata": {},
   "outputs": [
    {
     "data": {
      "text/plain": [
       "125"
      ]
     },
     "execution_count": 42,
     "metadata": {},
     "output_type": "execute_result"
    }
   ],
   "source": [
    "power(5,3)"
   ]
  },
  {
   "cell_type": "code",
   "execution_count": 43,
   "id": "65ea9cb3",
   "metadata": {},
   "outputs": [
    {
     "name": "stdout",
     "output_type": "stream",
     "text": [
      "enter the number: 10\n",
      "enter the second number:15\n",
      "25\n"
     ]
    }
   ],
   "source": [
    "a = int(input(\"enter the number: \"))\n",
    "b = int(input(\"enter the second number:\"))\n",
    "print(a+b)"
   ]
  },
  {
   "cell_type": "code",
   "execution_count": 46,
   "id": "c7c07dcb",
   "metadata": {},
   "outputs": [
    {
     "name": "stdout",
     "output_type": "stream",
     "text": [
      "[1, 2, 3, 4, 5, 6]\n",
      "True\n",
      "False\n"
     ]
    }
   ],
   "source": [
    "m = [1,2,3,4,5,6]\n",
    "print(m)\n",
    "print( 5 in m)\n",
    "print(10 in m)"
   ]
  },
  {
   "cell_type": "code",
   "execution_count": 62,
   "id": "8009b5e6",
   "metadata": {},
   "outputs": [
    {
     "name": "stdout",
     "output_type": "stream",
     "text": [
      "Enter the number of which you have to find power: 5\n",
      "Enter the power: 5\n",
      "3125\n"
     ]
    }
   ],
   "source": [
    "num = int(input(\"Enter the number of which you have to find power: \"))\n",
    "pw = int(input(\"Enter the power: \"))\n",
    "\n",
    "kj = 1\n",
    "for n in range(pw):\n",
    "    kj = kj*num\n",
    "\n",
    "print(kj)"
   ]
  },
  {
   "cell_type": "code",
   "execution_count": 1,
   "id": "14ce8f18",
   "metadata": {},
   "outputs": [
    {
     "name": "stdout",
     "output_type": "stream",
     "text": [
      "1\n",
      "2\n",
      "3\n",
      "4\n"
     ]
    }
   ],
   "source": [
    "i = [1,2,3,4]#warmup\n",
    "for i in i:\n",
    "    print(i)"
   ]
  },
  {
   "cell_type": "markdown",
   "id": "80ec5f53",
   "metadata": {},
   "source": [
    "# factorial of a given number\n"
   ]
  },
  {
   "cell_type": "code",
   "execution_count": 22,
   "id": "728814db",
   "metadata": {},
   "outputs": [
    {
     "name": "stdout",
     "output_type": "stream",
     "text": [
      "enter the number to which you have to find the factorial: 5\n",
      "the factorial of the given number is:\n",
      "120\n"
     ]
    }
   ],
   "source": [
    "def factorial(n):\n",
    "    if n<=0:\n",
    "        return(1)\n",
    "    else:\n",
    "        fact = n*factorial(n-1)\n",
    "        return(fact)\n",
    "    \n",
    "x = int(input(\"enter the number to which you have to find the factorial: \"))\n",
    "num = factorial(x)\n",
    "print(f'the factorial of the given number is:\\n{num}')\n",
    "    "
   ]
  },
  {
   "cell_type": "code",
   "execution_count": 20,
   "id": "e4a13c40",
   "metadata": {},
   "outputs": [
    {
     "data": {
      "text/plain": [
       "3628800"
      ]
     },
     "execution_count": 20,
     "metadata": {},
     "output_type": "execute_result"
    }
   ],
   "source": [
    "factorial(10)"
   ]
  },
  {
   "cell_type": "code",
   "execution_count": null,
   "id": "46d2a312",
   "metadata": {},
   "outputs": [],
   "source": [
    "#FACTORIAL OF A GIVEN NUMBER WITHOUT USING THE FUNCTION\n"
   ]
  },
  {
   "cell_type": "code",
   "execution_count": 9,
   "id": "c36adaae",
   "metadata": {},
   "outputs": [
    {
     "name": "stdout",
     "output_type": "stream",
     "text": [
      "enter the number:5\n",
      "the factorial of the given number 5 is 120\n"
     ]
    }
   ],
   "source": [
    "m = int(input(\"enter the number:\"))\n",
    "num = 1\n",
    "if m == 0:\n",
    "    print(\"the fact doesnot exist\")\n",
    "    \n",
    "elif m == 1:\n",
    "        print(\"the factorial of the given number is 1\")\n",
    "        \n",
    "else:\n",
    "    for i in range(1,m+1):\n",
    "        num = num*i\n",
    "    print(\"the factorial of the given number\",m,\"is\",num)\n",
    "        \n",
    "        \n",
    "               \n",
    "                \n",
    "            \n",
    "                \n",
    "    \n",
    "    \n",
    "    \n",
    "    \n",
    "        \n",
    "        \n",
    "        \n",
    "        \n",
    "       \n",
    "        \n",
    "        \n",
    "        \n",
    "\n",
    "        \n",
    "        "
   ]
  },
  {
   "cell_type": "markdown",
   "id": "36c660a4",
   "metadata": {},
   "source": [
    "# programme to find the factors of given number\n"
   ]
  },
  {
   "cell_type": "code",
   "execution_count": 3,
   "id": "e2af5b38",
   "metadata": {},
   "outputs": [],
   "source": [
    "def factors(m):\n",
    "    factorlist=[]\n",
    "    for i in range(1,m+1):\n",
    "        if m%i == 0:\n",
    "            factorlist.append(i)\n",
    "            \n",
    "    return(factorlist)    \n",
    "     \n",
    "            "
   ]
  },
  {
   "cell_type": "code",
   "execution_count": 4,
   "id": "0dbb8060",
   "metadata": {},
   "outputs": [
    {
     "data": {
      "text/plain": [
       "[1, 2, 3, 4, 6, 12]"
      ]
     },
     "execution_count": 4,
     "metadata": {},
     "output_type": "execute_result"
    }
   ],
   "source": [
    "factors(12)"
   ]
  },
  {
   "cell_type": "code",
   "execution_count": 5,
   "id": "c4dc6107",
   "metadata": {},
   "outputs": [
    {
     "name": "stdout",
     "output_type": "stream",
     "text": [
      "12\n",
      "11\n",
      "10\n",
      "9\n",
      "8\n",
      "7\n",
      "6\n",
      "5\n",
      "4\n",
      "3\n",
      "2\n"
     ]
    }
   ],
   "source": [
    "for i in range(12,1,-1):\n",
    "    print(i)\n"
   ]
  },
  {
   "cell_type": "markdown",
   "id": "889bf081",
   "metadata": {},
   "source": [
    "# programme to find the prime number in given interval\n"
   ]
  },
  {
   "cell_type": "code",
   "execution_count": 5,
   "id": "99e6d99d",
   "metadata": {},
   "outputs": [
    {
     "ename": "SyntaxError",
     "evalue": "invalid syntax (<ipython-input-5-82230281371e>, line 10)",
     "output_type": "error",
     "traceback": [
      "\u001b[1;36m  File \u001b[1;32m\"<ipython-input-5-82230281371e>\"\u001b[1;36m, line \u001b[1;32m10\u001b[0m\n\u001b[1;33m    else:\u001b[0m\n\u001b[1;37m    ^\u001b[0m\n\u001b[1;31mSyntaxError\u001b[0m\u001b[1;31m:\u001b[0m invalid syntax\n"
     ]
    }
   ],
   "source": [
    "x= int(input(\"enter the upper limit:\"))\n",
    "y = int(input(\"enter the lower limit:\"))\n",
    "primelist=[]\n",
    "for i in range(x,y+1):\n",
    "    if i>1:\n",
    "        for j in range(2,i):\n",
    "            if i%j == 0:\n",
    "                break\n",
    "        else:\n",
    "            \n",
    "                \n",
    "                \n",
    "                \n",
    "                \n",
    "      \n",
    "                   \n",
    "       \n",
    "print(\"the prime numbers between the given range is:\")\n",
    "print(primelist)\n",
    "            \n",
    "            \n",
    "                \n",
    "    \n"
   ]
  },
  {
   "cell_type": "code",
   "execution_count": 11,
   "id": "cb2b6dfa",
   "metadata": {},
   "outputs": [],
   "source": [
    "#python programme using the function\n",
    "def primeupto(x,y):\n",
    "    primelist1=[]\n",
    "    for i in range (x,y+1):\n",
    "        for j in range(2,i):\n",
    "            if i%j == 0:\n",
    "                break\n",
    "            else:\n",
    "                primelist1.append(i)\n",
    "    return(primelist1)           \n",
    "               \n",
    "                \n",
    "                \n",
    "                \n",
    "                \n",
    "        \n",
    "            \n",
    "            \n",
    "            \n",
    "              \n",
    "                \n",
    "        \n",
    "        \n",
    "            \n",
    "        \n",
    "   \n",
    "\n",
    "    \n",
    "\n",
    "        \n",
    "            \n",
    "           \n",
    "        \n",
    "            \n",
    "\n",
    "    "
   ]
  },
  {
   "cell_type": "code",
   "execution_count": null,
   "id": "4c95f913",
   "metadata": {},
   "outputs": [
    {
     "name": "stdout",
     "output_type": "stream",
     "text": [
      "enter the number :20\n"
     ]
    }
   ],
   "source": [
    "def sum(m):\n",
    "    val = 0 # to declare the val we use val = 0\n",
    "    \n",
    "    for val in range(1,m+1):\n",
    "        val = val+sum(m-1)\n",
    "    return(val)    \n",
    "        \n",
    "    \n",
    "\n",
    "x  = int(input(\"enter the number :\"))\n",
    "num =sum(x)\n",
    "print(\"the total sum is given by:\")\n",
    "print(num)\n",
    "\n",
    "\n",
    "            \n",
    "        \n",
    "        "
   ]
  },
  {
   "cell_type": "code",
   "execution_count": 14,
   "id": "19f67a27",
   "metadata": {},
   "outputs": [
    {
     "data": {
      "text/plain": [
       "55"
      ]
     },
     "execution_count": 14,
     "metadata": {},
     "output_type": "execute_result"
    }
   ],
   "source": [
    "sum(10)"
   ]
  },
  {
   "cell_type": "code",
   "execution_count": 15,
   "id": "e878a015",
   "metadata": {},
   "outputs": [
    {
     "name": "stdout",
     "output_type": "stream",
     "text": [
      "1\n",
      "10\n",
      "55\n"
     ]
    }
   ],
   "source": [
    "start = int(input())\n",
    "end = int(input())\n",
    "sum = 0\n",
    "for i in range(start, end + 1, 1):\n",
    "    sum = sum + i\n",
    "print(sum)"
   ]
  },
  {
   "cell_type": "code",
   "execution_count": null,
   "id": "ddc7f254",
   "metadata": {},
   "outputs": [],
   "source": [
    "print(\"hello\")"
   ]
  },
  {
   "cell_type": "markdown",
   "id": "3428efff",
   "metadata": {},
   "source": [
    "# programme to find the area "
   ]
  },
  {
   "cell_type": "code",
   "execution_count": 1,
   "id": "b4fa3601",
   "metadata": {},
   "outputs": [],
   "source": [
    "def area(m,n):\n",
    "    val = m*n\n",
    "    return(val)"
   ]
  },
  {
   "cell_type": "code",
   "execution_count": 2,
   "id": "d94d4303",
   "metadata": {},
   "outputs": [
    {
     "data": {
      "text/plain": [
       "10"
      ]
     },
     "execution_count": 2,
     "metadata": {},
     "output_type": "execute_result"
    }
   ],
   "source": [
    "area(5,2)"
   ]
  },
  {
   "cell_type": "markdown",
   "id": "30e9a58a",
   "metadata": {},
   "source": [
    "# programme to find the value in the given list (return true or false)"
   ]
  },
  {
   "cell_type": "code",
   "execution_count": 3,
   "id": "0f6dc652",
   "metadata": {},
   "outputs": [],
   "source": [
    "def findpos(l,v):\n",
    "    (pos,i) =(-1,0)\n",
    "    \n",
    "    \n",
    "    \n",
    "    \n",
    "    for x in l:\n",
    "        if x == v:\n",
    "            pos = i\n",
    "            break\n",
    "        else:\n",
    "            i = i+1\n",
    "    return(pos)        \n",
    "        \n",
    "   "
   ]
  },
  {
   "cell_type": "code",
   "execution_count": 4,
   "id": "3e5b8e20",
   "metadata": {},
   "outputs": [
    {
     "data": {
      "text/plain": [
       "1"
      ]
     },
     "execution_count": 4,
     "metadata": {},
     "output_type": "execute_result"
    }
   ],
   "source": [
    "findpos([1,2,3,4],2)"
   ]
  },
  {
   "cell_type": "code",
   "execution_count": 9,
   "id": "6f66fc4a",
   "metadata": {},
   "outputs": [],
   "source": [
    "def findpos(l,v):\n",
    "    pos = -1\n",
    "    \n",
    "    for i in range(len(l)): # here we need the \n",
    "        if l[i] == v:\n",
    "            pos = i\n",
    "            break\n",
    "    return(pos)        \n",
    "\n",
    "       \n",
    "   \n"
   ]
  },
  {
   "cell_type": "code",
   "execution_count": 10,
   "id": "f91e4cee",
   "metadata": {},
   "outputs": [
    {
     "data": {
      "text/plain": [
       "2"
      ]
     },
     "execution_count": 10,
     "metadata": {},
     "output_type": "execute_result"
    }
   ],
   "source": [
    "findpos([1,2,3,4],3)"
   ]
  },
  {
   "cell_type": "code",
   "execution_count": 23,
   "id": "ec407de2",
   "metadata": {},
   "outputs": [],
   "source": [
    "def findpos(l,v):\n",
    "    for i in range(len(l)):\n",
    "        if l[i] == v:\n",
    "            pos = i\n",
    "            break\n",
    "        else:\n",
    "            pos = -1\n",
    "    return(pos)"
   ]
  },
  {
   "cell_type": "code",
   "execution_count": 24,
   "id": "1c7c50c6",
   "metadata": {},
   "outputs": [
    {
     "data": {
      "text/plain": [
       "2"
      ]
     },
     "execution_count": 24,
     "metadata": {},
     "output_type": "execute_result"
    }
   ],
   "source": [
    "findpos([1,2,3,4,5,6],3)"
   ]
  },
  {
   "cell_type": "code",
   "execution_count": 27,
   "id": "cd0ae87d",
   "metadata": {},
   "outputs": [],
   "source": [
    "def findpos(l,v):\n",
    "    for i in range(len(l)):\n",
    "        if l[i] == v:\n",
    "            return(True)\n",
    "    return(False)    \n",
    "        \n",
    "    \n",
    "   "
   ]
  },
  {
   "cell_type": "code",
   "execution_count": 29,
   "id": "2142b42c",
   "metadata": {},
   "outputs": [
    {
     "data": {
      "text/plain": [
       "False"
      ]
     },
     "execution_count": 29,
     "metadata": {},
     "output_type": "execute_result"
    }
   ],
   "source": [
    "findpos([1,2,3,4],5)"
   ]
  },
  {
   "cell_type": "markdown",
   "id": "7daa1598",
   "metadata": {},
   "source": [
    "# my own programme to find the element in the list"
   ]
  },
  {
   "cell_type": "code",
   "execution_count": 52,
   "id": "3b949422",
   "metadata": {},
   "outputs": [],
   "source": [
    "def find(l,v):\n",
    "    (found,pos) = (True,-1)\n",
    "    \n",
    "    for i in l:\n",
    "        if i == v:\n",
    "            pos = i\n",
    "            break\n",
    "    else:\n",
    "        print(\"the element is not found\")\n",
    "        \n",
    "    return(pos)    \n",
    "        \n",
    "        "
   ]
  },
  {
   "cell_type": "code",
   "execution_count": 53,
   "id": "c64b0f17",
   "metadata": {},
   "outputs": [
    {
     "name": "stdout",
     "output_type": "stream",
     "text": [
      "the element is not found\n"
     ]
    },
    {
     "data": {
      "text/plain": [
       "-1"
      ]
     },
     "execution_count": 53,
     "metadata": {},
     "output_type": "execute_result"
    }
   ],
   "source": [
    "find([10,11,12,13,14],18)"
   ]
  },
  {
   "cell_type": "markdown",
   "id": "4d05c41c",
   "metadata": {},
   "source": [
    "# own programme to find the pos of the element in the list"
   ]
  },
  {
   "cell_type": "markdown",
   "id": "7ea48055",
   "metadata": {},
   "source": [
    "# below progarmme shows the example for the doubt in for loop"
   ]
  },
  {
   "cell_type": "code",
   "execution_count": 6,
   "id": "ab3efbe7",
   "metadata": {},
   "outputs": [],
   "source": [
    "def findtpos(l,v):\n",
    "    found = True\n",
    "    pos = 0 \n",
    "    \n",
    "    for i in range(len(l)):\n",
    "        if l[i] == v:\n",
    "            pos = i\n",
    "            print(\"got the element\") # use the break statement if we dont want to print both element and not got the element\n",
    "            break\n",
    "    else:\n",
    "        print(\"not got the element\")\n",
    "            \n",
    "    return(pos)\n",
    "        \n",
    "        \n",
    "        \n",
    "   \n",
    "\n",
    "\n",
    "\n",
    "  \n",
    "\n",
    "            \n",
    "    "
   ]
  },
  {
   "cell_type": "code",
   "execution_count": 7,
   "id": "efee938a",
   "metadata": {},
   "outputs": [
    {
     "name": "stdout",
     "output_type": "stream",
     "text": [
      "not got the element\n"
     ]
    },
    {
     "data": {
      "text/plain": [
       "0"
      ]
     },
     "execution_count": 7,
     "metadata": {},
     "output_type": "execute_result"
    }
   ],
   "source": [
    "findtpos([1,2,3,4,5],10)"
   ]
  },
  {
   "cell_type": "markdown",
   "id": "fb681bcc",
   "metadata": {},
   "source": [
    "# below shows the example for of the above programme error if we want to"
   ]
  },
  {
   "cell_type": "code",
   "execution_count": 2,
   "id": "daef7b4b",
   "metadata": {},
   "outputs": [],
   "source": [
    "def findtpos(l,v):\n",
    "    found = True\n",
    "    pos = 0 \n",
    "    \n",
    "    for i in range(len(l)):\n",
    "        if l[i] == v:\n",
    "            pos = i\n",
    "            print(\"got the element\") \n",
    "            \n",
    "    else:\n",
    "        print(\"not got the element\")\n",
    "            \n",
    "    return(pos)"
   ]
  },
  {
   "cell_type": "code",
   "execution_count": 3,
   "id": "102dc343",
   "metadata": {},
   "outputs": [
    {
     "name": "stdout",
     "output_type": "stream",
     "text": [
      "got the element\n",
      "not got the element\n"
     ]
    },
    {
     "data": {
      "text/plain": [
       "3"
      ]
     },
     "execution_count": 3,
     "metadata": {},
     "output_type": "execute_result"
    }
   ],
   "source": [
    "findtpos([1,2,3,4,5],4)"
   ]
  },
  {
   "cell_type": "markdown",
   "id": "d847bef9",
   "metadata": {},
   "source": [
    "# correct programme for the find the element in the list"
   ]
  },
  {
   "cell_type": "code",
   "execution_count": 73,
   "id": "cd926f7a",
   "metadata": {},
   "outputs": [],
   "source": [
    "def findthepos(l,v):\n",
    "    pos = \" the element not found\"\n",
    "    \n",
    "    for i in range(len(l)):\n",
    "        if l[i] == v:\n",
    "            pos  = i\n",
    "            print(\"got the position of the element:\")\n",
    "    return(pos)        \n",
    "            \n",
    "            \n",
    "            \n",
    "            \n",
    "    \n",
    "    "
   ]
  },
  {
   "cell_type": "code",
   "execution_count": 74,
   "id": "17e8390c",
   "metadata": {},
   "outputs": [
    {
     "data": {
      "text/plain": [
       "' the element not found'"
      ]
     },
     "execution_count": 74,
     "metadata": {},
     "output_type": "execute_result"
    }
   ],
   "source": [
    "findthepos([1,2,3,4,5],7)"
   ]
  },
  {
   "cell_type": "markdown",
   "id": "bcc8a9f8",
   "metadata": {},
   "source": [
    "# progarmme to find the element in the list and return true or false"
   ]
  },
  {
   "cell_type": "code",
   "execution_count": 25,
   "id": "7a8ce3a1",
   "metadata": {},
   "outputs": [],
   "source": [
    "def findpost(l,v):\n",
    "\n",
    "    for i in range(len(l)):\n",
    "        if l[i] == v:\n",
    "            print(\"True\")\n",
    "            break\n",
    "    \n",
    "    else:\n",
    "        print(\"Fasle\")\n",
    "        \n",
    "        \n",
    "        \n",
    "    "
   ]
  },
  {
   "cell_type": "code",
   "execution_count": 26,
   "id": "156351dc",
   "metadata": {},
   "outputs": [
    {
     "name": "stdout",
     "output_type": "stream",
     "text": [
      "Fasle\n"
     ]
    }
   ],
   "source": [
    "findpost([33,34,35,36,37],38)"
   ]
  },
  {
   "cell_type": "code",
   "execution_count": null,
   "id": "92709542",
   "metadata": {},
   "outputs": [],
   "source": []
  },
  {
   "cell_type": "code",
   "execution_count": 1,
   "id": "37159f56",
   "metadata": {},
   "outputs": [
    {
     "name": "stdout",
     "output_type": "stream",
     "text": [
      "enter the element in list:1 2 3 4 5 \n",
      "enter the number that you have to find in the list:2\n",
      "the element is found\n"
     ]
    }
   ],
   "source": [
    "\n",
    "x = list(input(\"enter the element in list:\"))\n",
    "y = input(\"enter the number that you have to find in the list:\")\n",
    "\n",
    "\n",
    "for i in range(len(x)):\n",
    "    if x[i] == y:\n",
    "        print(\"the element is found\")\n",
    "        break\n",
    "else:\n",
    "    print(\"not found\")\n",
    "\n",
    "     \n",
    "    \n",
    "       \n",
    "    \n",
    "    \n",
    "\n",
    "    "
   ]
  },
  {
   "cell_type": "code",
   "execution_count": null,
   "id": "fa84b6e1",
   "metadata": {},
   "outputs": [],
   "source": []
  },
  {
   "cell_type": "markdown",
   "id": "32a135ea",
   "metadata": {},
   "source": [
    "# end of the different types of finding the element in the list"
   ]
  },
  {
   "cell_type": "code",
   "execution_count": null,
   "id": "f558ffe8",
   "metadata": {},
   "outputs": [],
   "source": []
  },
  {
   "cell_type": "code",
   "execution_count": 46,
   "id": "05831635",
   "metadata": {},
   "outputs": [
    {
     "name": "stdout",
     "output_type": "stream",
     "text": [
      "10\n",
      "11\n",
      "not found\n"
     ]
    }
   ],
   "source": [
    "s = [10,16,11,12,13,14,15]\n",
    "for i in s:\n",
    "    if i < 12:\n",
    "        print(i)\n",
    "else:\n",
    "    print(\"not found\")\n",
    "        \n",
    "# here we can see that the else is out of the for loop and the one complete itterations will not go till the else loop \n",
    "#the else loop wil be executed after the complete itterations               \n",
    "    "
   ]
  },
  {
   "cell_type": "code",
   "execution_count": null,
   "id": "df6bb58b",
   "metadata": {},
   "outputs": [],
   "source": []
  },
  {
   "cell_type": "markdown",
   "id": "762ef25c",
   "metadata": {},
   "source": [
    "# example programme for the if and for loop "
   ]
  },
  {
   "cell_type": "code",
   "execution_count": 40,
   "id": "8242af15",
   "metadata": {},
   "outputs": [
    {
     "name": "stdout",
     "output_type": "stream",
     "text": [
      "Great, delicious bacon\n",
      "No more spam please!\n",
      "Finally, I finished stuffing myself\n"
     ]
    }
   ],
   "source": [
    "edibles = [\"bacon\", \"spam\", \"eggs\", \"nuts\"]\n",
    "for food in edibles:\n",
    "    if food == \"spam\":\n",
    "        print(\"No more spam please!\")\n",
    "        break\n",
    "    print(\"Great, delicious \" + food)\n",
    "else:\n",
    "    print(\"I am so glad: No spam!\")\n",
    "print(\"Finally, I finished stuffing myself\")"
   ]
  },
  {
   "cell_type": "code",
   "execution_count": 8,
   "id": "a50d5008",
   "metadata": {},
   "outputs": [
    {
     "ename": "SyntaxError",
     "evalue": "EOL while scanning string literal (<ipython-input-8-d6f5d52039a8>, line 8)",
     "output_type": "error",
     "traceback": [
      "\u001b[1;36m  File \u001b[1;32m\"<ipython-input-8-d6f5d52039a8>\"\u001b[1;36m, line \u001b[1;32m8\u001b[0m\n\u001b[1;33m    print(\"Finally, I finished stuffing myse\u001b[0m\n\u001b[1;37m                                            ^\u001b[0m\n\u001b[1;31mSyntaxError\u001b[0m\u001b[1;31m:\u001b[0m EOL while scanning string literal\n"
     ]
    }
   ],
   "source": [
    "edibles = [\"bacon\", \"spam\", \"eggs\",\"nuts\"]\n",
    "for food in edibles:\n",
    "    if food == \"spam\":\n",
    "        print(\"No more spam please!\")\n",
    "        continue\n",
    "    print(\"Great, delicious \" + food)\n",
    "\n",
    "print(\"Finally, I finished stuffing myse"
   ]
  },
  {
   "cell_type": "code",
   "execution_count": 59,
   "id": "3bde0ea6",
   "metadata": {
    "scrolled": true
   },
   "outputs": [
    {
     "name": "stdout",
     "output_type": "stream",
     "text": [
      "0\n",
      "1\n",
      "2\n",
      "3\n",
      "4\n"
     ]
    }
   ],
   "source": [
    "l = [1,2,3,4,5]\n",
    "for i in range(len(l)):\n",
    "    print(i)"
   ]
  },
  {
   "cell_type": "markdown",
   "id": "d6c2837e",
   "metadata": {},
   "source": [
    "# write the programme to convert the list to string"
   ]
  },
  {
   "cell_type": "code",
   "execution_count": 6,
   "id": "4a7970c9",
   "metadata": {},
   "outputs": [
    {
     "name": "stdout",
     "output_type": "stream",
     "text": [
      "['m', 'a', 'd', 'm', 'a', 'x']\n"
     ]
    }
   ],
   "source": [
    "st = \"madmax\"\n",
    "r = list(st)\n",
    "print(r)\n"
   ]
  },
  {
   "cell_type": "code",
   "execution_count": 7,
   "id": "696c0f94",
   "metadata": {},
   "outputs": [
    {
     "name": "stdout",
     "output_type": "stream",
     "text": [
      "['m', 'a', 'd', 'm', 'a', 'x']\n",
      " madmax\n"
     ]
    }
   ],
   "source": [
    "print(r) # note down important programme\n",
    "\n",
    "t = \" \" \n",
    "for i in r:\n",
    "    t = t+i\n",
    "print(t)    \n",
    "    \n",
    "    \n"
   ]
  },
  {
   "cell_type": "markdown",
   "id": "0d0703ef",
   "metadata": {},
   "source": [
    "# in order to print the the list in the reverse order\n"
   ]
  },
  {
   "cell_type": "code",
   "execution_count": 8,
   "id": "df1a5195",
   "metadata": {},
   "outputs": [
    {
     "name": "stdout",
     "output_type": "stream",
     "text": [
      "['m', 'a', 'd', 'm', 'a', 'x']\n",
      "xamdam \n"
     ]
    }
   ],
   "source": [
    "print(r)\n",
    "d = \" \" \n",
    "for i in r:\n",
    "    d = i + d\n",
    "    \n",
    "print(d)    \n",
    "    "
   ]
  },
  {
   "cell_type": "code",
   "execution_count": 4,
   "id": "c8886f8c",
   "metadata": {
    "scrolled": true
   },
   "outputs": [
    {
     "name": "stdout",
     "output_type": "stream",
     "text": [
      "['m', 'a', 'd', 'm', 'a', 'x']\n",
      "m\n",
      "a\n",
      "d\n",
      "m\n",
      "a\n",
      "x\n"
     ]
    }
   ],
   "source": [
    "print(r)\n",
    "for i in r:\n",
    "    print(i)"
   ]
  },
  {
   "cell_type": "code",
   "execution_count": 10,
   "id": "d14f6cf4",
   "metadata": {},
   "outputs": [
    {
     "name": "stdout",
     "output_type": "stream",
     "text": [
      " e\n"
     ]
    }
   ],
   "source": [
    "k = \" \"\n",
    "i = \"e\"\n",
    "p = k  +  i\n",
    "print(p)\n"
   ]
  },
  {
   "cell_type": "code",
   "execution_count": null,
   "id": "1f21b905",
   "metadata": {},
   "outputs": [],
   "source": []
  }
 ],
 "metadata": {
  "kernelspec": {
   "display_name": "Python 3",
   "language": "python",
   "name": "python3"
  },
  "language_info": {
   "codemirror_mode": {
    "name": "ipython",
    "version": 3
   },
   "file_extension": ".py",
   "mimetype": "text/x-python",
   "name": "python",
   "nbconvert_exporter": "python",
   "pygments_lexer": "ipython3",
   "version": "3.8.8"
  }
 },
 "nbformat": 4,
 "nbformat_minor": 5
}
