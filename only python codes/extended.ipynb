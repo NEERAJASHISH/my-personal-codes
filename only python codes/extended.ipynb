{
 "cells": [
  {
   "cell_type": "code",
   "execution_count": 3,
   "metadata": {},
   "outputs": [
    {
     "name": "stdout",
     "output_type": "stream",
     "text": [
      "12.0\n"
     ]
    }
   ],
   "source": [
    "my_student = {\n",
    "\n",
    "    \"name\": \"hello\",\n",
    "    \"grades\":[10,11,12,13,14]\n",
    "\n",
    "}\n",
    "\n",
    "\n",
    "def average(student):\n",
    "     return sum(student[\"grades\"])/len(student[\"grades\"])\n",
    "\n",
    "\n",
    "average(my_student)     \n",
    "print(average(my_student))\n"
   ]
  },
  {
   "cell_type": "code",
   "execution_count": 9,
   "metadata": {},
   "outputs": [
    {
     "data": {
      "text/plain": [
       "12.0"
      ]
     },
     "execution_count": 9,
     "metadata": {},
     "output_type": "execute_result"
    }
   ],
   "source": [
    "k = [10,11,12,13,14]\n",
    "p = len(k)\n",
    "s = sum(k)\n",
    "av = s/p\n",
    "av"
   ]
  },
  {
   "cell_type": "code",
   "execution_count": 13,
   "metadata": {},
   "outputs": [
    {
     "name": "stdout",
     "output_type": "stream",
     "text": [
      "The average of neeraj is given by 12.0\n"
     ]
    }
   ],
   "source": [
    "class student():\n",
    "\n",
    "    def __init__(self,name,grades) -> None:\n",
    "        self.name = name\n",
    "        self.grades = grades\n",
    "\n",
    "    def average(self):\n",
    "        p = sum(self.grades)\n",
    "        k = len(self.grades)\n",
    "        result = p/k\n",
    "        print(f'The average of {self.name} is given by {result}')\n",
    "\n",
    "c = student(\"neeraj\",[10,11,12,13,14])\n",
    "c.average()\n",
    "\n",
    "\n",
    "\n",
    "        "
   ]
  },
  {
   "cell_type": "code",
   "execution_count": 18,
   "metadata": {},
   "outputs": [
    {
     "name": "stdout",
     "output_type": "stream",
     "text": [
      "The average of neeraj is given by 12.0\n"
     ]
    }
   ],
   "source": [
    "class student():\n",
    "\n",
    "    def __init__(self,name,grades) -> None:\n",
    "        self.name = name\n",
    "        self.grades = grades\n",
    "\n",
    "    \n",
    "        \n",
    "    def __str__(self) -> str:\n",
    "        return f'The average of {self.name} is given by {sum(self.grades)/len(self.grades)}'\n",
    "\n",
    "c = student(\"neeraj\",[10,11,12,13,14])\n",
    "print(c)\n",
    "\n",
    "\n",
    "        "
   ]
  },
  {
   "cell_type": "code",
   "execution_count": 29,
   "metadata": {},
   "outputs": [
    {
     "name": "stdout",
     "output_type": "stream",
     "text": [
      "The respective student1 has grades 12.0\n"
     ]
    }
   ],
   "source": [
    "class student():\n",
    "\n",
    "    def __init__(self,name,grades) -> None:\n",
    "        self.name = name\n",
    "        self.grades = grades\n",
    "\n",
    "    def average(self):\n",
    "        return (sum(self.grades)/len(self.grades)) # use the retunn function instead of the print\n",
    "\n",
    "student1 = student(\"student1\",[10,11,12,13,14])\n",
    "student2  = student(\"student2\",[13,14,15,16,17])\n",
    "\n",
    "\n",
    "\n",
    "\n",
    "def display(report):\n",
    "    print ( f\"The respective {report.name} has grades {report.average()}\")\n",
    "\n",
    "\n",
    "\n",
    "display(student1)    \n",
    "    \n",
    "    \n",
    "\n",
    "\n",
    "\n"
   ]
  },
  {
   "cell_type": "code",
   "execution_count": 14,
   "metadata": {},
   "outputs": [
    {
     "name": "stdout",
     "output_type": "stream",
     "text": [
      "posh\n",
      "gru\n",
      "2\n"
     ]
    }
   ],
   "source": [
    "class garage():\n",
    "\n",
    "\n",
    "    def __init__(self) -> None:\n",
    "        self.cars = []\n",
    "\n",
    "\n",
    "    def __len__(self):\n",
    "\n",
    "        return len(self.cars)\n",
    "\n",
    "\n",
    "ford = garage()\n",
    "ford.cars.append(\"posh\")\n",
    "ford.cars.append(\"gru\")\n",
    "print(ford.cars[0])\n",
    "print(ford.cars[1])\n",
    "\n",
    "print(len(ford))\n",
    "\n",
    "\n",
    "        "
   ]
  },
  {
   "cell_type": "code",
   "execution_count": 16,
   "metadata": {},
   "outputs": [
    {
     "name": "stdout",
     "output_type": "stream",
     "text": [
      "posh\n",
      "gru\n"
     ]
    }
   ],
   "source": [
    "class garage():\n",
    "\n",
    "\n",
    "    def __init__(self) -> None:\n",
    "        self.cars = []\n",
    "\n",
    "\n",
    "    def __len__(self):\n",
    "\n",
    "        return len(self.cars)\n",
    "\n",
    "    def __getitem__(self):\n",
    "        for i in self.cars:\n",
    "            print(i)\n",
    "\n",
    "\n",
    "\n",
    "ford = garage()\n",
    "ford.cars.append(\"posh\")\n",
    "ford.cars.append(\"gru\")\n",
    "ford.__getitem__()"
   ]
  },
  {
   "cell_type": "code",
   "execution_count": 18,
   "metadata": {},
   "outputs": [
    {
     "name": "stdout",
     "output_type": "stream",
     "text": [
      "posh\n",
      "gru\n"
     ]
    }
   ],
   "source": [
    "class garage():\n",
    "\n",
    "\n",
    "    def __init__(self) -> None:\n",
    "        self.cars = []\n",
    "\n",
    "\n",
    "    def __len__(self):\n",
    "\n",
    "        return len(self.cars)\n",
    "\n",
    "    def __getitem__(self,i):\n",
    "        return self.cars[i]\n",
    "\n",
    "\n",
    "\n",
    "ford = garage()\n",
    "ford.cars.append(\"posh\")\n",
    "ford.cars.append(\"gru\")\n",
    "print(ford[0])\n",
    "print(ford[1])"
   ]
  },
  {
   "cell_type": "code",
   "execution_count": 6,
   "metadata": {},
   "outputs": [
    {
     "data": {
      "text/plain": [
       "150000"
      ]
     },
     "execution_count": 6,
     "metadata": {},
     "output_type": "execute_result"
    }
   ],
   "source": [
    "class student():\n",
    "    def __init__(self,name,school,marks) -> None:\n",
    "        self.name = name\n",
    "        self.school = school\n",
    "        self.marks = marks\n",
    "\n",
    "    def average(self):\n",
    "        return f'The marks of  {self.name} of {self.school} student is {self.marks}'   \n",
    "\n",
    "class workingstudent(student):\n",
    "\n",
    "    def __init__(self,name,school,marks,salary) -> None:\n",
    "        student.__init__(self,name,school,marks)\n",
    "        self.salary = salary\n",
    "\n",
    "    def income(self):    \n",
    "        return  self.salary * 15\n",
    "\n",
    "\n",
    "neeraj = workingstudent(\"neeraj\",\"MIT\",50.76,10000)\n",
    "neeraj.name\n",
    "neeraj.school\n",
    "neeraj.marks\n",
    "neeraj.salary\n",
    "neeraj.average()\n",
    "neeraj.income()\n",
    "\n",
    "#chris = student(\"chris\",\"harvard\",100)\n",
    "#chris.name\n",
    "#chris.school\n",
    "#chris.average()\n",
    "\n",
    "\n",
    "\n",
    "\n",
    "\n",
    "\n",
    "\n",
    "\n",
    "\n",
    "\n",
    "\n",
    "        "
   ]
  },
  {
   "cell_type": "code",
   "execution_count": 15,
   "metadata": {},
   "outputs": [
    {
     "name": "stdout",
     "output_type": "stream",
     "text": [
      "1\n"
     ]
    }
   ],
   "source": [
    "class list():\n",
    "\n",
    "    def __init__(self) -> None:\n",
    "        self.arr = []\n",
    "\n",
    "    def __len__(self):\n",
    "        return len(self.arr)    \n",
    "\n",
    "     \n",
    "\n",
    "    \n",
    "\n",
    "\n",
    "g = list()\n",
    "\n",
    "g.arr.append(154)\n",
    "print(len(g))\n",
    "\n",
    "\n",
    "\n",
    "        "
   ]
  },
  {
   "cell_type": "code",
   "execution_count": 4,
   "metadata": {},
   "outputs": [
    {
     "data": {
      "text/plain": [
       "'The average of the given data is 13.0'"
      ]
     },
     "execution_count": 4,
     "metadata": {},
     "output_type": "execute_result"
    }
   ],
   "source": [
    "class average():\n",
    "\n",
    "    def __init__(self,data) -> None:\n",
    "        self.data = data\n",
    "\n",
    "    def total(self):\n",
    "        t = sum(self.data)/len(self.data)\n",
    "        return f'The average of the given data is {t}'    \n",
    "\n",
    "k = list(map(int,input().split()))\n",
    "t = average(k)\n",
    "t.total()\n",
    "\n",
    "\n",
    "        "
   ]
  },
  {
   "cell_type": "code",
   "execution_count": 2,
   "metadata": {},
   "outputs": [
    {
     "name": "stdout",
     "output_type": "stream",
     "text": [
      "[12, 13, 14]\n"
     ]
    }
   ],
   "source": [
    "k = list(map(int,input().split()))\n",
    "print"
   ]
  },
  {
   "cell_type": "code",
   "execution_count": null,
   "metadata": {},
   "outputs": [],
   "source": [
    "# example programme\n",
    "i  = int(input(\"please enter the sum of the numbers: \"))\n",
    "\n",
    "sum = 0\n",
    "\n",
    "for i in range(i+1):\n",
    "    sum = sum + i \n",
    "\n",
    "print(sum)    "
   ]
  },
  {
   "cell_type": "code",
   "execution_count": null,
   "metadata": {},
   "outputs": [],
   "source": []
  },
  {
   "cell_type": "code",
   "execution_count": null,
   "metadata": {},
   "outputs": [],
   "source": []
  },
  {
   "cell_type": "code",
   "execution_count": null,
   "metadata": {},
   "outputs": [],
   "source": []
  },
  {
   "cell_type": "code",
   "execution_count": null,
   "metadata": {},
   "outputs": [],
   "source": []
  },
  {
   "cell_type": "code",
   "execution_count": null,
   "metadata": {},
   "outputs": [],
   "source": []
  },
  {
   "cell_type": "code",
   "execution_count": null,
   "metadata": {},
   "outputs": [],
   "source": []
  },
  {
   "cell_type": "code",
   "execution_count": null,
   "metadata": {},
   "outputs": [],
   "source": []
  },
  {
   "cell_type": "code",
   "execution_count": null,
   "metadata": {},
   "outputs": [],
   "source": []
  },
  {
   "cell_type": "code",
   "execution_count": null,
   "metadata": {},
   "outputs": [],
   "source": []
  },
  {
   "cell_type": "code",
   "execution_count": null,
   "metadata": {},
   "outputs": [],
   "source": []
  },
  {
   "cell_type": "code",
   "execution_count": null,
   "metadata": {},
   "outputs": [],
   "source": []
  },
  {
   "cell_type": "code",
   "execution_count": null,
   "metadata": {},
   "outputs": [],
   "source": []
  },
  {
   "cell_type": "code",
   "execution_count": null,
   "metadata": {},
   "outputs": [],
   "source": []
  },
  {
   "cell_type": "code",
   "execution_count": null,
   "metadata": {},
   "outputs": [],
   "source": []
  },
  {
   "cell_type": "code",
   "execution_count": null,
   "metadata": {},
   "outputs": [],
   "source": []
  },
  {
   "cell_type": "code",
   "execution_count": null,
   "metadata": {},
   "outputs": [],
   "source": []
  },
  {
   "cell_type": "code",
   "execution_count": null,
   "metadata": {},
   "outputs": [],
   "source": []
  },
  {
   "cell_type": "code",
   "execution_count": null,
   "metadata": {},
   "outputs": [],
   "source": []
  },
  {
   "cell_type": "code",
   "execution_count": null,
   "metadata": {},
   "outputs": [],
   "source": []
  },
  {
   "cell_type": "code",
   "execution_count": null,
   "metadata": {},
   "outputs": [],
   "source": []
  },
  {
   "cell_type": "code",
   "execution_count": null,
   "metadata": {},
   "outputs": [],
   "source": []
  },
  {
   "cell_type": "code",
   "execution_count": null,
   "metadata": {},
   "outputs": [],
   "source": []
  },
  {
   "cell_type": "code",
   "execution_count": null,
   "metadata": {},
   "outputs": [],
   "source": []
  }
 ],
 "metadata": {
  "interpreter": {
   "hash": "42588fd11209419b7c81abe23e31a1d2101f60811b02170c268e57ebb57d5d9a"
  },
  "kernelspec": {
   "display_name": "Python 3.8.8 64-bit ('base': conda)",
   "name": "python3"
  },
  "language_info": {
   "codemirror_mode": {
    "name": "ipython",
    "version": 3
   },
   "file_extension": ".py",
   "mimetype": "text/x-python",
   "name": "python",
   "nbconvert_exporter": "python",
   "pygments_lexer": "ipython3",
   "version": "3.8.8"
  },
  "orig_nbformat": 4
 },
 "nbformat": 4,
 "nbformat_minor": 2
}
