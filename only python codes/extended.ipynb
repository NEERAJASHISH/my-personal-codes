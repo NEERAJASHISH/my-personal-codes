{
 "cells": [
  {
   "cell_type": "code",
   "execution_count": 3,
   "metadata": {},
   "outputs": [
    {
     "name": "stdout",
     "output_type": "stream",
     "text": [
      "12.0\n"
     ]
    }
   ],
   "source": [
    "my_student = {\n",
    "\n",
    "    \"name\": \"hello\",\n",
    "    \"grades\":[10,11,12,13,14]\n",
    "\n",
    "}\n",
    "\n",
    "\n",
    "def average(student):\n",
    "     return sum(student[\"grades\"])/len(student[\"grades\"])\n",
    "\n",
    "\n",
    "average(my_student)     \n",
    "print(average(my_student))\n"
   ]
  },
  {
   "cell_type": "code",
   "execution_count": 9,
   "metadata": {},
   "outputs": [
    {
     "data": {
      "text/plain": [
       "12.0"
      ]
     },
     "execution_count": 9,
     "metadata": {},
     "output_type": "execute_result"
    }
   ],
   "source": [
    "k = [10,11,12,13,14]\n",
    "p = len(k)\n",
    "s = sum(k)\n",
    "av = s/p\n",
    "av"
   ]
  },
  {
   "cell_type": "code",
   "execution_count": 13,
   "metadata": {},
   "outputs": [
    {
     "name": "stdout",
     "output_type": "stream",
     "text": [
      "The average of neeraj is given by 12.0\n"
     ]
    }
   ],
   "source": [
    "class student():\n",
    "\n",
    "    def __init__(self,name,grades) -> None:\n",
    "        self.name = name\n",
    "        self.grades = grades\n",
    "\n",
    "    def average(self):\n",
    "        p = sum(self.grades)\n",
    "        k = len(self.grades)\n",
    "        result = p/k\n",
    "        print(f'The average of {self.name} is given by {result}')\n",
    "\n",
    "c = student(\"neeraj\",[10,11,12,13,14])\n",
    "c.average()\n",
    "\n",
    "\n",
    "\n",
    "        "
   ]
  },
  {
   "cell_type": "code",
   "execution_count": 18,
   "metadata": {},
   "outputs": [
    {
     "name": "stdout",
     "output_type": "stream",
     "text": [
      "The average of neeraj is given by 12.0\n"
     ]
    }
   ],
   "source": [
    "class student():\n",
    "\n",
    "    def __init__(self,name,grades) -> None:\n",
    "        self.name = name\n",
    "        self.grades = grades\n",
    "\n",
    "    \n",
    "        \n",
    "    def __str__(self) -> str:\n",
    "        return f'The average of {self.name} is given by {sum(self.grades)/len(self.grades)}'\n",
    "\n",
    "c = student(\"neeraj\",[10,11,12,13,14])\n",
    "print(c)\n",
    "\n",
    "\n",
    "        "
   ]
  },
  {
   "cell_type": "code",
   "execution_count": 29,
   "metadata": {},
   "outputs": [
    {
     "name": "stdout",
     "output_type": "stream",
     "text": [
      "The respective student1 has grades 12.0\n"
     ]
    }
   ],
   "source": [
    "class student():\n",
    "\n",
    "    def __init__(self,name,grades) -> None:\n",
    "        self.name = name\n",
    "        self.grades = grades\n",
    "\n",
    "    def average(self):\n",
    "        return (sum(self.grades)/len(self.grades)) # use the retunn function instead of the print\n",
    "\n",
    "student1 = student(\"student1\",[10,11,12,13,14])\n",
    "student2  = student(\"student2\",[13,14,15,16,17])\n",
    "\n",
    "\n",
    "\n",
    "\n",
    "def display(report):\n",
    "    print ( f\"The respective {report.name} has grades {report.average()}\")\n",
    "\n",
    "\n",
    "\n",
    "display(student1)    \n",
    "    \n",
    "    \n",
    "\n",
    "\n",
    "\n"
   ]
  },
  {
   "cell_type": "code",
   "execution_count": 14,
   "metadata": {},
   "outputs": [
    {
     "name": "stdout",
     "output_type": "stream",
     "text": [
      "posh\n",
      "gru\n",
      "2\n"
     ]
    }
   ],
   "source": [
    "class garage():\n",
    "\n",
    "\n",
    "    def __init__(self) -> None:\n",
    "        self.cars = []\n",
    "\n",
    "\n",
    "    def __len__(self):\n",
    "\n",
    "        return len(self.cars)\n",
    "\n",
    "\n",
    "ford = garage()\n",
    "ford.cars.append(\"posh\")\n",
    "ford.cars.append(\"gru\")\n",
    "print(ford.cars[0])\n",
    "print(ford.cars[1])\n",
    "\n",
    "print(len(ford))\n",
    "\n",
    "\n",
    "        "
   ]
  },
  {
   "cell_type": "code",
   "execution_count": 16,
   "metadata": {},
   "outputs": [
    {
     "name": "stdout",
     "output_type": "stream",
     "text": [
      "posh\n",
      "gru\n"
     ]
    }
   ],
   "source": [
    "class garage():\n",
    "\n",
    "\n",
    "    def __init__(self) -> None:\n",
    "        self.cars = []\n",
    "\n",
    "\n",
    "    def __len__(self):\n",
    "\n",
    "        return len(self.cars)\n",
    "\n",
    "    def __getitem__(self):\n",
    "        for i in self.cars:\n",
    "            print(i)\n",
    "\n",
    "\n",
    "\n",
    "ford = garage()\n",
    "ford.cars.append(\"posh\")\n",
    "ford.cars.append(\"gru\")\n",
    "ford.__getitem__()"
   ]
  },
  {
   "cell_type": "code",
   "execution_count": 18,
   "metadata": {},
   "outputs": [
    {
     "name": "stdout",
     "output_type": "stream",
     "text": [
      "posh\n",
      "gru\n"
     ]
    }
   ],
   "source": [
    "class garage():\n",
    "\n",
    "\n",
    "    def __init__(self) -> None:\n",
    "        self.cars = []\n",
    "\n",
    "\n",
    "    def __len__(self):\n",
    "\n",
    "        return len(self.cars)\n",
    "\n",
    "    def __getitem__(self,i):\n",
    "        return self.cars[i]\n",
    "\n",
    "\n",
    "\n",
    "ford = garage()\n",
    "ford.cars.append(\"posh\")\n",
    "ford.cars.append(\"gru\")\n",
    "print(ford[0])\n",
    "print(ford[1])"
   ]
  },
  {
   "cell_type": "code",
   "execution_count": 35,
   "metadata": {},
   "outputs": [
    {
     "ename": "AttributeError",
     "evalue": "'student' object has no attribute 'salary'",
     "output_type": "error",
     "traceback": [
      "\u001b[1;31m---------------------------------------------------------------------------\u001b[0m",
      "\u001b[1;31mAttributeError\u001b[0m                            Traceback (most recent call last)",
      "\u001b[1;32m~\\AppData\\Local\\Temp/ipykernel_6344/384884405.py\u001b[0m in \u001b[0;36m<module>\u001b[1;34m\u001b[0m\n\u001b[0;32m     26\u001b[0m \u001b[0mchris\u001b[0m\u001b[1;33m.\u001b[0m\u001b[0mschool\u001b[0m\u001b[1;33m\u001b[0m\u001b[1;33m\u001b[0m\u001b[0m\n\u001b[0;32m     27\u001b[0m \u001b[0mchris\u001b[0m\u001b[1;33m.\u001b[0m\u001b[0maverage\u001b[0m\u001b[1;33m(\u001b[0m\u001b[1;33m)\u001b[0m\u001b[1;33m\u001b[0m\u001b[1;33m\u001b[0m\u001b[0m\n\u001b[1;32m---> 28\u001b[1;33m \u001b[0mchris\u001b[0m\u001b[1;33m.\u001b[0m\u001b[0msalary\u001b[0m\u001b[1;33m\u001b[0m\u001b[1;33m\u001b[0m\u001b[0m\n\u001b[0m\u001b[0;32m     29\u001b[0m \u001b[1;33m\u001b[0m\u001b[0m\n\u001b[0;32m     30\u001b[0m \u001b[1;33m\u001b[0m\u001b[0m\n",
      "\u001b[1;31mAttributeError\u001b[0m: 'student' object has no attribute 'salary'"
     ]
    }
   ],
   "source": [
    "class student():\n",
    "    def __init__(self,name,school,marks) -> None:\n",
    "        self.name = name\n",
    "        self.school = school\n",
    "        self.marks = marks\n",
    "\n",
    "    def average(self):\n",
    "        return f'The marks of  {self.name} of {self.school} student is {self.marks}'   \n",
    "\n",
    "class workingstudent(student):\n",
    "\n",
    "    def __init__(self,name,school,marks,salary) -> None:\n",
    "        student.__init__(self,name,school,marks)\n",
    "        self.salary = salary\n",
    "\n",
    "\n",
    "neeraj = workingstudent(\"neeraj\",\"MIT\",50.76,10000)\n",
    "neeraj.name\n",
    "neeraj.school\n",
    "neeraj.marks\n",
    "neeraj.salary\n",
    "neeraj.average()\n",
    "\n",
    "chris = student(\"chris\",\"harvard\",100)\n",
    "chris.name\n",
    "chris.school\n",
    "chris.average()\n",
    "\n",
    "\n",
    "\n",
    "\n",
    "\n",
    "\n",
    "\n",
    "\n",
    "\n",
    "\n",
    "\n",
    "        "
   ]
  },
  {
   "cell_type": "code",
   "execution_count": null,
   "metadata": {},
   "outputs": [],
   "source": []
  },
  {
   "cell_type": "code",
   "execution_count": null,
   "metadata": {},
   "outputs": [],
   "source": []
  },
  {
   "cell_type": "code",
   "execution_count": null,
   "metadata": {},
   "outputs": [],
   "source": []
  },
  {
   "cell_type": "code",
   "execution_count": null,
   "metadata": {},
   "outputs": [],
   "source": []
  },
  {
   "cell_type": "code",
   "execution_count": null,
   "metadata": {},
   "outputs": [],
   "source": []
  },
  {
   "cell_type": "code",
   "execution_count": null,
   "metadata": {},
   "outputs": [],
   "source": []
  },
  {
   "cell_type": "code",
   "execution_count": null,
   "metadata": {},
   "outputs": [],
   "source": []
  },
  {
   "cell_type": "code",
   "execution_count": null,
   "metadata": {},
   "outputs": [],
   "source": []
  },
  {
   "cell_type": "code",
   "execution_count": null,
   "metadata": {},
   "outputs": [],
   "source": []
  },
  {
   "cell_type": "code",
   "execution_count": null,
   "metadata": {},
   "outputs": [],
   "source": []
  },
  {
   "cell_type": "code",
   "execution_count": null,
   "metadata": {},
   "outputs": [],
   "source": []
  },
  {
   "cell_type": "code",
   "execution_count": null,
   "metadata": {},
   "outputs": [],
   "source": []
  },
  {
   "cell_type": "code",
   "execution_count": null,
   "metadata": {},
   "outputs": [],
   "source": []
  },
  {
   "cell_type": "code",
   "execution_count": null,
   "metadata": {},
   "outputs": [],
   "source": []
  },
  {
   "cell_type": "code",
   "execution_count": null,
   "metadata": {},
   "outputs": [],
   "source": []
  },
  {
   "cell_type": "code",
   "execution_count": null,
   "metadata": {},
   "outputs": [],
   "source": []
  },
  {
   "cell_type": "code",
   "execution_count": null,
   "metadata": {},
   "outputs": [],
   "source": []
  },
  {
   "cell_type": "code",
   "execution_count": null,
   "metadata": {},
   "outputs": [],
   "source": []
  },
  {
   "cell_type": "code",
   "execution_count": null,
   "metadata": {},
   "outputs": [],
   "source": []
  },
  {
   "cell_type": "code",
   "execution_count": null,
   "metadata": {},
   "outputs": [],
   "source": []
  },
  {
   "cell_type": "code",
   "execution_count": null,
   "metadata": {},
   "outputs": [],
   "source": []
  },
  {
   "cell_type": "code",
   "execution_count": null,
   "metadata": {},
   "outputs": [],
   "source": []
  },
  {
   "cell_type": "code",
   "execution_count": null,
   "metadata": {},
   "outputs": [],
   "source": []
  },
  {
   "cell_type": "code",
   "execution_count": null,
   "metadata": {},
   "outputs": [],
   "source": []
  },
  {
   "cell_type": "code",
   "execution_count": null,
   "metadata": {},
   "outputs": [],
   "source": []
  },
  {
   "cell_type": "code",
   "execution_count": null,
   "metadata": {},
   "outputs": [],
   "source": []
  },
  {
   "cell_type": "code",
   "execution_count": null,
   "metadata": {},
   "outputs": [],
   "source": []
  },
  {
   "cell_type": "code",
   "execution_count": null,
   "metadata": {},
   "outputs": [],
   "source": []
  }
 ],
 "metadata": {
  "interpreter": {
   "hash": "23300995598eec4bcf6bd89cf02d1c3675e8b2616661418dbbf5580aa901878d"
  },
  "kernelspec": {
   "display_name": "Python 3.9.6 64-bit",
   "name": "python3"
  },
  "language_info": {
   "codemirror_mode": {
    "name": "ipython",
    "version": 3
   },
   "file_extension": ".py",
   "mimetype": "text/x-python",
   "name": "python",
   "nbconvert_exporter": "python",
   "pygments_lexer": "ipython3",
   "version": "3.9.6"
  },
  "orig_nbformat": 4
 },
 "nbformat": 4,
 "nbformat_minor": 2
}
