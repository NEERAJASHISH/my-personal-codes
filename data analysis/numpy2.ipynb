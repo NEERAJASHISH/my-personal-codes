{
 "cells": [
  {
   "cell_type": "markdown",
   "id": "952538a4",
   "metadata": {},
   "source": [
    "# to stack two array top of each other "
   ]
  },
  {
   "cell_type": "code",
   "execution_count": 2,
   "id": "ee650254",
   "metadata": {},
   "outputs": [],
   "source": [
    "import numpy as np\n"
   ]
  },
  {
   "cell_type": "code",
   "execution_count": 4,
   "id": "affd261f",
   "metadata": {},
   "outputs": [
    {
     "name": "stdout",
     "output_type": "stream",
     "text": [
      "[[1 7 5]\n",
      " [9 5 8]\n",
      " [1 5 6]]\n"
     ]
    }
   ],
   "source": [
    "a = np.random.randint(10,size=(3,3))\n",
    "print(a)"
   ]
  },
  {
   "cell_type": "code",
   "execution_count": 6,
   "id": "c5c39f4e",
   "metadata": {},
   "outputs": [
    {
     "name": "stdout",
     "output_type": "stream",
     "text": [
      "[[17  0 14]\n",
      " [ 2 11  2]\n",
      " [17 17 11]]\n"
     ]
    }
   ],
   "source": [
    "b=np.random.randint(20,size=(3,3))\n",
    "print(b)"
   ]
  },
  {
   "cell_type": "markdown",
   "id": "7e838bf2",
   "metadata": {},
   "source": [
    "# to stack vertically"
   ]
  },
  {
   "cell_type": "code",
   "execution_count": 7,
   "id": "91508e17",
   "metadata": {},
   "outputs": [
    {
     "data": {
      "text/plain": [
       "array([[ 1,  7,  5],\n",
       "       [ 9,  5,  8],\n",
       "       [ 1,  5,  6],\n",
       "       [17,  0, 14],\n",
       "       [ 2, 11,  2],\n",
       "       [17, 17, 11]])"
      ]
     },
     "execution_count": 7,
     "metadata": {},
     "output_type": "execute_result"
    }
   ],
   "source": [
    "np.vstack((a,b))"
   ]
  },
  {
   "cell_type": "markdown",
   "id": "b54dddd6",
   "metadata": {},
   "source": [
    "# to stack horizontally"
   ]
  },
  {
   "cell_type": "code",
   "execution_count": 8,
   "id": "8117aabf",
   "metadata": {},
   "outputs": [
    {
     "data": {
      "text/plain": [
       "array([[ 1,  7,  5, 17,  0, 14],\n",
       "       [ 9,  5,  8,  2, 11,  2],\n",
       "       [ 1,  5,  6, 17, 17, 11]])"
      ]
     },
     "execution_count": 8,
     "metadata": {},
     "output_type": "execute_result"
    }
   ],
   "source": [
    "np.hstack((a,b))"
   ]
  },
  {
   "cell_type": "markdown",
   "id": "082fc2d5",
   "metadata": {},
   "source": [
    "# we can split the given array using the syntax :np.hsplit()"
   ]
  },
  {
   "cell_type": "code",
   "execution_count": 10,
   "id": "729672a5",
   "metadata": {},
   "outputs": [
    {
     "name": "stdout",
     "output_type": "stream",
     "text": [
      "[[0 4 7 3 6]\n",
      " [6 7 6 7 1]\n",
      " [2 6 4 3 0]\n",
      " [5 2 9 0 2]\n",
      " [2 2 2 6 9]]\n"
     ]
    }
   ],
   "source": [
    "#initialize an random array\n",
    "p = np.random.randint(10,size=(5,5))\n",
    "print(p)"
   ]
  },
  {
   "cell_type": "code",
   "execution_count": 13,
   "id": "9fb15f76",
   "metadata": {},
   "outputs": [
    {
     "data": {
      "text/plain": [
       "[array([[0, 4, 7, 3, 6],\n",
       "        [6, 7, 6, 7, 1],\n",
       "        [2, 6, 4, 3, 0],\n",
       "        [5, 2, 9, 0, 2],\n",
       "        [2, 2, 2, 6, 9]])]"
      ]
     },
     "execution_count": 13,
     "metadata": {},
     "output_type": "execute_result"
    }
   ],
   "source": [
    "np.hsplit(p,1)"
   ]
  },
  {
   "cell_type": "code",
   "execution_count": 14,
   "id": "a336ad4e",
   "metadata": {},
   "outputs": [
    {
     "name": "stdout",
     "output_type": "stream",
     "text": [
      "[[3 9 9 4 5 3 3 3 9 7 5 5 2 9 6]\n",
      " [6 5 7 6 0 9 3 7 7 5 9 4 9 0 7]]\n"
     ]
    }
   ],
   "source": [
    "p = np.random.randint(10,size=(2,15))\n",
    "print(p)"
   ]
  },
  {
   "cell_type": "code",
   "execution_count": 15,
   "id": "d8120792",
   "metadata": {
    "scrolled": true
   },
   "outputs": [
    {
     "data": {
      "text/plain": [
       "[array([[3, 9, 9, 4, 5],\n",
       "        [6, 5, 7, 6, 0]]),\n",
       " array([[3, 3, 3, 9, 7],\n",
       "        [9, 3, 7, 7, 5]]),\n",
       " array([[5, 5, 2, 9, 6],\n",
       "        [9, 4, 9, 0, 7]])]"
      ]
     },
     "execution_count": 15,
     "metadata": {},
     "output_type": "execute_result"
    }
   ],
   "source": [
    "np.hsplit(p,3)# we can split the array into three different sections"
   ]
  },
  {
   "cell_type": "code",
   "execution_count": 16,
   "id": "f1d27abe",
   "metadata": {},
   "outputs": [
    {
     "data": {
      "text/plain": [
       "[array([[3, 9, 9, 4, 5, 3, 3, 3, 9, 7, 5, 5, 2, 9, 6]]),\n",
       " array([[6, 5, 7, 6, 0, 9, 3, 7, 7, 5, 9, 4, 9, 0, 7]])]"
      ]
     },
     "execution_count": 16,
     "metadata": {},
     "output_type": "execute_result"
    }
   ],
   "source": [
    "np.vsplit(p,2)#we can split the array horizontally"
   ]
  },
  {
   "cell_type": "markdown",
   "id": "384a1c17",
   "metadata": {},
   "source": [
    "# indexing and slicing the three dimensional array"
   ]
  },
  {
   "cell_type": "code",
   "execution_count": 18,
   "id": "cefdbe4f",
   "metadata": {},
   "outputs": [
    {
     "name": "stdout",
     "output_type": "stream",
     "text": [
      "[[ 1 21  7 27 16  2 26]\n",
      " [ 0 34 37 16 15 26 16]\n",
      " [ 9  2 14 36 41 15 27]\n",
      " [18 36  8  1 33  6 20]\n",
      " [16 26 12 15 27  2  3]\n",
      " [30 30 30 10 36 33 26]]\n"
     ]
    }
   ],
   "source": [
    "q = np.random.randint(42,size=(6,7))\n",
    "print(q)"
   ]
  },
  {
   "cell_type": "code",
   "execution_count": 21,
   "id": "d3db8e58",
   "metadata": {},
   "outputs": [
    {
     "name": "stdout",
     "output_type": "stream",
     "text": [
      "[[ 0  1  2  3  4  5  6]\n",
      " [ 7  8  9 10 11 12 13]\n",
      " [14 15 16 17 18 19 20]\n",
      " [21 22 23 24 25 26 27]\n",
      " [28 29 30 31 32 33 34]\n",
      " [35 36 37 38 39 40 41]]\n"
     ]
    }
   ],
   "source": [
    "q = np.arange(42).reshape(6,7)\n",
    "print(q)"
   ]
  },
  {
   "cell_type": "code",
   "execution_count": 22,
   "id": "80beca50",
   "metadata": {
    "scrolled": true
   },
   "outputs": [
    {
     "data": {
      "text/plain": [
       "array([[ 1],\n",
       "       [ 8],\n",
       "       [15],\n",
       "       [22],\n",
       "       [29],\n",
       "       [36]])"
      ]
     },
     "execution_count": 22,
     "metadata": {},
     "output_type": "execute_result"
    }
   ],
   "source": [
    "q[:,1:2]"
   ]
  },
  {
   "cell_type": "code",
   "execution_count": 23,
   "id": "6e22b9bb",
   "metadata": {},
   "outputs": [
    {
     "data": {
      "text/plain": [
       "array([ 1,  8, 15])"
      ]
     },
     "execution_count": 23,
     "metadata": {},
     "output_type": "execute_result"
    }
   ],
   "source": [
    "#to extract the element 1,8,15\n",
    "q[0:3,1]"
   ]
  },
  {
   "cell_type": "code",
   "execution_count": null,
   "id": "8438678d",
   "metadata": {},
   "outputs": [],
   "source": [
    "#to extract the elements from the midlle of the matrix for example (7,8,14,15) hint:indexing is sampe as slicing in noraml python"
   ]
  },
  {
   "cell_type": "code",
   "execution_count": 24,
   "id": "d2de0a91",
   "metadata": {},
   "outputs": [
    {
     "data": {
      "text/plain": [
       "array([[ 7,  8],\n",
       "       [14, 15]])"
      ]
     },
     "execution_count": 24,
     "metadata": {},
     "output_type": "execute_result"
    }
   ],
   "source": [
    "q[1:3,0:2]"
   ]
  },
  {
   "cell_type": "markdown",
   "id": "8dda97fc",
   "metadata": {},
   "source": [
    "# to extract the element by leaving the coloums and rows"
   ]
  },
  {
   "cell_type": "code",
   "execution_count": 25,
   "id": "45953618",
   "metadata": {},
   "outputs": [
    {
     "name": "stdout",
     "output_type": "stream",
     "text": [
      "[[ 0  1  2  3  4  5  6]\n",
      " [ 7  8  9 10 11 12 13]\n",
      " [14 15 16 17 18 19 20]\n",
      " [21 22 23 24 25 26 27]\n",
      " [28 29 30 31 32 33 34]\n",
      " [35 36 37 38 39 40 41]]\n"
     ]
    }
   ],
   "source": [
    "q = np.arange(42).reshape(6,7)\n",
    "print(q)"
   ]
  },
  {
   "cell_type": "code",
   "execution_count": 26,
   "id": "f59f35e4",
   "metadata": {},
   "outputs": [
    {
     "data": {
      "text/plain": [
       "array([[ 0,  1,  2,  3,  4,  5,  6],\n",
       "       [14, 15, 16, 17, 18, 19, 20],\n",
       "       [28, 29, 30, 31, 32, 33, 34]])"
      ]
     },
     "execution_count": 26,
     "metadata": {},
     "output_type": "execute_result"
    }
   ],
   "source": [
    "q[0::2,:] #herer we printed only the odd rowss"
   ]
  },
  {
   "cell_type": "code",
   "execution_count": 27,
   "id": "2fad6583",
   "metadata": {},
   "outputs": [
    {
     "data": {
      "text/plain": [
       "array([[ 0,  2,  4,  6],\n",
       "       [ 7,  9, 11, 13],\n",
       "       [14, 16, 18, 20],\n",
       "       [21, 23, 25, 27],\n",
       "       [28, 30, 32, 34],\n",
       "       [35, 37, 39, 41]])"
      ]
     },
     "execution_count": 27,
     "metadata": {},
     "output_type": "execute_result"
    }
   ],
   "source": [
    "# in the sameway if we want to print the coloums \n",
    "q[:,0::2]\n"
   ]
  }
 ],
 "metadata": {
  "kernelspec": {
   "display_name": "Python 3",
   "language": "python",
   "name": "python3"
  },
  "language_info": {
   "codemirror_mode": {
    "name": "ipython",
    "version": 3
   },
   "file_extension": ".py",
   "mimetype": "text/x-python",
   "name": "python",
   "nbconvert_exporter": "python",
   "pygments_lexer": "ipython3",
   "version": "3.8.8"
  }
 },
 "nbformat": 4,
 "nbformat_minor": 5
}
